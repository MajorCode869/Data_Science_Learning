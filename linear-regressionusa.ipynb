{
 "cells": [
  {
   "cell_type": "code",
   "execution_count": 1,
   "id": "ae95cf4e",
   "metadata": {
    "execution": {
     "iopub.execute_input": "2022-11-27T08:12:17.717079Z",
     "iopub.status.busy": "2022-11-27T08:12:17.716663Z",
     "iopub.status.idle": "2022-11-27T08:12:17.725291Z",
     "shell.execute_reply": "2022-11-27T08:12:17.724598Z"
    },
    "papermill": {
     "duration": 0.015501,
     "end_time": "2022-11-27T08:12:17.727118",
     "exception": false,
     "start_time": "2022-11-27T08:12:17.711617",
     "status": "completed"
    },
    "tags": []
   },
   "outputs": [],
   "source": [
    "import numpy as np\n",
    "import pandas as pd"
   ]
  },
  {
   "cell_type": "code",
   "execution_count": 2,
   "id": "d463eeda",
   "metadata": {
    "execution": {
     "iopub.execute_input": "2022-11-27T08:12:17.735226Z",
     "iopub.status.busy": "2022-11-27T08:12:17.734592Z",
     "iopub.status.idle": "2022-11-27T08:12:17.764941Z",
     "shell.execute_reply": "2022-11-27T08:12:17.764233Z"
    },
    "papermill": {
     "duration": 0.03654,
     "end_time": "2022-11-27T08:12:17.767050",
     "exception": false,
     "start_time": "2022-11-27T08:12:17.730510",
     "status": "completed"
    },
    "tags": []
   },
   "outputs": [],
   "source": [
    "df=pd.read_csv('/kaggle/input/usa-housing/USA_Housing.csv')"
   ]
  },
  {
   "cell_type": "code",
   "execution_count": 3,
   "id": "7354996a",
   "metadata": {
    "execution": {
     "iopub.execute_input": "2022-11-27T08:12:17.774575Z",
     "iopub.status.busy": "2022-11-27T08:12:17.774241Z",
     "iopub.status.idle": "2022-11-27T08:12:17.779764Z",
     "shell.execute_reply": "2022-11-27T08:12:17.779153Z"
    },
    "papermill": {
     "duration": 0.011744,
     "end_time": "2022-11-27T08:12:17.781956",
     "exception": false,
     "start_time": "2022-11-27T08:12:17.770212",
     "status": "completed"
    },
    "tags": []
   },
   "outputs": [],
   "source": [
    "X=df.iloc[:,:5]\n",
    "Y=df.iloc[:,5]\n"
   ]
  },
  {
   "cell_type": "code",
   "execution_count": 4,
   "id": "01f4a371",
   "metadata": {
    "execution": {
     "iopub.execute_input": "2022-11-27T08:12:17.789945Z",
     "iopub.status.busy": "2022-11-27T08:12:17.789390Z",
     "iopub.status.idle": "2022-11-27T08:12:18.760389Z",
     "shell.execute_reply": "2022-11-27T08:12:18.759425Z"
    },
    "papermill": {
     "duration": 0.977325,
     "end_time": "2022-11-27T08:12:18.762625",
     "exception": false,
     "start_time": "2022-11-27T08:12:17.785300",
     "status": "completed"
    },
    "tags": []
   },
   "outputs": [],
   "source": [
    "from sklearn.model_selection import train_test_split\n",
    "X_train,X_test,Y_train,Y_test=train_test_split(X,Y,test_size=0.25,random_state=42)"
   ]
  },
  {
   "cell_type": "code",
   "execution_count": 5,
   "id": "b349f1c5",
   "metadata": {
    "execution": {
     "iopub.execute_input": "2022-11-27T08:12:18.770091Z",
     "iopub.status.busy": "2022-11-27T08:12:18.769759Z",
     "iopub.status.idle": "2022-11-27T08:12:18.778880Z",
     "shell.execute_reply": "2022-11-27T08:12:18.778226Z"
    },
    "papermill": {
     "duration": 0.014802,
     "end_time": "2022-11-27T08:12:18.780624",
     "exception": false,
     "start_time": "2022-11-27T08:12:18.765822",
     "status": "completed"
    },
    "tags": []
   },
   "outputs": [],
   "source": [
    "from sklearn.preprocessing import StandardScaler\n",
    "ss=StandardScaler()\n",
    "X_train_scaled=ss.fit_transform(X_train)\n",
    "X_test_scaled=ss.transform(X_test)"
   ]
  },
  {
   "cell_type": "code",
   "execution_count": 6,
   "id": "205e9cd4",
   "metadata": {
    "execution": {
     "iopub.execute_input": "2022-11-27T08:12:18.789111Z",
     "iopub.status.busy": "2022-11-27T08:12:18.788519Z",
     "iopub.status.idle": "2022-11-27T08:12:18.793418Z",
     "shell.execute_reply": "2022-11-27T08:12:18.792564Z"
    },
    "papermill": {
     "duration": 0.01091,
     "end_time": "2022-11-27T08:12:18.795148",
     "exception": false,
     "start_time": "2022-11-27T08:12:18.784238",
     "status": "completed"
    },
    "tags": []
   },
   "outputs": [],
   "source": [
    "X_train_scaled_new=np.insert(X_train_scaled,0,1,axis=1)\n",
    "X_test_scaled_new=np.insert(X_test_scaled,0,1,axis=1)"
   ]
  },
  {
   "cell_type": "code",
   "execution_count": 7,
   "id": "e2d375a0",
   "metadata": {
    "execution": {
     "iopub.execute_input": "2022-11-27T08:12:18.803054Z",
     "iopub.status.busy": "2022-11-27T08:12:18.802765Z",
     "iopub.status.idle": "2022-11-27T08:12:18.813729Z",
     "shell.execute_reply": "2022-11-27T08:12:18.813001Z"
    },
    "papermill": {
     "duration": 0.017722,
     "end_time": "2022-11-27T08:12:18.816233",
     "exception": false,
     "start_time": "2022-11-27T08:12:18.798511",
     "status": "completed"
    },
    "tags": []
   },
   "outputs": [],
   "source": [
    "\n",
    "A=X_train_scaled_new.T.dot(X_train_scaled_new)\n",
    "B=np.linalg.inv(A)\n",
    "C=B.dot(X_train_scaled_new.T)\n",
    "beta=C.dot(Y_train)"
   ]
  },
  {
   "cell_type": "code",
   "execution_count": 8,
   "id": "ecac55af",
   "metadata": {
    "execution": {
     "iopub.execute_input": "2022-11-27T08:12:18.825563Z",
     "iopub.status.busy": "2022-11-27T08:12:18.824759Z",
     "iopub.status.idle": "2022-11-27T08:12:18.832995Z",
     "shell.execute_reply": "2022-11-27T08:12:18.832221Z"
    },
    "papermill": {
     "duration": 0.014685,
     "end_time": "2022-11-27T08:12:18.834840",
     "exception": false,
     "start_time": "2022-11-27T08:12:18.820155",
     "status": "completed"
    },
    "tags": []
   },
   "outputs": [
    {
     "data": {
      "text/plain": [
       "array([1229751.21791635,  232765.87177277,  163412.51613686,\n",
       "        120591.52466298,    2548.01575753,  151817.64417088])"
      ]
     },
     "execution_count": 8,
     "metadata": {},
     "output_type": "execute_result"
    }
   ],
   "source": [
    "beta"
   ]
  },
  {
   "cell_type": "code",
   "execution_count": 9,
   "id": "98012ef3",
   "metadata": {
    "execution": {
     "iopub.execute_input": "2022-11-27T08:12:18.844006Z",
     "iopub.status.busy": "2022-11-27T08:12:18.843682Z",
     "iopub.status.idle": "2022-11-27T08:12:18.847651Z",
     "shell.execute_reply": "2022-11-27T08:12:18.846832Z"
    },
    "papermill": {
     "duration": 0.010838,
     "end_time": "2022-11-27T08:12:18.849599",
     "exception": false,
     "start_time": "2022-11-27T08:12:18.838761",
     "status": "completed"
    },
    "tags": []
   },
   "outputs": [],
   "source": [
    "Y_predict=X_test_scaled_new.dot(beta)"
   ]
  },
  {
   "cell_type": "code",
   "execution_count": 10,
   "id": "310adb1d",
   "metadata": {
    "execution": {
     "iopub.execute_input": "2022-11-27T08:12:18.858842Z",
     "iopub.status.busy": "2022-11-27T08:12:18.858534Z",
     "iopub.status.idle": "2022-11-27T08:12:18.864992Z",
     "shell.execute_reply": "2022-11-27T08:12:18.864200Z"
    },
    "papermill": {
     "duration": 0.013226,
     "end_time": "2022-11-27T08:12:18.866865",
     "exception": false,
     "start_time": "2022-11-27T08:12:18.853639",
     "status": "completed"
    },
    "tags": []
   },
   "outputs": [
    {
     "data": {
      "text/plain": [
       "0.9169678829400092"
      ]
     },
     "execution_count": 10,
     "metadata": {},
     "output_type": "execute_result"
    }
   ],
   "source": [
    "from sklearn import metrics\n",
    "metrics.r2_score(Y_test,Y_predict)"
   ]
  },
  {
   "cell_type": "code",
   "execution_count": 11,
   "id": "87b8b757",
   "metadata": {
    "execution": {
     "iopub.execute_input": "2022-11-27T08:12:18.876426Z",
     "iopub.status.busy": "2022-11-27T08:12:18.876094Z",
     "iopub.status.idle": "2022-11-27T08:12:18.963818Z",
     "shell.execute_reply": "2022-11-27T08:12:18.963131Z"
    },
    "papermill": {
     "duration": 0.094852,
     "end_time": "2022-11-27T08:12:18.965920",
     "exception": false,
     "start_time": "2022-11-27T08:12:18.871068",
     "status": "completed"
    },
    "tags": []
   },
   "outputs": [],
   "source": [
    "from sklearn.linear_model import LinearRegression\n",
    "lr=LinearRegression()\n",
    "lr.fit(X_train_scaled,Y_train)\n",
    "Y_predict1=lr.predict(X_test_scaled)"
   ]
  },
  {
   "cell_type": "code",
   "execution_count": 12,
   "id": "0dbb1589",
   "metadata": {
    "execution": {
     "iopub.execute_input": "2022-11-27T08:12:18.975330Z",
     "iopub.status.busy": "2022-11-27T08:12:18.973998Z",
     "iopub.status.idle": "2022-11-27T08:12:18.981093Z",
     "shell.execute_reply": "2022-11-27T08:12:18.980517Z"
    },
    "papermill": {
     "duration": 0.013243,
     "end_time": "2022-11-27T08:12:18.982762",
     "exception": false,
     "start_time": "2022-11-27T08:12:18.969519",
     "status": "completed"
    },
    "tags": []
   },
   "outputs": [
    {
     "data": {
      "text/plain": [
       "0.9169678829400091"
      ]
     },
     "execution_count": 12,
     "metadata": {},
     "output_type": "execute_result"
    }
   ],
   "source": [
    "metrics.r2_score(Y_test,Y_predict1)"
   ]
  },
  {
   "cell_type": "code",
   "execution_count": null,
   "id": "41f8c7ce",
   "metadata": {
    "papermill": {
     "duration": 0.003165,
     "end_time": "2022-11-27T08:12:18.989423",
     "exception": false,
     "start_time": "2022-11-27T08:12:18.986258",
     "status": "completed"
    },
    "tags": []
   },
   "outputs": [],
   "source": []
  }
 ],
 "metadata": {
  "kernelspec": {
   "display_name": "Python 3",
   "language": "python",
   "name": "python3"
  },
  "language_info": {
   "codemirror_mode": {
    "name": "ipython",
    "version": 3
   },
   "file_extension": ".py",
   "mimetype": "text/x-python",
   "name": "python",
   "nbconvert_exporter": "python",
   "pygments_lexer": "ipython3",
   "version": "3.7.12"
  },
  "papermill": {
   "default_parameters": {},
   "duration": 8.822888,
   "end_time": "2022-11-27T08:12:19.612360",
   "environment_variables": {},
   "exception": null,
   "input_path": "__notebook__.ipynb",
   "output_path": "__notebook__.ipynb",
   "parameters": {},
   "start_time": "2022-11-27T08:12:10.789472",
   "version": "2.3.4"
  }
 },
 "nbformat": 4,
 "nbformat_minor": 5
}
