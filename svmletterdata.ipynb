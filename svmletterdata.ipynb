{
 "cells": [
  {
   "cell_type": "markdown",
   "id": "0eb1cb54",
   "metadata": {
    "papermill": {
     "duration": 0.00669,
     "end_time": "2022-11-10T12:15:24.668930",
     "exception": false,
     "start_time": "2022-11-10T12:15:24.662240",
     "status": "completed"
    },
    "tags": []
   },
   "source": [
    "We are going to build a SVM to identify each of a large number of black-and-white rectangular pixel displays as one of the 26 capital letters in the English alphabet. \n",
    "\n",
    "The character images were based on 20 different fonts and each letter within these 20 fonts was randomly distorted to produce a file of 20,000 unique stimuli. \n",
    "\n",
    "Each stimulus was converted into 16 primitive numerical attributes (statistical moments and edge counts) which were then scaled to fit into a range of integer values from 0 through 15. We typically train on the first 16000 items and then use the resulting model to predict the letter category for the remaining 4000. See the article (P. W. Frey and D. J. Slate. \"Letter Recognition Using Holland-style Adaptive Classifiers\". (Machine Learning Vol 6 No.2 March 91)) for more details."
   ]
  },
  {
   "cell_type": "markdown",
   "id": "1f2c9944",
   "metadata": {
    "papermill": {
     "duration": 0.005172,
     "end_time": "2022-11-10T12:15:24.680230",
     "exception": false,
     "start_time": "2022-11-10T12:15:24.675058",
     "status": "completed"
    },
    "tags": []
   },
   "source": [
    "## Import Libraries"
   ]
  },
  {
   "cell_type": "code",
   "execution_count": 1,
   "id": "815ae933",
   "metadata": {
    "execution": {
     "iopub.execute_input": "2022-11-10T12:15:24.693575Z",
     "iopub.status.busy": "2022-11-10T12:15:24.692822Z",
     "iopub.status.idle": "2022-11-10T12:15:25.906111Z",
     "shell.execute_reply": "2022-11-10T12:15:25.905062Z"
    },
    "papermill": {
     "duration": 1.223281,
     "end_time": "2022-11-10T12:15:25.909051",
     "exception": false,
     "start_time": "2022-11-10T12:15:24.685770",
     "status": "completed"
    },
    "tags": []
   },
   "outputs": [],
   "source": [
    "import pandas as pd\n",
    "import numpy as np\n",
    "from sklearn import svm\n",
    "import matplotlib.pyplot as plt\n",
    "%matplotlib inline "
   ]
  },
  {
   "cell_type": "code",
   "execution_count": 2,
   "id": "dce8a808",
   "metadata": {
    "execution": {
     "iopub.execute_input": "2022-11-10T12:15:25.922149Z",
     "iopub.status.busy": "2022-11-10T12:15:25.921467Z",
     "iopub.status.idle": "2022-11-10T12:15:25.927688Z",
     "shell.execute_reply": "2022-11-10T12:15:25.926533Z"
    },
    "papermill": {
     "duration": 0.015139,
     "end_time": "2022-11-10T12:15:25.929850",
     "exception": false,
     "start_time": "2022-11-10T12:15:25.914711",
     "status": "completed"
    },
    "tags": []
   },
   "outputs": [],
   "source": [
    "def getAccuracy(testSet, predictions):\n",
    "\tcorrect = 0\n",
    "\tfor x in range(len(testSet)):\n",
    "\t\tif testSet[x]== predictions[x]:\n",
    "\t\t\tcorrect += 1\n",
    "\treturn (correct/float(len(testSet))) * 100.0"
   ]
  },
  {
   "cell_type": "code",
   "execution_count": 3,
   "id": "9f9b3870",
   "metadata": {
    "execution": {
     "iopub.execute_input": "2022-11-10T12:15:25.942952Z",
     "iopub.status.busy": "2022-11-10T12:15:25.942069Z",
     "iopub.status.idle": "2022-11-10T12:15:26.019736Z",
     "shell.execute_reply": "2022-11-10T12:15:26.018498Z"
    },
    "papermill": {
     "duration": 0.087612,
     "end_time": "2022-11-10T12:15:26.023019",
     "exception": false,
     "start_time": "2022-11-10T12:15:25.935407",
     "status": "completed"
    },
    "tags": []
   },
   "outputs": [
    {
     "data": {
      "text/html": [
       "<div>\n",
       "<style scoped>\n",
       "    .dataframe tbody tr th:only-of-type {\n",
       "        vertical-align: middle;\n",
       "    }\n",
       "\n",
       "    .dataframe tbody tr th {\n",
       "        vertical-align: top;\n",
       "    }\n",
       "\n",
       "    .dataframe thead th {\n",
       "        text-align: right;\n",
       "    }\n",
       "</style>\n",
       "<table border=\"1\" class=\"dataframe\">\n",
       "  <thead>\n",
       "    <tr style=\"text-align: right;\">\n",
       "      <th></th>\n",
       "      <th>letter</th>\n",
       "      <th>xbox</th>\n",
       "      <th>ybox</th>\n",
       "      <th>width</th>\n",
       "      <th>height</th>\n",
       "      <th>onpix</th>\n",
       "      <th>xbar</th>\n",
       "      <th>ybar</th>\n",
       "      <th>x2bar</th>\n",
       "      <th>y2bar</th>\n",
       "      <th>xybar</th>\n",
       "      <th>x2ybar</th>\n",
       "      <th>xy2bar</th>\n",
       "      <th>xedge</th>\n",
       "      <th>xedgey</th>\n",
       "      <th>yedge</th>\n",
       "      <th>yedgex</th>\n",
       "    </tr>\n",
       "  </thead>\n",
       "  <tbody>\n",
       "    <tr>\n",
       "      <th>0</th>\n",
       "      <td>T</td>\n",
       "      <td>2</td>\n",
       "      <td>8</td>\n",
       "      <td>3</td>\n",
       "      <td>5</td>\n",
       "      <td>1</td>\n",
       "      <td>8</td>\n",
       "      <td>13</td>\n",
       "      <td>0</td>\n",
       "      <td>6</td>\n",
       "      <td>6</td>\n",
       "      <td>10</td>\n",
       "      <td>8</td>\n",
       "      <td>0</td>\n",
       "      <td>8</td>\n",
       "      <td>0</td>\n",
       "      <td>8</td>\n",
       "    </tr>\n",
       "    <tr>\n",
       "      <th>1</th>\n",
       "      <td>I</td>\n",
       "      <td>5</td>\n",
       "      <td>12</td>\n",
       "      <td>3</td>\n",
       "      <td>7</td>\n",
       "      <td>2</td>\n",
       "      <td>10</td>\n",
       "      <td>5</td>\n",
       "      <td>5</td>\n",
       "      <td>4</td>\n",
       "      <td>13</td>\n",
       "      <td>3</td>\n",
       "      <td>9</td>\n",
       "      <td>2</td>\n",
       "      <td>8</td>\n",
       "      <td>4</td>\n",
       "      <td>10</td>\n",
       "    </tr>\n",
       "    <tr>\n",
       "      <th>2</th>\n",
       "      <td>D</td>\n",
       "      <td>4</td>\n",
       "      <td>11</td>\n",
       "      <td>6</td>\n",
       "      <td>8</td>\n",
       "      <td>6</td>\n",
       "      <td>10</td>\n",
       "      <td>6</td>\n",
       "      <td>2</td>\n",
       "      <td>6</td>\n",
       "      <td>10</td>\n",
       "      <td>3</td>\n",
       "      <td>7</td>\n",
       "      <td>3</td>\n",
       "      <td>7</td>\n",
       "      <td>3</td>\n",
       "      <td>9</td>\n",
       "    </tr>\n",
       "    <tr>\n",
       "      <th>3</th>\n",
       "      <td>N</td>\n",
       "      <td>7</td>\n",
       "      <td>11</td>\n",
       "      <td>6</td>\n",
       "      <td>6</td>\n",
       "      <td>3</td>\n",
       "      <td>5</td>\n",
       "      <td>9</td>\n",
       "      <td>4</td>\n",
       "      <td>6</td>\n",
       "      <td>4</td>\n",
       "      <td>4</td>\n",
       "      <td>10</td>\n",
       "      <td>6</td>\n",
       "      <td>10</td>\n",
       "      <td>2</td>\n",
       "      <td>8</td>\n",
       "    </tr>\n",
       "    <tr>\n",
       "      <th>4</th>\n",
       "      <td>G</td>\n",
       "      <td>2</td>\n",
       "      <td>1</td>\n",
       "      <td>3</td>\n",
       "      <td>1</td>\n",
       "      <td>1</td>\n",
       "      <td>8</td>\n",
       "      <td>6</td>\n",
       "      <td>6</td>\n",
       "      <td>6</td>\n",
       "      <td>6</td>\n",
       "      <td>5</td>\n",
       "      <td>9</td>\n",
       "      <td>1</td>\n",
       "      <td>7</td>\n",
       "      <td>5</td>\n",
       "      <td>10</td>\n",
       "    </tr>\n",
       "    <tr>\n",
       "      <th>5</th>\n",
       "      <td>S</td>\n",
       "      <td>4</td>\n",
       "      <td>11</td>\n",
       "      <td>5</td>\n",
       "      <td>8</td>\n",
       "      <td>3</td>\n",
       "      <td>8</td>\n",
       "      <td>8</td>\n",
       "      <td>6</td>\n",
       "      <td>9</td>\n",
       "      <td>5</td>\n",
       "      <td>6</td>\n",
       "      <td>6</td>\n",
       "      <td>0</td>\n",
       "      <td>8</td>\n",
       "      <td>9</td>\n",
       "      <td>7</td>\n",
       "    </tr>\n",
       "    <tr>\n",
       "      <th>6</th>\n",
       "      <td>B</td>\n",
       "      <td>4</td>\n",
       "      <td>2</td>\n",
       "      <td>5</td>\n",
       "      <td>4</td>\n",
       "      <td>4</td>\n",
       "      <td>8</td>\n",
       "      <td>7</td>\n",
       "      <td>6</td>\n",
       "      <td>6</td>\n",
       "      <td>7</td>\n",
       "      <td>6</td>\n",
       "      <td>6</td>\n",
       "      <td>2</td>\n",
       "      <td>8</td>\n",
       "      <td>7</td>\n",
       "      <td>10</td>\n",
       "    </tr>\n",
       "    <tr>\n",
       "      <th>7</th>\n",
       "      <td>A</td>\n",
       "      <td>1</td>\n",
       "      <td>1</td>\n",
       "      <td>3</td>\n",
       "      <td>2</td>\n",
       "      <td>1</td>\n",
       "      <td>8</td>\n",
       "      <td>2</td>\n",
       "      <td>2</td>\n",
       "      <td>2</td>\n",
       "      <td>8</td>\n",
       "      <td>2</td>\n",
       "      <td>8</td>\n",
       "      <td>1</td>\n",
       "      <td>6</td>\n",
       "      <td>2</td>\n",
       "      <td>7</td>\n",
       "    </tr>\n",
       "    <tr>\n",
       "      <th>8</th>\n",
       "      <td>J</td>\n",
       "      <td>2</td>\n",
       "      <td>2</td>\n",
       "      <td>4</td>\n",
       "      <td>4</td>\n",
       "      <td>2</td>\n",
       "      <td>10</td>\n",
       "      <td>6</td>\n",
       "      <td>2</td>\n",
       "      <td>6</td>\n",
       "      <td>12</td>\n",
       "      <td>4</td>\n",
       "      <td>8</td>\n",
       "      <td>1</td>\n",
       "      <td>6</td>\n",
       "      <td>1</td>\n",
       "      <td>7</td>\n",
       "    </tr>\n",
       "    <tr>\n",
       "      <th>9</th>\n",
       "      <td>M</td>\n",
       "      <td>11</td>\n",
       "      <td>15</td>\n",
       "      <td>13</td>\n",
       "      <td>9</td>\n",
       "      <td>7</td>\n",
       "      <td>13</td>\n",
       "      <td>2</td>\n",
       "      <td>6</td>\n",
       "      <td>2</td>\n",
       "      <td>12</td>\n",
       "      <td>1</td>\n",
       "      <td>9</td>\n",
       "      <td>8</td>\n",
       "      <td>1</td>\n",
       "      <td>1</td>\n",
       "      <td>8</td>\n",
       "    </tr>\n",
       "  </tbody>\n",
       "</table>\n",
       "</div>"
      ],
      "text/plain": [
       "  letter  xbox  ybox  width  height  onpix  xbar  ybar  x2bar  y2bar  xybar  \\\n",
       "0      T     2     8      3       5      1     8    13      0      6      6   \n",
       "1      I     5    12      3       7      2    10     5      5      4     13   \n",
       "2      D     4    11      6       8      6    10     6      2      6     10   \n",
       "3      N     7    11      6       6      3     5     9      4      6      4   \n",
       "4      G     2     1      3       1      1     8     6      6      6      6   \n",
       "5      S     4    11      5       8      3     8     8      6      9      5   \n",
       "6      B     4     2      5       4      4     8     7      6      6      7   \n",
       "7      A     1     1      3       2      1     8     2      2      2      8   \n",
       "8      J     2     2      4       4      2    10     6      2      6     12   \n",
       "9      M    11    15     13       9      7    13     2      6      2     12   \n",
       "\n",
       "   x2ybar  xy2bar  xedge  xedgey  yedge  yedgex  \n",
       "0      10       8      0       8      0       8  \n",
       "1       3       9      2       8      4      10  \n",
       "2       3       7      3       7      3       9  \n",
       "3       4      10      6      10      2       8  \n",
       "4       5       9      1       7      5      10  \n",
       "5       6       6      0       8      9       7  \n",
       "6       6       6      2       8      7      10  \n",
       "7       2       8      1       6      2       7  \n",
       "8       4       8      1       6      1       7  \n",
       "9       1       9      8       1      1       8  "
      ]
     },
     "execution_count": 3,
     "metadata": {},
     "output_type": "execute_result"
    }
   ],
   "source": [
    "lData = pd.read_csv(\"../input/letterdata/letterdata.csv\")\n",
    "lData.head(10) # all fields except the target (\"letter\") are numeric. We do not know the scale. So normalize"
   ]
  },
  {
   "cell_type": "markdown",
   "id": "197a6295",
   "metadata": {
    "papermill": {
     "duration": 0.005617,
     "end_time": "2022-11-10T12:15:26.034957",
     "exception": false,
     "start_time": "2022-11-10T12:15:26.029340",
     "status": "completed"
    },
    "tags": []
   },
   "source": [
    "## Split Data"
   ]
  },
  {
   "cell_type": "code",
   "execution_count": 4,
   "id": "69060d7e",
   "metadata": {
    "execution": {
     "iopub.execute_input": "2022-11-10T12:15:26.048220Z",
     "iopub.status.busy": "2022-11-10T12:15:26.047825Z",
     "iopub.status.idle": "2022-11-10T12:15:26.075655Z",
     "shell.execute_reply": "2022-11-10T12:15:26.074821Z"
    },
    "papermill": {
     "duration": 0.037001,
     "end_time": "2022-11-10T12:15:26.077726",
     "exception": false,
     "start_time": "2022-11-10T12:15:26.040725",
     "status": "completed"
    },
    "tags": []
   },
   "outputs": [],
   "source": [
    "X,y = np.array(lData)[ :, 1:16], np.array(lData.letter)[:]   # note for y, extracting all rows of \"letter\" col"
   ]
  },
  {
   "cell_type": "code",
   "execution_count": 5,
   "id": "894d6b9c",
   "metadata": {
    "execution": {
     "iopub.execute_input": "2022-11-10T12:15:26.091511Z",
     "iopub.status.busy": "2022-11-10T12:15:26.090941Z",
     "iopub.status.idle": "2022-11-10T12:15:26.095198Z",
     "shell.execute_reply": "2022-11-10T12:15:26.094489Z"
    },
    "papermill": {
     "duration": 0.013614,
     "end_time": "2022-11-10T12:15:26.097130",
     "exception": false,
     "start_time": "2022-11-10T12:15:26.083516",
     "status": "completed"
    },
    "tags": []
   },
   "outputs": [],
   "source": [
    "X_train = X[:16000, :]\n",
    "X_test = X[16001: , :]\n",
    "y_train = y[:16000]\n",
    "y_test = y[16001:]"
   ]
  },
  {
   "cell_type": "markdown",
   "id": "4e6ad419",
   "metadata": {
    "papermill": {
     "duration": 0.005432,
     "end_time": "2022-11-10T12:15:26.109871",
     "exception": false,
     "start_time": "2022-11-10T12:15:26.104439",
     "status": "completed"
    },
    "tags": []
   },
   "source": [
    "## Build Model"
   ]
  },
  {
   "cell_type": "code",
   "execution_count": 6,
   "id": "c226e1bf",
   "metadata": {
    "execution": {
     "iopub.execute_input": "2022-11-10T12:15:26.123404Z",
     "iopub.status.busy": "2022-11-10T12:15:26.122705Z",
     "iopub.status.idle": "2022-11-10T12:15:26.127168Z",
     "shell.execute_reply": "2022-11-10T12:15:26.126156Z"
    },
    "papermill": {
     "duration": 0.013747,
     "end_time": "2022-11-10T12:15:26.129263",
     "exception": false,
     "start_time": "2022-11-10T12:15:26.115516",
     "status": "completed"
    },
    "tags": []
   },
   "outputs": [],
   "source": [
    "clf = svm.SVC(gamma=0.025, C=3)    "
   ]
  },
  {
   "cell_type": "markdown",
   "id": "ccf12cb6",
   "metadata": {
    "papermill": {
     "duration": 0.005375,
     "end_time": "2022-11-10T12:15:26.140416",
     "exception": false,
     "start_time": "2022-11-10T12:15:26.135041",
     "status": "completed"
    },
    "tags": []
   },
   "source": [
    "gamma is a measure of influence of a data point. It is inverse of distance of influence. C is penalty of wrong classifications. "
   ]
  },
  {
   "cell_type": "code",
   "execution_count": 7,
   "id": "1e89bd8c",
   "metadata": {
    "execution": {
     "iopub.execute_input": "2022-11-10T12:15:26.153561Z",
     "iopub.status.busy": "2022-11-10T12:15:26.153144Z",
     "iopub.status.idle": "2022-11-10T12:15:30.947635Z",
     "shell.execute_reply": "2022-11-10T12:15:30.946632Z"
    },
    "papermill": {
     "duration": 4.803769,
     "end_time": "2022-11-10T12:15:30.949913",
     "exception": false,
     "start_time": "2022-11-10T12:15:26.146144",
     "status": "completed"
    },
    "tags": []
   },
   "outputs": [
    {
     "data": {
      "text/plain": [
       "SVC(C=3, gamma=0.025)"
      ]
     },
     "execution_count": 7,
     "metadata": {},
     "output_type": "execute_result"
    }
   ],
   "source": [
    "clf.fit(X_train , y_train)"
   ]
  },
  {
   "cell_type": "code",
   "execution_count": 8,
   "id": "6452546f",
   "metadata": {
    "execution": {
     "iopub.execute_input": "2022-11-10T12:15:30.964545Z",
     "iopub.status.busy": "2022-11-10T12:15:30.963532Z",
     "iopub.status.idle": "2022-11-10T12:15:34.181820Z",
     "shell.execute_reply": "2022-11-10T12:15:34.180539Z"
    },
    "papermill": {
     "duration": 3.228461,
     "end_time": "2022-11-10T12:15:34.184691",
     "exception": false,
     "start_time": "2022-11-10T12:15:30.956230",
     "status": "completed"
    },
    "tags": []
   },
   "outputs": [],
   "source": [
    "y_pred = clf.predict(X_test)"
   ]
  },
  {
   "cell_type": "code",
   "execution_count": 9,
   "id": "f0ec0b04",
   "metadata": {
    "execution": {
     "iopub.execute_input": "2022-11-10T12:15:34.197876Z",
     "iopub.status.busy": "2022-11-10T12:15:34.197512Z",
     "iopub.status.idle": "2022-11-10T12:15:34.204756Z",
     "shell.execute_reply": "2022-11-10T12:15:34.203716Z"
    },
    "papermill": {
     "duration": 0.016187,
     "end_time": "2022-11-10T12:15:34.206894",
     "exception": false,
     "start_time": "2022-11-10T12:15:34.190707",
     "status": "completed"
    },
    "tags": []
   },
   "outputs": [
    {
     "data": {
      "text/plain": [
       "96.07401850462615"
      ]
     },
     "execution_count": 9,
     "metadata": {},
     "output_type": "execute_result"
    }
   ],
   "source": [
    "getAccuracy(y_test , y_pred)   # Calling getAccuracy function instead of usinig array comparison to get the %age accuracy"
   ]
  },
  {
   "cell_type": "code",
   "execution_count": 10,
   "id": "22958996",
   "metadata": {
    "execution": {
     "iopub.execute_input": "2022-11-10T12:15:34.220046Z",
     "iopub.status.busy": "2022-11-10T12:15:34.219598Z",
     "iopub.status.idle": "2022-11-10T12:15:34.224577Z",
     "shell.execute_reply": "2022-11-10T12:15:34.223527Z"
    },
    "papermill": {
     "duration": 0.013655,
     "end_time": "2022-11-10T12:15:34.226572",
     "exception": false,
     "start_time": "2022-11-10T12:15:34.212917",
     "status": "completed"
    },
    "tags": []
   },
   "outputs": [],
   "source": [
    "# for side by side comparison\n",
    "y_grid = (np.column_stack([y_test, y_pred]))"
   ]
  },
  {
   "cell_type": "code",
   "execution_count": 11,
   "id": "c0f3e41e",
   "metadata": {
    "execution": {
     "iopub.execute_input": "2022-11-10T12:15:34.239861Z",
     "iopub.status.busy": "2022-11-10T12:15:34.239419Z",
     "iopub.status.idle": "2022-11-10T12:15:34.245938Z",
     "shell.execute_reply": "2022-11-10T12:15:34.244257Z"
    },
    "papermill": {
     "duration": 0.015731,
     "end_time": "2022-11-10T12:15:34.248150",
     "exception": false,
     "start_time": "2022-11-10T12:15:34.232419",
     "status": "completed"
    },
    "tags": []
   },
   "outputs": [
    {
     "name": "stdout",
     "output_type": "stream",
     "text": [
      "[['N' 'N']\n",
      " ['V' 'V']\n",
      " ['I' 'I']\n",
      " ...\n",
      " ['T' 'T']\n",
      " ['S' 'S']\n",
      " ['A' 'A']]\n"
     ]
    }
   ],
   "source": [
    "print(y_grid)"
   ]
  },
  {
   "cell_type": "markdown",
   "id": "93672279",
   "metadata": {
    "papermill": {
     "duration": 0.005838,
     "end_time": "2022-11-10T12:15:34.259931",
     "exception": false,
     "start_time": "2022-11-10T12:15:34.254093",
     "status": "completed"
    },
    "tags": []
   },
   "source": [
    "### "
   ]
  },
  {
   "cell_type": "code",
   "execution_count": 12,
   "id": "2e6eba13",
   "metadata": {
    "execution": {
     "iopub.execute_input": "2022-11-10T12:15:34.273467Z",
     "iopub.status.busy": "2022-11-10T12:15:34.273041Z",
     "iopub.status.idle": "2022-11-10T12:15:34.285065Z",
     "shell.execute_reply": "2022-11-10T12:15:34.284190Z"
    },
    "papermill": {
     "duration": 0.021719,
     "end_time": "2022-11-10T12:15:34.287627",
     "exception": false,
     "start_time": "2022-11-10T12:15:34.265908",
     "status": "completed"
    },
    "tags": []
   },
   "outputs": [],
   "source": [
    "np.savetxt(\"ocr.csv\", y_grid , fmt='%s')"
   ]
  },
  {
   "cell_type": "code",
   "execution_count": 13,
   "id": "e5243140",
   "metadata": {
    "execution": {
     "iopub.execute_input": "2022-11-10T12:15:34.301510Z",
     "iopub.status.busy": "2022-11-10T12:15:34.301146Z",
     "iopub.status.idle": "2022-11-10T12:15:34.306035Z",
     "shell.execute_reply": "2022-11-10T12:15:34.304984Z"
    },
    "papermill": {
     "duration": 0.014432,
     "end_time": "2022-11-10T12:15:34.308235",
     "exception": false,
     "start_time": "2022-11-10T12:15:34.293803",
     "status": "completed"
    },
    "tags": []
   },
   "outputs": [],
   "source": [
    "import string\n",
    "# initialize all uppercase alphabets\n",
    "lab= list(string.ascii_uppercase[0:26])\n",
    "plab=[\"Pr \"+s for s in lab]"
   ]
  },
  {
   "cell_type": "code",
   "execution_count": 14,
   "id": "7291f4d6",
   "metadata": {
    "execution": {
     "iopub.execute_input": "2022-11-10T12:15:34.322167Z",
     "iopub.status.busy": "2022-11-10T12:15:34.321806Z",
     "iopub.status.idle": "2022-11-10T12:15:34.328389Z",
     "shell.execute_reply": "2022-11-10T12:15:34.327377Z"
    },
    "papermill": {
     "duration": 0.016452,
     "end_time": "2022-11-10T12:15:34.330764",
     "exception": false,
     "start_time": "2022-11-10T12:15:34.314312",
     "status": "completed"
    },
    "tags": []
   },
   "outputs": [
    {
     "data": {
      "text/plain": [
       "['A',\n",
       " 'B',\n",
       " 'C',\n",
       " 'D',\n",
       " 'E',\n",
       " 'F',\n",
       " 'G',\n",
       " 'H',\n",
       " 'I',\n",
       " 'J',\n",
       " 'K',\n",
       " 'L',\n",
       " 'M',\n",
       " 'N',\n",
       " 'O',\n",
       " 'P',\n",
       " 'Q',\n",
       " 'R',\n",
       " 'S',\n",
       " 'T',\n",
       " 'U',\n",
       " 'V',\n",
       " 'W',\n",
       " 'X',\n",
       " 'Y',\n",
       " 'Z']"
      ]
     },
     "execution_count": 14,
     "metadata": {},
     "output_type": "execute_result"
    }
   ],
   "source": [
    "lab"
   ]
  },
  {
   "cell_type": "code",
   "execution_count": 15,
   "id": "c092257b",
   "metadata": {
    "execution": {
     "iopub.execute_input": "2022-11-10T12:15:34.344600Z",
     "iopub.status.busy": "2022-11-10T12:15:34.344226Z",
     "iopub.status.idle": "2022-11-10T12:15:34.350885Z",
     "shell.execute_reply": "2022-11-10T12:15:34.349824Z"
    },
    "papermill": {
     "duration": 0.016533,
     "end_time": "2022-11-10T12:15:34.353333",
     "exception": false,
     "start_time": "2022-11-10T12:15:34.336800",
     "status": "completed"
    },
    "tags": []
   },
   "outputs": [
    {
     "data": {
      "text/plain": [
       "['Pr A',\n",
       " 'Pr B',\n",
       " 'Pr C',\n",
       " 'Pr D',\n",
       " 'Pr E',\n",
       " 'Pr F',\n",
       " 'Pr G',\n",
       " 'Pr H',\n",
       " 'Pr I',\n",
       " 'Pr J',\n",
       " 'Pr K',\n",
       " 'Pr L',\n",
       " 'Pr M',\n",
       " 'Pr N',\n",
       " 'Pr O',\n",
       " 'Pr P',\n",
       " 'Pr Q',\n",
       " 'Pr R',\n",
       " 'Pr S',\n",
       " 'Pr T',\n",
       " 'Pr U',\n",
       " 'Pr V',\n",
       " 'Pr W',\n",
       " 'Pr X',\n",
       " 'Pr Y',\n",
       " 'Pr Z']"
      ]
     },
     "execution_count": 15,
     "metadata": {},
     "output_type": "execute_result"
    }
   ],
   "source": [
    "plab"
   ]
  },
  {
   "cell_type": "markdown",
   "id": "a2b3b0f3",
   "metadata": {
    "papermill": {
     "duration": 0.006207,
     "end_time": "2022-11-10T12:15:34.365806",
     "exception": false,
     "start_time": "2022-11-10T12:15:34.359599",
     "status": "completed"
    },
    "tags": []
   },
   "source": [
    "Filter those cases where the model committed mistake and analyze the mistake, which characters most mistakes occured on?"
   ]
  },
  {
   "cell_type": "code",
   "execution_count": 16,
   "id": "1c270706",
   "metadata": {
    "execution": {
     "iopub.execute_input": "2022-11-10T12:15:34.379980Z",
     "iopub.status.busy": "2022-11-10T12:15:34.379321Z",
     "iopub.status.idle": "2022-11-10T12:15:37.568324Z",
     "shell.execute_reply": "2022-11-10T12:15:37.567509Z"
    },
    "papermill": {
     "duration": 3.19857,
     "end_time": "2022-11-10T12:15:37.570493",
     "exception": false,
     "start_time": "2022-11-10T12:15:34.371923",
     "status": "completed"
    },
    "scrolled": true,
    "tags": []
   },
   "outputs": [
    {
     "data": {
      "text/plain": [
       "<AxesSubplot:>"
      ]
     },
     "execution_count": 16,
     "metadata": {},
     "output_type": "execute_result"
    },
    {
     "data": {
      "image/png": "[encoded data removed]",
      "text/plain": [
       "<Figure size 1440x1152 with 2 Axes>"
      ]
     },
     "metadata": {
      "needs_background": "light"
     },
     "output_type": "display_data"
    }
   ],
   "source": [
    "from sklearn import metrics\n",
    "import seaborn as sns\n",
    "\n",
    "cm=metrics.confusion_matrix(y_test, y_pred, labels=lab)\n",
    "\n",
    "df_cm = pd.DataFrame(cm, index = [i for i in lab],\n",
    "                  columns = [i for i in plab])\n",
    "plt.figure(figsize = (20,16))\n",
    "sns.heatmap(df_cm, annot=True ,fmt='g')"
   ]
  },
  {
   "cell_type": "code",
   "execution_count": null,
   "id": "14ee3f88",
   "metadata": {
    "papermill": {
     "duration": 0.00695,
     "end_time": "2022-11-10T12:15:37.584696",
     "exception": false,
     "start_time": "2022-11-10T12:15:37.577746",
     "status": "completed"
    },
    "tags": []
   },
   "outputs": [],
   "source": []
  }
 ],
 "metadata": {
  "kernelspec": {
   "display_name": "Python 3",
   "language": "python",
   "name": "python3"
  },
  "language_info": {
   "codemirror_mode": {
    "name": "ipython",
    "version": 3
   },
   "file_extension": ".py",
   "mimetype": "text/x-python",
   "name": "python",
   "nbconvert_exporter": "python",
   "pygments_lexer": "ipython3",
   "version": "3.7.12"
  },
  "papermill": {
   "default_parameters": {},
   "duration": 21.971158,
   "end_time": "2022-11-10T12:15:38.312566",
   "environment_variables": {},
   "exception": null,
   "input_path": "__notebook__.ipynb",
   "output_path": "__notebook__.ipynb",
   "parameters": {},
   "start_time": "2022-11-10T12:15:16.341408",
   "version": "2.3.4"
  }
 },
 "nbformat": 4,
 "nbformat_minor": 5
}
