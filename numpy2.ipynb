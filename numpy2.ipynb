{
 "cells": [
  {
   "cell_type": "code",
   "execution_count": 1,
   "id": "90c66519",
   "metadata": {
    "execution": {
     "iopub.execute_input": "2022-11-27T07:49:57.170016Z",
     "iopub.status.busy": "2022-11-27T07:49:57.169248Z",
     "iopub.status.idle": "2022-11-27T07:49:57.179005Z",
     "shell.execute_reply": "2022-11-27T07:49:57.177995Z"
    },
    "papermill": {
     "duration": 0.039443,
     "end_time": "2022-11-27T07:49:57.181489",
     "exception": false,
     "start_time": "2022-11-27T07:49:57.142046",
     "status": "completed"
    },
    "tags": []
   },
   "outputs": [],
   "source": [
    "import numpy as np"
   ]
  },
  {
   "cell_type": "markdown",
   "id": "c8dfc0ae",
   "metadata": {
    "papermill": {
     "duration": 0.021134,
     "end_time": "2022-11-27T07:49:57.224902",
     "exception": false,
     "start_time": "2022-11-27T07:49:57.203768",
     "status": "completed"
    },
    "tags": []
   },
   "source": [
    "# Array Manipulation Routines\n",
    "These routines are broadly classified as:\n",
    "1. Changing Array Shapes\n",
    "2. Changing kind of arrays\n",
    "3. Splitting Arrays\n",
    "4. Inserting and Deleting Elements"
   ]
  },
  {
   "cell_type": "markdown",
   "id": "2b752d32",
   "metadata": {
    "papermill": {
     "duration": 0.021055,
     "end_time": "2022-11-27T07:49:57.267356",
     "exception": false,
     "start_time": "2022-11-27T07:49:57.246301",
     "status": "completed"
    },
    "tags": []
   },
   "source": [
    "# 1. Changing Array Shapes\n",
    "Arrays shape can be changed using numpy.reshape and ndarray.flatten functions"
   ]
  },
  {
   "cell_type": "markdown",
   "id": "676ab9df",
   "metadata": {
    "papermill": {
     "duration": 0.021027,
     "end_time": "2022-11-27T07:49:57.309877",
     "exception": false,
     "start_time": "2022-11-27T07:49:57.288850",
     "status": "completed"
    },
    "tags": []
   },
   "source": [
    "# numpy.reshape\n",
    "Gives a new shape to an array without changing its data.\n",
    "1. Syntax: numpy.reshape(a, newshape, order='C')"
   ]
  },
  {
   "cell_type": "code",
   "execution_count": 2,
   "id": "d75b22a0",
   "metadata": {
    "execution": {
     "iopub.execute_input": "2022-11-27T07:49:57.355004Z",
     "iopub.status.busy": "2022-11-27T07:49:57.354242Z",
     "iopub.status.idle": "2022-11-27T07:49:57.364881Z",
     "shell.execute_reply": "2022-11-27T07:49:57.363718Z"
    },
    "papermill": {
     "duration": 0.036017,
     "end_time": "2022-11-27T07:49:57.367347",
     "exception": false,
     "start_time": "2022-11-27T07:49:57.331330",
     "status": "completed"
    },
    "tags": []
   },
   "outputs": [
    {
     "data": {
      "text/plain": [
       "array([ 0,  1,  2,  3,  4,  5,  6,  7,  8,  9, 10, 11, 12, 13, 14, 15, 16,\n",
       "       17, 18, 19, 20, 21, 22, 23, 24])"
      ]
     },
     "execution_count": 2,
     "metadata": {},
     "output_type": "execute_result"
    }
   ],
   "source": [
    "a=np.array([i for i in range(0,25)])\n",
    "a"
   ]
  },
  {
   "cell_type": "code",
   "execution_count": 3,
   "id": "e9e0cfb4",
   "metadata": {
    "execution": {
     "iopub.execute_input": "2022-11-27T07:49:57.411597Z",
     "iopub.status.busy": "2022-11-27T07:49:57.411201Z",
     "iopub.status.idle": "2022-11-27T07:49:57.417093Z",
     "shell.execute_reply": "2022-11-27T07:49:57.416222Z"
    },
    "papermill": {
     "duration": 0.03041,
     "end_time": "2022-11-27T07:49:57.419102",
     "exception": false,
     "start_time": "2022-11-27T07:49:57.388692",
     "status": "completed"
    },
    "tags": []
   },
   "outputs": [
    {
     "data": {
      "text/plain": [
       "array([[ 0,  1,  2,  3,  4],\n",
       "       [ 5,  6,  7,  8,  9],\n",
       "       [10, 11, 12, 13, 14],\n",
       "       [15, 16, 17, 18, 19],\n",
       "       [20, 21, 22, 23, 24]])"
      ]
     },
     "execution_count": 3,
     "metadata": {},
     "output_type": "execute_result"
    }
   ],
   "source": [
    "a=np.reshape(a,(5,5))\n",
    "a"
   ]
  },
  {
   "cell_type": "markdown",
   "id": "a334f86c",
   "metadata": {
    "papermill": {
     "duration": 0.021061,
     "end_time": "2022-11-27T07:49:57.461466",
     "exception": false,
     "start_time": "2022-11-27T07:49:57.440405",
     "status": "completed"
    },
    "tags": []
   },
   "source": [
    "# Flatten\n",
    "Return a copy of the array collapsed into one dimension.\n",
    "1. ndarray.flatten(order='C')"
   ]
  },
  {
   "cell_type": "code",
   "execution_count": 4,
   "id": "b97c975f",
   "metadata": {
    "execution": {
     "iopub.execute_input": "2022-11-27T07:49:57.505789Z",
     "iopub.status.busy": "2022-11-27T07:49:57.505347Z",
     "iopub.status.idle": "2022-11-27T07:49:57.513141Z",
     "shell.execute_reply": "2022-11-27T07:49:57.511515Z"
    },
    "papermill": {
     "duration": 0.032789,
     "end_time": "2022-11-27T07:49:57.515611",
     "exception": false,
     "start_time": "2022-11-27T07:49:57.482822",
     "status": "completed"
    },
    "tags": []
   },
   "outputs": [
    {
     "data": {
      "text/plain": [
       "array([1, 2, 3, 4])"
      ]
     },
     "execution_count": 4,
     "metadata": {},
     "output_type": "execute_result"
    }
   ],
   "source": [
    "a = np.array([[1,2], [3,4]])\n",
    "a.flatten()\n"
   ]
  },
  {
   "cell_type": "markdown",
   "id": "e007f34f",
   "metadata": {
    "papermill": {
     "duration": 0.021463,
     "end_time": "2022-11-27T07:49:57.561054",
     "exception": false,
     "start_time": "2022-11-27T07:49:57.539591",
     "status": "completed"
    },
    "tags": []
   },
   "source": [
    "# 2- Changing Kind of Array"
   ]
  },
  {
   "cell_type": "markdown",
   "id": "d69388e6",
   "metadata": {
    "papermill": {
     "duration": 0.020985,
     "end_time": "2022-11-27T07:49:57.603388",
     "exception": false,
     "start_time": "2022-11-27T07:49:57.582403",
     "status": "completed"
    },
    "tags": []
   },
   "source": [
    "# numpy.asarray\n",
    "Convert the input to an array\n",
    "1. Syntax: numpy.asarray(a, dtype=None, order=None, like=None)"
   ]
  },
  {
   "cell_type": "code",
   "execution_count": 5,
   "id": "a12a4d60",
   "metadata": {
    "execution": {
     "iopub.execute_input": "2022-11-27T07:49:57.649695Z",
     "iopub.status.busy": "2022-11-27T07:49:57.648998Z",
     "iopub.status.idle": "2022-11-27T07:49:57.655271Z",
     "shell.execute_reply": "2022-11-27T07:49:57.653715Z"
    },
    "papermill": {
     "duration": 0.032702,
     "end_time": "2022-11-27T07:49:57.658154",
     "exception": false,
     "start_time": "2022-11-27T07:49:57.625452",
     "status": "completed"
    },
    "tags": []
   },
   "outputs": [
    {
     "name": "stdout",
     "output_type": "stream",
     "text": [
      "<class 'list'>\n",
      "<class 'numpy.ndarray'>\n"
     ]
    }
   ],
   "source": [
    "a = [1, 2]\n",
    "print(type(a))\n",
    "a=np.asarray(a)\n",
    "print(type(a))\n"
   ]
  },
  {
   "cell_type": "markdown",
   "id": "7a3c42cc",
   "metadata": {
    "papermill": {
     "duration": 0.021114,
     "end_time": "2022-11-27T07:49:57.700780",
     "exception": false,
     "start_time": "2022-11-27T07:49:57.679666",
     "status": "completed"
    },
    "tags": []
   },
   "source": [
    "# numpy.asmatrix\n",
    "Interpret the input as a matrix.\n",
    "1. Syntax:numpy.asmatrix(data, dtype=None)"
   ]
  },
  {
   "cell_type": "code",
   "execution_count": 6,
   "id": "2f380372",
   "metadata": {
    "execution": {
     "iopub.execute_input": "2022-11-27T07:49:57.745724Z",
     "iopub.status.busy": "2022-11-27T07:49:57.745031Z",
     "iopub.status.idle": "2022-11-27T07:49:57.751365Z",
     "shell.execute_reply": "2022-11-27T07:49:57.750047Z"
    },
    "papermill": {
     "duration": 0.032434,
     "end_time": "2022-11-27T07:49:57.754528",
     "exception": false,
     "start_time": "2022-11-27T07:49:57.722094",
     "status": "completed"
    },
    "tags": []
   },
   "outputs": [
    {
     "name": "stdout",
     "output_type": "stream",
     "text": [
      "<class 'numpy.ndarray'>\n",
      "<class 'numpy.matrix'>\n"
     ]
    }
   ],
   "source": [
    "x = np.array([[1, 2], [3, 4]])\n",
    "print(type(x))\n",
    "m = np.asmatrix(x)\n",
    "print(type(m))"
   ]
  },
  {
   "cell_type": "markdown",
   "id": "3a4b6673",
   "metadata": {
    "papermill": {
     "duration": 0.021032,
     "end_time": "2022-11-27T07:49:57.797410",
     "exception": false,
     "start_time": "2022-11-27T07:49:57.776378",
     "status": "completed"
    },
    "tags": []
   },
   "source": [
    "# numpy.asfarray\n",
    "Return an array converted to a float type\n",
    "1. Syntax: numpy.asfarray(a)"
   ]
  },
  {
   "cell_type": "code",
   "execution_count": 7,
   "id": "ef26e16d",
   "metadata": {
    "execution": {
     "iopub.execute_input": "2022-11-27T07:49:57.842109Z",
     "iopub.status.busy": "2022-11-27T07:49:57.841689Z",
     "iopub.status.idle": "2022-11-27T07:49:57.847890Z",
     "shell.execute_reply": "2022-11-27T07:49:57.846756Z"
    },
    "papermill": {
     "duration": 0.031603,
     "end_time": "2022-11-27T07:49:57.850444",
     "exception": false,
     "start_time": "2022-11-27T07:49:57.818841",
     "status": "completed"
    },
    "tags": []
   },
   "outputs": [
    {
     "name": "stdout",
     "output_type": "stream",
     "text": [
      "[2. 3.]\n",
      "float64\n"
     ]
    }
   ],
   "source": [
    "a=np.asfarray([2, 3])\n",
    "print(a)\n",
    "print(a.dtype)"
   ]
  },
  {
   "cell_type": "markdown",
   "id": "28b96a2b",
   "metadata": {
    "papermill": {
     "duration": 0.022156,
     "end_time": "2022-11-27T07:49:57.894369",
     "exception": false,
     "start_time": "2022-11-27T07:49:57.872213",
     "status": "completed"
    },
    "tags": []
   },
   "source": [
    "# numpy.asscalar\n",
    "Convert an array of size 1 to its scalar equivalent.\n",
    "1. Syntax:- numpy.asscalar(a)"
   ]
  },
  {
   "cell_type": "code",
   "execution_count": 8,
   "id": "4be51e3b",
   "metadata": {
    "execution": {
     "iopub.execute_input": "2022-11-27T07:49:57.939396Z",
     "iopub.status.busy": "2022-11-27T07:49:57.938985Z",
     "iopub.status.idle": "2022-11-27T07:49:57.946213Z",
     "shell.execute_reply": "2022-11-27T07:49:57.945061Z"
    },
    "papermill": {
     "duration": 0.032546,
     "end_time": "2022-11-27T07:49:57.948591",
     "exception": false,
     "start_time": "2022-11-27T07:49:57.916045",
     "status": "completed"
    },
    "tags": []
   },
   "outputs": [
    {
     "name": "stderr",
     "output_type": "stream",
     "text": [
      "/opt/conda/lib/python3.7/site-packages/ipykernel_launcher.py:1: DeprecationWarning: np.asscalar(a) is deprecated since NumPy v1.16, use a.item() instead\n",
      "  \"\"\"Entry point for launching an IPython kernel.\n"
     ]
    },
    {
     "data": {
      "text/plain": [
       "24"
      ]
     },
     "execution_count": 8,
     "metadata": {},
     "output_type": "execute_result"
    }
   ],
   "source": [
    "np.asscalar(np.array([24]))"
   ]
  },
  {
   "cell_type": "markdown",
   "id": "b4f27f8d",
   "metadata": {
    "papermill": {
     "duration": 0.021489,
     "end_time": "2022-11-27T07:49:57.991888",
     "exception": false,
     "start_time": "2022-11-27T07:49:57.970399",
     "status": "completed"
    },
    "tags": []
   },
   "source": [
    "# 3. Splitting Arrays\n",
    "It can split arrays into sub arrays either horizontally or vertically"
   ]
  },
  {
   "cell_type": "markdown",
   "id": "1211b48e",
   "metadata": {
    "papermill": {
     "duration": 0.021395,
     "end_time": "2022-11-27T07:49:58.034932",
     "exception": false,
     "start_time": "2022-11-27T07:49:58.013537",
     "status": "completed"
    },
    "tags": []
   },
   "source": [
    "# numpy.split\n",
    "Split an array into multiple sub-arrays as views into ary\n",
    "1. Syntax:-numpy.split(ary, indices_or_sections, axis=0)\n",
    "2. indices_or_sections: int or 1-D array.\n",
    "If indices_or_sections is an integer, N, the array will be divided into N equal arrays along axis.\n",
    "If indices_or_sections is a 1-D array of sorted integers, the entries indicate where along axis the array is split. For example, [2, 3] would, for axis=0, result in ary[:2] ary[2:3] ary[3:]\n"
   ]
  },
  {
   "cell_type": "code",
   "execution_count": 9,
   "id": "1bb95718",
   "metadata": {
    "execution": {
     "iopub.execute_input": "2022-11-27T07:49:58.080031Z",
     "iopub.status.busy": "2022-11-27T07:49:58.079593Z",
     "iopub.status.idle": "2022-11-27T07:49:58.087389Z",
     "shell.execute_reply": "2022-11-27T07:49:58.086241Z"
    },
    "papermill": {
     "duration": 0.032838,
     "end_time": "2022-11-27T07:49:58.089540",
     "exception": false,
     "start_time": "2022-11-27T07:49:58.056702",
     "status": "completed"
    },
    "tags": []
   },
   "outputs": [
    {
     "name": "stdout",
     "output_type": "stream",
     "text": [
      "[array([0., 1., 2.]), array([3., 4., 5.]), array([6., 7., 8.])]\n",
      "[array([0., 1., 2.]), array([3., 4.]), array([5.]), array([6., 7., 8.]), array([], dtype=float64)]\n"
     ]
    }
   ],
   "source": [
    "x = np.arange(9.0)\n",
    "b=np.split(x, 3)\n",
    "c=np.split(x, [3, 5, 6, 10])\n",
    "print(b)\n",
    "print(c)"
   ]
  },
  {
   "cell_type": "markdown",
   "id": "ae02fd6e",
   "metadata": {
    "papermill": {
     "duration": 0.02159,
     "end_time": "2022-11-27T07:49:58.133453",
     "exception": false,
     "start_time": "2022-11-27T07:49:58.111863",
     "status": "completed"
    },
    "tags": []
   },
   "source": [
    "# numpy.hsplit \n",
    "Split an array into multiple sub-arrays horizontally (column wise)\n",
    "1. Syntax:-numpy.hsplit(ary, indices_or_sections)\n"
   ]
  },
  {
   "cell_type": "code",
   "execution_count": 10,
   "id": "1e251b99",
   "metadata": {
    "execution": {
     "iopub.execute_input": "2022-11-27T07:49:58.178879Z",
     "iopub.status.busy": "2022-11-27T07:49:58.178486Z",
     "iopub.status.idle": "2022-11-27T07:49:58.186114Z",
     "shell.execute_reply": "2022-11-27T07:49:58.185082Z"
    },
    "papermill": {
     "duration": 0.033149,
     "end_time": "2022-11-27T07:49:58.188451",
     "exception": false,
     "start_time": "2022-11-27T07:49:58.155302",
     "status": "completed"
    },
    "tags": []
   },
   "outputs": [
    {
     "name": "stdout",
     "output_type": "stream",
     "text": [
      "[array([[ 0.,  1.],\n",
      "       [ 4.,  5.],\n",
      "       [ 8.,  9.],\n",
      "       [12., 13.]]), array([[ 2.,  3.],\n",
      "       [ 6.,  7.],\n",
      "       [10., 11.],\n",
      "       [14., 15.]])]\n",
      "[array([[ 0.,  1.,  2.],\n",
      "       [ 4.,  5.,  6.],\n",
      "       [ 8.,  9., 10.],\n",
      "       [12., 13., 14.]]), array([[ 3.],\n",
      "       [ 7.],\n",
      "       [11.],\n",
      "       [15.]]), array([], shape=(4, 0), dtype=float64)]\n"
     ]
    }
   ],
   "source": [
    "x = np.arange(16.0).reshape(4, 4)\n",
    "b=np.hsplit(x, 2)\n",
    "c=np.hsplit(x, np.array([3, 6]))\n",
    "print(b)\n",
    "print(c)"
   ]
  },
  {
   "cell_type": "markdown",
   "id": "b0b19d27",
   "metadata": {
    "papermill": {
     "duration": 0.021443,
     "end_time": "2022-11-27T07:49:58.231773",
     "exception": false,
     "start_time": "2022-11-27T07:49:58.210330",
     "status": "completed"
    },
    "tags": []
   },
   "source": [
    "# numpy.vsplit\n",
    "Split an array into multiple sub-arrays vertically (row-wise)\n",
    "1. Syntax:- numpy.vsplit(ary, indices_or_sections)"
   ]
  },
  {
   "cell_type": "code",
   "execution_count": 11,
   "id": "92ad2396",
   "metadata": {
    "execution": {
     "iopub.execute_input": "2022-11-27T07:49:58.278360Z",
     "iopub.status.busy": "2022-11-27T07:49:58.277896Z",
     "iopub.status.idle": "2022-11-27T07:49:58.285090Z",
     "shell.execute_reply": "2022-11-27T07:49:58.283639Z"
    },
    "papermill": {
     "duration": 0.0339,
     "end_time": "2022-11-27T07:49:58.287877",
     "exception": false,
     "start_time": "2022-11-27T07:49:58.253977",
     "status": "completed"
    },
    "tags": []
   },
   "outputs": [
    {
     "name": "stdout",
     "output_type": "stream",
     "text": [
      "[[ 0.  1.  2.  3.]\n",
      " [ 4.  5.  6.  7.]\n",
      " [ 8.  9. 10. 11.]\n",
      " [12. 13. 14. 15.]]\n"
     ]
    }
   ],
   "source": [
    "x = np.arange(16.0).reshape(4, 4)\n",
    "print(x)"
   ]
  },
  {
   "cell_type": "code",
   "execution_count": 12,
   "id": "da440490",
   "metadata": {
    "execution": {
     "iopub.execute_input": "2022-11-27T07:49:58.334523Z",
     "iopub.status.busy": "2022-11-27T07:49:58.334122Z",
     "iopub.status.idle": "2022-11-27T07:49:58.341996Z",
     "shell.execute_reply": "2022-11-27T07:49:58.340487Z"
    },
    "papermill": {
     "duration": 0.034185,
     "end_time": "2022-11-27T07:49:58.344840",
     "exception": false,
     "start_time": "2022-11-27T07:49:58.310655",
     "status": "completed"
    },
    "tags": []
   },
   "outputs": [
    {
     "name": "stdout",
     "output_type": "stream",
     "text": [
      "[array([[0., 1., 2., 3.],\n",
      "       [4., 5., 6., 7.]]), array([[ 8.,  9., 10., 11.],\n",
      "       [12., 13., 14., 15.]])]\n",
      "[array([[ 0.,  1.,  2.,  3.],\n",
      "       [ 4.,  5.,  6.,  7.],\n",
      "       [ 8.,  9., 10., 11.]]), array([[12., 13., 14., 15.]]), array([], shape=(0, 4), dtype=float64)]\n"
     ]
    }
   ],
   "source": [
    "b=np.vsplit(x, 2)\n",
    "c=np.vsplit(x, np.array([3, 6]))\n",
    "print(b)\n",
    "print(c)"
   ]
  },
  {
   "cell_type": "markdown",
   "id": "d701f716",
   "metadata": {
    "papermill": {
     "duration": 0.021752,
     "end_time": "2022-11-27T07:49:58.389393",
     "exception": false,
     "start_time": "2022-11-27T07:49:58.367641",
     "status": "completed"
    },
    "tags": []
   },
   "source": [
    "# 4. Inserting and Deleting Elements"
   ]
  },
  {
   "cell_type": "markdown",
   "id": "8ec822fb",
   "metadata": {
    "papermill": {
     "duration": 0.022267,
     "end_time": "2022-11-27T07:49:58.433769",
     "exception": false,
     "start_time": "2022-11-27T07:49:58.411502",
     "status": "completed"
    },
    "tags": []
   },
   "source": [
    "# numpy.delete\n",
    "Return a new array with sub-arrays along an axis deleted.\n",
    "1. Syntax:-numpy.delete(arr, obj, axis=None)\n"
   ]
  },
  {
   "cell_type": "code",
   "execution_count": 13,
   "id": "496f24ae",
   "metadata": {
    "execution": {
     "iopub.execute_input": "2022-11-27T07:49:58.481381Z",
     "iopub.status.busy": "2022-11-27T07:49:58.480980Z",
     "iopub.status.idle": "2022-11-27T07:49:58.489463Z",
     "shell.execute_reply": "2022-11-27T07:49:58.488284Z"
    },
    "papermill": {
     "duration": 0.035317,
     "end_time": "2022-11-27T07:49:58.491800",
     "exception": false,
     "start_time": "2022-11-27T07:49:58.456483",
     "status": "completed"
    },
    "tags": []
   },
   "outputs": [
    {
     "data": {
      "text/plain": [
       "array([[5, 6, 7, 8]])"
      ]
     },
     "execution_count": 13,
     "metadata": {},
     "output_type": "execute_result"
    }
   ],
   "source": [
    "arr = np.array([[1,2,3,4], [5,6,7,8]])\n",
    "np.delete(arr, 0, 0)\n"
   ]
  },
  {
   "cell_type": "markdown",
   "id": "b3dc0d05",
   "metadata": {
    "papermill": {
     "duration": 0.022269,
     "end_time": "2022-11-27T07:49:58.536607",
     "exception": false,
     "start_time": "2022-11-27T07:49:58.514338",
     "status": "completed"
    },
    "tags": []
   },
   "source": [
    "# numpy.insert\n",
    "Insert values along the given axis before the given indices.\n",
    "1. Syntax:- numpy.insert(arr, obj, values, axis=None)"
   ]
  },
  {
   "cell_type": "code",
   "execution_count": 14,
   "id": "31bda68d",
   "metadata": {
    "execution": {
     "iopub.execute_input": "2022-11-27T07:49:58.583488Z",
     "iopub.status.busy": "2022-11-27T07:49:58.582714Z",
     "iopub.status.idle": "2022-11-27T07:49:58.590715Z",
     "shell.execute_reply": "2022-11-27T07:49:58.589586Z"
    },
    "papermill": {
     "duration": 0.033845,
     "end_time": "2022-11-27T07:49:58.593108",
     "exception": false,
     "start_time": "2022-11-27T07:49:58.559263",
     "status": "completed"
    },
    "tags": []
   },
   "outputs": [
    {
     "data": {
      "text/plain": [
       "array([[1, 5, 1],\n",
       "       [2, 5, 2],\n",
       "       [3, 5, 3]])"
      ]
     },
     "execution_count": 14,
     "metadata": {},
     "output_type": "execute_result"
    }
   ],
   "source": [
    "a = np.array([[1, 1], [2, 2], [3, 3]])\n",
    "np.insert(a, 1, 5,axis=1)\n"
   ]
  },
  {
   "cell_type": "code",
   "execution_count": 15,
   "id": "fa997e26",
   "metadata": {
    "execution": {
     "iopub.execute_input": "2022-11-27T07:49:58.641206Z",
     "iopub.status.busy": "2022-11-27T07:49:58.640488Z",
     "iopub.status.idle": "2022-11-27T07:49:58.647731Z",
     "shell.execute_reply": "2022-11-27T07:49:58.646603Z"
    },
    "papermill": {
     "duration": 0.033821,
     "end_time": "2022-11-27T07:49:58.649938",
     "exception": false,
     "start_time": "2022-11-27T07:49:58.616117",
     "status": "completed"
    },
    "tags": []
   },
   "outputs": [
    {
     "data": {
      "text/plain": [
       "array([1, 5, 1, 2, 2, 3, 3])"
      ]
     },
     "execution_count": 15,
     "metadata": {},
     "output_type": "execute_result"
    }
   ],
   "source": [
    "np.insert(a, 1, 5)"
   ]
  },
  {
   "cell_type": "markdown",
   "id": "4f69a9f4",
   "metadata": {
    "papermill": {
     "duration": 0.022455,
     "end_time": "2022-11-27T07:49:58.695106",
     "exception": false,
     "start_time": "2022-11-27T07:49:58.672651",
     "status": "completed"
    },
    "tags": []
   },
   "source": [
    "# numpy.append\n",
    "Append values to the end of an array.\n",
    "1. Syntax: numpy.append(arr, values, axis=None)"
   ]
  },
  {
   "cell_type": "code",
   "execution_count": 16,
   "id": "9f9e0051",
   "metadata": {
    "execution": {
     "iopub.execute_input": "2022-11-27T07:49:58.744034Z",
     "iopub.status.busy": "2022-11-27T07:49:58.742358Z",
     "iopub.status.idle": "2022-11-27T07:49:58.753182Z",
     "shell.execute_reply": "2022-11-27T07:49:58.750214Z"
    },
    "papermill": {
     "duration": 0.038173,
     "end_time": "2022-11-27T07:49:58.756557",
     "exception": false,
     "start_time": "2022-11-27T07:49:58.718384",
     "status": "completed"
    },
    "tags": []
   },
   "outputs": [
    {
     "data": {
      "text/plain": [
       "array([[1, 2, 3],\n",
       "       [4, 5, 6],\n",
       "       [7, 8, 9]])"
      ]
     },
     "execution_count": 16,
     "metadata": {},
     "output_type": "execute_result"
    }
   ],
   "source": [
    "np.append([[1, 2, 3], [4, 5, 6]], [[7, 8, 9]], axis=0)\n"
   ]
  },
  {
   "cell_type": "markdown",
   "id": "a9332502",
   "metadata": {
    "papermill": {
     "duration": 0.023501,
     "end_time": "2022-11-27T07:49:58.809298",
     "exception": false,
     "start_time": "2022-11-27T07:49:58.785797",
     "status": "completed"
    },
    "tags": []
   },
   "source": [
    "# numpy.resize\n",
    "Return a new array with the specified shape.\n",
    "1. Syntax:- numpy.resize(a, new_shape)\n"
   ]
  },
  {
   "cell_type": "code",
   "execution_count": 17,
   "id": "a0919f0a",
   "metadata": {
    "execution": {
     "iopub.execute_input": "2022-11-27T07:49:58.862346Z",
     "iopub.status.busy": "2022-11-27T07:49:58.861621Z",
     "iopub.status.idle": "2022-11-27T07:49:58.868397Z",
     "shell.execute_reply": "2022-11-27T07:49:58.867636Z"
    },
    "papermill": {
     "duration": 0.033015,
     "end_time": "2022-11-27T07:49:58.870390",
     "exception": false,
     "start_time": "2022-11-27T07:49:58.837375",
     "status": "completed"
    },
    "tags": []
   },
   "outputs": [
    {
     "data": {
      "text/plain": [
       "array([[0, 1, 2],\n",
       "       [3, 0, 1]])"
      ]
     },
     "execution_count": 17,
     "metadata": {},
     "output_type": "execute_result"
    }
   ],
   "source": [
    "a=np.array([[0,1],[2,3]])\n",
    "np.resize(a,(2,3))"
   ]
  },
  {
   "cell_type": "markdown",
   "id": "527dac48",
   "metadata": {
    "papermill": {
     "duration": 0.023277,
     "end_time": "2022-11-27T07:49:58.916938",
     "exception": false,
     "start_time": "2022-11-27T07:49:58.893661",
     "status": "completed"
    },
    "tags": []
   },
   "source": [
    "# numpy.unique\n",
    "Find the unique elements of an array.\n",
    "1. Syntax:- numpy.unique(ar, return_index=False, return_inverse=False, return_counts=False, axis=None)\n"
   ]
  },
  {
   "cell_type": "code",
   "execution_count": 18,
   "id": "bb89adc5",
   "metadata": {
    "execution": {
     "iopub.execute_input": "2022-11-27T07:49:58.965808Z",
     "iopub.status.busy": "2022-11-27T07:49:58.965140Z",
     "iopub.status.idle": "2022-11-27T07:49:58.974406Z",
     "shell.execute_reply": "2022-11-27T07:49:58.973541Z"
    },
    "papermill": {
     "duration": 0.035848,
     "end_time": "2022-11-27T07:49:58.976416",
     "exception": false,
     "start_time": "2022-11-27T07:49:58.940568",
     "status": "completed"
    },
    "tags": []
   },
   "outputs": [
    {
     "data": {
      "text/plain": [
       "(array([1, 2, 3]),\n",
       " array([0, 2, 4]),\n",
       " array([0, 0, 1, 1, 2, 2]),\n",
       " array([2, 2, 2]))"
      ]
     },
     "execution_count": 18,
     "metadata": {},
     "output_type": "execute_result"
    }
   ],
   "source": [
    "np.unique([1, 1, 2, 2, 3, 3], return_counts=True,return_index=True, return_inverse=True)\n"
   ]
  },
  {
   "cell_type": "markdown",
   "id": "2e8a8feb",
   "metadata": {
    "papermill": {
     "duration": 0.022526,
     "end_time": "2022-11-27T07:49:59.021896",
     "exception": false,
     "start_time": "2022-11-27T07:49:58.999370",
     "status": "completed"
    },
    "tags": []
   },
   "source": [
    "# Searching, Sorting, and Counting Routines"
   ]
  },
  {
   "cell_type": "markdown",
   "id": "c9262743",
   "metadata": {
    "papermill": {
     "duration": 0.022596,
     "end_time": "2022-11-27T07:49:59.067199",
     "exception": false,
     "start_time": "2022-11-27T07:49:59.044603",
     "status": "completed"
    },
    "tags": []
   },
   "source": [
    "# numpy.sort\n",
    "Return a sorted copy of an array\n",
    "1. Syntax:- numpy.sort(a, axis=- 1, kind=None, order=None)"
   ]
  },
  {
   "cell_type": "code",
   "execution_count": 19,
   "id": "3a27a03c",
   "metadata": {
    "execution": {
     "iopub.execute_input": "2022-11-27T07:49:59.115157Z",
     "iopub.status.busy": "2022-11-27T07:49:59.114466Z",
     "iopub.status.idle": "2022-11-27T07:49:59.120683Z",
     "shell.execute_reply": "2022-11-27T07:49:59.119836Z"
    },
    "papermill": {
     "duration": 0.032576,
     "end_time": "2022-11-27T07:49:59.122690",
     "exception": false,
     "start_time": "2022-11-27T07:49:59.090114",
     "status": "completed"
    },
    "tags": []
   },
   "outputs": [
    {
     "data": {
      "text/plain": [
       "array([[1, 4],\n",
       "       [1, 3]])"
      ]
     },
     "execution_count": 19,
     "metadata": {},
     "output_type": "execute_result"
    }
   ],
   "source": [
    "a = np.array([[4,1],[3,1]])\n",
    "np.sort(a)\n"
   ]
  },
  {
   "cell_type": "markdown",
   "id": "22e52ce4",
   "metadata": {
    "papermill": {
     "duration": 0.025197,
     "end_time": "2022-11-27T07:49:59.172602",
     "exception": false,
     "start_time": "2022-11-27T07:49:59.147405",
     "status": "completed"
    },
    "tags": []
   },
   "source": [
    "# numpy.argsort\n",
    "Returns the indices that would sort an array\n",
    "1. Syntax:- numpy.argsort(a, axis=- 1, kind=None, order=None)"
   ]
  },
  {
   "cell_type": "code",
   "execution_count": 20,
   "id": "73fe3744",
   "metadata": {
    "execution": {
     "iopub.execute_input": "2022-11-27T07:49:59.225021Z",
     "iopub.status.busy": "2022-11-27T07:49:59.224109Z",
     "iopub.status.idle": "2022-11-27T07:49:59.231627Z",
     "shell.execute_reply": "2022-11-27T07:49:59.230730Z"
    },
    "papermill": {
     "duration": 0.034872,
     "end_time": "2022-11-27T07:49:59.233941",
     "exception": false,
     "start_time": "2022-11-27T07:49:59.199069",
     "status": "completed"
    },
    "tags": []
   },
   "outputs": [
    {
     "data": {
      "text/plain": [
       "array([[1, 0],\n",
       "       [1, 0]])"
      ]
     },
     "execution_count": 20,
     "metadata": {},
     "output_type": "execute_result"
    }
   ],
   "source": [
    "a = np.array([[4,1],[3,1]])\n",
    "np.argsort(a)\n"
   ]
  },
  {
   "cell_type": "markdown",
   "id": "a797a925",
   "metadata": {
    "papermill": {
     "duration": 0.02572,
     "end_time": "2022-11-27T07:49:59.283989",
     "exception": false,
     "start_time": "2022-11-27T07:49:59.258269",
     "status": "completed"
    },
    "tags": []
   },
   "source": [
    "# numpy.partition\n",
    "Return a partitioned copy of an array\n",
    "1. Syntax:- numpy.partition(a, kth, axis=- 1, kind='introselect', order=None)"
   ]
  },
  {
   "cell_type": "code",
   "execution_count": 21,
   "id": "06177051",
   "metadata": {
    "execution": {
     "iopub.execute_input": "2022-11-27T07:49:59.335814Z",
     "iopub.status.busy": "2022-11-27T07:49:59.335099Z",
     "iopub.status.idle": "2022-11-27T07:49:59.345344Z",
     "shell.execute_reply": "2022-11-27T07:49:59.344114Z"
    },
    "papermill": {
     "duration": 0.039374,
     "end_time": "2022-11-27T07:49:59.348000",
     "exception": false,
     "start_time": "2022-11-27T07:49:59.308626",
     "status": "completed"
    },
    "tags": []
   },
   "outputs": [
    {
     "data": {
      "text/plain": [
       "array([2, 1, 3, 4])"
      ]
     },
     "execution_count": 21,
     "metadata": {},
     "output_type": "execute_result"
    }
   ],
   "source": [
    "a = np.array([3, 4, 2, 1])\n",
    "np.partition(a, 3)\n"
   ]
  },
  {
   "cell_type": "markdown",
   "id": "cca4aa92",
   "metadata": {
    "papermill": {
     "duration": 0.025536,
     "end_time": "2022-11-27T07:49:59.398412",
     "exception": false,
     "start_time": "2022-11-27T07:49:59.372876",
     "status": "completed"
    },
    "tags": []
   },
   "source": [
    "# numpy.argmax\n",
    "Returns the indices of the maximum values along an axis\n",
    "1. Syntax:- numpy.argmax(a, axis=None, out=None)\n"
   ]
  },
  {
   "cell_type": "code",
   "execution_count": 22,
   "id": "51ed7537",
   "metadata": {
    "execution": {
     "iopub.execute_input": "2022-11-27T07:49:59.450889Z",
     "iopub.status.busy": "2022-11-27T07:49:59.450144Z",
     "iopub.status.idle": "2022-11-27T07:49:59.458147Z",
     "shell.execute_reply": "2022-11-27T07:49:59.456744Z"
    },
    "papermill": {
     "duration": 0.036285,
     "end_time": "2022-11-27T07:49:59.460412",
     "exception": false,
     "start_time": "2022-11-27T07:49:59.424127",
     "status": "completed"
    },
    "tags": []
   },
   "outputs": [
    {
     "name": "stdout",
     "output_type": "stream",
     "text": [
      "[[10 11 12]\n",
      " [13 14 15]]\n"
     ]
    },
    {
     "data": {
      "text/plain": [
       "5"
      ]
     },
     "execution_count": 22,
     "metadata": {},
     "output_type": "execute_result"
    }
   ],
   "source": [
    "a = np.arange(6).reshape(2,3) + 10\n",
    "print(a)\n",
    "np.argmax(a)\n"
   ]
  },
  {
   "cell_type": "code",
   "execution_count": 23,
   "id": "38f11fa2",
   "metadata": {
    "execution": {
     "iopub.execute_input": "2022-11-27T07:49:59.509979Z",
     "iopub.status.busy": "2022-11-27T07:49:59.509563Z",
     "iopub.status.idle": "2022-11-27T07:49:59.518376Z",
     "shell.execute_reply": "2022-11-27T07:49:59.517014Z"
    },
    "papermill": {
     "duration": 0.036988,
     "end_time": "2022-11-27T07:49:59.521534",
     "exception": false,
     "start_time": "2022-11-27T07:49:59.484546",
     "status": "completed"
    },
    "tags": []
   },
   "outputs": [
    {
     "name": "stdout",
     "output_type": "stream",
     "text": [
      "[[10 11 12]\n",
      " [13 14 15]]\n"
     ]
    },
    {
     "data": {
      "text/plain": [
       "array([1, 1, 1])"
      ]
     },
     "execution_count": 23,
     "metadata": {},
     "output_type": "execute_result"
    }
   ],
   "source": [
    "a = np.arange(6).reshape(2,3) + 10\n",
    "print(a)\n",
    "np.argmax(a,axis=0)\n"
   ]
  },
  {
   "cell_type": "markdown",
   "id": "e23a0c5a",
   "metadata": {
    "papermill": {
     "duration": 0.023866,
     "end_time": "2022-11-27T07:49:59.570117",
     "exception": false,
     "start_time": "2022-11-27T07:49:59.546251",
     "status": "completed"
    },
    "tags": []
   },
   "source": [
    "# numpy.nanargmax\n",
    "Return the indices of the maximum values in the specified axis ignoring NaNs.\n",
    "1. Syntax:- numpy.nanargmax(a, axis=None)\n"
   ]
  },
  {
   "cell_type": "code",
   "execution_count": 24,
   "id": "de4c58e3",
   "metadata": {
    "execution": {
     "iopub.execute_input": "2022-11-27T07:49:59.631440Z",
     "iopub.status.busy": "2022-11-27T07:49:59.630375Z",
     "iopub.status.idle": "2022-11-27T07:49:59.638969Z",
     "shell.execute_reply": "2022-11-27T07:49:59.637965Z"
    },
    "papermill": {
     "duration": 0.041388,
     "end_time": "2022-11-27T07:49:59.641250",
     "exception": false,
     "start_time": "2022-11-27T07:49:59.599862",
     "status": "completed"
    },
    "tags": []
   },
   "outputs": [
    {
     "data": {
      "text/plain": [
       "1"
      ]
     },
     "execution_count": 24,
     "metadata": {},
     "output_type": "execute_result"
    }
   ],
   "source": [
    "a = np.array([[np.nan, 4], [2, 3]])\n",
    "np.nanargmax(a)\n"
   ]
  },
  {
   "cell_type": "code",
   "execution_count": 25,
   "id": "beaafc27",
   "metadata": {
    "execution": {
     "iopub.execute_input": "2022-11-27T07:49:59.693275Z",
     "iopub.status.busy": "2022-11-27T07:49:59.692873Z",
     "iopub.status.idle": "2022-11-27T07:49:59.700282Z",
     "shell.execute_reply": "2022-11-27T07:49:59.699273Z"
    },
    "papermill": {
     "duration": 0.035332,
     "end_time": "2022-11-27T07:49:59.702510",
     "exception": false,
     "start_time": "2022-11-27T07:49:59.667178",
     "status": "completed"
    },
    "tags": []
   },
   "outputs": [
    {
     "data": {
      "text/plain": [
       "array([1, 1])"
      ]
     },
     "execution_count": 25,
     "metadata": {},
     "output_type": "execute_result"
    }
   ],
   "source": [
    "a = np.array([[np.nan, 4], [2, 3]])\n",
    "np.nanargmax(a,axis=1)\n"
   ]
  },
  {
   "cell_type": "markdown",
   "id": "c43f56c7",
   "metadata": {
    "papermill": {
     "duration": 0.024771,
     "end_time": "2022-11-27T07:49:59.752302",
     "exception": false,
     "start_time": "2022-11-27T07:49:59.727531",
     "status": "completed"
    },
    "tags": []
   },
   "source": [
    "# numpy.argmin\n",
    "Returns the indices of the minimum values along an axis\n",
    "1. Syntax:- numpy.argmin(a, axis=None, out=None) "
   ]
  },
  {
   "cell_type": "code",
   "execution_count": 26,
   "id": "b006a74b",
   "metadata": {
    "execution": {
     "iopub.execute_input": "2022-11-27T07:49:59.803074Z",
     "iopub.status.busy": "2022-11-27T07:49:59.802386Z",
     "iopub.status.idle": "2022-11-27T07:49:59.809580Z",
     "shell.execute_reply": "2022-11-27T07:49:59.808529Z"
    },
    "papermill": {
     "duration": 0.03521,
     "end_time": "2022-11-27T07:49:59.811807",
     "exception": false,
     "start_time": "2022-11-27T07:49:59.776597",
     "status": "completed"
    },
    "tags": []
   },
   "outputs": [
    {
     "data": {
      "text/plain": [
       "0"
      ]
     },
     "execution_count": 26,
     "metadata": {},
     "output_type": "execute_result"
    }
   ],
   "source": [
    "a = np.arange(6).reshape(2,3) + 10\n",
    "np.argmin(a)\n"
   ]
  },
  {
   "cell_type": "markdown",
   "id": "87687b71",
   "metadata": {
    "papermill": {
     "duration": 0.024034,
     "end_time": "2022-11-27T07:49:59.860498",
     "exception": false,
     "start_time": "2022-11-27T07:49:59.836464",
     "status": "completed"
    },
    "tags": []
   },
   "source": [
    "# numpy.nanargmin\n",
    "Return the indices of the minimum values in the specified axis ignoring NaNs\n",
    "1. Syntax:- numpy.nanargmin(a, axis=None)"
   ]
  },
  {
   "cell_type": "code",
   "execution_count": 27,
   "id": "6562a137",
   "metadata": {
    "execution": {
     "iopub.execute_input": "2022-11-27T07:49:59.910855Z",
     "iopub.status.busy": "2022-11-27T07:49:59.910445Z",
     "iopub.status.idle": "2022-11-27T07:49:59.917442Z",
     "shell.execute_reply": "2022-11-27T07:49:59.916565Z"
    },
    "papermill": {
     "duration": 0.034776,
     "end_time": "2022-11-27T07:49:59.919646",
     "exception": false,
     "start_time": "2022-11-27T07:49:59.884870",
     "status": "completed"
    },
    "tags": []
   },
   "outputs": [
    {
     "data": {
      "text/plain": [
       "2"
      ]
     },
     "execution_count": 27,
     "metadata": {},
     "output_type": "execute_result"
    }
   ],
   "source": [
    "a = np.array([[np.nan, 4], [2, 3]])\n",
    "np.nanargmin(a)"
   ]
  },
  {
   "cell_type": "markdown",
   "id": "fe2f30f6",
   "metadata": {
    "papermill": {
     "duration": 0.025324,
     "end_time": "2022-11-27T07:49:59.970378",
     "exception": false,
     "start_time": "2022-11-27T07:49:59.945054",
     "status": "completed"
    },
    "tags": []
   },
   "source": [
    "# numpy.nonzero\n",
    "Return the indices of the elements that are non-zero.\n",
    "1. Syntax:- numpy.nonzero(a)"
   ]
  },
  {
   "cell_type": "code",
   "execution_count": 28,
   "id": "444d466a",
   "metadata": {
    "execution": {
     "iopub.execute_input": "2022-11-27T07:50:00.022606Z",
     "iopub.status.busy": "2022-11-27T07:50:00.021628Z",
     "iopub.status.idle": "2022-11-27T07:50:00.030411Z",
     "shell.execute_reply": "2022-11-27T07:50:00.029112Z"
    },
    "papermill": {
     "duration": 0.037463,
     "end_time": "2022-11-27T07:50:00.032830",
     "exception": false,
     "start_time": "2022-11-27T07:49:59.995367",
     "status": "completed"
    },
    "tags": []
   },
   "outputs": [
    {
     "name": "stdout",
     "output_type": "stream",
     "text": [
      "[[3 0 0]\n",
      " [0 4 0]\n",
      " [5 6 0]]\n"
     ]
    },
    {
     "data": {
      "text/plain": [
       "(array([0, 1, 2, 2]), array([0, 1, 0, 1]))"
      ]
     },
     "execution_count": 28,
     "metadata": {},
     "output_type": "execute_result"
    }
   ],
   "source": [
    "x = np.array([[3, 0, 0], [0, 4, 0], [5, 6, 0]])\n",
    "print(x)\n",
    "np.nonzero(x)"
   ]
  },
  {
   "cell_type": "markdown",
   "id": "e1b32d05",
   "metadata": {
    "papermill": {
     "duration": 0.024511,
     "end_time": "2022-11-27T07:50:00.082242",
     "exception": false,
     "start_time": "2022-11-27T07:50:00.057731",
     "status": "completed"
    },
    "tags": []
   },
   "source": [
    "# numpy.flatnonzero\n",
    "Return indices that are non-zero in the flattened version of a\n",
    "1. Syntax:- numpy.flatnonzero(a)"
   ]
  },
  {
   "cell_type": "code",
   "execution_count": 29,
   "id": "bc04ea27",
   "metadata": {
    "execution": {
     "iopub.execute_input": "2022-11-27T07:50:00.133899Z",
     "iopub.status.busy": "2022-11-27T07:50:00.133283Z",
     "iopub.status.idle": "2022-11-27T07:50:00.142146Z",
     "shell.execute_reply": "2022-11-27T07:50:00.140811Z"
    },
    "papermill": {
     "duration": 0.037495,
     "end_time": "2022-11-27T07:50:00.144624",
     "exception": false,
     "start_time": "2022-11-27T07:50:00.107129",
     "status": "completed"
    },
    "tags": []
   },
   "outputs": [
    {
     "name": "stdout",
     "output_type": "stream",
     "text": [
      "[[3 0 0]\n",
      " [0 4 0]\n",
      " [5 6 0]]\n"
     ]
    },
    {
     "data": {
      "text/plain": [
       "array([0, 4, 6, 7])"
      ]
     },
     "execution_count": 29,
     "metadata": {},
     "output_type": "execute_result"
    }
   ],
   "source": [
    "x = np.array([[3, 0, 0], [0, 4, 0], [5, 6, 0]])\n",
    "print(x)\n",
    "np.flatnonzero(x)"
   ]
  },
  {
   "cell_type": "markdown",
   "id": "f0b9e9d0",
   "metadata": {
    "papermill": {
     "duration": 0.024754,
     "end_time": "2022-11-27T07:50:00.194745",
     "exception": false,
     "start_time": "2022-11-27T07:50:00.169991",
     "status": "completed"
    },
    "tags": []
   },
   "source": [
    "# Linear Algebra Routines\n",
    "Various Linear Algebra Functions are divided into following categories:\n",
    "1. Matrix and Vector Products\n",
    "2. Decomposition\n",
    "3. Eigen Values and Eigen Vectors\n",
    "4. Norm and Other Numbers\n",
    "5. Solving Equations and inverting matrices"
   ]
  },
  {
   "cell_type": "markdown",
   "id": "3b86709d",
   "metadata": {
    "papermill": {
     "duration": 0.024472,
     "end_time": "2022-11-27T07:50:00.244516",
     "exception": false,
     "start_time": "2022-11-27T07:50:00.220044",
     "status": "completed"
    },
    "tags": []
   },
   "source": [
    "# 1. Matrix and Vector Products\n"
   ]
  },
  {
   "cell_type": "markdown",
   "id": "ac0e9818",
   "metadata": {
    "papermill": {
     "duration": 0.024451,
     "end_time": "2022-11-27T07:50:00.293770",
     "exception": false,
     "start_time": "2022-11-27T07:50:00.269319",
     "status": "completed"
    },
    "tags": []
   },
   "source": [
    "# numpy.dot\n",
    "Dot product of two arrays\n",
    " 1. Syntax:- numpy.dot(a, b, out=None)"
   ]
  },
  {
   "cell_type": "code",
   "execution_count": 30,
   "id": "6fee9239",
   "metadata": {
    "execution": {
     "iopub.execute_input": "2022-11-27T07:50:00.347177Z",
     "iopub.status.busy": "2022-11-27T07:50:00.346406Z",
     "iopub.status.idle": "2022-11-27T07:50:00.353212Z",
     "shell.execute_reply": "2022-11-27T07:50:00.352303Z"
    },
    "papermill": {
     "duration": 0.036058,
     "end_time": "2022-11-27T07:50:00.355280",
     "exception": false,
     "start_time": "2022-11-27T07:50:00.319222",
     "status": "completed"
    },
    "tags": []
   },
   "outputs": [
    {
     "data": {
      "text/plain": [
       "array([[4, 1],\n",
       "       [2, 2]])"
      ]
     },
     "execution_count": 30,
     "metadata": {},
     "output_type": "execute_result"
    }
   ],
   "source": [
    "a = [[1, 0], [0, 1]]\n",
    "b = [[4, 1], [2, 2]]\n",
    "np.dot(a, b)\n"
   ]
  },
  {
   "cell_type": "markdown",
   "id": "92360df4",
   "metadata": {
    "papermill": {
     "duration": 0.024745,
     "end_time": "2022-11-27T07:50:00.404894",
     "exception": false,
     "start_time": "2022-11-27T07:50:00.380149",
     "status": "completed"
    },
    "tags": []
   },
   "source": [
    "# numpy.inner\n",
    "Compute the inner product of two vectors\n",
    "1. Syntax:- numpy.inner(a, b, out=None)"
   ]
  },
  {
   "cell_type": "code",
   "execution_count": 31,
   "id": "1b1b21b5",
   "metadata": {
    "execution": {
     "iopub.execute_input": "2022-11-27T07:50:00.456766Z",
     "iopub.status.busy": "2022-11-27T07:50:00.455720Z",
     "iopub.status.idle": "2022-11-27T07:50:00.463306Z",
     "shell.execute_reply": "2022-11-27T07:50:00.462274Z"
    },
    "papermill": {
     "duration": 0.035537,
     "end_time": "2022-11-27T07:50:00.465308",
     "exception": false,
     "start_time": "2022-11-27T07:50:00.429771",
     "status": "completed"
    },
    "tags": []
   },
   "outputs": [
    {
     "data": {
      "text/plain": [
       "array([[4, 2],\n",
       "       [1, 2]])"
      ]
     },
     "execution_count": 31,
     "metadata": {},
     "output_type": "execute_result"
    }
   ],
   "source": [
    "a = [[1, 0], [0, 1]]\n",
    "b = [[4, 1], [2, 2]]\n",
    "np.inner(a, b)"
   ]
  },
  {
   "cell_type": "markdown",
   "id": "e133525e",
   "metadata": {
    "papermill": {
     "duration": 0.025543,
     "end_time": "2022-11-27T07:50:00.516254",
     "exception": false,
     "start_time": "2022-11-27T07:50:00.490711",
     "status": "completed"
    },
    "tags": []
   },
   "source": [
    "# numpy.outer\n",
    "Compute the outer product of two vectors\n",
    "1. Syntax:- numpy.outer(a, b, out=None)\n"
   ]
  },
  {
   "cell_type": "code",
   "execution_count": 32,
   "id": "8d094ffb",
   "metadata": {
    "execution": {
     "iopub.execute_input": "2022-11-27T07:50:00.571327Z",
     "iopub.status.busy": "2022-11-27T07:50:00.570649Z",
     "iopub.status.idle": "2022-11-27T07:50:00.578616Z",
     "shell.execute_reply": "2022-11-27T07:50:00.577330Z"
    },
    "papermill": {
     "duration": 0.038455,
     "end_time": "2022-11-27T07:50:00.580911",
     "exception": false,
     "start_time": "2022-11-27T07:50:00.542456",
     "status": "completed"
    },
    "tags": []
   },
   "outputs": [
    {
     "data": {
      "text/plain": [
       "array([[4, 1, 2, 2],\n",
       "       [0, 0, 0, 0],\n",
       "       [0, 0, 0, 0],\n",
       "       [4, 1, 2, 2]])"
      ]
     },
     "execution_count": 32,
     "metadata": {},
     "output_type": "execute_result"
    }
   ],
   "source": [
    "a = [[1, 0], [0, 1]]\n",
    "b = [[4, 1], [2, 2]]\n",
    "np.outer(a, b)\n",
    "# SIngle element of a baaki saare elements se multiply"
   ]
  },
  {
   "cell_type": "markdown",
   "id": "8e9f72ef",
   "metadata": {
    "papermill": {
     "duration": 0.025242,
     "end_time": "2022-11-27T07:50:00.633106",
     "exception": false,
     "start_time": "2022-11-27T07:50:00.607864",
     "status": "completed"
    },
    "tags": []
   },
   "source": [
    "# numpy.matmul\n",
    "Matrix product of two arrays\n",
    "1. Syntax:-numpy.matmul(x1, x2, out=None, casting='same_kind', order='K', dtype=None)"
   ]
  },
  {
   "cell_type": "code",
   "execution_count": 33,
   "id": "f8424c40",
   "metadata": {
    "execution": {
     "iopub.execute_input": "2022-11-27T07:50:00.686902Z",
     "iopub.status.busy": "2022-11-27T07:50:00.686494Z",
     "iopub.status.idle": "2022-11-27T07:50:00.694294Z",
     "shell.execute_reply": "2022-11-27T07:50:00.693160Z"
    },
    "papermill": {
     "duration": 0.036962,
     "end_time": "2022-11-27T07:50:00.696592",
     "exception": false,
     "start_time": "2022-11-27T07:50:00.659630",
     "status": "completed"
    },
    "tags": []
   },
   "outputs": [
    {
     "data": {
      "text/plain": [
       "array([[4, 1],\n",
       "       [2, 2]])"
      ]
     },
     "execution_count": 33,
     "metadata": {},
     "output_type": "execute_result"
    }
   ],
   "source": [
    "a = [[1, 0], [0, 1]]\n",
    "b = [[4, 1], [2, 2]]\n",
    "np.matmul(a, b)"
   ]
  },
  {
   "cell_type": "markdown",
   "id": "03d48c77",
   "metadata": {
    "papermill": {
     "duration": 0.025188,
     "end_time": "2022-11-27T07:50:00.747196",
     "exception": false,
     "start_time": "2022-11-27T07:50:00.722008",
     "status": "completed"
    },
    "tags": []
   },
   "source": [
    "# linalg.matrix_power\n",
    "Raise a square matrix to the (integer) power n\n",
    "1. Syntax:- linalg.matrix_power(a, n)\n"
   ]
  },
  {
   "cell_type": "code",
   "execution_count": 34,
   "id": "ff4a0dd5",
   "metadata": {
    "execution": {
     "iopub.execute_input": "2022-11-27T07:50:00.817809Z",
     "iopub.status.busy": "2022-11-27T07:50:00.816863Z",
     "iopub.status.idle": "2022-11-27T07:50:00.825246Z",
     "shell.execute_reply": "2022-11-27T07:50:00.824301Z"
    },
    "papermill": {
     "duration": 0.044814,
     "end_time": "2022-11-27T07:50:00.827393",
     "exception": false,
     "start_time": "2022-11-27T07:50:00.782579",
     "status": "completed"
    },
    "tags": []
   },
   "outputs": [
    {
     "data": {
      "text/plain": [
       "array([[16,  0],\n",
       "       [ 0,  9]])"
      ]
     },
     "execution_count": 34,
     "metadata": {},
     "output_type": "execute_result"
    }
   ],
   "source": [
    "a = [[4, 0], [0, 3]]\n",
    "np.linalg.matrix_power(a,2)"
   ]
  },
  {
   "cell_type": "markdown",
   "id": "c642fe64",
   "metadata": {
    "papermill": {
     "duration": 0.025145,
     "end_time": "2022-11-27T07:50:00.885641",
     "exception": false,
     "start_time": "2022-11-27T07:50:00.860496",
     "status": "completed"
    },
    "tags": []
   },
   "source": [
    "# 2. Decomposition \n",
    "contains routines for SVD decomposition\n"
   ]
  },
  {
   "cell_type": "markdown",
   "id": "619cb4ef",
   "metadata": {
    "papermill": {
     "duration": 0.025208,
     "end_time": "2022-11-27T07:50:00.936222",
     "exception": false,
     "start_time": "2022-11-27T07:50:00.911014",
     "status": "completed"
    },
    "tags": []
   },
   "source": [
    "# linalg.svd\n",
    "Singular Value Decomposition\n",
    "1. Syntax:- linalg.svd(a, full_matrices=True, compute_uv=True)"
   ]
  },
  {
   "cell_type": "code",
   "execution_count": 35,
   "id": "14b6301d",
   "metadata": {
    "execution": {
     "iopub.execute_input": "2022-11-27T07:50:00.989338Z",
     "iopub.status.busy": "2022-11-27T07:50:00.988557Z",
     "iopub.status.idle": "2022-11-27T07:50:01.004295Z",
     "shell.execute_reply": "2022-11-27T07:50:01.003287Z"
    },
    "papermill": {
     "duration": 0.045065,
     "end_time": "2022-11-27T07:50:01.006800",
     "exception": false,
     "start_time": "2022-11-27T07:50:00.961735",
     "status": "completed"
    },
    "tags": []
   },
   "outputs": [],
   "source": [
    "b = [[4, 1], [2, 2]]\n",
    "u,s,v=np.linalg.svd(b)\n"
   ]
  },
  {
   "cell_type": "code",
   "execution_count": 36,
   "id": "2721d2be",
   "metadata": {
    "execution": {
     "iopub.execute_input": "2022-11-27T07:50:01.062650Z",
     "iopub.status.busy": "2022-11-27T07:50:01.061962Z",
     "iopub.status.idle": "2022-11-27T07:50:01.068450Z",
     "shell.execute_reply": "2022-11-27T07:50:01.067544Z"
    },
    "papermill": {
     "duration": 0.037573,
     "end_time": "2022-11-27T07:50:01.070818",
     "exception": false,
     "start_time": "2022-11-27T07:50:01.033245",
     "status": "completed"
    },
    "tags": []
   },
   "outputs": [
    {
     "data": {
      "text/plain": [
       "array([[-0.83975136, -0.54297114],\n",
       "       [-0.54297114,  0.83975136]])"
      ]
     },
     "execution_count": 36,
     "metadata": {},
     "output_type": "execute_result"
    }
   ],
   "source": [
    "u"
   ]
  },
  {
   "cell_type": "code",
   "execution_count": 37,
   "id": "403bfea4",
   "metadata": {
    "execution": {
     "iopub.execute_input": "2022-11-27T07:50:01.126170Z",
     "iopub.status.busy": "2022-11-27T07:50:01.125511Z",
     "iopub.status.idle": "2022-11-27T07:50:01.131746Z",
     "shell.execute_reply": "2022-11-27T07:50:01.130685Z"
    },
    "papermill": {
     "duration": 0.036091,
     "end_time": "2022-11-27T07:50:01.133911",
     "exception": false,
     "start_time": "2022-11-27T07:50:01.097820",
     "status": "completed"
    },
    "tags": []
   },
   "outputs": [
    {
     "data": {
      "text/plain": [
       "array([4.8441569 , 1.23860563])"
      ]
     },
     "execution_count": 37,
     "metadata": {},
     "output_type": "execute_result"
    }
   ],
   "source": [
    "s"
   ]
  },
  {
   "cell_type": "code",
   "execution_count": 38,
   "id": "226b7209",
   "metadata": {
    "execution": {
     "iopub.execute_input": "2022-11-27T07:50:01.187975Z",
     "iopub.status.busy": "2022-11-27T07:50:01.187074Z",
     "iopub.status.idle": "2022-11-27T07:50:01.193105Z",
     "shell.execute_reply": "2022-11-27T07:50:01.192262Z"
    },
    "papermill": {
     "duration": 0.035571,
     "end_time": "2022-11-27T07:50:01.195179",
     "exception": false,
     "start_time": "2022-11-27T07:50:01.159608",
     "status": "completed"
    },
    "tags": []
   },
   "outputs": [
    {
     "data": {
      "text/plain": [
       "array([[-0.91758954, -0.39752916],\n",
       "       [-0.39752916,  0.91758954]])"
      ]
     },
     "execution_count": 38,
     "metadata": {},
     "output_type": "execute_result"
    }
   ],
   "source": [
    "v"
   ]
  },
  {
   "cell_type": "markdown",
   "id": "b15c3969",
   "metadata": {
    "papermill": {
     "duration": 0.026345,
     "end_time": "2022-11-27T07:50:01.247491",
     "exception": false,
     "start_time": "2022-11-27T07:50:01.221146",
     "status": "completed"
    },
    "tags": []
   },
   "source": [
    "# 3. EIGEN VALUES & VECTORS\n"
   ]
  },
  {
   "cell_type": "markdown",
   "id": "7325ca3a",
   "metadata": {
    "papermill": {
     "duration": 0.026072,
     "end_time": "2022-11-27T07:50:01.299910",
     "exception": false,
     "start_time": "2022-11-27T07:50:01.273838",
     "status": "completed"
    },
    "tags": []
   },
   "source": [
    "# linalg.eig\n",
    "Compute the eigenvalues and right eigenvectors of a square array\n",
    "1. Syntax:- linalg.eig(a)\n"
   ]
  },
  {
   "cell_type": "code",
   "execution_count": 39,
   "id": "144e2d33",
   "metadata": {
    "execution": {
     "iopub.execute_input": "2022-11-27T07:50:01.354309Z",
     "iopub.status.busy": "2022-11-27T07:50:01.353733Z",
     "iopub.status.idle": "2022-11-27T07:50:01.362697Z",
     "shell.execute_reply": "2022-11-27T07:50:01.361567Z"
    },
    "papermill": {
     "duration": 0.039005,
     "end_time": "2022-11-27T07:50:01.364918",
     "exception": false,
     "start_time": "2022-11-27T07:50:01.325913",
     "status": "completed"
    },
    "tags": []
   },
   "outputs": [],
   "source": [
    "b = [[4, 1], [2, 2]]\n",
    "value,vector=np.linalg.eig(b)\n"
   ]
  },
  {
   "cell_type": "code",
   "execution_count": 40,
   "id": "fe013758",
   "metadata": {
    "execution": {
     "iopub.execute_input": "2022-11-27T07:50:01.420519Z",
     "iopub.status.busy": "2022-11-27T07:50:01.419490Z",
     "iopub.status.idle": "2022-11-27T07:50:01.426522Z",
     "shell.execute_reply": "2022-11-27T07:50:01.425411Z"
    },
    "papermill": {
     "duration": 0.037355,
     "end_time": "2022-11-27T07:50:01.428725",
     "exception": false,
     "start_time": "2022-11-27T07:50:01.391370",
     "status": "completed"
    },
    "tags": []
   },
   "outputs": [
    {
     "data": {
      "text/plain": [
       "array([4.73205081, 1.26794919])"
      ]
     },
     "execution_count": 40,
     "metadata": {},
     "output_type": "execute_result"
    }
   ],
   "source": [
    "value"
   ]
  },
  {
   "cell_type": "code",
   "execution_count": 41,
   "id": "5866c888",
   "metadata": {
    "execution": {
     "iopub.execute_input": "2022-11-27T07:50:01.483024Z",
     "iopub.status.busy": "2022-11-27T07:50:01.482597Z",
     "iopub.status.idle": "2022-11-27T07:50:01.488756Z",
     "shell.execute_reply": "2022-11-27T07:50:01.487994Z"
    },
    "papermill": {
     "duration": 0.035788,
     "end_time": "2022-11-27T07:50:01.490758",
     "exception": false,
     "start_time": "2022-11-27T07:50:01.454970",
     "status": "completed"
    },
    "tags": []
   },
   "outputs": [
    {
     "data": {
      "text/plain": [
       "array([[ 0.80689822, -0.34372377],\n",
       "       [ 0.59069049,  0.9390708 ]])"
      ]
     },
     "execution_count": 41,
     "metadata": {},
     "output_type": "execute_result"
    }
   ],
   "source": [
    "vector"
   ]
  },
  {
   "cell_type": "markdown",
   "id": "cd51b0d0",
   "metadata": {
    "papermill": {
     "duration": 0.025796,
     "end_time": "2022-11-27T07:50:01.542902",
     "exception": false,
     "start_time": "2022-11-27T07:50:01.517106",
     "status": "completed"
    },
    "tags": []
   },
   "source": [
    "# numpy.eigvals\n",
    "Compute the eigenvalues of a general matrix\n",
    "1. Syntax:- linalg.eigvals(a)"
   ]
  },
  {
   "cell_type": "code",
   "execution_count": 42,
   "id": "c72b4891",
   "metadata": {
    "execution": {
     "iopub.execute_input": "2022-11-27T07:50:01.596548Z",
     "iopub.status.busy": "2022-11-27T07:50:01.596159Z",
     "iopub.status.idle": "2022-11-27T07:50:01.601543Z",
     "shell.execute_reply": "2022-11-27T07:50:01.600373Z"
    },
    "papermill": {
     "duration": 0.034952,
     "end_time": "2022-11-27T07:50:01.603885",
     "exception": false,
     "start_time": "2022-11-27T07:50:01.568933",
     "status": "completed"
    },
    "tags": []
   },
   "outputs": [],
   "source": [
    "b = [[4, 1], [2, 2]]\n",
    "value=np.linalg.eigvals(b)"
   ]
  },
  {
   "cell_type": "code",
   "execution_count": 43,
   "id": "9c7e2300",
   "metadata": {
    "execution": {
     "iopub.execute_input": "2022-11-27T07:50:01.658458Z",
     "iopub.status.busy": "2022-11-27T07:50:01.657732Z",
     "iopub.status.idle": "2022-11-27T07:50:01.664236Z",
     "shell.execute_reply": "2022-11-27T07:50:01.663199Z"
    },
    "papermill": {
     "duration": 0.036538,
     "end_time": "2022-11-27T07:50:01.666668",
     "exception": false,
     "start_time": "2022-11-27T07:50:01.630130",
     "status": "completed"
    },
    "tags": []
   },
   "outputs": [
    {
     "data": {
      "text/plain": [
       "array([4.73205081, 1.26794919])"
      ]
     },
     "execution_count": 43,
     "metadata": {},
     "output_type": "execute_result"
    }
   ],
   "source": [
    "value"
   ]
  },
  {
   "cell_type": "markdown",
   "id": "9790504d",
   "metadata": {
    "papermill": {
     "duration": 0.025855,
     "end_time": "2022-11-27T07:50:01.718972",
     "exception": false,
     "start_time": "2022-11-27T07:50:01.693117",
     "status": "completed"
    },
    "tags": []
   },
   "source": [
    "# 4. Norm and Other Numbers\n"
   ]
  },
  {
   "cell_type": "markdown",
   "id": "b0640166",
   "metadata": {
    "papermill": {
     "duration": 0.027019,
     "end_time": "2022-11-27T07:50:01.772641",
     "exception": false,
     "start_time": "2022-11-27T07:50:01.745622",
     "status": "completed"
    },
    "tags": []
   },
   "source": [
    "# numpy.norm\n",
    "Matrix or vector norm\n",
    "1. Syntax:-linalg.norm(x, ord=None, axis=None, keepdims=False)\n"
   ]
  },
  {
   "cell_type": "code",
   "execution_count": 44,
   "id": "5eb62c5b",
   "metadata": {
    "execution": {
     "iopub.execute_input": "2022-11-27T07:50:01.827436Z",
     "iopub.status.busy": "2022-11-27T07:50:01.826858Z",
     "iopub.status.idle": "2022-11-27T07:50:01.833040Z",
     "shell.execute_reply": "2022-11-27T07:50:01.831765Z"
    },
    "papermill": {
     "duration": 0.036305,
     "end_time": "2022-11-27T07:50:01.835482",
     "exception": false,
     "start_time": "2022-11-27T07:50:01.799177",
     "status": "completed"
    },
    "tags": []
   },
   "outputs": [],
   "source": [
    "b = [[4, 1], [2, 2]]\n",
    "value=np.linalg.norm(b)"
   ]
  },
  {
   "cell_type": "code",
   "execution_count": 45,
   "id": "8e5956c0",
   "metadata": {
    "execution": {
     "iopub.execute_input": "2022-11-27T07:50:01.893965Z",
     "iopub.status.busy": "2022-11-27T07:50:01.893549Z",
     "iopub.status.idle": "2022-11-27T07:50:01.900160Z",
     "shell.execute_reply": "2022-11-27T07:50:01.899128Z"
    },
    "papermill": {
     "duration": 0.03807,
     "end_time": "2022-11-27T07:50:01.902246",
     "exception": false,
     "start_time": "2022-11-27T07:50:01.864176",
     "status": "completed"
    },
    "tags": []
   },
   "outputs": [
    {
     "data": {
      "text/plain": [
       "5.0"
      ]
     },
     "execution_count": 45,
     "metadata": {},
     "output_type": "execute_result"
    }
   ],
   "source": [
    "value"
   ]
  },
  {
   "cell_type": "code",
   "execution_count": 46,
   "id": "6c2029b5",
   "metadata": {
    "execution": {
     "iopub.execute_input": "2022-11-27T07:50:01.958306Z",
     "iopub.status.busy": "2022-11-27T07:50:01.957865Z",
     "iopub.status.idle": "2022-11-27T07:50:01.963705Z",
     "shell.execute_reply": "2022-11-27T07:50:01.962543Z"
    },
    "papermill": {
     "duration": 0.037105,
     "end_time": "2022-11-27T07:50:01.966138",
     "exception": false,
     "start_time": "2022-11-27T07:50:01.929033",
     "status": "completed"
    },
    "tags": []
   },
   "outputs": [],
   "source": [
    "b = [[4, 1], [2, 2]]\n",
    "value=np.linalg.norm(b,axis=0)"
   ]
  },
  {
   "cell_type": "code",
   "execution_count": 47,
   "id": "c8d5e486",
   "metadata": {
    "execution": {
     "iopub.execute_input": "2022-11-27T07:50:02.020705Z",
     "iopub.status.busy": "2022-11-27T07:50:02.020253Z",
     "iopub.status.idle": "2022-11-27T07:50:02.027116Z",
     "shell.execute_reply": "2022-11-27T07:50:02.026145Z"
    },
    "papermill": {
     "duration": 0.036675,
     "end_time": "2022-11-27T07:50:02.029250",
     "exception": false,
     "start_time": "2022-11-27T07:50:01.992575",
     "status": "completed"
    },
    "tags": []
   },
   "outputs": [
    {
     "data": {
      "text/plain": [
       "array([4.47213595, 2.23606798])"
      ]
     },
     "execution_count": 47,
     "metadata": {},
     "output_type": "execute_result"
    }
   ],
   "source": [
    "value"
   ]
  },
  {
   "cell_type": "code",
   "execution_count": 48,
   "id": "0258bb11",
   "metadata": {
    "execution": {
     "iopub.execute_input": "2022-11-27T07:50:02.083982Z",
     "iopub.status.busy": "2022-11-27T07:50:02.083519Z",
     "iopub.status.idle": "2022-11-27T07:50:02.089569Z",
     "shell.execute_reply": "2022-11-27T07:50:02.088364Z"
    },
    "papermill": {
     "duration": 0.036122,
     "end_time": "2022-11-27T07:50:02.091963",
     "exception": false,
     "start_time": "2022-11-27T07:50:02.055841",
     "status": "completed"
    },
    "tags": []
   },
   "outputs": [],
   "source": [
    "b = [[4, 1], [2, 2]]\n",
    "value=np.linalg.norm(b,axis=1)"
   ]
  },
  {
   "cell_type": "code",
   "execution_count": 49,
   "id": "52404a00",
   "metadata": {
    "execution": {
     "iopub.execute_input": "2022-11-27T07:50:02.147293Z",
     "iopub.status.busy": "2022-11-27T07:50:02.146480Z",
     "iopub.status.idle": "2022-11-27T07:50:02.153726Z",
     "shell.execute_reply": "2022-11-27T07:50:02.152610Z"
    },
    "papermill": {
     "duration": 0.037321,
     "end_time": "2022-11-27T07:50:02.155920",
     "exception": false,
     "start_time": "2022-11-27T07:50:02.118599",
     "status": "completed"
    },
    "tags": []
   },
   "outputs": [
    {
     "data": {
      "text/plain": [
       "array([4.12310563, 2.82842712])"
      ]
     },
     "execution_count": 49,
     "metadata": {},
     "output_type": "execute_result"
    }
   ],
   "source": [
    "value"
   ]
  },
  {
   "cell_type": "markdown",
   "id": "a457472d",
   "metadata": {
    "papermill": {
     "duration": 0.028887,
     "end_time": "2022-11-27T07:50:02.212643",
     "exception": false,
     "start_time": "2022-11-27T07:50:02.183756",
     "status": "completed"
    },
    "tags": []
   },
   "source": [
    "# numpy.det\n",
    "Compute the determinant of an array\n",
    "1. Syntax:- linalg.det(a)"
   ]
  },
  {
   "cell_type": "code",
   "execution_count": 50,
   "id": "b22dc4fa",
   "metadata": {
    "execution": {
     "iopub.execute_input": "2022-11-27T07:50:02.269776Z",
     "iopub.status.busy": "2022-11-27T07:50:02.269341Z",
     "iopub.status.idle": "2022-11-27T07:50:02.276770Z",
     "shell.execute_reply": "2022-11-27T07:50:02.275746Z"
    },
    "papermill": {
     "duration": 0.037655,
     "end_time": "2022-11-27T07:50:02.279143",
     "exception": false,
     "start_time": "2022-11-27T07:50:02.241488",
     "status": "completed"
    },
    "tags": []
   },
   "outputs": [
    {
     "data": {
      "text/plain": [
       "6.0"
      ]
     },
     "execution_count": 50,
     "metadata": {},
     "output_type": "execute_result"
    }
   ],
   "source": [
    "b = [[4, 1], [2, 2]]\n",
    "np.linalg.det(b)"
   ]
  },
  {
   "cell_type": "markdown",
   "id": "d12256dc",
   "metadata": {
    "papermill": {
     "duration": 0.026508,
     "end_time": "2022-11-27T07:50:02.333966",
     "exception": false,
     "start_time": "2022-11-27T07:50:02.307458",
     "status": "completed"
    },
    "tags": []
   },
   "source": [
    "# numpy.rank\n",
    "Return matrix rank of array using SVD method\n",
    "1. Syntax:- linalg.matrix_rank(M, tol=None)\n"
   ]
  },
  {
   "cell_type": "code",
   "execution_count": 51,
   "id": "9b281a0e",
   "metadata": {
    "execution": {
     "iopub.execute_input": "2022-11-27T07:50:02.390607Z",
     "iopub.status.busy": "2022-11-27T07:50:02.390196Z",
     "iopub.status.idle": "2022-11-27T07:50:02.398414Z",
     "shell.execute_reply": "2022-11-27T07:50:02.397280Z"
    },
    "papermill": {
     "duration": 0.039821,
     "end_time": "2022-11-27T07:50:02.400861",
     "exception": false,
     "start_time": "2022-11-27T07:50:02.361040",
     "status": "completed"
    },
    "tags": []
   },
   "outputs": [
    {
     "data": {
      "text/plain": [
       "2"
      ]
     },
     "execution_count": 51,
     "metadata": {},
     "output_type": "execute_result"
    }
   ],
   "source": [
    "b = [[4, 1], [2, 2]]\n",
    "value=np.linalg.matrix_rank(b)\n",
    "value"
   ]
  },
  {
   "cell_type": "markdown",
   "id": "7e977a0b",
   "metadata": {
    "papermill": {
     "duration": 0.027598,
     "end_time": "2022-11-27T07:50:02.455306",
     "exception": false,
     "start_time": "2022-11-27T07:50:02.427708",
     "status": "completed"
    },
    "tags": []
   },
   "source": [
    "# 5. SOLVING EQUATIONS AND INVERTING MATRICES\n"
   ]
  },
  {
   "cell_type": "markdown",
   "id": "fbd7fc44",
   "metadata": {
    "papermill": {
     "duration": 0.027585,
     "end_time": "2022-11-27T07:50:02.510174",
     "exception": false,
     "start_time": "2022-11-27T07:50:02.482589",
     "status": "completed"
    },
    "tags": []
   },
   "source": [
    "# linalg.solve\n",
    "Solve a linear matrix equation, or system of linear scalar equations.\n",
    "1. Syntax:- linalg.solve(a, b)"
   ]
  },
  {
   "cell_type": "code",
   "execution_count": 52,
   "id": "a6e02a9d",
   "metadata": {
    "execution": {
     "iopub.execute_input": "2022-11-27T07:50:02.566935Z",
     "iopub.status.busy": "2022-11-27T07:50:02.566259Z",
     "iopub.status.idle": "2022-11-27T07:50:02.573934Z",
     "shell.execute_reply": "2022-11-27T07:50:02.572917Z"
    },
    "papermill": {
     "duration": 0.03856,
     "end_time": "2022-11-27T07:50:02.575960",
     "exception": false,
     "start_time": "2022-11-27T07:50:02.537400",
     "status": "completed"
    },
    "tags": []
   },
   "outputs": [],
   "source": [
    "a = np.array([[1, 2], [3, 5]])\n",
    "b = np.array([1, 2])\n",
    "x = np.linalg.solve(a, b)"
   ]
  },
  {
   "cell_type": "code",
   "execution_count": 53,
   "id": "0a5c8e6b",
   "metadata": {
    "execution": {
     "iopub.execute_input": "2022-11-27T07:50:02.631268Z",
     "iopub.status.busy": "2022-11-27T07:50:02.630906Z",
     "iopub.status.idle": "2022-11-27T07:50:02.638055Z",
     "shell.execute_reply": "2022-11-27T07:50:02.636746Z"
    },
    "papermill": {
     "duration": 0.037277,
     "end_time": "2022-11-27T07:50:02.640133",
     "exception": false,
     "start_time": "2022-11-27T07:50:02.602856",
     "status": "completed"
    },
    "tags": []
   },
   "outputs": [
    {
     "data": {
      "text/plain": [
       "array([-1.,  1.])"
      ]
     },
     "execution_count": 53,
     "metadata": {},
     "output_type": "execute_result"
    }
   ],
   "source": [
    "x"
   ]
  },
  {
   "cell_type": "markdown",
   "id": "47d75f5a",
   "metadata": {
    "papermill": {
     "duration": 0.026343,
     "end_time": "2022-11-27T07:50:02.694221",
     "exception": false,
     "start_time": "2022-11-27T07:50:02.667878",
     "status": "completed"
    },
    "tags": []
   },
   "source": [
    "# linalg.lstsq\n",
    "Return the least-squares solution to a linear matrix equation.\n",
    "1. Syntax:- linalg.lstsq(a, b)"
   ]
  },
  {
   "cell_type": "code",
   "execution_count": 54,
   "id": "ac7de2f3",
   "metadata": {
    "execution": {
     "iopub.execute_input": "2022-11-27T07:50:02.750604Z",
     "iopub.status.busy": "2022-11-27T07:50:02.750214Z",
     "iopub.status.idle": "2022-11-27T07:50:02.756065Z",
     "shell.execute_reply": "2022-11-27T07:50:02.755187Z"
    },
    "papermill": {
     "duration": 0.037284,
     "end_time": "2022-11-27T07:50:02.758391",
     "exception": false,
     "start_time": "2022-11-27T07:50:02.721107",
     "status": "completed"
    },
    "tags": []
   },
   "outputs": [
    {
     "name": "stderr",
     "output_type": "stream",
     "text": [
      "/opt/conda/lib/python3.7/site-packages/ipykernel_launcher.py:3: FutureWarning: `rcond` parameter will change to the default of machine precision times ``max(M, N)`` where M and N are the input matrix dimensions.\n",
      "To use the future default and silence this warning we advise to pass `rcond=None`, to keep using the old, explicitly pass `rcond=-1`.\n",
      "  This is separate from the ipykernel package so we can avoid doing imports until\n"
     ]
    }
   ],
   "source": [
    "a = np.array([[1, 2], [3, 5]])\n",
    "b = np.array([1, 2])\n",
    "x = np.linalg.lstsq(a, b)"
   ]
  },
  {
   "cell_type": "code",
   "execution_count": 55,
   "id": "dd43432a",
   "metadata": {
    "execution": {
     "iopub.execute_input": "2022-11-27T07:50:02.814218Z",
     "iopub.status.busy": "2022-11-27T07:50:02.813839Z",
     "iopub.status.idle": "2022-11-27T07:50:02.820765Z",
     "shell.execute_reply": "2022-11-27T07:50:02.819847Z"
    },
    "papermill": {
     "duration": 0.037395,
     "end_time": "2022-11-27T07:50:02.822939",
     "exception": false,
     "start_time": "2022-11-27T07:50:02.785544",
     "status": "completed"
    },
    "tags": []
   },
   "outputs": [
    {
     "data": {
      "text/plain": [
       "(array([-1.,  1.]),\n",
       " array([], dtype=float64),\n",
       " 2,\n",
       " array([6.24294338, 0.16018085]))"
      ]
     },
     "execution_count": 55,
     "metadata": {},
     "output_type": "execute_result"
    }
   ],
   "source": [
    "x"
   ]
  },
  {
   "cell_type": "markdown",
   "id": "6e46d294",
   "metadata": {
    "papermill": {
     "duration": 0.027076,
     "end_time": "2022-11-27T07:50:02.877804",
     "exception": false,
     "start_time": "2022-11-27T07:50:02.850728",
     "status": "completed"
    },
    "tags": []
   },
   "source": [
    "# linalg.inv\n",
    "Compute the (multiplicative) inverse of a matrix\n",
    "1. Syntax:- linalg.inv(a)\n"
   ]
  },
  {
   "cell_type": "code",
   "execution_count": 56,
   "id": "21b935c1",
   "metadata": {
    "execution": {
     "iopub.execute_input": "2022-11-27T07:50:02.933837Z",
     "iopub.status.busy": "2022-11-27T07:50:02.933334Z",
     "iopub.status.idle": "2022-11-27T07:50:02.939309Z",
     "shell.execute_reply": "2022-11-27T07:50:02.938104Z"
    },
    "papermill": {
     "duration": 0.036654,
     "end_time": "2022-11-27T07:50:02.941455",
     "exception": false,
     "start_time": "2022-11-27T07:50:02.904801",
     "status": "completed"
    },
    "tags": []
   },
   "outputs": [],
   "source": [
    "a = np.array([[1, 2], [3, 5]])\n",
    "x = np.linalg.inv(a)"
   ]
  },
  {
   "cell_type": "code",
   "execution_count": 57,
   "id": "023f13fe",
   "metadata": {
    "execution": {
     "iopub.execute_input": "2022-11-27T07:50:02.999958Z",
     "iopub.status.busy": "2022-11-27T07:50:02.999429Z",
     "iopub.status.idle": "2022-11-27T07:50:03.006991Z",
     "shell.execute_reply": "2022-11-27T07:50:03.005883Z"
    },
    "papermill": {
     "duration": 0.039529,
     "end_time": "2022-11-27T07:50:03.009156",
     "exception": false,
     "start_time": "2022-11-27T07:50:02.969627",
     "status": "completed"
    },
    "tags": []
   },
   "outputs": [
    {
     "data": {
      "text/plain": [
       "array([[-5.,  2.],\n",
       "       [ 3., -1.]])"
      ]
     },
     "execution_count": 57,
     "metadata": {},
     "output_type": "execute_result"
    }
   ],
   "source": [
    "x"
   ]
  },
  {
   "cell_type": "markdown",
   "id": "025b93dd",
   "metadata": {
    "papermill": {
     "duration": 0.027337,
     "end_time": "2022-11-27T07:50:03.063920",
     "exception": false,
     "start_time": "2022-11-27T07:50:03.036583",
     "status": "completed"
    },
    "tags": []
   },
   "source": [
    "# Statistics Routines"
   ]
  },
  {
   "cell_type": "markdown",
   "id": "834923f3",
   "metadata": {
    "papermill": {
     "duration": 0.027098,
     "end_time": "2022-11-27T07:50:03.118726",
     "exception": false,
     "start_time": "2022-11-27T07:50:03.091628",
     "status": "completed"
    },
    "tags": []
   },
   "source": [
    "# Average and Variances"
   ]
  },
  {
   "cell_type": "markdown",
   "id": "7b9af67f",
   "metadata": {
    "papermill": {
     "duration": 0.027787,
     "end_time": "2022-11-27T07:50:03.173966",
     "exception": false,
     "start_time": "2022-11-27T07:50:03.146179",
     "status": "completed"
    },
    "tags": []
   },
   "source": [
    "# numpy.median\n",
    "Compute the median along the specified axis\n",
    "1. Syntax::-numpy.median(a, axis=None, out=None, overwrite_input=False, keepdims=False)"
   ]
  },
  {
   "cell_type": "code",
   "execution_count": 58,
   "id": "eb5819b6",
   "metadata": {
    "execution": {
     "iopub.execute_input": "2022-11-27T07:50:03.231799Z",
     "iopub.status.busy": "2022-11-27T07:50:03.231323Z",
     "iopub.status.idle": "2022-11-27T07:50:03.238522Z",
     "shell.execute_reply": "2022-11-27T07:50:03.237660Z"
    },
    "papermill": {
     "duration": 0.038356,
     "end_time": "2022-11-27T07:50:03.240496",
     "exception": false,
     "start_time": "2022-11-27T07:50:03.202140",
     "status": "completed"
    },
    "tags": []
   },
   "outputs": [
    {
     "data": {
      "text/plain": [
       "2.5"
      ]
     },
     "execution_count": 58,
     "metadata": {},
     "output_type": "execute_result"
    }
   ],
   "source": [
    "a = np.array([[1, 2], [3, 5]])\n",
    "np.median(a)"
   ]
  },
  {
   "cell_type": "code",
   "execution_count": 59,
   "id": "4f46d850",
   "metadata": {
    "execution": {
     "iopub.execute_input": "2022-11-27T07:50:03.297978Z",
     "iopub.status.busy": "2022-11-27T07:50:03.297214Z",
     "iopub.status.idle": "2022-11-27T07:50:03.304348Z",
     "shell.execute_reply": "2022-11-27T07:50:03.303329Z"
    },
    "papermill": {
     "duration": 0.038384,
     "end_time": "2022-11-27T07:50:03.306625",
     "exception": false,
     "start_time": "2022-11-27T07:50:03.268241",
     "status": "completed"
    },
    "tags": []
   },
   "outputs": [
    {
     "data": {
      "text/plain": [
       "array([2. , 3.5])"
      ]
     },
     "execution_count": 59,
     "metadata": {},
     "output_type": "execute_result"
    }
   ],
   "source": [
    "a = np.array([[1, 2], [3, 5]])\n",
    "np.median(a,axis=0)"
   ]
  },
  {
   "cell_type": "markdown",
   "id": "5a797ccc",
   "metadata": {
    "papermill": {
     "duration": 0.027591,
     "end_time": "2022-11-27T07:50:03.362835",
     "exception": false,
     "start_time": "2022-11-27T07:50:03.335244",
     "status": "completed"
    },
    "tags": []
   },
   "source": [
    "# numpy.average\n",
    "Compute the weighted average along the specified axis\n",
    "Syntax:- numpy.average(a, axis=None, weights=None, returned=False)"
   ]
  },
  {
   "cell_type": "code",
   "execution_count": 60,
   "id": "d6fe97a4",
   "metadata": {
    "execution": {
     "iopub.execute_input": "2022-11-27T07:50:03.420769Z",
     "iopub.status.busy": "2022-11-27T07:50:03.420341Z",
     "iopub.status.idle": "2022-11-27T07:50:03.428067Z",
     "shell.execute_reply": "2022-11-27T07:50:03.427030Z"
    },
    "papermill": {
     "duration": 0.039914,
     "end_time": "2022-11-27T07:50:03.430340",
     "exception": false,
     "start_time": "2022-11-27T07:50:03.390426",
     "status": "completed"
    },
    "tags": []
   },
   "outputs": [
    {
     "data": {
      "text/plain": [
       "4.0"
      ]
     },
     "execution_count": 60,
     "metadata": {},
     "output_type": "execute_result"
    }
   ],
   "source": [
    "np.average(np.arange(1, 11), weights=np.arange(10, 0, -1))"
   ]
  },
  {
   "cell_type": "markdown",
   "id": "2a26ab2f",
   "metadata": {
    "papermill": {
     "duration": 0.027852,
     "end_time": "2022-11-27T07:50:03.486031",
     "exception": false,
     "start_time": "2022-11-27T07:50:03.458179",
     "status": "completed"
    },
    "tags": []
   },
   "source": [
    "# numpy.mean\n",
    "Compute the arithmetic mean along the specified axis\n",
    "1. Syntax:- numpy.mean(a, axis=None, dtype=None, out=None)"
   ]
  },
  {
   "cell_type": "code",
   "execution_count": 61,
   "id": "e2a2dcf3",
   "metadata": {
    "execution": {
     "iopub.execute_input": "2022-11-27T07:50:03.545517Z",
     "iopub.status.busy": "2022-11-27T07:50:03.544846Z",
     "iopub.status.idle": "2022-11-27T07:50:03.552301Z",
     "shell.execute_reply": "2022-11-27T07:50:03.551241Z"
    },
    "papermill": {
     "duration": 0.03996,
     "end_time": "2022-11-27T07:50:03.554554",
     "exception": false,
     "start_time": "2022-11-27T07:50:03.514594",
     "status": "completed"
    },
    "tags": []
   },
   "outputs": [
    {
     "data": {
      "text/plain": [
       "2.5"
      ]
     },
     "execution_count": 61,
     "metadata": {},
     "output_type": "execute_result"
    }
   ],
   "source": [
    "a = np.array([[1, 2], [3, 4]])\n",
    "np.mean(a)"
   ]
  },
  {
   "cell_type": "markdown",
   "id": "ede36f88",
   "metadata": {
    "papermill": {
     "duration": 0.028926,
     "end_time": "2022-11-27T07:50:03.612552",
     "exception": false,
     "start_time": "2022-11-27T07:50:03.583626",
     "status": "completed"
    },
    "tags": []
   },
   "source": [
    "# numpy.std\n",
    "Compute the standard deviation along the specified axis\n",
    "1. Syntax:- numpy.std(a, axis=None, dtype=None, out=None, ddof=0, keepdims=False)"
   ]
  },
  {
   "cell_type": "code",
   "execution_count": 62,
   "id": "c5a98815",
   "metadata": {
    "execution": {
     "iopub.execute_input": "2022-11-27T07:50:03.672786Z",
     "iopub.status.busy": "2022-11-27T07:50:03.672338Z",
     "iopub.status.idle": "2022-11-27T07:50:03.678928Z",
     "shell.execute_reply": "2022-11-27T07:50:03.678116Z"
    },
    "papermill": {
     "duration": 0.03924,
     "end_time": "2022-11-27T07:50:03.680980",
     "exception": false,
     "start_time": "2022-11-27T07:50:03.641740",
     "status": "completed"
    },
    "tags": []
   },
   "outputs": [
    {
     "data": {
      "text/plain": [
       "1.479019945774904"
      ]
     },
     "execution_count": 62,
     "metadata": {},
     "output_type": "execute_result"
    }
   ],
   "source": [
    "a = np.array([[1, 2], [3, 5]])\n",
    "np.std(a)"
   ]
  },
  {
   "cell_type": "markdown",
   "id": "4cf4a3a7",
   "metadata": {
    "papermill": {
     "duration": 0.028035,
     "end_time": "2022-11-27T07:50:03.737848",
     "exception": false,
     "start_time": "2022-11-27T07:50:03.709813",
     "status": "completed"
    },
    "tags": []
   },
   "source": [
    "# numpy.var\n",
    "Compute the variance along the specified axis\n",
    "1. Syntax:- numpy.std(a, axis=None, dtype=None, out=None, ddof=0, keepdims=False)"
   ]
  },
  {
   "cell_type": "code",
   "execution_count": 63,
   "id": "ebc31dba",
   "metadata": {
    "execution": {
     "iopub.execute_input": "2022-11-27T07:50:03.796782Z",
     "iopub.status.busy": "2022-11-27T07:50:03.796034Z",
     "iopub.status.idle": "2022-11-27T07:50:03.803380Z",
     "shell.execute_reply": "2022-11-27T07:50:03.802257Z"
    },
    "papermill": {
     "duration": 0.039436,
     "end_time": "2022-11-27T07:50:03.805792",
     "exception": false,
     "start_time": "2022-11-27T07:50:03.766356",
     "status": "completed"
    },
    "tags": []
   },
   "outputs": [
    {
     "data": {
      "text/plain": [
       "2.1875"
      ]
     },
     "execution_count": 63,
     "metadata": {},
     "output_type": "execute_result"
    }
   ],
   "source": [
    "a = np.array([[1, 2], [3, 5]])\n",
    "np.var(a)"
   ]
  },
  {
   "cell_type": "markdown",
   "id": "71d3f9cb",
   "metadata": {
    "papermill": {
     "duration": 0.02797,
     "end_time": "2022-11-27T07:50:03.864952",
     "exception": false,
     "start_time": "2022-11-27T07:50:03.836982",
     "status": "completed"
    },
    "tags": []
   },
   "source": [
    "# numpy.corrcoef\n",
    "Return Pearson product-moment correlation coefficients.\n",
    "1. Syntax:- numpy.corrcoef(x, y=None, rowvar=True, dtype=None)"
   ]
  },
  {
   "cell_type": "code",
   "execution_count": 64,
   "id": "badb6d8c",
   "metadata": {
    "execution": {
     "iopub.execute_input": "2022-11-27T07:50:03.923278Z",
     "iopub.status.busy": "2022-11-27T07:50:03.922881Z",
     "iopub.status.idle": "2022-11-27T07:50:03.932274Z",
     "shell.execute_reply": "2022-11-27T07:50:03.931082Z"
    },
    "papermill": {
     "duration": 0.041618,
     "end_time": "2022-11-27T07:50:03.934743",
     "exception": false,
     "start_time": "2022-11-27T07:50:03.893125",
     "status": "completed"
    },
    "tags": []
   },
   "outputs": [
    {
     "data": {
      "text/plain": [
       "array([[1., 1., 1.],\n",
       "       [1., 1., 1.],\n",
       "       [1., 1., 1.]])"
      ]
     },
     "execution_count": 64,
     "metadata": {},
     "output_type": "execute_result"
    }
   ],
   "source": [
    "a = np.array([[1, 2], [3, 5]])\n",
    "a = np.array([[1, 2], [3, 4]])\n",
    "\n",
    "np.corrcoef(a,b)"
   ]
  },
  {
   "cell_type": "markdown",
   "id": "29a33191",
   "metadata": {
    "papermill": {
     "duration": 0.028875,
     "end_time": "2022-11-27T07:50:03.993241",
     "exception": false,
     "start_time": "2022-11-27T07:50:03.964366",
     "status": "completed"
    },
    "tags": []
   },
   "source": [
    "# numpy.cov\n",
    "Estimate a covariance matrix, given data and weights.\n",
    "1. Syntax:- numpy.cov(m, y=None, rowvar=True, bias=False, ddof=None)\n"
   ]
  },
  {
   "cell_type": "code",
   "execution_count": 65,
   "id": "6ca124cc",
   "metadata": {
    "execution": {
     "iopub.execute_input": "2022-11-27T07:50:04.117708Z",
     "iopub.status.busy": "2022-11-27T07:50:04.116493Z",
     "iopub.status.idle": "2022-11-27T07:50:04.123849Z",
     "shell.execute_reply": "2022-11-27T07:50:04.122956Z"
    },
    "papermill": {
     "duration": 0.040587,
     "end_time": "2022-11-27T07:50:04.125934",
     "exception": false,
     "start_time": "2022-11-27T07:50:04.085347",
     "status": "completed"
    },
    "tags": []
   },
   "outputs": [
    {
     "data": {
      "text/plain": [
       "array([[0.5, 1. ],\n",
       "       [1. , 2. ]])"
      ]
     },
     "execution_count": 65,
     "metadata": {},
     "output_type": "execute_result"
    }
   ],
   "source": [
    "a = np.array([[1, 2], [3, 5]])\n",
    "np.cov(a)"
   ]
  },
  {
   "cell_type": "markdown",
   "id": "0b57aaf8",
   "metadata": {
    "papermill": {
     "duration": 0.028706,
     "end_time": "2022-11-27T07:50:04.184937",
     "exception": false,
     "start_time": "2022-11-27T07:50:04.156231",
     "status": "completed"
    },
    "tags": []
   },
   "source": [
    "# numpy.percentile\n",
    "Compute the q-th percentile of the data along the specified axis\n",
    "1. Syntax:- numpy.percentile(a, q, axis=None, out=None, overwrite_input=False, interpolation='linear', keepdims=False)"
   ]
  },
  {
   "cell_type": "code",
   "execution_count": 66,
   "id": "c3f79dcf",
   "metadata": {
    "execution": {
     "iopub.execute_input": "2022-11-27T07:50:04.245101Z",
     "iopub.status.busy": "2022-11-27T07:50:04.243885Z",
     "iopub.status.idle": "2022-11-27T07:50:04.251810Z",
     "shell.execute_reply": "2022-11-27T07:50:04.250886Z"
    },
    "papermill": {
     "duration": 0.040016,
     "end_time": "2022-11-27T07:50:04.253865",
     "exception": false,
     "start_time": "2022-11-27T07:50:04.213849",
     "status": "completed"
    },
    "tags": []
   },
   "outputs": [
    {
     "data": {
      "text/plain": [
       "3.5"
      ]
     },
     "execution_count": 66,
     "metadata": {},
     "output_type": "execute_result"
    }
   ],
   "source": [
    "a = np.array([[10, 7, 4], [3, 2, 1]])\n",
    "np.percentile(a, 50)"
   ]
  },
  {
   "cell_type": "markdown",
   "id": "5a1bae26",
   "metadata": {
    "papermill": {
     "duration": 0.028695,
     "end_time": "2022-11-27T07:50:04.311891",
     "exception": false,
     "start_time": "2022-11-27T07:50:04.283196",
     "status": "completed"
    },
    "tags": []
   },
   "source": [
    "# numpy.quantile\n",
    "Compute the q-th quantile of the data along the specified axis\n",
    "1. Syntax:- numpy.quantile(a, q, axis=None, out=None, overwrite_input=False, interpolation='linear', keepdims=False)"
   ]
  },
  {
   "cell_type": "code",
   "execution_count": 67,
   "id": "c8e82e5a",
   "metadata": {
    "execution": {
     "iopub.execute_input": "2022-11-27T07:50:04.373513Z",
     "iopub.status.busy": "2022-11-27T07:50:04.372192Z",
     "iopub.status.idle": "2022-11-27T07:50:04.380420Z",
     "shell.execute_reply": "2022-11-27T07:50:04.379279Z"
    },
    "papermill": {
     "duration": 0.041346,
     "end_time": "2022-11-27T07:50:04.382997",
     "exception": false,
     "start_time": "2022-11-27T07:50:04.341651",
     "status": "completed"
    },
    "tags": []
   },
   "outputs": [
    {
     "data": {
      "text/plain": [
       "1.025"
      ]
     },
     "execution_count": 67,
     "metadata": {},
     "output_type": "execute_result"
    }
   ],
   "source": [
    "a = np.array([[10, 7, 4], [3, 2, 1]])\n",
    "np.percentile(a, 0.5)"
   ]
  }
 ],
 "metadata": {
  "kernelspec": {
   "display_name": "Python 3",
   "language": "python",
   "name": "python3"
  },
  "language_info": {
   "codemirror_mode": {
    "name": "ipython",
    "version": 3
   },
   "file_extension": ".py",
   "mimetype": "text/x-python",
   "name": "python",
   "nbconvert_exporter": "python",
   "pygments_lexer": "ipython3",
   "version": "3.7.12"
  },
  "papermill": {
   "default_parameters": {},
   "duration": 16.548058,
   "end_time": "2022-11-27T07:50:05.033109",
   "environment_variables": {},
   "exception": null,
   "input_path": "__notebook__.ipynb",
   "output_path": "__notebook__.ipynb",
   "parameters": {},
   "start_time": "2022-11-27T07:49:48.485051",
   "version": "2.3.4"
  }
 },
 "nbformat": 4,
 "nbformat_minor": 5
}
