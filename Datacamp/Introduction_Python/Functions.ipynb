{
 "cells": [
  {
   "cell_type": "code",
   "execution_count": null,
   "metadata": {},
   "outputs": [],
   "source": [
    "# defining a function"
   ]
  },
  {
   "cell_type": "code",
   "execution_count": null,
   "metadata": {},
   "outputs": [],
   "source": [
    "# arguments\n",
    "def greet(name, msg):\n",
    "    \"\"\"This function greets to\n",
    "    the person with the provided message\"\"\"\n",
    "    print(\"Hello\", name + ', ' + msg)\n",
    "\n",
    "greet(\"Monica\", \"Good morning!\")\n",
    "\n",
    "\n",
    "def greet(name, msg=\"Good morning!\"):\n",
    "    \"\"\"\n",
    "    This function greets to\n",
    "    the person with the\n",
    "    provided message.\n",
    "\n",
    "    If the message is not provided,\n",
    "    it defaults to \"Good\n",
    "    morning!\"\n",
    "    \"\"\"\n",
    "\n",
    "    print(\"Hello\", name + ', ' + msg)\n",
    "\n",
    "\n",
    "greet(\"Kate\")\n",
    "greet(\"Bruce\", \"How do you do?\")\n",
    "\n",
    "# The following function calls are great!But we must keep in mind that keyword arguments must \n",
    "# follow positional arguments.\n",
    "\n",
    "# 2 keyword arguments\n",
    "greet(name = \"Bruce\",msg = \"How do you do?\")\n",
    "\n",
    "# 2 keyword arguments (out of order)\n",
    "greet(msg = \"How do you do?\",name = \"Bruce\") \n",
    "\n",
    "1 positional, 1 keyword argument\n",
    "greet(\"Bruce\", msg = \"How do you do?\")  \n",
    "\n",
    "# Sometimes, we do not know in advance the number of arguments that will be passed into a function.\n",
    "def greet(*names):\n",
    "    \"\"\"This function greets all\n",
    "    the person in the names tuple.\"\"\"\n",
    "\n",
    "    # names is a tuple with arguments\n",
    "    for name in names:\n",
    "        print(\"Hello\", name)\n",
    "\n",
    "\n",
    "greet(\"Monica\", \"Luke\", \"Steve\", \"John\")"
   ]
  },
  {
   "cell_type": "code",
   "execution_count": null,
   "metadata": {},
   "outputs": [],
   "source": [
    "# Recursive Function\n",
    "def factorial(x):\n",
    "    \"\"\"This is a recursive function\n",
    "    to find the factorial of an integer\"\"\"\n",
    "\n",
    "    if x == 1:\n",
    "        return 1\n",
    "    else:\n",
    "        return (x * factorial(x-1))\n",
    "\n",
    "\n",
    "num = 3\n",
    "print(\"The factorial of\", num, \"is\", factorial(num))"
   ]
  },
  {
   "cell_type": "code",
   "execution_count": 2,
   "metadata": {},
   "outputs": [
    {
     "name": "stdout",
     "output_type": "stream",
     "text": [
      "<filter object at 0x00000213A1D309A0>\n",
      "('a', 'e', 'i', 'o')\n"
     ]
    }
   ],
   "source": [
    "# Filter function\n",
    "letters = ['a', 'b', 'd', 'e', 'i', 'j', 'o']\n",
    "\n",
    "# A function that returns True if letter is vowel\n",
    "def filter_vowels(letter):\n",
    "    vowels = ['a', 'e', 'i', 'o', 'u']\n",
    "    return True if letter in vowels else False\n",
    "\n",
    "filtered_vowels = filter(filter_vowels, letters)\n",
    "print(filtered_vowels)\n",
    "# converting to tuple\n",
    "vowels = tuple(filtered_vowels)\n",
    "print(vowels)\n",
    "\n",
    "# ------------------------------\n",
    "\n",
    "# Using lambda Functions\n",
    "numbers = [1, 2, 3, 4, 5, 6, 7]\n",
    "\n",
    "# the lambda function returns True for even numbers \n",
    "even_numbers_iterator = filter(lambda x: (x%2 == 0), numbers)\n",
    "\n",
    "# converting to list\n",
    "even_numbers = list(even_numbers_iterator)\n",
    "\n",
    "print(even_numbers)\n",
    "\n",
    "\n",
    "\n",
    "# map()\n",
    "def calculateSquare(n):\n",
    "    return n*n\n",
    "\n",
    "\n",
    "numbers = (1, 2, 3, 4)\n",
    "result = map(calculateSquare, numbers)\n",
    "print(result)\n",
    "\n",
    "# converting map object to set\n",
    "numbersSquare = set(result)\n",
    "print(numbersSquare)\n",
    "\n",
    "\n",
    "\n",
    "# map() with lambda, it is an alternative to for loop\n",
    "\n",
    "numbers = (1, 2, 3, 4)\n",
    "result = map(lambda x: x*x, numbers)\n",
    "print(result)\n",
    "\n",
    "# converting map object to set\n",
    "numbersSquare = set(result)\n",
    "print(numbersSquare)\n",
    "\n",
    "\n",
    "num1 = [4, 5, 6]\n",
    "num2 = [5, 6, 7]\n",
    "\n",
    "result = map(lambda n1, n2: n1+n2, num1, num2)\n",
    "print(list(result))"
   ]
  },
  {
   "cell_type": "code",
   "execution_count": 4,
   "metadata": {},
   "outputs": [
    {
     "name": "stdout",
     "output_type": "stream",
     "text": [
      "globalglobal\n"
     ]
    }
   ],
   "source": [
    "# Python Global, Local and Nonlocal variables\n",
    "# ---------------------------------------------\n",
    "\n",
    "#  if you want to change the value of x inside a function\n",
    "x = \"global\"\n",
    "\n",
    "def foo():\n",
    "    global x\n",
    "#      if you dont initialize this global x then the function will treat it as local\n",
    "    x = x * 2\n",
    "    print(x)\n",
    "\n",
    "foo()\n",
    "\n",
    "\n",
    "# Nonlocal variables are used in nested functions whose local scope is not defined. \n",
    "# This means that the variable can be neither in the local nor the global scope.\n",
    "\n",
    "\n",
    "\n",
    "#  If we change the value of a nonlocal variable, the changes appear in the local variable."
   ]
  },
  {
   "cell_type": "code",
   "execution_count": null,
   "metadata": {},
   "outputs": [],
   "source": []
  }
 ],
 "metadata": {
  "kernelspec": {
   "display_name": "Python 3",
   "language": "python",
   "name": "python3"
  },
  "language_info": {
   "codemirror_mode": {
    "name": "ipython",
    "version": 3
   },
   "file_extension": ".py",
   "mimetype": "text/x-python",
   "name": "python",
   "nbconvert_exporter": "python",
   "pygments_lexer": "ipython3",
   "version": "3.8.3"
  }
 },
 "nbformat": 4,
 "nbformat_minor": 4
}
