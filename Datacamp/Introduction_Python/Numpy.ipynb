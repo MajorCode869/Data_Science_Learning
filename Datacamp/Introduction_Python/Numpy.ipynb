{
 "cells": [
  {
   "cell_type": "code",
   "execution_count": null,
   "metadata": {},
   "outputs": [],
   "source": []
  },
  {
   "cell_type": "code",
   "execution_count": 22,
   "metadata": {},
   "outputs": [
    {
     "name": "stdout",
     "output_type": "stream",
     "text": [
      "[[1 2 3]\n",
      " [4 5 6]]\n",
      "int32\n",
      "2\n",
      "[0. 0. 0.]\n",
      "[0.   0.25 0.5  0.75 1.   1.25 1.5  1.75 2.  ]\n",
      "[0 3 6 9]\n"
     ]
    },
    {
     "data": {
      "text/plain": [
       "array([[0., 0.],\n",
       "       [0., 0.],\n",
       "       [0., 0.]])"
      ]
     },
     "execution_count": 22,
     "metadata": {},
     "output_type": "execute_result"
    }
   ],
   "source": [
    "# Creating Arrays\n",
    "\n",
    "import numpy as np\n",
    "vector_row=np.array([1,2,3])\n",
    "vector_column=np.array([[1],[2],[3]])\n",
    "matrix=np.array([[1,2,3],[4,5,6]])\n",
    "print(matrix)\n",
    "print(matrix.dtype.name)\n",
    "print(len(matrix))\n",
    "zer_3=np.zeros(3)\n",
    "print(zer_3)\n",
    "zer_2_3=np.zeros((2,3))\n",
    "# similarly we have np.ones()\n",
    "\n",
    "# Create a 2X2 identity matrix\n",
    "f = np.eye(2)\n",
    "# Create an array of evenly\n",
    "# spaced values\n",
    "l=np.linspace(0,2,9)\n",
    "print(l)\n",
    "arang=np.arange(0,10,3)\n",
    "print(arang)\n",
    "\n",
    "\n",
    "np.random.random((2,2)) #Create an array with random values\n",
    "np.empty((3,2))#Create an empty array"
   ]
  },
  {
   "cell_type": "code",
   "execution_count": null,
   "metadata": {},
   "outputs": [],
   "source": [
    "# Inspecting Your Array\n",
    "\n",
    " a.shape       #Array dimensions\n",
    "    \n",
    " len(a)        #Length of array\n",
    "\n",
    " b.ndim        #Number of array dimensions\n",
    "    \n",
    " e.size        #Number of array elements\n",
    "\n",
    " b.dtype       #Data type of array elements\n",
    "\n",
    " b.astype(int) #Convert an array to a different type"
   ]
  },
  {
   "cell_type": "code",
   "execution_count": null,
   "metadata": {},
   "outputs": [],
   "source": [
    "# OPerations\n",
    "a+b\n",
    "a-b\n",
    "a/b\n",
    "a*b\n",
    "# we have methods too for the same\n",
    "\n",
    "np.exp(b) #Exponentiation\n",
    ">>> np.sqrt(b)# Square root\n",
    ">>> np.sin(a) #Print sines of an array\n",
    ">>> np.cos(b) #Element-wise cosine\n",
    ">>> np.log(a) #Element-wise natural logarithm\n",
    ">>> e.dot(f) #Dot product\n",
    "\n",
    "\n",
    "\n",
    "a.sum() Array-wise sum\n",
    ">>> a.min() Array-wise minimum value\n",
    ">>> b.max(axis=0) Maximum value of an array row\n",
    ">>> b.cumsum(axis=1) Cumulative sum of the elements\n",
    ">>> a.mean() Mean\n",
    ">>> b.median() Median\n",
    ">>> a.corrcoef() Correlation coefficient\n",
    ">>> np.std(b) Standard deviation\n",
    "\n",
    "\n",
    "np.copy(a) #Create a copy of the array\n",
    "a.sort() #Sort an array"
   ]
  },
  {
   "cell_type": "code",
   "execution_count": 36,
   "metadata": {},
   "outputs": [
    {
     "name": "stdout",
     "output_type": "stream",
     "text": [
      "32\n",
      "<class 'int'>\n",
      "5\n",
      "<class 'numpy.int32'>\n",
      "[[1 2 3]\n",
      " [4 5 6]]\n",
      "<class 'numpy.ndarray'>\n",
      "[[1 2]\n",
      " [4 5]]\n",
      "<class 'numpy.ndarray'>\n"
     ]
    }
   ],
   "source": [
    "# Subsetting,Slicing and indexing\n",
    "num=32\n",
    "print(num)\n",
    "print(type(num))\n",
    "matrix=np.array([[1,2,3],[4,5,6]])\n",
    "h= matrix[1,1]\n",
    "print(h)\n",
    "print(type(h))\n",
    "i=matrix[0:2]#jmutliple rows\n",
    "print(i)\n",
    "print(type(i))\n",
    "print(matrix[:,0:2])\n",
    "print(type(matrix[:,0:2]))\n",
    "\n",
    "\n",
    "# Boolean Indexing\n",
    "a[a<2] #Select elements from a less than 2"
   ]
  },
  {
   "cell_type": "code",
   "execution_count": 37,
   "metadata": {},
   "outputs": [
    {
     "ename": "NameError",
     "evalue": "name 'g' is not defined",
     "output_type": "error",
     "traceback": [
      "\u001b[1;31m---------------------------------------------------------------------------\u001b[0m",
      "\u001b[1;31mNameError\u001b[0m                                 Traceback (most recent call last)",
      "\u001b[1;32m<ipython-input-37-de8efff303e3>\u001b[0m in \u001b[0;36m<module>\u001b[1;34m\u001b[0m\n\u001b[0;32m      2\u001b[0m \u001b[1;33m\u001b[0m\u001b[0m\n\u001b[0;32m      3\u001b[0m \u001b[1;31m# Changing Shape\u001b[0m\u001b[1;33m\u001b[0m\u001b[1;33m\u001b[0m\u001b[1;33m\u001b[0m\u001b[0m\n\u001b[1;32m----> 4\u001b[1;33m \u001b[0mg\u001b[0m\u001b[1;33m.\u001b[0m\u001b[0mreshape\u001b[0m\u001b[1;33m(\u001b[0m\u001b[1;36m3\u001b[0m\u001b[1;33m,\u001b[0m\u001b[1;33m-\u001b[0m\u001b[1;36m2\u001b[0m\u001b[1;33m)\u001b[0m \u001b[1;31m#Reshape, but don’t change data\u001b[0m\u001b[1;33m\u001b[0m\u001b[1;33m\u001b[0m\u001b[0m\n\u001b[0m\u001b[0;32m      5\u001b[0m \u001b[0mh\u001b[0m\u001b[1;33m.\u001b[0m\u001b[0mresize\u001b[0m\u001b[1;33m(\u001b[0m\u001b[1;33m(\u001b[0m\u001b[1;36m2\u001b[0m\u001b[1;33m,\u001b[0m\u001b[1;36m6\u001b[0m\u001b[1;33m)\u001b[0m\u001b[1;33m)\u001b[0m \u001b[1;31m#Return a new array with shape (2,6)\u001b[0m\u001b[1;33m\u001b[0m\u001b[1;33m\u001b[0m\u001b[0m\n\u001b[0;32m      6\u001b[0m \u001b[0marr1_2d\u001b[0m\u001b[1;33m.\u001b[0m\u001b[0mflatten\u001b[0m\u001b[1;33m(\u001b[0m\u001b[1;33m)\u001b[0m\u001b[1;33m\u001b[0m\u001b[1;33m\u001b[0m\u001b[0m\n",
      "\u001b[1;31mNameError\u001b[0m: name 'g' is not defined"
     ]
    }
   ],
   "source": [
    "# Array manipulation\n",
    "\n",
    "# Changing Shape\n",
    "g.reshape(3,-2) #Reshape, but don’t change data\n",
    "h.resize((2,6)) #Return a new array with shape (2,6)\n",
    "arr1_2d.flatten()\n",
    "# Adding data\n",
    "np.append([1, 2, 3], [4, 5, 6,7, 8, 9])\n",
    ">>>array([1, 2, 3, ..., 7, 8, 9])\n",
    "np.insert(a, 1, 5)# Insert 5 in  array at 1th index\n",
    "\n",
    "\n",
    "\n",
    "n=arrange(0,12)\n"
   ]
  },
  {
   "cell_type": "code",
   "execution_count": 60,
   "metadata": {},
   "outputs": [
    {
     "name": "stdout",
     "output_type": "stream",
     "text": [
      "[ 0  1  2  3  4  5  6  7  8  9 10 11]\n",
      "[[ 0  1  2  3]\n",
      " [ 4  5  6  7]\n",
      " [ 8  9 10 11]]\n"
     ]
    },
    {
     "data": {
      "text/plain": [
       "array([[  0,   1,   2,   3],\n",
       "       [100, 200, 300, 400],\n",
       "       [  4,   5,   6,   7],\n",
       "       [100, 200, 300, 400],\n",
       "       [  8,   9,  10,  11]])"
      ]
     },
     "execution_count": 60,
     "metadata": {},
     "output_type": "execute_result"
    }
   ],
   "source": [
    "# 2-d Numpy array\n",
    "n=np.arange(0,12)\n",
    "print(n)\n",
    "new=n.reshape(3,4)\n",
    "print(new)\n",
    "# np.append(new,[12,13,14]) #Not giving axis will flatten out the array\n",
    "# np.append(new,[[12,13,14,15]],axis=0)#this will add another row\n",
    "# np.append(new,[[12],[13],[14]],axis=1)#This will add another column\n",
    "\n",
    "# np.insert(new,posn,value,axis)\n",
    "\n",
    "np.insert(new,[1,2],100)#not specifying axis will result in flattening\n",
    "np.insert(new,(1,2),[100,200,300,400],axis=0)# 1 AND 2 row are updated with the list\n",
    "\n",
    "# DELETION\n",
    "np.delete(array,value) #Delete items from an array\n",
    "np.delete(new,2)\n",
    "\n",
    "# STACKING\n",
    "np.vstack((a,b)) #Stack arrays vertically (row-wise)\n",
    "np.hstack((e,f))  #Stack arrays horizontally (column-wise)\n",
    "# SPLIT\n",
    "np.hsplit(a,3) #Split the array horizontally at the 3rd\n",
    "np.vsplit(c,2) #Split the array vertically at the 2nd index\n",
    "np.vsplit(new,3)\n",
    "\n",
    "\n",
    "# GENERAL OBSVN THAT COMBINING ,SPLITTING ,ARITHMETIC OPNS,STATS  INVOLVES NP.()"
   ]
  },
  {
   "cell_type": "code",
   "execution_count": 68,
   "metadata": {},
   "outputs": [
    {
     "data": {
      "text/plain": [
       "[array([[0, 1, 2, 3]]), array([[4, 5, 6, 7]]), array([[ 8,  9, 10, 11]])]"
      ]
     },
     "execution_count": 68,
     "metadata": {},
     "output_type": "execute_result"
    }
   ],
   "source": [
    "# SOME OTHER IMPORTANT POINTS\n",
    "bmi > 21 and bmi < 22\n",
    "# bmi is a numpy array\n",
    ">>>This will generate an error\n",
    ">>>You can't compare two boolean arrays\n",
    "\n",
    "np.logical_and(bmi > 21, bmi < 22)\n",
    "\n",
    "# np.logical_or() and np.logical_not()\n",
    "\n",
    "# ITERATION\n",
    "# USINGN ndarray.flatten( )\n",
    "np_height = np.array([1.73, 1.68, 1.71, 1.89, 1.79])\n",
    "np_weight = np.array([65.4, 59.2, 63.6, 88.4, 68.7]) \n",
    "meas = np.array([np_height, np_weight])\n",
    "for val in np.nditer(meas) : \n",
    "    print(val)"
   ]
  },
  {
   "cell_type": "code",
   "execution_count": 66,
   "metadata": {},
   "outputs": [
    {
     "data": {
      "text/plain": [
       "array([ 0,  1,  3,  4,  5,  6,  7,  8,  9, 10, 11])"
      ]
     },
     "execution_count": 66,
     "metadata": {},
     "output_type": "execute_result"
    }
   ],
   "source": []
  },
  {
   "cell_type": "code",
   "execution_count": null,
   "metadata": {},
   "outputs": [],
   "source": []
  }
 ],
 "metadata": {
  "kernelspec": {
   "display_name": "Python 3",
   "language": "python",
   "name": "python3"
  },
  "language_info": {
   "codemirror_mode": {
    "name": "ipython",
    "version": 3
   },
   "file_extension": ".py",
   "mimetype": "text/x-python",
   "name": "python",
   "nbconvert_exporter": "python",
   "pygments_lexer": "ipython3",
   "version": "3.8.3"
  }
 },
 "nbformat": 4,
 "nbformat_minor": 4
}
