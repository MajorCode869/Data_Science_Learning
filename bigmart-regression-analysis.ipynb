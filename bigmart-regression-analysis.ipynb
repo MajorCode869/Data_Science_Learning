{
 "cells": [
  {
   "cell_type": "code",
   "execution_count": 1,
   "id": "04ea1cbf",
   "metadata": {
    "_cell_guid": "b1076dfc-b9ad-4769-8c92-a6c4dae69d19",
    "_uuid": "8f2839f25d086af736a60e9eeb907d3b93b6e0e5",
    "execution": {
     "iopub.execute_input": "2022-08-25T09:19:30.206486Z",
     "iopub.status.busy": "2022-08-25T09:19:30.205315Z",
     "iopub.status.idle": "2022-08-25T09:19:30.228958Z",
     "shell.execute_reply": "2022-08-25T09:19:30.227964Z"
    },
    "papermill": {
     "duration": 0.051574,
     "end_time": "2022-08-25T09:19:30.233121",
     "exception": false,
     "start_time": "2022-08-25T09:19:30.181547",
     "status": "completed"
    },
    "tags": []
   },
   "outputs": [
    {
     "name": "stdout",
     "output_type": "stream",
     "text": [
      "/kaggle/input/bigmart-sales-data/Train.csv\n",
      "/kaggle/input/bigmart-sales-data/Test.csv\n"
     ]
    }
   ],
   "source": [
    "# This Python 3 environment comes with many helpful analytics libraries installed\n",
    "# It is defined by the kaggle/python Docker image: https://github.com/kaggle/docker-python\n",
    "# For example, here's several helpful packages to load\n",
    "\n",
    "import numpy as np # linear algebra\n",
    "import pandas as pd # data processing, CSV file I/O (e.g. pd.read_csv)\n",
    "\n",
    "# Input data files are available in the read-only \"../input/\" directory\n",
    "# For example, running this (by clicking run or pressing Shift+Enter) will list all files under the input directory\n",
    "\n",
    "import os\n",
    "for dirname, _, filenames in os.walk('/kaggle/input'):\n",
    "    for filename in filenames:\n",
    "        print(os.path.join(dirname, filename))\n",
    "\n",
    "# You can write up to 20GB to the current directory (/kaggle/working/) that gets preserved as output when you create a version using \"Save & Run All\" \n",
    "# You can also write temporary files to /kaggle/temp/, but they won't be saved outside of the current session"
   ]
  },
  {
   "cell_type": "code",
   "execution_count": 2,
   "id": "248f46e2",
   "metadata": {
    "execution": {
     "iopub.execute_input": "2022-08-25T09:19:30.274261Z",
     "iopub.status.busy": "2022-08-25T09:19:30.273556Z",
     "iopub.status.idle": "2022-08-25T09:19:31.442277Z",
     "shell.execute_reply": "2022-08-25T09:19:31.441155Z"
    },
    "papermill": {
     "duration": 1.191779,
     "end_time": "2022-08-25T09:19:31.444875",
     "exception": false,
     "start_time": "2022-08-25T09:19:30.253096",
     "status": "completed"
    },
    "tags": []
   },
   "outputs": [],
   "source": [
    "\n",
    "\n",
    "import numpy as np\n",
    "import pandas as pd\n",
    "import matplotlib.pyplot as plt\n",
    "import seaborn as sns\n",
    "%matplotlib inline\n",
    "pd.set_option('display.max_columns', None)\n",
    "sns.set(style='whitegrid')"
   ]
  },
  {
   "cell_type": "code",
   "execution_count": 3,
   "id": "c7ef0c00",
   "metadata": {
    "execution": {
     "iopub.execute_input": "2022-08-25T09:19:31.485833Z",
     "iopub.status.busy": "2022-08-25T09:19:31.485186Z",
     "iopub.status.idle": "2022-08-25T09:19:31.558865Z",
     "shell.execute_reply": "2022-08-25T09:19:31.557674Z"
    },
    "papermill": {
     "duration": 0.097149,
     "end_time": "2022-08-25T09:19:31.561579",
     "exception": false,
     "start_time": "2022-08-25T09:19:31.464430",
     "status": "completed"
    },
    "tags": []
   },
   "outputs": [],
   "source": [
    "df_train=pd.read_csv('../input/bigmart-sales-data/Train.csv')\n",
    "df_test=pd.read_csv('../input/bigmart-sales-data/Test.csv')"
   ]
  },
  {
   "cell_type": "code",
   "execution_count": 4,
   "id": "2355959e",
   "metadata": {
    "execution": {
     "iopub.execute_input": "2022-08-25T09:19:31.602345Z",
     "iopub.status.busy": "2022-08-25T09:19:31.601666Z",
     "iopub.status.idle": "2022-08-25T09:19:31.609638Z",
     "shell.execute_reply": "2022-08-25T09:19:31.608820Z"
    },
    "papermill": {
     "duration": 0.030881,
     "end_time": "2022-08-25T09:19:31.611900",
     "exception": false,
     "start_time": "2022-08-25T09:19:31.581019",
     "status": "completed"
    },
    "tags": []
   },
   "outputs": [
    {
     "data": {
      "text/plain": [
       "(8523, 12)"
      ]
     },
     "execution_count": 4,
     "metadata": {},
     "output_type": "execute_result"
    }
   ],
   "source": [
    "df_train.shape"
   ]
  },
  {
   "cell_type": "code",
   "execution_count": 5,
   "id": "2b0f9e5b",
   "metadata": {
    "execution": {
     "iopub.execute_input": "2022-08-25T09:19:31.653621Z",
     "iopub.status.busy": "2022-08-25T09:19:31.653007Z",
     "iopub.status.idle": "2022-08-25T09:19:31.661576Z",
     "shell.execute_reply": "2022-08-25T09:19:31.659809Z"
    },
    "papermill": {
     "duration": 0.033275,
     "end_time": "2022-08-25T09:19:31.664759",
     "exception": false,
     "start_time": "2022-08-25T09:19:31.631484",
     "status": "completed"
    },
    "tags": []
   },
   "outputs": [
    {
     "data": {
      "text/plain": [
       "(5681, 11)"
      ]
     },
     "execution_count": 5,
     "metadata": {},
     "output_type": "execute_result"
    }
   ],
   "source": [
    "df_test.shape"
   ]
  },
  {
   "cell_type": "code",
   "execution_count": 6,
   "id": "d4033ca3",
   "metadata": {
    "execution": {
     "iopub.execute_input": "2022-08-25T09:19:31.718856Z",
     "iopub.status.busy": "2022-08-25T09:19:31.717753Z",
     "iopub.status.idle": "2022-08-25T09:19:31.739586Z",
     "shell.execute_reply": "2022-08-25T09:19:31.738396Z"
    },
    "papermill": {
     "duration": 0.053744,
     "end_time": "2022-08-25T09:19:31.742992",
     "exception": false,
     "start_time": "2022-08-25T09:19:31.689248",
     "status": "completed"
    },
    "tags": []
   },
   "outputs": [],
   "source": [
    "df=pd.concat([df_train,df_test])\n",
    "# df.drop([''])"
   ]
  },
  {
   "cell_type": "code",
   "execution_count": 7,
   "id": "9aaa21f3",
   "metadata": {
    "execution": {
     "iopub.execute_input": "2022-08-25T09:19:31.792538Z",
     "iopub.status.busy": "2022-08-25T09:19:31.791502Z",
     "iopub.status.idle": "2022-08-25T09:19:31.821965Z",
     "shell.execute_reply": "2022-08-25T09:19:31.820737Z"
    },
    "papermill": {
     "duration": 0.054089,
     "end_time": "2022-08-25T09:19:31.824345",
     "exception": false,
     "start_time": "2022-08-25T09:19:31.770256",
     "status": "completed"
    },
    "tags": []
   },
   "outputs": [
    {
     "data": {
      "text/html": [
       "<div>\n",
       "<style scoped>\n",
       "    .dataframe tbody tr th:only-of-type {\n",
       "        vertical-align: middle;\n",
       "    }\n",
       "\n",
       "    .dataframe tbody tr th {\n",
       "        vertical-align: top;\n",
       "    }\n",
       "\n",
       "    .dataframe thead th {\n",
       "        text-align: right;\n",
       "    }\n",
       "</style>\n",
       "<table border=\"1\" class=\"dataframe\">\n",
       "  <thead>\n",
       "    <tr style=\"text-align: right;\">\n",
       "      <th></th>\n",
       "      <th>Item_Identifier</th>\n",
       "      <th>Item_Weight</th>\n",
       "      <th>Item_Fat_Content</th>\n",
       "      <th>Item_Visibility</th>\n",
       "      <th>Item_Type</th>\n",
       "      <th>Item_MRP</th>\n",
       "      <th>Outlet_Identifier</th>\n",
       "      <th>Outlet_Establishment_Year</th>\n",
       "      <th>Outlet_Size</th>\n",
       "      <th>Outlet_Location_Type</th>\n",
       "      <th>Outlet_Type</th>\n",
       "      <th>Item_Outlet_Sales</th>\n",
       "    </tr>\n",
       "  </thead>\n",
       "  <tbody>\n",
       "    <tr>\n",
       "      <th>0</th>\n",
       "      <td>FDA15</td>\n",
       "      <td>9.30</td>\n",
       "      <td>Low Fat</td>\n",
       "      <td>0.016047</td>\n",
       "      <td>Dairy</td>\n",
       "      <td>249.8092</td>\n",
       "      <td>OUT049</td>\n",
       "      <td>1999</td>\n",
       "      <td>Medium</td>\n",
       "      <td>Tier 1</td>\n",
       "      <td>Supermarket Type1</td>\n",
       "      <td>3735.1380</td>\n",
       "    </tr>\n",
       "    <tr>\n",
       "      <th>1</th>\n",
       "      <td>DRC01</td>\n",
       "      <td>5.92</td>\n",
       "      <td>Regular</td>\n",
       "      <td>0.019278</td>\n",
       "      <td>Soft Drinks</td>\n",
       "      <td>48.2692</td>\n",
       "      <td>OUT018</td>\n",
       "      <td>2009</td>\n",
       "      <td>Medium</td>\n",
       "      <td>Tier 3</td>\n",
       "      <td>Supermarket Type2</td>\n",
       "      <td>443.4228</td>\n",
       "    </tr>\n",
       "    <tr>\n",
       "      <th>2</th>\n",
       "      <td>FDN15</td>\n",
       "      <td>17.50</td>\n",
       "      <td>Low Fat</td>\n",
       "      <td>0.016760</td>\n",
       "      <td>Meat</td>\n",
       "      <td>141.6180</td>\n",
       "      <td>OUT049</td>\n",
       "      <td>1999</td>\n",
       "      <td>Medium</td>\n",
       "      <td>Tier 1</td>\n",
       "      <td>Supermarket Type1</td>\n",
       "      <td>2097.2700</td>\n",
       "    </tr>\n",
       "    <tr>\n",
       "      <th>3</th>\n",
       "      <td>FDX07</td>\n",
       "      <td>19.20</td>\n",
       "      <td>Regular</td>\n",
       "      <td>0.000000</td>\n",
       "      <td>Fruits and Vegetables</td>\n",
       "      <td>182.0950</td>\n",
       "      <td>OUT010</td>\n",
       "      <td>1998</td>\n",
       "      <td>NaN</td>\n",
       "      <td>Tier 3</td>\n",
       "      <td>Grocery Store</td>\n",
       "      <td>732.3800</td>\n",
       "    </tr>\n",
       "    <tr>\n",
       "      <th>4</th>\n",
       "      <td>NCD19</td>\n",
       "      <td>8.93</td>\n",
       "      <td>Low Fat</td>\n",
       "      <td>0.000000</td>\n",
       "      <td>Household</td>\n",
       "      <td>53.8614</td>\n",
       "      <td>OUT013</td>\n",
       "      <td>1987</td>\n",
       "      <td>High</td>\n",
       "      <td>Tier 3</td>\n",
       "      <td>Supermarket Type1</td>\n",
       "      <td>994.7052</td>\n",
       "    </tr>\n",
       "    <tr>\n",
       "      <th>...</th>\n",
       "      <td>...</td>\n",
       "      <td>...</td>\n",
       "      <td>...</td>\n",
       "      <td>...</td>\n",
       "      <td>...</td>\n",
       "      <td>...</td>\n",
       "      <td>...</td>\n",
       "      <td>...</td>\n",
       "      <td>...</td>\n",
       "      <td>...</td>\n",
       "      <td>...</td>\n",
       "      <td>...</td>\n",
       "    </tr>\n",
       "    <tr>\n",
       "      <th>5676</th>\n",
       "      <td>FDB58</td>\n",
       "      <td>10.50</td>\n",
       "      <td>Regular</td>\n",
       "      <td>0.013496</td>\n",
       "      <td>Snack Foods</td>\n",
       "      <td>141.3154</td>\n",
       "      <td>OUT046</td>\n",
       "      <td>1997</td>\n",
       "      <td>Small</td>\n",
       "      <td>Tier 1</td>\n",
       "      <td>Supermarket Type1</td>\n",
       "      <td>NaN</td>\n",
       "    </tr>\n",
       "    <tr>\n",
       "      <th>5677</th>\n",
       "      <td>FDD47</td>\n",
       "      <td>7.60</td>\n",
       "      <td>Regular</td>\n",
       "      <td>0.142991</td>\n",
       "      <td>Starchy Foods</td>\n",
       "      <td>169.1448</td>\n",
       "      <td>OUT018</td>\n",
       "      <td>2009</td>\n",
       "      <td>Medium</td>\n",
       "      <td>Tier 3</td>\n",
       "      <td>Supermarket Type2</td>\n",
       "      <td>NaN</td>\n",
       "    </tr>\n",
       "    <tr>\n",
       "      <th>5678</th>\n",
       "      <td>NCO17</td>\n",
       "      <td>10.00</td>\n",
       "      <td>Low Fat</td>\n",
       "      <td>0.073529</td>\n",
       "      <td>Health and Hygiene</td>\n",
       "      <td>118.7440</td>\n",
       "      <td>OUT045</td>\n",
       "      <td>2002</td>\n",
       "      <td>NaN</td>\n",
       "      <td>Tier 2</td>\n",
       "      <td>Supermarket Type1</td>\n",
       "      <td>NaN</td>\n",
       "    </tr>\n",
       "    <tr>\n",
       "      <th>5679</th>\n",
       "      <td>FDJ26</td>\n",
       "      <td>15.30</td>\n",
       "      <td>Regular</td>\n",
       "      <td>0.000000</td>\n",
       "      <td>Canned</td>\n",
       "      <td>214.6218</td>\n",
       "      <td>OUT017</td>\n",
       "      <td>2007</td>\n",
       "      <td>NaN</td>\n",
       "      <td>Tier 2</td>\n",
       "      <td>Supermarket Type1</td>\n",
       "      <td>NaN</td>\n",
       "    </tr>\n",
       "    <tr>\n",
       "      <th>5680</th>\n",
       "      <td>FDU37</td>\n",
       "      <td>9.50</td>\n",
       "      <td>Regular</td>\n",
       "      <td>0.104720</td>\n",
       "      <td>Canned</td>\n",
       "      <td>79.7960</td>\n",
       "      <td>OUT045</td>\n",
       "      <td>2002</td>\n",
       "      <td>NaN</td>\n",
       "      <td>Tier 2</td>\n",
       "      <td>Supermarket Type1</td>\n",
       "      <td>NaN</td>\n",
       "    </tr>\n",
       "  </tbody>\n",
       "</table>\n",
       "<p>14204 rows × 12 columns</p>\n",
       "</div>"
      ],
      "text/plain": [
       "     Item_Identifier  Item_Weight Item_Fat_Content  Item_Visibility  \\\n",
       "0              FDA15         9.30          Low Fat         0.016047   \n",
       "1              DRC01         5.92          Regular         0.019278   \n",
       "2              FDN15        17.50          Low Fat         0.016760   \n",
       "3              FDX07        19.20          Regular         0.000000   \n",
       "4              NCD19         8.93          Low Fat         0.000000   \n",
       "...              ...          ...              ...              ...   \n",
       "5676           FDB58        10.50          Regular         0.013496   \n",
       "5677           FDD47         7.60          Regular         0.142991   \n",
       "5678           NCO17        10.00          Low Fat         0.073529   \n",
       "5679           FDJ26        15.30          Regular         0.000000   \n",
       "5680           FDU37         9.50          Regular         0.104720   \n",
       "\n",
       "                  Item_Type  Item_MRP Outlet_Identifier  \\\n",
       "0                     Dairy  249.8092            OUT049   \n",
       "1               Soft Drinks   48.2692            OUT018   \n",
       "2                      Meat  141.6180            OUT049   \n",
       "3     Fruits and Vegetables  182.0950            OUT010   \n",
       "4                 Household   53.8614            OUT013   \n",
       "...                     ...       ...               ...   \n",
       "5676            Snack Foods  141.3154            OUT046   \n",
       "5677          Starchy Foods  169.1448            OUT018   \n",
       "5678     Health and Hygiene  118.7440            OUT045   \n",
       "5679                 Canned  214.6218            OUT017   \n",
       "5680                 Canned   79.7960            OUT045   \n",
       "\n",
       "      Outlet_Establishment_Year Outlet_Size Outlet_Location_Type  \\\n",
       "0                          1999      Medium               Tier 1   \n",
       "1                          2009      Medium               Tier 3   \n",
       "2                          1999      Medium               Tier 1   \n",
       "3                          1998         NaN               Tier 3   \n",
       "4                          1987        High               Tier 3   \n",
       "...                         ...         ...                  ...   \n",
       "5676                       1997       Small               Tier 1   \n",
       "5677                       2009      Medium               Tier 3   \n",
       "5678                       2002         NaN               Tier 2   \n",
       "5679                       2007         NaN               Tier 2   \n",
       "5680                       2002         NaN               Tier 2   \n",
       "\n",
       "            Outlet_Type  Item_Outlet_Sales  \n",
       "0     Supermarket Type1          3735.1380  \n",
       "1     Supermarket Type2           443.4228  \n",
       "2     Supermarket Type1          2097.2700  \n",
       "3         Grocery Store           732.3800  \n",
       "4     Supermarket Type1           994.7052  \n",
       "...                 ...                ...  \n",
       "5676  Supermarket Type1                NaN  \n",
       "5677  Supermarket Type2                NaN  \n",
       "5678  Supermarket Type1                NaN  \n",
       "5679  Supermarket Type1                NaN  \n",
       "5680  Supermarket Type1                NaN  \n",
       "\n",
       "[14204 rows x 12 columns]"
      ]
     },
     "execution_count": 7,
     "metadata": {},
     "output_type": "execute_result"
    }
   ],
   "source": [
    "df"
   ]
  },
  {
   "cell_type": "code",
   "execution_count": 8,
   "id": "121d6871",
   "metadata": {
    "execution": {
     "iopub.execute_input": "2022-08-25T09:19:31.867000Z",
     "iopub.status.busy": "2022-08-25T09:19:31.865863Z",
     "iopub.status.idle": "2022-08-25T09:19:31.872096Z",
     "shell.execute_reply": "2022-08-25T09:19:31.871302Z"
    },
    "papermill": {
     "duration": 0.029534,
     "end_time": "2022-08-25T09:19:31.874159",
     "exception": false,
     "start_time": "2022-08-25T09:19:31.844625",
     "status": "completed"
    },
    "tags": []
   },
   "outputs": [
    {
     "data": {
      "text/plain": [
       "(14204, 12)"
      ]
     },
     "execution_count": 8,
     "metadata": {},
     "output_type": "execute_result"
    }
   ],
   "source": [
    "df.shape"
   ]
  },
  {
   "cell_type": "code",
   "execution_count": 9,
   "id": "e7f6457f",
   "metadata": {
    "execution": {
     "iopub.execute_input": "2022-08-25T09:19:31.917820Z",
     "iopub.status.busy": "2022-08-25T09:19:31.917100Z",
     "iopub.status.idle": "2022-08-25T09:19:31.923004Z",
     "shell.execute_reply": "2022-08-25T09:19:31.922252Z"
    },
    "papermill": {
     "duration": 0.030712,
     "end_time": "2022-08-25T09:19:31.925094",
     "exception": false,
     "start_time": "2022-08-25T09:19:31.894382",
     "status": "completed"
    },
    "tags": []
   },
   "outputs": [
    {
     "data": {
      "text/plain": [
       "Index(['Item_Identifier', 'Item_Weight', 'Item_Fat_Content', 'Item_Visibility',\n",
       "       'Item_Type', 'Item_MRP', 'Outlet_Identifier',\n",
       "       'Outlet_Establishment_Year', 'Outlet_Size', 'Outlet_Location_Type',\n",
       "       'Outlet_Type', 'Item_Outlet_Sales'],\n",
       "      dtype='object')"
      ]
     },
     "execution_count": 9,
     "metadata": {},
     "output_type": "execute_result"
    }
   ],
   "source": [
    "df.columns"
   ]
  },
  {
   "cell_type": "code",
   "execution_count": 10,
   "id": "c9bbbab1",
   "metadata": {
    "execution": {
     "iopub.execute_input": "2022-08-25T09:19:31.968424Z",
     "iopub.status.busy": "2022-08-25T09:19:31.967722Z",
     "iopub.status.idle": "2022-08-25T09:19:31.978572Z",
     "shell.execute_reply": "2022-08-25T09:19:31.977707Z"
    },
    "papermill": {
     "duration": 0.034966,
     "end_time": "2022-08-25T09:19:31.980968",
     "exception": false,
     "start_time": "2022-08-25T09:19:31.946002",
     "status": "completed"
    },
    "tags": []
   },
   "outputs": [],
   "source": [
    "df.drop(['Item_Outlet_Sales'],axis=1,inplace=True)"
   ]
  },
  {
   "cell_type": "code",
   "execution_count": 11,
   "id": "6bb64b2a",
   "metadata": {
    "execution": {
     "iopub.execute_input": "2022-08-25T09:19:32.024439Z",
     "iopub.status.busy": "2022-08-25T09:19:32.023771Z",
     "iopub.status.idle": "2022-08-25T09:19:32.029542Z",
     "shell.execute_reply": "2022-08-25T09:19:32.028812Z"
    },
    "papermill": {
     "duration": 0.030058,
     "end_time": "2022-08-25T09:19:32.032062",
     "exception": false,
     "start_time": "2022-08-25T09:19:32.002004",
     "status": "completed"
    },
    "tags": []
   },
   "outputs": [
    {
     "data": {
      "text/plain": [
       "Index(['Item_Identifier', 'Item_Weight', 'Item_Fat_Content', 'Item_Visibility',\n",
       "       'Item_Type', 'Item_MRP', 'Outlet_Identifier',\n",
       "       'Outlet_Establishment_Year', 'Outlet_Size', 'Outlet_Location_Type',\n",
       "       'Outlet_Type'],\n",
       "      dtype='object')"
      ]
     },
     "execution_count": 11,
     "metadata": {},
     "output_type": "execute_result"
    }
   ],
   "source": [
    "df.columns\n"
   ]
  },
  {
   "cell_type": "code",
   "execution_count": 12,
   "id": "70804f4e",
   "metadata": {
    "execution": {
     "iopub.execute_input": "2022-08-25T09:19:32.075511Z",
     "iopub.status.busy": "2022-08-25T09:19:32.074836Z",
     "iopub.status.idle": "2022-08-25T09:19:32.101356Z",
     "shell.execute_reply": "2022-08-25T09:19:32.099960Z"
    },
    "papermill": {
     "duration": 0.050693,
     "end_time": "2022-08-25T09:19:32.103743",
     "exception": false,
     "start_time": "2022-08-25T09:19:32.053050",
     "status": "completed"
    },
    "tags": []
   },
   "outputs": [
    {
     "name": "stdout",
     "output_type": "stream",
     "text": [
      "<class 'pandas.core.frame.DataFrame'>\n",
      "Int64Index: 14204 entries, 0 to 5680\n",
      "Data columns (total 11 columns):\n",
      " #   Column                     Non-Null Count  Dtype  \n",
      "---  ------                     --------------  -----  \n",
      " 0   Item_Identifier            14204 non-null  object \n",
      " 1   Item_Weight                11765 non-null  float64\n",
      " 2   Item_Fat_Content           14204 non-null  object \n",
      " 3   Item_Visibility            14204 non-null  float64\n",
      " 4   Item_Type                  14204 non-null  object \n",
      " 5   Item_MRP                   14204 non-null  float64\n",
      " 6   Outlet_Identifier          14204 non-null  object \n",
      " 7   Outlet_Establishment_Year  14204 non-null  int64  \n",
      " 8   Outlet_Size                10188 non-null  object \n",
      " 9   Outlet_Location_Type       14204 non-null  object \n",
      " 10  Outlet_Type                14204 non-null  object \n",
      "dtypes: float64(3), int64(1), object(7)\n",
      "memory usage: 1.3+ MB\n"
     ]
    }
   ],
   "source": [
    "df.info()"
   ]
  },
  {
   "cell_type": "markdown",
   "id": "934b08c7",
   "metadata": {
    "papermill": {
     "duration": 0.020409,
     "end_time": "2022-08-25T09:19:32.145103",
     "exception": false,
     "start_time": "2022-08-25T09:19:32.124694",
     "status": "completed"
    },
    "tags": []
   },
   "source": [
    "Step 1: Basic EDA"
   ]
  },
  {
   "cell_type": "code",
   "execution_count": 13,
   "id": "6fa064a5",
   "metadata": {
    "execution": {
     "iopub.execute_input": "2022-08-25T09:19:32.188883Z",
     "iopub.status.busy": "2022-08-25T09:19:32.188111Z",
     "iopub.status.idle": "2022-08-25T09:19:32.192003Z",
     "shell.execute_reply": "2022-08-25T09:19:32.191206Z"
    },
    "papermill": {
     "duration": 0.028611,
     "end_time": "2022-08-25T09:19:32.194211",
     "exception": false,
     "start_time": "2022-08-25T09:19:32.165600",
     "status": "completed"
    },
    "tags": []
   },
   "outputs": [],
   "source": [
    "# Data cleaning\n",
    "# 1.Imputation\n",
    "# 2.Noisy Data(Outlier Analysis,Regression,Binning)\n"
   ]
  },
  {
   "cell_type": "code",
   "execution_count": 14,
   "id": "22bb3612",
   "metadata": {
    "execution": {
     "iopub.execute_input": "2022-08-25T09:19:32.237881Z",
     "iopub.status.busy": "2022-08-25T09:19:32.237233Z",
     "iopub.status.idle": "2022-08-25T09:19:32.242436Z",
     "shell.execute_reply": "2022-08-25T09:19:32.241683Z"
    },
    "papermill": {
     "duration": 0.029614,
     "end_time": "2022-08-25T09:19:32.244621",
     "exception": false,
     "start_time": "2022-08-25T09:19:32.215007",
     "status": "completed"
    },
    "tags": []
   },
   "outputs": [],
   "source": [
    "\n",
    "\n",
    "features_cat=[]\n",
    "features_num=[]\n",
    "for feature in df.columns:\n",
    "    if df[feature].dtype=='object':\n",
    "        features_cat.append(feature)\n",
    "    else:\n",
    "        features_num.append(feature)\n",
    "\n"
   ]
  },
  {
   "cell_type": "code",
   "execution_count": 15,
   "id": "1e25a289",
   "metadata": {
    "execution": {
     "iopub.execute_input": "2022-08-25T09:19:32.287736Z",
     "iopub.status.busy": "2022-08-25T09:19:32.287130Z",
     "iopub.status.idle": "2022-08-25T09:19:32.292344Z",
     "shell.execute_reply": "2022-08-25T09:19:32.291102Z"
    },
    "papermill": {
     "duration": 0.029289,
     "end_time": "2022-08-25T09:19:32.294532",
     "exception": false,
     "start_time": "2022-08-25T09:19:32.265243",
     "status": "completed"
    },
    "tags": []
   },
   "outputs": [
    {
     "name": "stdout",
     "output_type": "stream",
     "text": [
      "['Item_Identifier', 'Item_Fat_Content', 'Item_Type', 'Outlet_Identifier', 'Outlet_Size', 'Outlet_Location_Type', 'Outlet_Type']\n"
     ]
    }
   ],
   "source": [
    "print(features_cat)"
   ]
  },
  {
   "cell_type": "code",
   "execution_count": 16,
   "id": "fbde327e",
   "metadata": {
    "execution": {
     "iopub.execute_input": "2022-08-25T09:19:32.338552Z",
     "iopub.status.busy": "2022-08-25T09:19:32.337959Z",
     "iopub.status.idle": "2022-08-25T09:19:32.343166Z",
     "shell.execute_reply": "2022-08-25T09:19:32.341967Z"
    },
    "papermill": {
     "duration": 0.030639,
     "end_time": "2022-08-25T09:19:32.345884",
     "exception": false,
     "start_time": "2022-08-25T09:19:32.315245",
     "status": "completed"
    },
    "tags": []
   },
   "outputs": [
    {
     "name": "stdout",
     "output_type": "stream",
     "text": [
      "['Item_Weight', 'Item_Visibility', 'Item_MRP', 'Outlet_Establishment_Year']\n"
     ]
    }
   ],
   "source": [
    "print(features_num)"
   ]
  },
  {
   "cell_type": "code",
   "execution_count": 17,
   "id": "3be511cf",
   "metadata": {
    "execution": {
     "iopub.execute_input": "2022-08-25T09:19:32.390422Z",
     "iopub.status.busy": "2022-08-25T09:19:32.389727Z",
     "iopub.status.idle": "2022-08-25T09:19:32.403318Z",
     "shell.execute_reply": "2022-08-25T09:19:32.402543Z"
    },
    "papermill": {
     "duration": 0.038692,
     "end_time": "2022-08-25T09:19:32.406083",
     "exception": false,
     "start_time": "2022-08-25T09:19:32.367391",
     "status": "completed"
    },
    "tags": []
   },
   "outputs": [
    {
     "name": "stdout",
     "output_type": "stream",
     "text": [
      "Item_Identifier percentage missing values: 0.0\n",
      "Item_Weight percentage missing values: 17.171219374823995\n",
      "Item_Fat_Content percentage missing values: 0.0\n",
      "Item_Visibility percentage missing values: 0.0\n",
      "Item_Type percentage missing values: 0.0\n",
      "Item_MRP percentage missing values: 0.0\n",
      "Outlet_Identifier percentage missing values: 0.0\n",
      "Outlet_Establishment_Year percentage missing values: 0.0\n",
      "Outlet_Size percentage missing values: 28.273725711067303\n",
      "Outlet_Location_Type percentage missing values: 0.0\n",
      "Outlet_Type percentage missing values: 0.0\n"
     ]
    }
   ],
   "source": [
    "# can we do this using .apply?\n",
    "for feature in df.columns:\n",
    "    print(feature,'percentage missing values:',100*df[feature].isnull().sum()/df.shape[0])"
   ]
  },
  {
   "cell_type": "code",
   "execution_count": 18,
   "id": "85b67bc2",
   "metadata": {
    "execution": {
     "iopub.execute_input": "2022-08-25T09:19:32.450553Z",
     "iopub.status.busy": "2022-08-25T09:19:32.449893Z",
     "iopub.status.idle": "2022-08-25T09:19:32.474792Z",
     "shell.execute_reply": "2022-08-25T09:19:32.473913Z"
    },
    "papermill": {
     "duration": 0.049194,
     "end_time": "2022-08-25T09:19:32.476965",
     "exception": false,
     "start_time": "2022-08-25T09:19:32.427771",
     "status": "completed"
    },
    "tags": []
   },
   "outputs": [
    {
     "data": {
      "text/html": [
       "<div>\n",
       "<style scoped>\n",
       "    .dataframe tbody tr th:only-of-type {\n",
       "        vertical-align: middle;\n",
       "    }\n",
       "\n",
       "    .dataframe tbody tr th {\n",
       "        vertical-align: top;\n",
       "    }\n",
       "\n",
       "    .dataframe thead th {\n",
       "        text-align: right;\n",
       "    }\n",
       "</style>\n",
       "<table border=\"1\" class=\"dataframe\">\n",
       "  <thead>\n",
       "    <tr style=\"text-align: right;\">\n",
       "      <th></th>\n",
       "      <th>Item_Identifier</th>\n",
       "      <th>Item_Weight</th>\n",
       "      <th>Item_Fat_Content</th>\n",
       "      <th>Item_Visibility</th>\n",
       "      <th>Item_Type</th>\n",
       "      <th>Item_MRP</th>\n",
       "      <th>Outlet_Identifier</th>\n",
       "      <th>Outlet_Establishment_Year</th>\n",
       "      <th>Outlet_Size</th>\n",
       "      <th>Outlet_Location_Type</th>\n",
       "      <th>Outlet_Type</th>\n",
       "    </tr>\n",
       "  </thead>\n",
       "  <tbody>\n",
       "    <tr>\n",
       "      <th>3</th>\n",
       "      <td>FDX07</td>\n",
       "      <td>19.200</td>\n",
       "      <td>Regular</td>\n",
       "      <td>0.000000</td>\n",
       "      <td>Fruits and Vegetables</td>\n",
       "      <td>182.0950</td>\n",
       "      <td>OUT010</td>\n",
       "      <td>1998</td>\n",
       "      <td>NaN</td>\n",
       "      <td>Tier 3</td>\n",
       "      <td>Grocery Store</td>\n",
       "    </tr>\n",
       "    <tr>\n",
       "      <th>8</th>\n",
       "      <td>FDH17</td>\n",
       "      <td>16.200</td>\n",
       "      <td>Regular</td>\n",
       "      <td>0.016687</td>\n",
       "      <td>Frozen Foods</td>\n",
       "      <td>96.9726</td>\n",
       "      <td>OUT045</td>\n",
       "      <td>2002</td>\n",
       "      <td>NaN</td>\n",
       "      <td>Tier 2</td>\n",
       "      <td>Supermarket Type1</td>\n",
       "    </tr>\n",
       "    <tr>\n",
       "      <th>9</th>\n",
       "      <td>FDU28</td>\n",
       "      <td>19.200</td>\n",
       "      <td>Regular</td>\n",
       "      <td>0.094450</td>\n",
       "      <td>Frozen Foods</td>\n",
       "      <td>187.8214</td>\n",
       "      <td>OUT017</td>\n",
       "      <td>2007</td>\n",
       "      <td>NaN</td>\n",
       "      <td>Tier 2</td>\n",
       "      <td>Supermarket Type1</td>\n",
       "    </tr>\n",
       "    <tr>\n",
       "      <th>25</th>\n",
       "      <td>NCD06</td>\n",
       "      <td>13.000</td>\n",
       "      <td>Low Fat</td>\n",
       "      <td>0.099887</td>\n",
       "      <td>Household</td>\n",
       "      <td>45.9060</td>\n",
       "      <td>OUT017</td>\n",
       "      <td>2007</td>\n",
       "      <td>NaN</td>\n",
       "      <td>Tier 2</td>\n",
       "      <td>Supermarket Type1</td>\n",
       "    </tr>\n",
       "    <tr>\n",
       "      <th>28</th>\n",
       "      <td>FDE51</td>\n",
       "      <td>5.925</td>\n",
       "      <td>Regular</td>\n",
       "      <td>0.161467</td>\n",
       "      <td>Dairy</td>\n",
       "      <td>45.5086</td>\n",
       "      <td>OUT010</td>\n",
       "      <td>1998</td>\n",
       "      <td>NaN</td>\n",
       "      <td>Tier 3</td>\n",
       "      <td>Grocery Store</td>\n",
       "    </tr>\n",
       "    <tr>\n",
       "      <th>...</th>\n",
       "      <td>...</td>\n",
       "      <td>...</td>\n",
       "      <td>...</td>\n",
       "      <td>...</td>\n",
       "      <td>...</td>\n",
       "      <td>...</td>\n",
       "      <td>...</td>\n",
       "      <td>...</td>\n",
       "      <td>...</td>\n",
       "      <td>...</td>\n",
       "      <td>...</td>\n",
       "    </tr>\n",
       "    <tr>\n",
       "      <th>5668</th>\n",
       "      <td>FDC44</td>\n",
       "      <td>15.600</td>\n",
       "      <td>Low Fat</td>\n",
       "      <td>0.288892</td>\n",
       "      <td>Fruits and Vegetables</td>\n",
       "      <td>115.1518</td>\n",
       "      <td>OUT010</td>\n",
       "      <td>1998</td>\n",
       "      <td>NaN</td>\n",
       "      <td>Tier 3</td>\n",
       "      <td>Grocery Store</td>\n",
       "    </tr>\n",
       "    <tr>\n",
       "      <th>5670</th>\n",
       "      <td>FDO03</td>\n",
       "      <td>10.395</td>\n",
       "      <td>Regular</td>\n",
       "      <td>0.037092</td>\n",
       "      <td>Meat</td>\n",
       "      <td>229.4352</td>\n",
       "      <td>OUT017</td>\n",
       "      <td>2007</td>\n",
       "      <td>NaN</td>\n",
       "      <td>Tier 2</td>\n",
       "      <td>Supermarket Type1</td>\n",
       "    </tr>\n",
       "    <tr>\n",
       "      <th>5678</th>\n",
       "      <td>NCO17</td>\n",
       "      <td>10.000</td>\n",
       "      <td>Low Fat</td>\n",
       "      <td>0.073529</td>\n",
       "      <td>Health and Hygiene</td>\n",
       "      <td>118.7440</td>\n",
       "      <td>OUT045</td>\n",
       "      <td>2002</td>\n",
       "      <td>NaN</td>\n",
       "      <td>Tier 2</td>\n",
       "      <td>Supermarket Type1</td>\n",
       "    </tr>\n",
       "    <tr>\n",
       "      <th>5679</th>\n",
       "      <td>FDJ26</td>\n",
       "      <td>15.300</td>\n",
       "      <td>Regular</td>\n",
       "      <td>0.000000</td>\n",
       "      <td>Canned</td>\n",
       "      <td>214.6218</td>\n",
       "      <td>OUT017</td>\n",
       "      <td>2007</td>\n",
       "      <td>NaN</td>\n",
       "      <td>Tier 2</td>\n",
       "      <td>Supermarket Type1</td>\n",
       "    </tr>\n",
       "    <tr>\n",
       "      <th>5680</th>\n",
       "      <td>FDU37</td>\n",
       "      <td>9.500</td>\n",
       "      <td>Regular</td>\n",
       "      <td>0.104720</td>\n",
       "      <td>Canned</td>\n",
       "      <td>79.7960</td>\n",
       "      <td>OUT045</td>\n",
       "      <td>2002</td>\n",
       "      <td>NaN</td>\n",
       "      <td>Tier 2</td>\n",
       "      <td>Supermarket Type1</td>\n",
       "    </tr>\n",
       "  </tbody>\n",
       "</table>\n",
       "<p>4016 rows × 11 columns</p>\n",
       "</div>"
      ],
      "text/plain": [
       "     Item_Identifier  Item_Weight Item_Fat_Content  Item_Visibility  \\\n",
       "3              FDX07       19.200          Regular         0.000000   \n",
       "8              FDH17       16.200          Regular         0.016687   \n",
       "9              FDU28       19.200          Regular         0.094450   \n",
       "25             NCD06       13.000          Low Fat         0.099887   \n",
       "28             FDE51        5.925          Regular         0.161467   \n",
       "...              ...          ...              ...              ...   \n",
       "5668           FDC44       15.600          Low Fat         0.288892   \n",
       "5670           FDO03       10.395          Regular         0.037092   \n",
       "5678           NCO17       10.000          Low Fat         0.073529   \n",
       "5679           FDJ26       15.300          Regular         0.000000   \n",
       "5680           FDU37        9.500          Regular         0.104720   \n",
       "\n",
       "                  Item_Type  Item_MRP Outlet_Identifier  \\\n",
       "3     Fruits and Vegetables  182.0950            OUT010   \n",
       "8              Frozen Foods   96.9726            OUT045   \n",
       "9              Frozen Foods  187.8214            OUT017   \n",
       "25                Household   45.9060            OUT017   \n",
       "28                    Dairy   45.5086            OUT010   \n",
       "...                     ...       ...               ...   \n",
       "5668  Fruits and Vegetables  115.1518            OUT010   \n",
       "5670                   Meat  229.4352            OUT017   \n",
       "5678     Health and Hygiene  118.7440            OUT045   \n",
       "5679                 Canned  214.6218            OUT017   \n",
       "5680                 Canned   79.7960            OUT045   \n",
       "\n",
       "      Outlet_Establishment_Year Outlet_Size Outlet_Location_Type  \\\n",
       "3                          1998         NaN               Tier 3   \n",
       "8                          2002         NaN               Tier 2   \n",
       "9                          2007         NaN               Tier 2   \n",
       "25                         2007         NaN               Tier 2   \n",
       "28                         1998         NaN               Tier 3   \n",
       "...                         ...         ...                  ...   \n",
       "5668                       1998         NaN               Tier 3   \n",
       "5670                       2007         NaN               Tier 2   \n",
       "5678                       2002         NaN               Tier 2   \n",
       "5679                       2007         NaN               Tier 2   \n",
       "5680                       2002         NaN               Tier 2   \n",
       "\n",
       "            Outlet_Type  \n",
       "3         Grocery Store  \n",
       "8     Supermarket Type1  \n",
       "9     Supermarket Type1  \n",
       "25    Supermarket Type1  \n",
       "28        Grocery Store  \n",
       "...                 ...  \n",
       "5668      Grocery Store  \n",
       "5670  Supermarket Type1  \n",
       "5678  Supermarket Type1  \n",
       "5679  Supermarket Type1  \n",
       "5680  Supermarket Type1  \n",
       "\n",
       "[4016 rows x 11 columns]"
      ]
     },
     "execution_count": 18,
     "metadata": {},
     "output_type": "execute_result"
    }
   ],
   "source": [
    "df[df['Outlet_Size'].isnull()]"
   ]
  },
  {
   "cell_type": "code",
   "execution_count": 19,
   "id": "de5ab20b",
   "metadata": {
    "execution": {
     "iopub.execute_input": "2022-08-25T09:19:32.521824Z",
     "iopub.status.busy": "2022-08-25T09:19:32.521125Z",
     "iopub.status.idle": "2022-08-25T09:19:32.860366Z",
     "shell.execute_reply": "2022-08-25T09:19:32.859142Z"
    },
    "papermill": {
     "duration": 0.364732,
     "end_time": "2022-08-25T09:19:32.863195",
     "exception": false,
     "start_time": "2022-08-25T09:19:32.498463",
     "status": "completed"
    },
    "tags": []
   },
   "outputs": [
    {
     "data": {
      "text/plain": [
       "Text(0.5, 1.0, 'Pearson Correlation Heatmap')"
      ]
     },
     "execution_count": 19,
     "metadata": {},
     "output_type": "execute_result"
    },
    {
     "data": {
      "image/png": "[encoded data removed]",
      "text/plain": [
       "<Figure size 1152x432 with 2 Axes>"
      ]
     },
     "metadata": {},
     "output_type": "display_data"
    }
   ],
   "source": [
    "plt.figure(figsize=(16,6))\n",
    "heatmap=sns.heatmap(df.corr(),vmin=-1,vmax=1,annot=True,cmap='BrBG')\n",
    "heatmap.set_title('Pearson Correlation Heatmap',fontdict={'fontsize':18},pad=12)"
   ]
  },
  {
   "cell_type": "markdown",
   "id": "aa2a6bd4",
   "metadata": {
    "execution": {
     "iopub.execute_input": "2022-08-24T09:46:04.470658Z",
     "iopub.status.busy": "2022-08-24T09:46:04.470154Z",
     "iopub.status.idle": "2022-08-24T09:46:04.478016Z",
     "shell.execute_reply": "2022-08-24T09:46:04.476796Z",
     "shell.execute_reply.started": "2022-08-24T09:46:04.470619Z"
    },
    "papermill": {
     "duration": 0.022183,
     "end_time": "2022-08-25T09:19:32.907500",
     "exception": false,
     "start_time": "2022-08-25T09:19:32.885317",
     "status": "completed"
    },
    "tags": []
   },
   "source": [
    "## It is clear from heatmap that the features are mostly indpendent, therefore we should apply central tendency imputation on complete feature\n",
    "## if there was a relation between features we could use regression imputation\n",
    "https://medium.com/@Cambridge_Spark/tutorial-introduction-to-missing-data-imputation-4912b51c34eb"
   ]
  },
  {
   "cell_type": "code",
   "execution_count": 20,
   "id": "ab5b6851",
   "metadata": {
    "execution": {
     "iopub.execute_input": "2022-08-25T09:19:32.953566Z",
     "iopub.status.busy": "2022-08-25T09:19:32.952532Z",
     "iopub.status.idle": "2022-08-25T09:19:32.966944Z",
     "shell.execute_reply": "2022-08-25T09:19:32.965755Z"
    },
    "papermill": {
     "duration": 0.040204,
     "end_time": "2022-08-25T09:19:32.969628",
     "exception": false,
     "start_time": "2022-08-25T09:19:32.929424",
     "status": "completed"
    },
    "tags": []
   },
   "outputs": [],
   "source": [
    "cat_ordinal=[]\n",
    "cat_nominal=[]\n",
    "for c in features_cat:\n",
    "    if (df[c].nunique()) >10:\n",
    "        cat_nominal.append(c)\n",
    "    else:\n",
    "        cat_ordinal.append(c)\n"
   ]
  },
  {
   "cell_type": "code",
   "execution_count": 21,
   "id": "ad779743",
   "metadata": {
    "execution": {
     "iopub.execute_input": "2022-08-25T09:19:33.014956Z",
     "iopub.status.busy": "2022-08-25T09:19:33.014521Z",
     "iopub.status.idle": "2022-08-25T09:19:33.021626Z",
     "shell.execute_reply": "2022-08-25T09:19:33.020466Z"
    },
    "papermill": {
     "duration": 0.0327,
     "end_time": "2022-08-25T09:19:33.024115",
     "exception": false,
     "start_time": "2022-08-25T09:19:32.991415",
     "status": "completed"
    },
    "tags": []
   },
   "outputs": [
    {
     "data": {
      "text/plain": [
       "['Item_Fat_Content',\n",
       " 'Outlet_Identifier',\n",
       " 'Outlet_Size',\n",
       " 'Outlet_Location_Type',\n",
       " 'Outlet_Type']"
      ]
     },
     "execution_count": 21,
     "metadata": {},
     "output_type": "execute_result"
    }
   ],
   "source": [
    "cat_ordinal"
   ]
  },
  {
   "cell_type": "code",
   "execution_count": 22,
   "id": "96b311c7",
   "metadata": {
    "execution": {
     "iopub.execute_input": "2022-08-25T09:19:33.072005Z",
     "iopub.status.busy": "2022-08-25T09:19:33.070746Z",
     "iopub.status.idle": "2022-08-25T09:19:33.077911Z",
     "shell.execute_reply": "2022-08-25T09:19:33.076980Z"
    },
    "papermill": {
     "duration": 0.032816,
     "end_time": "2022-08-25T09:19:33.080105",
     "exception": false,
     "start_time": "2022-08-25T09:19:33.047289",
     "status": "completed"
    },
    "tags": []
   },
   "outputs": [
    {
     "data": {
      "text/plain": [
       "['Item_Identifier', 'Item_Type']"
      ]
     },
     "execution_count": 22,
     "metadata": {},
     "output_type": "execute_result"
    }
   ],
   "source": [
    "cat_nominal"
   ]
  },
  {
   "cell_type": "code",
   "execution_count": 23,
   "id": "faf9aaf9",
   "metadata": {
    "execution": {
     "iopub.execute_input": "2022-08-25T09:19:33.126813Z",
     "iopub.status.busy": "2022-08-25T09:19:33.125623Z",
     "iopub.status.idle": "2022-08-25T09:19:33.135916Z",
     "shell.execute_reply": "2022-08-25T09:19:33.134912Z"
    },
    "papermill": {
     "duration": 0.036393,
     "end_time": "2022-08-25T09:19:33.138469",
     "exception": false,
     "start_time": "2022-08-25T09:19:33.102076",
     "status": "completed"
    },
    "tags": []
   },
   "outputs": [],
   "source": [
    "\n",
    "num_discrete=[]\n",
    "num_continuous=[]\n",
    "for c in features_num:\n",
    "    if (df[c].nunique()) >10:\n",
    "        num_continuous.append(c)\n",
    "    else:\n",
    "        num_discrete.append(c)\n",
    "\n"
   ]
  },
  {
   "cell_type": "code",
   "execution_count": 24,
   "id": "a7e35b0c",
   "metadata": {
    "execution": {
     "iopub.execute_input": "2022-08-25T09:19:33.184892Z",
     "iopub.status.busy": "2022-08-25T09:19:33.184125Z",
     "iopub.status.idle": "2022-08-25T09:19:33.191143Z",
     "shell.execute_reply": "2022-08-25T09:19:33.189441Z"
    },
    "papermill": {
     "duration": 0.033758,
     "end_time": "2022-08-25T09:19:33.194333",
     "exception": false,
     "start_time": "2022-08-25T09:19:33.160575",
     "status": "completed"
    },
    "tags": []
   },
   "outputs": [
    {
     "name": "stdout",
     "output_type": "stream",
     "text": [
      "['Item_Weight', 'Item_Visibility', 'Item_MRP']\n"
     ]
    }
   ],
   "source": [
    "print(num_continuous)"
   ]
  },
  {
   "cell_type": "code",
   "execution_count": 25,
   "id": "f03e3a4c",
   "metadata": {
    "execution": {
     "iopub.execute_input": "2022-08-25T09:19:33.242157Z",
     "iopub.status.busy": "2022-08-25T09:19:33.240924Z",
     "iopub.status.idle": "2022-08-25T09:19:33.247851Z",
     "shell.execute_reply": "2022-08-25T09:19:33.246391Z"
    },
    "papermill": {
     "duration": 0.034018,
     "end_time": "2022-08-25T09:19:33.250865",
     "exception": false,
     "start_time": "2022-08-25T09:19:33.216847",
     "status": "completed"
    },
    "tags": []
   },
   "outputs": [
    {
     "name": "stdout",
     "output_type": "stream",
     "text": [
      "['Outlet_Establishment_Year']\n"
     ]
    }
   ],
   "source": [
    "print(num_discrete)"
   ]
  },
  {
   "cell_type": "code",
   "execution_count": 26,
   "id": "dec1dc83",
   "metadata": {
    "execution": {
     "iopub.execute_input": "2022-08-25T09:19:33.298242Z",
     "iopub.status.busy": "2022-08-25T09:19:33.297445Z",
     "iopub.status.idle": "2022-08-25T09:19:33.304350Z",
     "shell.execute_reply": "2022-08-25T09:19:33.303571Z"
    },
    "papermill": {
     "duration": 0.033191,
     "end_time": "2022-08-25T09:19:33.306706",
     "exception": false,
     "start_time": "2022-08-25T09:19:33.273515",
     "status": "completed"
    },
    "tags": []
   },
   "outputs": [],
   "source": [
    "for feature in num_continuous:\n",
    "    df[feature].fillna(df[feature].mean(),inplace=True)"
   ]
  },
  {
   "cell_type": "code",
   "execution_count": 27,
   "id": "bb4e896a",
   "metadata": {
    "execution": {
     "iopub.execute_input": "2022-08-25T09:19:33.353414Z",
     "iopub.status.busy": "2022-08-25T09:19:33.352995Z",
     "iopub.status.idle": "2022-08-25T09:19:33.367587Z",
     "shell.execute_reply": "2022-08-25T09:19:33.366500Z"
    },
    "papermill": {
     "duration": 0.040766,
     "end_time": "2022-08-25T09:19:33.369943",
     "exception": false,
     "start_time": "2022-08-25T09:19:33.329177",
     "status": "completed"
    },
    "tags": []
   },
   "outputs": [
    {
     "data": {
      "text/plain": [
       "Item_Identifier                 0\n",
       "Item_Weight                     0\n",
       "Item_Fat_Content                0\n",
       "Item_Visibility                 0\n",
       "Item_Type                       0\n",
       "Item_MRP                        0\n",
       "Outlet_Identifier               0\n",
       "Outlet_Establishment_Year       0\n",
       "Outlet_Size                  4016\n",
       "Outlet_Location_Type            0\n",
       "Outlet_Type                     0\n",
       "dtype: int64"
      ]
     },
     "execution_count": 27,
     "metadata": {},
     "output_type": "execute_result"
    }
   ],
   "source": [
    "df.isnull().sum()"
   ]
  },
  {
   "cell_type": "code",
   "execution_count": 28,
   "id": "2447b748",
   "metadata": {
    "execution": {
     "iopub.execute_input": "2022-08-25T09:19:33.417721Z",
     "iopub.status.busy": "2022-08-25T09:19:33.417234Z",
     "iopub.status.idle": "2022-08-25T09:19:33.425416Z",
     "shell.execute_reply": "2022-08-25T09:19:33.424399Z"
    },
    "papermill": {
     "duration": 0.034328,
     "end_time": "2022-08-25T09:19:33.427461",
     "exception": false,
     "start_time": "2022-08-25T09:19:33.393133",
     "status": "completed"
    },
    "tags": []
   },
   "outputs": [
    {
     "data": {
      "text/plain": [
       "'Medium'"
      ]
     },
     "execution_count": 28,
     "metadata": {},
     "output_type": "execute_result"
    }
   ],
   "source": [
    "df['Outlet_Size'].mode().values[0]"
   ]
  },
  {
   "cell_type": "code",
   "execution_count": 29,
   "id": "301fb0d3",
   "metadata": {
    "execution": {
     "iopub.execute_input": "2022-08-25T09:19:33.474200Z",
     "iopub.status.busy": "2022-08-25T09:19:33.473820Z",
     "iopub.status.idle": "2022-08-25T09:19:33.481082Z",
     "shell.execute_reply": "2022-08-25T09:19:33.480216Z"
    },
    "papermill": {
     "duration": 0.033051,
     "end_time": "2022-08-25T09:19:33.483093",
     "exception": false,
     "start_time": "2022-08-25T09:19:33.450042",
     "status": "completed"
    },
    "tags": []
   },
   "outputs": [],
   "source": [
    "df['Outlet_Size'].fillna(df['Outlet_Size'].mode().values[0],inplace=True)"
   ]
  },
  {
   "cell_type": "code",
   "execution_count": 30,
   "id": "53163f1c",
   "metadata": {
    "execution": {
     "iopub.execute_input": "2022-08-25T09:19:33.529934Z",
     "iopub.status.busy": "2022-08-25T09:19:33.529523Z",
     "iopub.status.idle": "2022-08-25T09:19:33.542703Z",
     "shell.execute_reply": "2022-08-25T09:19:33.541901Z"
    },
    "papermill": {
     "duration": 0.039351,
     "end_time": "2022-08-25T09:19:33.544807",
     "exception": false,
     "start_time": "2022-08-25T09:19:33.505456",
     "status": "completed"
    },
    "tags": []
   },
   "outputs": [
    {
     "data": {
      "text/plain": [
       "Item_Identifier              0\n",
       "Item_Weight                  0\n",
       "Item_Fat_Content             0\n",
       "Item_Visibility              0\n",
       "Item_Type                    0\n",
       "Item_MRP                     0\n",
       "Outlet_Identifier            0\n",
       "Outlet_Establishment_Year    0\n",
       "Outlet_Size                  0\n",
       "Outlet_Location_Type         0\n",
       "Outlet_Type                  0\n",
       "dtype: int64"
      ]
     },
     "execution_count": 30,
     "metadata": {},
     "output_type": "execute_result"
    }
   ],
   "source": [
    "df.isnull().sum()"
   ]
  },
  {
   "cell_type": "code",
   "execution_count": 31,
   "id": "2b263d91",
   "metadata": {
    "execution": {
     "iopub.execute_input": "2022-08-25T09:19:33.592694Z",
     "iopub.status.busy": "2022-08-25T09:19:33.592220Z",
     "iopub.status.idle": "2022-08-25T09:19:33.599911Z",
     "shell.execute_reply": "2022-08-25T09:19:33.598885Z"
    },
    "papermill": {
     "duration": 0.033921,
     "end_time": "2022-08-25T09:19:33.602151",
     "exception": false,
     "start_time": "2022-08-25T09:19:33.568230",
     "status": "completed"
    },
    "tags": []
   },
   "outputs": [],
   "source": [
    "df.drop(['Item_Identifier','Outlet_Identifier'],axis=1,inplace=True)"
   ]
  },
  {
   "cell_type": "code",
   "execution_count": 32,
   "id": "86cd7a3c",
   "metadata": {
    "execution": {
     "iopub.execute_input": "2022-08-25T09:19:33.649922Z",
     "iopub.status.busy": "2022-08-25T09:19:33.649229Z",
     "iopub.status.idle": "2022-08-25T09:19:33.673638Z",
     "shell.execute_reply": "2022-08-25T09:19:33.672451Z"
    },
    "papermill": {
     "duration": 0.051262,
     "end_time": "2022-08-25T09:19:33.675971",
     "exception": false,
     "start_time": "2022-08-25T09:19:33.624709",
     "status": "completed"
    },
    "tags": []
   },
   "outputs": [
    {
     "data": {
      "text/html": [
       "<div>\n",
       "<style scoped>\n",
       "    .dataframe tbody tr th:only-of-type {\n",
       "        vertical-align: middle;\n",
       "    }\n",
       "\n",
       "    .dataframe tbody tr th {\n",
       "        vertical-align: top;\n",
       "    }\n",
       "\n",
       "    .dataframe thead th {\n",
       "        text-align: right;\n",
       "    }\n",
       "</style>\n",
       "<table border=\"1\" class=\"dataframe\">\n",
       "  <thead>\n",
       "    <tr style=\"text-align: right;\">\n",
       "      <th></th>\n",
       "      <th>Item_Weight</th>\n",
       "      <th>Item_Fat_Content</th>\n",
       "      <th>Item_Visibility</th>\n",
       "      <th>Item_Type</th>\n",
       "      <th>Item_MRP</th>\n",
       "      <th>Outlet_Establishment_Year</th>\n",
       "      <th>Outlet_Size</th>\n",
       "      <th>Outlet_Location_Type</th>\n",
       "      <th>Outlet_Type</th>\n",
       "    </tr>\n",
       "  </thead>\n",
       "  <tbody>\n",
       "    <tr>\n",
       "      <th>0</th>\n",
       "      <td>9.30</td>\n",
       "      <td>Low Fat</td>\n",
       "      <td>0.016047</td>\n",
       "      <td>Dairy</td>\n",
       "      <td>249.8092</td>\n",
       "      <td>1999</td>\n",
       "      <td>Medium</td>\n",
       "      <td>Tier 1</td>\n",
       "      <td>Supermarket Type1</td>\n",
       "    </tr>\n",
       "    <tr>\n",
       "      <th>1</th>\n",
       "      <td>5.92</td>\n",
       "      <td>Regular</td>\n",
       "      <td>0.019278</td>\n",
       "      <td>Soft Drinks</td>\n",
       "      <td>48.2692</td>\n",
       "      <td>2009</td>\n",
       "      <td>Medium</td>\n",
       "      <td>Tier 3</td>\n",
       "      <td>Supermarket Type2</td>\n",
       "    </tr>\n",
       "    <tr>\n",
       "      <th>2</th>\n",
       "      <td>17.50</td>\n",
       "      <td>Low Fat</td>\n",
       "      <td>0.016760</td>\n",
       "      <td>Meat</td>\n",
       "      <td>141.6180</td>\n",
       "      <td>1999</td>\n",
       "      <td>Medium</td>\n",
       "      <td>Tier 1</td>\n",
       "      <td>Supermarket Type1</td>\n",
       "    </tr>\n",
       "    <tr>\n",
       "      <th>3</th>\n",
       "      <td>19.20</td>\n",
       "      <td>Regular</td>\n",
       "      <td>0.000000</td>\n",
       "      <td>Fruits and Vegetables</td>\n",
       "      <td>182.0950</td>\n",
       "      <td>1998</td>\n",
       "      <td>Medium</td>\n",
       "      <td>Tier 3</td>\n",
       "      <td>Grocery Store</td>\n",
       "    </tr>\n",
       "    <tr>\n",
       "      <th>4</th>\n",
       "      <td>8.93</td>\n",
       "      <td>Low Fat</td>\n",
       "      <td>0.000000</td>\n",
       "      <td>Household</td>\n",
       "      <td>53.8614</td>\n",
       "      <td>1987</td>\n",
       "      <td>High</td>\n",
       "      <td>Tier 3</td>\n",
       "      <td>Supermarket Type1</td>\n",
       "    </tr>\n",
       "    <tr>\n",
       "      <th>...</th>\n",
       "      <td>...</td>\n",
       "      <td>...</td>\n",
       "      <td>...</td>\n",
       "      <td>...</td>\n",
       "      <td>...</td>\n",
       "      <td>...</td>\n",
       "      <td>...</td>\n",
       "      <td>...</td>\n",
       "      <td>...</td>\n",
       "    </tr>\n",
       "    <tr>\n",
       "      <th>5676</th>\n",
       "      <td>10.50</td>\n",
       "      <td>Regular</td>\n",
       "      <td>0.013496</td>\n",
       "      <td>Snack Foods</td>\n",
       "      <td>141.3154</td>\n",
       "      <td>1997</td>\n",
       "      <td>Small</td>\n",
       "      <td>Tier 1</td>\n",
       "      <td>Supermarket Type1</td>\n",
       "    </tr>\n",
       "    <tr>\n",
       "      <th>5677</th>\n",
       "      <td>7.60</td>\n",
       "      <td>Regular</td>\n",
       "      <td>0.142991</td>\n",
       "      <td>Starchy Foods</td>\n",
       "      <td>169.1448</td>\n",
       "      <td>2009</td>\n",
       "      <td>Medium</td>\n",
       "      <td>Tier 3</td>\n",
       "      <td>Supermarket Type2</td>\n",
       "    </tr>\n",
       "    <tr>\n",
       "      <th>5678</th>\n",
       "      <td>10.00</td>\n",
       "      <td>Low Fat</td>\n",
       "      <td>0.073529</td>\n",
       "      <td>Health and Hygiene</td>\n",
       "      <td>118.7440</td>\n",
       "      <td>2002</td>\n",
       "      <td>Medium</td>\n",
       "      <td>Tier 2</td>\n",
       "      <td>Supermarket Type1</td>\n",
       "    </tr>\n",
       "    <tr>\n",
       "      <th>5679</th>\n",
       "      <td>15.30</td>\n",
       "      <td>Regular</td>\n",
       "      <td>0.000000</td>\n",
       "      <td>Canned</td>\n",
       "      <td>214.6218</td>\n",
       "      <td>2007</td>\n",
       "      <td>Medium</td>\n",
       "      <td>Tier 2</td>\n",
       "      <td>Supermarket Type1</td>\n",
       "    </tr>\n",
       "    <tr>\n",
       "      <th>5680</th>\n",
       "      <td>9.50</td>\n",
       "      <td>Regular</td>\n",
       "      <td>0.104720</td>\n",
       "      <td>Canned</td>\n",
       "      <td>79.7960</td>\n",
       "      <td>2002</td>\n",
       "      <td>Medium</td>\n",
       "      <td>Tier 2</td>\n",
       "      <td>Supermarket Type1</td>\n",
       "    </tr>\n",
       "  </tbody>\n",
       "</table>\n",
       "<p>14204 rows × 9 columns</p>\n",
       "</div>"
      ],
      "text/plain": [
       "      Item_Weight Item_Fat_Content  Item_Visibility              Item_Type  \\\n",
       "0            9.30          Low Fat         0.016047                  Dairy   \n",
       "1            5.92          Regular         0.019278            Soft Drinks   \n",
       "2           17.50          Low Fat         0.016760                   Meat   \n",
       "3           19.20          Regular         0.000000  Fruits and Vegetables   \n",
       "4            8.93          Low Fat         0.000000              Household   \n",
       "...           ...              ...              ...                    ...   \n",
       "5676        10.50          Regular         0.013496            Snack Foods   \n",
       "5677         7.60          Regular         0.142991          Starchy Foods   \n",
       "5678        10.00          Low Fat         0.073529     Health and Hygiene   \n",
       "5679        15.30          Regular         0.000000                 Canned   \n",
       "5680         9.50          Regular         0.104720                 Canned   \n",
       "\n",
       "      Item_MRP  Outlet_Establishment_Year Outlet_Size Outlet_Location_Type  \\\n",
       "0     249.8092                       1999      Medium               Tier 1   \n",
       "1      48.2692                       2009      Medium               Tier 3   \n",
       "2     141.6180                       1999      Medium               Tier 1   \n",
       "3     182.0950                       1998      Medium               Tier 3   \n",
       "4      53.8614                       1987        High               Tier 3   \n",
       "...        ...                        ...         ...                  ...   \n",
       "5676  141.3154                       1997       Small               Tier 1   \n",
       "5677  169.1448                       2009      Medium               Tier 3   \n",
       "5678  118.7440                       2002      Medium               Tier 2   \n",
       "5679  214.6218                       2007      Medium               Tier 2   \n",
       "5680   79.7960                       2002      Medium               Tier 2   \n",
       "\n",
       "            Outlet_Type  \n",
       "0     Supermarket Type1  \n",
       "1     Supermarket Type2  \n",
       "2     Supermarket Type1  \n",
       "3         Grocery Store  \n",
       "4     Supermarket Type1  \n",
       "...                 ...  \n",
       "5676  Supermarket Type1  \n",
       "5677  Supermarket Type2  \n",
       "5678  Supermarket Type1  \n",
       "5679  Supermarket Type1  \n",
       "5680  Supermarket Type1  \n",
       "\n",
       "[14204 rows x 9 columns]"
      ]
     },
     "execution_count": 32,
     "metadata": {},
     "output_type": "execute_result"
    }
   ],
   "source": [
    "df"
   ]
  },
  {
   "cell_type": "code",
   "execution_count": 33,
   "id": "794b94dc",
   "metadata": {
    "execution": {
     "iopub.execute_input": "2022-08-25T09:19:33.724837Z",
     "iopub.status.busy": "2022-08-25T09:19:33.724448Z",
     "iopub.status.idle": "2022-08-25T09:19:34.212250Z",
     "shell.execute_reply": "2022-08-25T09:19:34.211359Z"
    },
    "papermill": {
     "duration": 0.515079,
     "end_time": "2022-08-25T09:19:34.214494",
     "exception": false,
     "start_time": "2022-08-25T09:19:33.699415",
     "status": "completed"
    },
    "tags": []
   },
   "outputs": [
    {
     "data": {
      "image/png": "[encoded data removed]",
      "text/plain": [
       "<Figure size 1080x432 with 1 Axes>"
      ]
     },
     "metadata": {},
     "output_type": "display_data"
    },
    {
     "data": {
      "image/png": "[encoded data removed]",
      "text/plain": [
       "<Figure size 1080x432 with 1 Axes>"
      ]
     },
     "metadata": {},
     "output_type": "display_data"
    },
    {
     "data": {
      "image/png": "[encoded data removed]",
      "text/plain": [
       "<Figure size 1080x432 with 1 Axes>"
      ]
     },
     "metadata": {},
     "output_type": "display_data"
    }
   ],
   "source": [
    "for c in num_continuous:\n",
    "    plt.figure(figsize=(15,6))\n",
    "    fig = sns.boxplot(y=c,data=df)\n",
    "    fig.set_ylabel(c)\n",
    "\n"
   ]
  },
  {
   "cell_type": "code",
   "execution_count": 34,
   "id": "47c8a534",
   "metadata": {
    "execution": {
     "iopub.execute_input": "2022-08-25T09:19:34.265428Z",
     "iopub.status.busy": "2022-08-25T09:19:34.264712Z",
     "iopub.status.idle": "2022-08-25T09:19:34.269516Z",
     "shell.execute_reply": "2022-08-25T09:19:34.268740Z"
    },
    "papermill": {
     "duration": 0.033787,
     "end_time": "2022-08-25T09:19:34.271982",
     "exception": false,
     "start_time": "2022-08-25T09:19:34.238195",
     "status": "completed"
    },
    "tags": []
   },
   "outputs": [],
   "source": [
    "# Item_Visibilty has significant number of outliers, we will see if it requires outlier treatment after model evaluation"
   ]
  },
  {
   "cell_type": "code",
   "execution_count": 35,
   "id": "bb7ce8d8",
   "metadata": {
    "execution": {
     "iopub.execute_input": "2022-08-25T09:19:34.321471Z",
     "iopub.status.busy": "2022-08-25T09:19:34.320687Z",
     "iopub.status.idle": "2022-08-25T09:19:34.325485Z",
     "shell.execute_reply": "2022-08-25T09:19:34.324717Z"
    },
    "papermill": {
     "duration": 0.032099,
     "end_time": "2022-08-25T09:19:34.327732",
     "exception": false,
     "start_time": "2022-08-25T09:19:34.295633",
     "status": "completed"
    },
    "tags": []
   },
   "outputs": [],
   "source": [
    "# from sklearn.preprocessing import OrdinalEncoder\n",
    "# ordinalencoder=OrdinalEncoder()\n",
    "# # if we pass the series it will generate an error\n",
    "# df.Outlet_Size=ordinalencoder.fit_transform(df[['Outlet_Size']])\n",
    "# df.Outlet_Size.nunique()"
   ]
  },
  {
   "cell_type": "code",
   "execution_count": 36,
   "id": "c5cf86cf",
   "metadata": {
    "execution": {
     "iopub.execute_input": "2022-08-25T09:19:34.378169Z",
     "iopub.status.busy": "2022-08-25T09:19:34.377390Z",
     "iopub.status.idle": "2022-08-25T09:19:34.385690Z",
     "shell.execute_reply": "2022-08-25T09:19:34.384129Z"
    },
    "papermill": {
     "duration": 0.036201,
     "end_time": "2022-08-25T09:19:34.388454",
     "exception": false,
     "start_time": "2022-08-25T09:19:34.352253",
     "status": "completed"
    },
    "tags": []
   },
   "outputs": [
    {
     "name": "stdout",
     "output_type": "stream",
     "text": [
      "<class 'pandas.core.frame.DataFrame'>\n",
      "<class 'pandas.core.series.Series'>\n"
     ]
    }
   ],
   "source": [
    "print(type(df[['Outlet_Size','Item_Weight']]))\n",
    "print(type(df.Outlet_Size))"
   ]
  },
  {
   "cell_type": "code",
   "execution_count": 37,
   "id": "0150c101",
   "metadata": {
    "execution": {
     "iopub.execute_input": "2022-08-25T09:19:34.439164Z",
     "iopub.status.busy": "2022-08-25T09:19:34.438188Z",
     "iopub.status.idle": "2022-08-25T09:19:34.614782Z",
     "shell.execute_reply": "2022-08-25T09:19:34.613524Z"
    },
    "papermill": {
     "duration": 0.204506,
     "end_time": "2022-08-25T09:19:34.617539",
     "exception": false,
     "start_time": "2022-08-25T09:19:34.413033",
     "status": "completed"
    },
    "tags": []
   },
   "outputs": [],
   "source": [
    "# Data transformation\n",
    "# Encoding and Scaling\n",
    "from sklearn.preprocessing import OrdinalEncoder\n",
    "oec=OrdinalEncoder()\n",
    "cat_ordinal=list(set(cat_ordinal)-set(['Outlet_Identifier']))\n",
    "df[cat_ordinal]=oec.fit_transform(df[cat_ordinal])\n",
    "    "
   ]
  },
  {
   "cell_type": "code",
   "execution_count": 38,
   "id": "c5112c78",
   "metadata": {
    "execution": {
     "iopub.execute_input": "2022-08-25T09:19:34.667338Z",
     "iopub.status.busy": "2022-08-25T09:19:34.666584Z",
     "iopub.status.idle": "2022-08-25T09:19:34.672772Z",
     "shell.execute_reply": "2022-08-25T09:19:34.672008Z"
    },
    "papermill": {
     "duration": 0.033813,
     "end_time": "2022-08-25T09:19:34.674977",
     "exception": false,
     "start_time": "2022-08-25T09:19:34.641164",
     "status": "completed"
    },
    "tags": []
   },
   "outputs": [],
   "source": [
    "import datetime\n",
    "curr_year=datetime.datetime.now().year\n",
    "df['Age']=curr_year-df.Outlet_Establishment_Year"
   ]
  },
  {
   "cell_type": "code",
   "execution_count": 39,
   "id": "115cb200",
   "metadata": {
    "execution": {
     "iopub.execute_input": "2022-08-25T09:19:34.724139Z",
     "iopub.status.busy": "2022-08-25T09:19:34.723343Z",
     "iopub.status.idle": "2022-08-25T09:19:34.731064Z",
     "shell.execute_reply": "2022-08-25T09:19:34.729992Z"
    },
    "papermill": {
     "duration": 0.035149,
     "end_time": "2022-08-25T09:19:34.733517",
     "exception": false,
     "start_time": "2022-08-25T09:19:34.698368",
     "status": "completed"
    },
    "tags": []
   },
   "outputs": [],
   "source": [
    "df.drop(['Outlet_Establishment_Year'],axis=1,inplace=True)"
   ]
  },
  {
   "cell_type": "code",
   "execution_count": 40,
   "id": "ac424479",
   "metadata": {
    "execution": {
     "iopub.execute_input": "2022-08-25T09:19:34.782644Z",
     "iopub.status.busy": "2022-08-25T09:19:34.781888Z",
     "iopub.status.idle": "2022-08-25T09:19:34.804467Z",
     "shell.execute_reply": "2022-08-25T09:19:34.803337Z"
    },
    "papermill": {
     "duration": 0.049986,
     "end_time": "2022-08-25T09:19:34.806813",
     "exception": false,
     "start_time": "2022-08-25T09:19:34.756827",
     "status": "completed"
    },
    "tags": []
   },
   "outputs": [
    {
     "data": {
      "text/html": [
       "<div>\n",
       "<style scoped>\n",
       "    .dataframe tbody tr th:only-of-type {\n",
       "        vertical-align: middle;\n",
       "    }\n",
       "\n",
       "    .dataframe tbody tr th {\n",
       "        vertical-align: top;\n",
       "    }\n",
       "\n",
       "    .dataframe thead th {\n",
       "        text-align: right;\n",
       "    }\n",
       "</style>\n",
       "<table border=\"1\" class=\"dataframe\">\n",
       "  <thead>\n",
       "    <tr style=\"text-align: right;\">\n",
       "      <th></th>\n",
       "      <th>Item_Weight</th>\n",
       "      <th>Item_Fat_Content</th>\n",
       "      <th>Item_Visibility</th>\n",
       "      <th>Item_Type</th>\n",
       "      <th>Item_MRP</th>\n",
       "      <th>Outlet_Size</th>\n",
       "      <th>Outlet_Location_Type</th>\n",
       "      <th>Outlet_Type</th>\n",
       "      <th>Age</th>\n",
       "    </tr>\n",
       "  </thead>\n",
       "  <tbody>\n",
       "    <tr>\n",
       "      <th>0</th>\n",
       "      <td>9.30</td>\n",
       "      <td>1.0</td>\n",
       "      <td>0.016047</td>\n",
       "      <td>Dairy</td>\n",
       "      <td>249.8092</td>\n",
       "      <td>1.0</td>\n",
       "      <td>0.0</td>\n",
       "      <td>1.0</td>\n",
       "      <td>23</td>\n",
       "    </tr>\n",
       "    <tr>\n",
       "      <th>1</th>\n",
       "      <td>5.92</td>\n",
       "      <td>2.0</td>\n",
       "      <td>0.019278</td>\n",
       "      <td>Soft Drinks</td>\n",
       "      <td>48.2692</td>\n",
       "      <td>1.0</td>\n",
       "      <td>2.0</td>\n",
       "      <td>2.0</td>\n",
       "      <td>13</td>\n",
       "    </tr>\n",
       "    <tr>\n",
       "      <th>2</th>\n",
       "      <td>17.50</td>\n",
       "      <td>1.0</td>\n",
       "      <td>0.016760</td>\n",
       "      <td>Meat</td>\n",
       "      <td>141.6180</td>\n",
       "      <td>1.0</td>\n",
       "      <td>0.0</td>\n",
       "      <td>1.0</td>\n",
       "      <td>23</td>\n",
       "    </tr>\n",
       "    <tr>\n",
       "      <th>3</th>\n",
       "      <td>19.20</td>\n",
       "      <td>2.0</td>\n",
       "      <td>0.000000</td>\n",
       "      <td>Fruits and Vegetables</td>\n",
       "      <td>182.0950</td>\n",
       "      <td>1.0</td>\n",
       "      <td>2.0</td>\n",
       "      <td>0.0</td>\n",
       "      <td>24</td>\n",
       "    </tr>\n",
       "    <tr>\n",
       "      <th>4</th>\n",
       "      <td>8.93</td>\n",
       "      <td>1.0</td>\n",
       "      <td>0.000000</td>\n",
       "      <td>Household</td>\n",
       "      <td>53.8614</td>\n",
       "      <td>0.0</td>\n",
       "      <td>2.0</td>\n",
       "      <td>1.0</td>\n",
       "      <td>35</td>\n",
       "    </tr>\n",
       "    <tr>\n",
       "      <th>...</th>\n",
       "      <td>...</td>\n",
       "      <td>...</td>\n",
       "      <td>...</td>\n",
       "      <td>...</td>\n",
       "      <td>...</td>\n",
       "      <td>...</td>\n",
       "      <td>...</td>\n",
       "      <td>...</td>\n",
       "      <td>...</td>\n",
       "    </tr>\n",
       "    <tr>\n",
       "      <th>5676</th>\n",
       "      <td>10.50</td>\n",
       "      <td>2.0</td>\n",
       "      <td>0.013496</td>\n",
       "      <td>Snack Foods</td>\n",
       "      <td>141.3154</td>\n",
       "      <td>2.0</td>\n",
       "      <td>0.0</td>\n",
       "      <td>1.0</td>\n",
       "      <td>25</td>\n",
       "    </tr>\n",
       "    <tr>\n",
       "      <th>5677</th>\n",
       "      <td>7.60</td>\n",
       "      <td>2.0</td>\n",
       "      <td>0.142991</td>\n",
       "      <td>Starchy Foods</td>\n",
       "      <td>169.1448</td>\n",
       "      <td>1.0</td>\n",
       "      <td>2.0</td>\n",
       "      <td>2.0</td>\n",
       "      <td>13</td>\n",
       "    </tr>\n",
       "    <tr>\n",
       "      <th>5678</th>\n",
       "      <td>10.00</td>\n",
       "      <td>1.0</td>\n",
       "      <td>0.073529</td>\n",
       "      <td>Health and Hygiene</td>\n",
       "      <td>118.7440</td>\n",
       "      <td>1.0</td>\n",
       "      <td>1.0</td>\n",
       "      <td>1.0</td>\n",
       "      <td>20</td>\n",
       "    </tr>\n",
       "    <tr>\n",
       "      <th>5679</th>\n",
       "      <td>15.30</td>\n",
       "      <td>2.0</td>\n",
       "      <td>0.000000</td>\n",
       "      <td>Canned</td>\n",
       "      <td>214.6218</td>\n",
       "      <td>1.0</td>\n",
       "      <td>1.0</td>\n",
       "      <td>1.0</td>\n",
       "      <td>15</td>\n",
       "    </tr>\n",
       "    <tr>\n",
       "      <th>5680</th>\n",
       "      <td>9.50</td>\n",
       "      <td>2.0</td>\n",
       "      <td>0.104720</td>\n",
       "      <td>Canned</td>\n",
       "      <td>79.7960</td>\n",
       "      <td>1.0</td>\n",
       "      <td>1.0</td>\n",
       "      <td>1.0</td>\n",
       "      <td>20</td>\n",
       "    </tr>\n",
       "  </tbody>\n",
       "</table>\n",
       "<p>14204 rows × 9 columns</p>\n",
       "</div>"
      ],
      "text/plain": [
       "      Item_Weight  Item_Fat_Content  Item_Visibility              Item_Type  \\\n",
       "0            9.30               1.0         0.016047                  Dairy   \n",
       "1            5.92               2.0         0.019278            Soft Drinks   \n",
       "2           17.50               1.0         0.016760                   Meat   \n",
       "3           19.20               2.0         0.000000  Fruits and Vegetables   \n",
       "4            8.93               1.0         0.000000              Household   \n",
       "...           ...               ...              ...                    ...   \n",
       "5676        10.50               2.0         0.013496            Snack Foods   \n",
       "5677         7.60               2.0         0.142991          Starchy Foods   \n",
       "5678        10.00               1.0         0.073529     Health and Hygiene   \n",
       "5679        15.30               2.0         0.000000                 Canned   \n",
       "5680         9.50               2.0         0.104720                 Canned   \n",
       "\n",
       "      Item_MRP  Outlet_Size  Outlet_Location_Type  Outlet_Type  Age  \n",
       "0     249.8092          1.0                   0.0          1.0   23  \n",
       "1      48.2692          1.0                   2.0          2.0   13  \n",
       "2     141.6180          1.0                   0.0          1.0   23  \n",
       "3     182.0950          1.0                   2.0          0.0   24  \n",
       "4      53.8614          0.0                   2.0          1.0   35  \n",
       "...        ...          ...                   ...          ...  ...  \n",
       "5676  141.3154          2.0                   0.0          1.0   25  \n",
       "5677  169.1448          1.0                   2.0          2.0   13  \n",
       "5678  118.7440          1.0                   1.0          1.0   20  \n",
       "5679  214.6218          1.0                   1.0          1.0   15  \n",
       "5680   79.7960          1.0                   1.0          1.0   20  \n",
       "\n",
       "[14204 rows x 9 columns]"
      ]
     },
     "execution_count": 40,
     "metadata": {},
     "output_type": "execute_result"
    }
   ],
   "source": [
    "df"
   ]
  },
  {
   "cell_type": "code",
   "execution_count": 41,
   "id": "8a557d16",
   "metadata": {
    "execution": {
     "iopub.execute_input": "2022-08-25T09:19:34.856360Z",
     "iopub.status.busy": "2022-08-25T09:19:34.855574Z",
     "iopub.status.idle": "2022-08-25T09:19:34.860177Z",
     "shell.execute_reply": "2022-08-25T09:19:34.859475Z"
    },
    "papermill": {
     "duration": 0.031926,
     "end_time": "2022-08-25T09:19:34.862395",
     "exception": false,
     "start_time": "2022-08-25T09:19:34.830469",
     "status": "completed"
    },
    "tags": []
   },
   "outputs": [],
   "source": [
    "# now we need to encode nominal variables using either get dummies or OHE"
   ]
  },
  {
   "cell_type": "code",
   "execution_count": 42,
   "id": "e354beae",
   "metadata": {
    "execution": {
     "iopub.execute_input": "2022-08-25T09:19:34.911823Z",
     "iopub.status.busy": "2022-08-25T09:19:34.911060Z",
     "iopub.status.idle": "2022-08-25T09:19:34.921466Z",
     "shell.execute_reply": "2022-08-25T09:19:34.920582Z"
    },
    "papermill": {
     "duration": 0.038087,
     "end_time": "2022-08-25T09:19:34.924000",
     "exception": false,
     "start_time": "2022-08-25T09:19:34.885913",
     "status": "completed"
    },
    "tags": []
   },
   "outputs": [],
   "source": [
    "df_ohe=pd.get_dummies(df.Item_Type,drop_first=True)\n",
    "df_all=pd.concat([df,df_ohe],axis=1)\n"
   ]
  },
  {
   "cell_type": "code",
   "execution_count": 43,
   "id": "b8982ddd",
   "metadata": {
    "execution": {
     "iopub.execute_input": "2022-08-25T09:19:34.973405Z",
     "iopub.status.busy": "2022-08-25T09:19:34.972617Z",
     "iopub.status.idle": "2022-08-25T09:19:34.980028Z",
     "shell.execute_reply": "2022-08-25T09:19:34.979105Z"
    },
    "papermill": {
     "duration": 0.034805,
     "end_time": "2022-08-25T09:19:34.982344",
     "exception": false,
     "start_time": "2022-08-25T09:19:34.947539",
     "status": "completed"
    },
    "tags": []
   },
   "outputs": [],
   "source": [
    "df_all.drop(['Item_Type'],axis=1,inplace=True)"
   ]
  },
  {
   "cell_type": "code",
   "execution_count": 44,
   "id": "54da146f",
   "metadata": {
    "execution": {
     "iopub.execute_input": "2022-08-25T09:19:35.032007Z",
     "iopub.status.busy": "2022-08-25T09:19:35.031208Z",
     "iopub.status.idle": "2022-08-25T09:19:35.058800Z",
     "shell.execute_reply": "2022-08-25T09:19:35.057680Z"
    },
    "papermill": {
     "duration": 0.05512,
     "end_time": "2022-08-25T09:19:35.061146",
     "exception": false,
     "start_time": "2022-08-25T09:19:35.006026",
     "status": "completed"
    },
    "tags": []
   },
   "outputs": [
    {
     "data": {
      "text/html": [
       "<div>\n",
       "<style scoped>\n",
       "    .dataframe tbody tr th:only-of-type {\n",
       "        vertical-align: middle;\n",
       "    }\n",
       "\n",
       "    .dataframe tbody tr th {\n",
       "        vertical-align: top;\n",
       "    }\n",
       "\n",
       "    .dataframe thead th {\n",
       "        text-align: right;\n",
       "    }\n",
       "</style>\n",
       "<table border=\"1\" class=\"dataframe\">\n",
       "  <thead>\n",
       "    <tr style=\"text-align: right;\">\n",
       "      <th></th>\n",
       "      <th>Item_Weight</th>\n",
       "      <th>Item_Fat_Content</th>\n",
       "      <th>Item_Visibility</th>\n",
       "      <th>Item_MRP</th>\n",
       "      <th>Outlet_Size</th>\n",
       "      <th>Outlet_Location_Type</th>\n",
       "      <th>Outlet_Type</th>\n",
       "      <th>Age</th>\n",
       "      <th>Breads</th>\n",
       "      <th>Breakfast</th>\n",
       "      <th>Canned</th>\n",
       "      <th>Dairy</th>\n",
       "      <th>Frozen Foods</th>\n",
       "      <th>Fruits and Vegetables</th>\n",
       "      <th>Hard Drinks</th>\n",
       "      <th>Health and Hygiene</th>\n",
       "      <th>Household</th>\n",
       "      <th>Meat</th>\n",
       "      <th>Others</th>\n",
       "      <th>Seafood</th>\n",
       "      <th>Snack Foods</th>\n",
       "      <th>Soft Drinks</th>\n",
       "      <th>Starchy Foods</th>\n",
       "    </tr>\n",
       "  </thead>\n",
       "  <tbody>\n",
       "    <tr>\n",
       "      <th>0</th>\n",
       "      <td>9.30</td>\n",
       "      <td>1.0</td>\n",
       "      <td>0.016047</td>\n",
       "      <td>249.8092</td>\n",
       "      <td>1.0</td>\n",
       "      <td>0.0</td>\n",
       "      <td>1.0</td>\n",
       "      <td>23</td>\n",
       "      <td>0</td>\n",
       "      <td>0</td>\n",
       "      <td>0</td>\n",
       "      <td>1</td>\n",
       "      <td>0</td>\n",
       "      <td>0</td>\n",
       "      <td>0</td>\n",
       "      <td>0</td>\n",
       "      <td>0</td>\n",
       "      <td>0</td>\n",
       "      <td>0</td>\n",
       "      <td>0</td>\n",
       "      <td>0</td>\n",
       "      <td>0</td>\n",
       "      <td>0</td>\n",
       "    </tr>\n",
       "    <tr>\n",
       "      <th>1</th>\n",
       "      <td>5.92</td>\n",
       "      <td>2.0</td>\n",
       "      <td>0.019278</td>\n",
       "      <td>48.2692</td>\n",
       "      <td>1.0</td>\n",
       "      <td>2.0</td>\n",
       "      <td>2.0</td>\n",
       "      <td>13</td>\n",
       "      <td>0</td>\n",
       "      <td>0</td>\n",
       "      <td>0</td>\n",
       "      <td>0</td>\n",
       "      <td>0</td>\n",
       "      <td>0</td>\n",
       "      <td>0</td>\n",
       "      <td>0</td>\n",
       "      <td>0</td>\n",
       "      <td>0</td>\n",
       "      <td>0</td>\n",
       "      <td>0</td>\n",
       "      <td>0</td>\n",
       "      <td>1</td>\n",
       "      <td>0</td>\n",
       "    </tr>\n",
       "    <tr>\n",
       "      <th>2</th>\n",
       "      <td>17.50</td>\n",
       "      <td>1.0</td>\n",
       "      <td>0.016760</td>\n",
       "      <td>141.6180</td>\n",
       "      <td>1.0</td>\n",
       "      <td>0.0</td>\n",
       "      <td>1.0</td>\n",
       "      <td>23</td>\n",
       "      <td>0</td>\n",
       "      <td>0</td>\n",
       "      <td>0</td>\n",
       "      <td>0</td>\n",
       "      <td>0</td>\n",
       "      <td>0</td>\n",
       "      <td>0</td>\n",
       "      <td>0</td>\n",
       "      <td>0</td>\n",
       "      <td>1</td>\n",
       "      <td>0</td>\n",
       "      <td>0</td>\n",
       "      <td>0</td>\n",
       "      <td>0</td>\n",
       "      <td>0</td>\n",
       "    </tr>\n",
       "    <tr>\n",
       "      <th>3</th>\n",
       "      <td>19.20</td>\n",
       "      <td>2.0</td>\n",
       "      <td>0.000000</td>\n",
       "      <td>182.0950</td>\n",
       "      <td>1.0</td>\n",
       "      <td>2.0</td>\n",
       "      <td>0.0</td>\n",
       "      <td>24</td>\n",
       "      <td>0</td>\n",
       "      <td>0</td>\n",
       "      <td>0</td>\n",
       "      <td>0</td>\n",
       "      <td>0</td>\n",
       "      <td>1</td>\n",
       "      <td>0</td>\n",
       "      <td>0</td>\n",
       "      <td>0</td>\n",
       "      <td>0</td>\n",
       "      <td>0</td>\n",
       "      <td>0</td>\n",
       "      <td>0</td>\n",
       "      <td>0</td>\n",
       "      <td>0</td>\n",
       "    </tr>\n",
       "    <tr>\n",
       "      <th>4</th>\n",
       "      <td>8.93</td>\n",
       "      <td>1.0</td>\n",
       "      <td>0.000000</td>\n",
       "      <td>53.8614</td>\n",
       "      <td>0.0</td>\n",
       "      <td>2.0</td>\n",
       "      <td>1.0</td>\n",
       "      <td>35</td>\n",
       "      <td>0</td>\n",
       "      <td>0</td>\n",
       "      <td>0</td>\n",
       "      <td>0</td>\n",
       "      <td>0</td>\n",
       "      <td>0</td>\n",
       "      <td>0</td>\n",
       "      <td>0</td>\n",
       "      <td>1</td>\n",
       "      <td>0</td>\n",
       "      <td>0</td>\n",
       "      <td>0</td>\n",
       "      <td>0</td>\n",
       "      <td>0</td>\n",
       "      <td>0</td>\n",
       "    </tr>\n",
       "    <tr>\n",
       "      <th>...</th>\n",
       "      <td>...</td>\n",
       "      <td>...</td>\n",
       "      <td>...</td>\n",
       "      <td>...</td>\n",
       "      <td>...</td>\n",
       "      <td>...</td>\n",
       "      <td>...</td>\n",
       "      <td>...</td>\n",
       "      <td>...</td>\n",
       "      <td>...</td>\n",
       "      <td>...</td>\n",
       "      <td>...</td>\n",
       "      <td>...</td>\n",
       "      <td>...</td>\n",
       "      <td>...</td>\n",
       "      <td>...</td>\n",
       "      <td>...</td>\n",
       "      <td>...</td>\n",
       "      <td>...</td>\n",
       "      <td>...</td>\n",
       "      <td>...</td>\n",
       "      <td>...</td>\n",
       "      <td>...</td>\n",
       "    </tr>\n",
       "    <tr>\n",
       "      <th>5676</th>\n",
       "      <td>10.50</td>\n",
       "      <td>2.0</td>\n",
       "      <td>0.013496</td>\n",
       "      <td>141.3154</td>\n",
       "      <td>2.0</td>\n",
       "      <td>0.0</td>\n",
       "      <td>1.0</td>\n",
       "      <td>25</td>\n",
       "      <td>0</td>\n",
       "      <td>0</td>\n",
       "      <td>0</td>\n",
       "      <td>0</td>\n",
       "      <td>0</td>\n",
       "      <td>0</td>\n",
       "      <td>0</td>\n",
       "      <td>0</td>\n",
       "      <td>0</td>\n",
       "      <td>0</td>\n",
       "      <td>0</td>\n",
       "      <td>0</td>\n",
       "      <td>1</td>\n",
       "      <td>0</td>\n",
       "      <td>0</td>\n",
       "    </tr>\n",
       "    <tr>\n",
       "      <th>5677</th>\n",
       "      <td>7.60</td>\n",
       "      <td>2.0</td>\n",
       "      <td>0.142991</td>\n",
       "      <td>169.1448</td>\n",
       "      <td>1.0</td>\n",
       "      <td>2.0</td>\n",
       "      <td>2.0</td>\n",
       "      <td>13</td>\n",
       "      <td>0</td>\n",
       "      <td>0</td>\n",
       "      <td>0</td>\n",
       "      <td>0</td>\n",
       "      <td>0</td>\n",
       "      <td>0</td>\n",
       "      <td>0</td>\n",
       "      <td>0</td>\n",
       "      <td>0</td>\n",
       "      <td>0</td>\n",
       "      <td>0</td>\n",
       "      <td>0</td>\n",
       "      <td>0</td>\n",
       "      <td>0</td>\n",
       "      <td>1</td>\n",
       "    </tr>\n",
       "    <tr>\n",
       "      <th>5678</th>\n",
       "      <td>10.00</td>\n",
       "      <td>1.0</td>\n",
       "      <td>0.073529</td>\n",
       "      <td>118.7440</td>\n",
       "      <td>1.0</td>\n",
       "      <td>1.0</td>\n",
       "      <td>1.0</td>\n",
       "      <td>20</td>\n",
       "      <td>0</td>\n",
       "      <td>0</td>\n",
       "      <td>0</td>\n",
       "      <td>0</td>\n",
       "      <td>0</td>\n",
       "      <td>0</td>\n",
       "      <td>0</td>\n",
       "      <td>1</td>\n",
       "      <td>0</td>\n",
       "      <td>0</td>\n",
       "      <td>0</td>\n",
       "      <td>0</td>\n",
       "      <td>0</td>\n",
       "      <td>0</td>\n",
       "      <td>0</td>\n",
       "    </tr>\n",
       "    <tr>\n",
       "      <th>5679</th>\n",
       "      <td>15.30</td>\n",
       "      <td>2.0</td>\n",
       "      <td>0.000000</td>\n",
       "      <td>214.6218</td>\n",
       "      <td>1.0</td>\n",
       "      <td>1.0</td>\n",
       "      <td>1.0</td>\n",
       "      <td>15</td>\n",
       "      <td>0</td>\n",
       "      <td>0</td>\n",
       "      <td>1</td>\n",
       "      <td>0</td>\n",
       "      <td>0</td>\n",
       "      <td>0</td>\n",
       "      <td>0</td>\n",
       "      <td>0</td>\n",
       "      <td>0</td>\n",
       "      <td>0</td>\n",
       "      <td>0</td>\n",
       "      <td>0</td>\n",
       "      <td>0</td>\n",
       "      <td>0</td>\n",
       "      <td>0</td>\n",
       "    </tr>\n",
       "    <tr>\n",
       "      <th>5680</th>\n",
       "      <td>9.50</td>\n",
       "      <td>2.0</td>\n",
       "      <td>0.104720</td>\n",
       "      <td>79.7960</td>\n",
       "      <td>1.0</td>\n",
       "      <td>1.0</td>\n",
       "      <td>1.0</td>\n",
       "      <td>20</td>\n",
       "      <td>0</td>\n",
       "      <td>0</td>\n",
       "      <td>1</td>\n",
       "      <td>0</td>\n",
       "      <td>0</td>\n",
       "      <td>0</td>\n",
       "      <td>0</td>\n",
       "      <td>0</td>\n",
       "      <td>0</td>\n",
       "      <td>0</td>\n",
       "      <td>0</td>\n",
       "      <td>0</td>\n",
       "      <td>0</td>\n",
       "      <td>0</td>\n",
       "      <td>0</td>\n",
       "    </tr>\n",
       "  </tbody>\n",
       "</table>\n",
       "<p>14204 rows × 23 columns</p>\n",
       "</div>"
      ],
      "text/plain": [
       "      Item_Weight  Item_Fat_Content  Item_Visibility  Item_MRP  Outlet_Size  \\\n",
       "0            9.30               1.0         0.016047  249.8092          1.0   \n",
       "1            5.92               2.0         0.019278   48.2692          1.0   \n",
       "2           17.50               1.0         0.016760  141.6180          1.0   \n",
       "3           19.20               2.0         0.000000  182.0950          1.0   \n",
       "4            8.93               1.0         0.000000   53.8614          0.0   \n",
       "...           ...               ...              ...       ...          ...   \n",
       "5676        10.50               2.0         0.013496  141.3154          2.0   \n",
       "5677         7.60               2.0         0.142991  169.1448          1.0   \n",
       "5678        10.00               1.0         0.073529  118.7440          1.0   \n",
       "5679        15.30               2.0         0.000000  214.6218          1.0   \n",
       "5680         9.50               2.0         0.104720   79.7960          1.0   \n",
       "\n",
       "      Outlet_Location_Type  Outlet_Type  Age  Breads  Breakfast  Canned  \\\n",
       "0                      0.0          1.0   23       0          0       0   \n",
       "1                      2.0          2.0   13       0          0       0   \n",
       "2                      0.0          1.0   23       0          0       0   \n",
       "3                      2.0          0.0   24       0          0       0   \n",
       "4                      2.0          1.0   35       0          0       0   \n",
       "...                    ...          ...  ...     ...        ...     ...   \n",
       "5676                   0.0          1.0   25       0          0       0   \n",
       "5677                   2.0          2.0   13       0          0       0   \n",
       "5678                   1.0          1.0   20       0          0       0   \n",
       "5679                   1.0          1.0   15       0          0       1   \n",
       "5680                   1.0          1.0   20       0          0       1   \n",
       "\n",
       "      Dairy  Frozen Foods  Fruits and Vegetables  Hard Drinks  \\\n",
       "0         1             0                      0            0   \n",
       "1         0             0                      0            0   \n",
       "2         0             0                      0            0   \n",
       "3         0             0                      1            0   \n",
       "4         0             0                      0            0   \n",
       "...     ...           ...                    ...          ...   \n",
       "5676      0             0                      0            0   \n",
       "5677      0             0                      0            0   \n",
       "5678      0             0                      0            0   \n",
       "5679      0             0                      0            0   \n",
       "5680      0             0                      0            0   \n",
       "\n",
       "      Health and Hygiene  Household  Meat  Others  Seafood  Snack Foods  \\\n",
       "0                      0          0     0       0        0            0   \n",
       "1                      0          0     0       0        0            0   \n",
       "2                      0          0     1       0        0            0   \n",
       "3                      0          0     0       0        0            0   \n",
       "4                      0          1     0       0        0            0   \n",
       "...                  ...        ...   ...     ...      ...          ...   \n",
       "5676                   0          0     0       0        0            1   \n",
       "5677                   0          0     0       0        0            0   \n",
       "5678                   1          0     0       0        0            0   \n",
       "5679                   0          0     0       0        0            0   \n",
       "5680                   0          0     0       0        0            0   \n",
       "\n",
       "      Soft Drinks  Starchy Foods  \n",
       "0               0              0  \n",
       "1               1              0  \n",
       "2               0              0  \n",
       "3               0              0  \n",
       "4               0              0  \n",
       "...           ...            ...  \n",
       "5676            0              0  \n",
       "5677            0              1  \n",
       "5678            0              0  \n",
       "5679            0              0  \n",
       "5680            0              0  \n",
       "\n",
       "[14204 rows x 23 columns]"
      ]
     },
     "execution_count": 44,
     "metadata": {},
     "output_type": "execute_result"
    }
   ],
   "source": [
    "df_all"
   ]
  },
  {
   "cell_type": "code",
   "execution_count": 45,
   "id": "5f2072fe",
   "metadata": {
    "execution": {
     "iopub.execute_input": "2022-08-25T09:19:35.111141Z",
     "iopub.status.busy": "2022-08-25T09:19:35.110764Z",
     "iopub.status.idle": "2022-08-25T09:19:35.115328Z",
     "shell.execute_reply": "2022-08-25T09:19:35.114319Z"
    },
    "papermill": {
     "duration": 0.03212,
     "end_time": "2022-08-25T09:19:35.117502",
     "exception": false,
     "start_time": "2022-08-25T09:19:35.085382",
     "status": "completed"
    },
    "tags": []
   },
   "outputs": [],
   "source": [
    "# Now we will normalize our dataset"
   ]
  },
  {
   "cell_type": "code",
   "execution_count": 46,
   "id": "05d84540",
   "metadata": {
    "execution": {
     "iopub.execute_input": "2022-08-25T09:19:35.167713Z",
     "iopub.status.busy": "2022-08-25T09:19:35.166862Z",
     "iopub.status.idle": "2022-08-25T09:19:35.427248Z",
     "shell.execute_reply": "2022-08-25T09:19:35.426147Z"
    },
    "papermill": {
     "duration": 0.288159,
     "end_time": "2022-08-25T09:19:35.429697",
     "exception": false,
     "start_time": "2022-08-25T09:19:35.141538",
     "status": "completed"
    },
    "tags": []
   },
   "outputs": [
    {
     "data": {
      "text/plain": [
       "Text(0.5, 1.0, 'Distribution of MRP')"
      ]
     },
     "execution_count": 46,
     "metadata": {},
     "output_type": "execute_result"
    },
    {
     "data": {
      "image/png": "[encoded data removed]",
      "text/plain": [
       "<Figure size 432x288 with 1 Axes>"
      ]
     },
     "metadata": {},
     "output_type": "display_data"
    }
   ],
   "source": [
    "df.Item_MRP.hist()\n",
    "fig.set_title('Distribution of MRP')"
   ]
  },
  {
   "cell_type": "code",
   "execution_count": 47,
   "id": "90a0cee6",
   "metadata": {
    "execution": {
     "iopub.execute_input": "2022-08-25T09:19:35.488050Z",
     "iopub.status.busy": "2022-08-25T09:19:35.487202Z",
     "iopub.status.idle": "2022-08-25T09:19:35.497117Z",
     "shell.execute_reply": "2022-08-25T09:19:35.496293Z"
    },
    "papermill": {
     "duration": 0.044489,
     "end_time": "2022-08-25T09:19:35.499420",
     "exception": false,
     "start_time": "2022-08-25T09:19:35.454931",
     "status": "completed"
    },
    "tags": []
   },
   "outputs": [],
   "source": [
    "from sklearn.preprocessing import MinMaxScaler\n",
    "scaler=MinMaxScaler()\n",
    "df['MRP_MMS']=scaler.fit_transform(df[['Item_MRP']])"
   ]
  },
  {
   "cell_type": "code",
   "execution_count": 48,
   "id": "e0c20258",
   "metadata": {
    "execution": {
     "iopub.execute_input": "2022-08-25T09:19:35.550220Z",
     "iopub.status.busy": "2022-08-25T09:19:35.549522Z",
     "iopub.status.idle": "2022-08-25T09:19:35.571471Z",
     "shell.execute_reply": "2022-08-25T09:19:35.570715Z"
    },
    "papermill": {
     "duration": 0.049921,
     "end_time": "2022-08-25T09:19:35.573550",
     "exception": false,
     "start_time": "2022-08-25T09:19:35.523629",
     "status": "completed"
    },
    "tags": []
   },
   "outputs": [
    {
     "data": {
      "text/html": [
       "<div>\n",
       "<style scoped>\n",
       "    .dataframe tbody tr th:only-of-type {\n",
       "        vertical-align: middle;\n",
       "    }\n",
       "\n",
       "    .dataframe tbody tr th {\n",
       "        vertical-align: top;\n",
       "    }\n",
       "\n",
       "    .dataframe thead th {\n",
       "        text-align: right;\n",
       "    }\n",
       "</style>\n",
       "<table border=\"1\" class=\"dataframe\">\n",
       "  <thead>\n",
       "    <tr style=\"text-align: right;\">\n",
       "      <th></th>\n",
       "      <th>Item_Weight</th>\n",
       "      <th>Item_Fat_Content</th>\n",
       "      <th>Item_Visibility</th>\n",
       "      <th>Item_Type</th>\n",
       "      <th>Item_MRP</th>\n",
       "      <th>Outlet_Size</th>\n",
       "      <th>Outlet_Location_Type</th>\n",
       "      <th>Outlet_Type</th>\n",
       "      <th>Age</th>\n",
       "      <th>MRP_MMS</th>\n",
       "    </tr>\n",
       "  </thead>\n",
       "  <tbody>\n",
       "    <tr>\n",
       "      <th>0</th>\n",
       "      <td>9.30</td>\n",
       "      <td>1.0</td>\n",
       "      <td>0.016047</td>\n",
       "      <td>Dairy</td>\n",
       "      <td>249.8092</td>\n",
       "      <td>1.0</td>\n",
       "      <td>0.0</td>\n",
       "      <td>1.0</td>\n",
       "      <td>23</td>\n",
       "      <td>0.927507</td>\n",
       "    </tr>\n",
       "    <tr>\n",
       "      <th>1</th>\n",
       "      <td>5.92</td>\n",
       "      <td>2.0</td>\n",
       "      <td>0.019278</td>\n",
       "      <td>Soft Drinks</td>\n",
       "      <td>48.2692</td>\n",
       "      <td>1.0</td>\n",
       "      <td>2.0</td>\n",
       "      <td>2.0</td>\n",
       "      <td>13</td>\n",
       "      <td>0.072068</td>\n",
       "    </tr>\n",
       "    <tr>\n",
       "      <th>2</th>\n",
       "      <td>17.50</td>\n",
       "      <td>1.0</td>\n",
       "      <td>0.016760</td>\n",
       "      <td>Meat</td>\n",
       "      <td>141.6180</td>\n",
       "      <td>1.0</td>\n",
       "      <td>0.0</td>\n",
       "      <td>1.0</td>\n",
       "      <td>23</td>\n",
       "      <td>0.468288</td>\n",
       "    </tr>\n",
       "    <tr>\n",
       "      <th>3</th>\n",
       "      <td>19.20</td>\n",
       "      <td>2.0</td>\n",
       "      <td>0.000000</td>\n",
       "      <td>Fruits and Vegetables</td>\n",
       "      <td>182.0950</td>\n",
       "      <td>1.0</td>\n",
       "      <td>2.0</td>\n",
       "      <td>0.0</td>\n",
       "      <td>24</td>\n",
       "      <td>0.640093</td>\n",
       "    </tr>\n",
       "    <tr>\n",
       "      <th>4</th>\n",
       "      <td>8.93</td>\n",
       "      <td>1.0</td>\n",
       "      <td>0.000000</td>\n",
       "      <td>Household</td>\n",
       "      <td>53.8614</td>\n",
       "      <td>0.0</td>\n",
       "      <td>2.0</td>\n",
       "      <td>1.0</td>\n",
       "      <td>35</td>\n",
       "      <td>0.095805</td>\n",
       "    </tr>\n",
       "    <tr>\n",
       "      <th>...</th>\n",
       "      <td>...</td>\n",
       "      <td>...</td>\n",
       "      <td>...</td>\n",
       "      <td>...</td>\n",
       "      <td>...</td>\n",
       "      <td>...</td>\n",
       "      <td>...</td>\n",
       "      <td>...</td>\n",
       "      <td>...</td>\n",
       "      <td>...</td>\n",
       "    </tr>\n",
       "    <tr>\n",
       "      <th>5676</th>\n",
       "      <td>10.50</td>\n",
       "      <td>2.0</td>\n",
       "      <td>0.013496</td>\n",
       "      <td>Snack Foods</td>\n",
       "      <td>141.3154</td>\n",
       "      <td>2.0</td>\n",
       "      <td>0.0</td>\n",
       "      <td>1.0</td>\n",
       "      <td>25</td>\n",
       "      <td>0.467004</td>\n",
       "    </tr>\n",
       "    <tr>\n",
       "      <th>5677</th>\n",
       "      <td>7.60</td>\n",
       "      <td>2.0</td>\n",
       "      <td>0.142991</td>\n",
       "      <td>Starchy Foods</td>\n",
       "      <td>169.1448</td>\n",
       "      <td>1.0</td>\n",
       "      <td>2.0</td>\n",
       "      <td>2.0</td>\n",
       "      <td>13</td>\n",
       "      <td>0.585126</td>\n",
       "    </tr>\n",
       "    <tr>\n",
       "      <th>5678</th>\n",
       "      <td>10.00</td>\n",
       "      <td>1.0</td>\n",
       "      <td>0.073529</td>\n",
       "      <td>Health and Hygiene</td>\n",
       "      <td>118.7440</td>\n",
       "      <td>1.0</td>\n",
       "      <td>1.0</td>\n",
       "      <td>1.0</td>\n",
       "      <td>20</td>\n",
       "      <td>0.371199</td>\n",
       "    </tr>\n",
       "    <tr>\n",
       "      <th>5679</th>\n",
       "      <td>15.30</td>\n",
       "      <td>2.0</td>\n",
       "      <td>0.000000</td>\n",
       "      <td>Canned</td>\n",
       "      <td>214.6218</td>\n",
       "      <td>1.0</td>\n",
       "      <td>1.0</td>\n",
       "      <td>1.0</td>\n",
       "      <td>15</td>\n",
       "      <td>0.778154</td>\n",
       "    </tr>\n",
       "    <tr>\n",
       "      <th>5680</th>\n",
       "      <td>9.50</td>\n",
       "      <td>2.0</td>\n",
       "      <td>0.104720</td>\n",
       "      <td>Canned</td>\n",
       "      <td>79.7960</td>\n",
       "      <td>1.0</td>\n",
       "      <td>1.0</td>\n",
       "      <td>1.0</td>\n",
       "      <td>20</td>\n",
       "      <td>0.205884</td>\n",
       "    </tr>\n",
       "  </tbody>\n",
       "</table>\n",
       "<p>14204 rows × 10 columns</p>\n",
       "</div>"
      ],
      "text/plain": [
       "      Item_Weight  Item_Fat_Content  Item_Visibility              Item_Type  \\\n",
       "0            9.30               1.0         0.016047                  Dairy   \n",
       "1            5.92               2.0         0.019278            Soft Drinks   \n",
       "2           17.50               1.0         0.016760                   Meat   \n",
       "3           19.20               2.0         0.000000  Fruits and Vegetables   \n",
       "4            8.93               1.0         0.000000              Household   \n",
       "...           ...               ...              ...                    ...   \n",
       "5676        10.50               2.0         0.013496            Snack Foods   \n",
       "5677         7.60               2.0         0.142991          Starchy Foods   \n",
       "5678        10.00               1.0         0.073529     Health and Hygiene   \n",
       "5679        15.30               2.0         0.000000                 Canned   \n",
       "5680         9.50               2.0         0.104720                 Canned   \n",
       "\n",
       "      Item_MRP  Outlet_Size  Outlet_Location_Type  Outlet_Type  Age   MRP_MMS  \n",
       "0     249.8092          1.0                   0.0          1.0   23  0.927507  \n",
       "1      48.2692          1.0                   2.0          2.0   13  0.072068  \n",
       "2     141.6180          1.0                   0.0          1.0   23  0.468288  \n",
       "3     182.0950          1.0                   2.0          0.0   24  0.640093  \n",
       "4      53.8614          0.0                   2.0          1.0   35  0.095805  \n",
       "...        ...          ...                   ...          ...  ...       ...  \n",
       "5676  141.3154          2.0                   0.0          1.0   25  0.467004  \n",
       "5677  169.1448          1.0                   2.0          2.0   13  0.585126  \n",
       "5678  118.7440          1.0                   1.0          1.0   20  0.371199  \n",
       "5679  214.6218          1.0                   1.0          1.0   15  0.778154  \n",
       "5680   79.7960          1.0                   1.0          1.0   20  0.205884  \n",
       "\n",
       "[14204 rows x 10 columns]"
      ]
     },
     "execution_count": 48,
     "metadata": {},
     "output_type": "execute_result"
    }
   ],
   "source": [
    "df"
   ]
  },
  {
   "cell_type": "code",
   "execution_count": 49,
   "id": "d5151b83",
   "metadata": {
    "execution": {
     "iopub.execute_input": "2022-08-25T09:19:35.624925Z",
     "iopub.status.busy": "2022-08-25T09:19:35.624518Z",
     "iopub.status.idle": "2022-08-25T09:19:35.877484Z",
     "shell.execute_reply": "2022-08-25T09:19:35.876372Z"
    },
    "papermill": {
     "duration": 0.281468,
     "end_time": "2022-08-25T09:19:35.879817",
     "exception": false,
     "start_time": "2022-08-25T09:19:35.598349",
     "status": "completed"
    },
    "tags": []
   },
   "outputs": [
    {
     "data": {
      "text/plain": [
       "<AxesSubplot:>"
      ]
     },
     "execution_count": 49,
     "metadata": {},
     "output_type": "execute_result"
    },
    {
     "data": {
      "image/png": "[encoded data removed]",
      "text/plain": [
       "<Figure size 432x288 with 1 Axes>"
      ]
     },
     "metadata": {},
     "output_type": "display_data"
    }
   ],
   "source": [
    "df.MRP_MMS.hist()"
   ]
  },
  {
   "cell_type": "code",
   "execution_count": 50,
   "id": "d3d24fa8",
   "metadata": {
    "execution": {
     "iopub.execute_input": "2022-08-25T09:19:35.931924Z",
     "iopub.status.busy": "2022-08-25T09:19:35.931504Z",
     "iopub.status.idle": "2022-08-25T09:19:35.942931Z",
     "shell.execute_reply": "2022-08-25T09:19:35.941831Z"
    },
    "papermill": {
     "duration": 0.040083,
     "end_time": "2022-08-25T09:19:35.945155",
     "exception": false,
     "start_time": "2022-08-25T09:19:35.905072",
     "status": "completed"
    },
    "tags": []
   },
   "outputs": [],
   "source": [
    "from sklearn.preprocessing import StandardScaler\n",
    "scaler=StandardScaler()\n",
    "df['MRP_Std']=scaler.fit_transform(df[['Item_MRP']])"
   ]
  },
  {
   "cell_type": "code",
   "execution_count": 51,
   "id": "aea59055",
   "metadata": {
    "execution": {
     "iopub.execute_input": "2022-08-25T09:19:35.998305Z",
     "iopub.status.busy": "2022-08-25T09:19:35.997556Z",
     "iopub.status.idle": "2022-08-25T09:19:36.266028Z",
     "shell.execute_reply": "2022-08-25T09:19:36.264847Z"
    },
    "papermill": {
     "duration": 0.297706,
     "end_time": "2022-08-25T09:19:36.268475",
     "exception": false,
     "start_time": "2022-08-25T09:19:35.970769",
     "status": "completed"
    },
    "tags": []
   },
   "outputs": [
    {
     "data": {
      "text/plain": [
       "<AxesSubplot:>"
      ]
     },
     "execution_count": 51,
     "metadata": {},
     "output_type": "execute_result"
    },
    {
     "data": {
      "image/png": "[encoded data removed]",
      "text/plain": [
       "<Figure size 432x288 with 1 Axes>"
      ]
     },
     "metadata": {},
     "output_type": "display_data"
    }
   ],
   "source": [
    "df.MRP_Std.hist()"
   ]
  },
  {
   "cell_type": "code",
   "execution_count": 52,
   "id": "c934cb4c",
   "metadata": {
    "execution": {
     "iopub.execute_input": "2022-08-25T09:19:36.321979Z",
     "iopub.status.busy": "2022-08-25T09:19:36.321547Z",
     "iopub.status.idle": "2022-08-25T09:19:36.328042Z",
     "shell.execute_reply": "2022-08-25T09:19:36.327078Z"
    },
    "papermill": {
     "duration": 0.03601,
     "end_time": "2022-08-25T09:19:36.330384",
     "exception": false,
     "start_time": "2022-08-25T09:19:36.294374",
     "status": "completed"
    },
    "tags": []
   },
   "outputs": [],
   "source": [
    "df['MRP_LOG']=np.log(df.Item_MRP)"
   ]
  },
  {
   "cell_type": "code",
   "execution_count": 53,
   "id": "307da80c",
   "metadata": {
    "execution": {
     "iopub.execute_input": "2022-08-25T09:19:36.385562Z",
     "iopub.status.busy": "2022-08-25T09:19:36.384233Z",
     "iopub.status.idle": "2022-08-25T09:19:36.562138Z",
     "shell.execute_reply": "2022-08-25T09:19:36.560119Z"
    },
    "papermill": {
     "duration": 0.207818,
     "end_time": "2022-08-25T09:19:36.564891",
     "exception": false,
     "start_time": "2022-08-25T09:19:36.357073",
     "status": "completed"
    },
    "tags": []
   },
   "outputs": [
    {
     "data": {
      "text/plain": [
       "<AxesSubplot:>"
      ]
     },
     "execution_count": 53,
     "metadata": {},
     "output_type": "execute_result"
    },
    {
     "data": {
      "image/png": "[encoded data removed]",
      "text/plain": [
       "<Figure size 432x288 with 1 Axes>"
      ]
     },
     "metadata": {},
     "output_type": "display_data"
    }
   ],
   "source": [
    "df.MRP_LOG.hist()"
   ]
  },
  {
   "cell_type": "code",
   "execution_count": 54,
   "id": "cb251ee5",
   "metadata": {
    "execution": {
     "iopub.execute_input": "2022-08-25T09:19:36.618810Z",
     "iopub.status.busy": "2022-08-25T09:19:36.618417Z",
     "iopub.status.idle": "2022-08-25T09:19:36.624413Z",
     "shell.execute_reply": "2022-08-25T09:19:36.623422Z"
    },
    "papermill": {
     "duration": 0.035602,
     "end_time": "2022-08-25T09:19:36.626617",
     "exception": false,
     "start_time": "2022-08-25T09:19:36.591015",
     "status": "completed"
    },
    "tags": []
   },
   "outputs": [],
   "source": [
    "df['MRP_EXP']=(df.Item_MRP)**(1/1.2)"
   ]
  },
  {
   "cell_type": "code",
   "execution_count": 55,
   "id": "da772d37",
   "metadata": {
    "execution": {
     "iopub.execute_input": "2022-08-25T09:19:36.680785Z",
     "iopub.status.busy": "2022-08-25T09:19:36.680388Z",
     "iopub.status.idle": "2022-08-25T09:19:36.870178Z",
     "shell.execute_reply": "2022-08-25T09:19:36.868980Z"
    },
    "papermill": {
     "duration": 0.219588,
     "end_time": "2022-08-25T09:19:36.872736",
     "exception": false,
     "start_time": "2022-08-25T09:19:36.653148",
     "status": "completed"
    },
    "tags": []
   },
   "outputs": [
    {
     "data": {
      "text/plain": [
       "<AxesSubplot:>"
      ]
     },
     "execution_count": 55,
     "metadata": {},
     "output_type": "execute_result"
    },
    {
     "data": {
      "image/png": "[encoded data removed]",
      "text/plain": [
       "<Figure size 432x288 with 1 Axes>"
      ]
     },
     "metadata": {},
     "output_type": "display_data"
    }
   ],
   "source": [
    "df.MRP_EXP.hist()"
   ]
  },
  {
   "cell_type": "code",
   "execution_count": 56,
   "id": "8f9e429d",
   "metadata": {
    "execution": {
     "iopub.execute_input": "2022-08-25T09:19:36.928430Z",
     "iopub.status.busy": "2022-08-25T09:19:36.927723Z",
     "iopub.status.idle": "2022-08-25T09:19:36.933613Z",
     "shell.execute_reply": "2022-08-25T09:19:36.932865Z"
    },
    "papermill": {
     "duration": 0.036093,
     "end_time": "2022-08-25T09:19:36.935563",
     "exception": false,
     "start_time": "2022-08-25T09:19:36.899470",
     "status": "completed"
    },
    "tags": []
   },
   "outputs": [
    {
     "data": {
      "text/plain": [
       "Index(['Item_Weight', 'Item_Fat_Content', 'Item_Visibility', 'Item_Type',\n",
       "       'Item_MRP', 'Outlet_Size', 'Outlet_Location_Type', 'Outlet_Type', 'Age',\n",
       "       'MRP_MMS', 'MRP_Std', 'MRP_LOG', 'MRP_EXP'],\n",
       "      dtype='object')"
      ]
     },
     "execution_count": 56,
     "metadata": {},
     "output_type": "execute_result"
    }
   ],
   "source": [
    "df.columns"
   ]
  },
  {
   "cell_type": "code",
   "execution_count": 57,
   "id": "17f0e647",
   "metadata": {
    "execution": {
     "iopub.execute_input": "2022-08-25T09:19:36.991767Z",
     "iopub.status.busy": "2022-08-25T09:19:36.991328Z",
     "iopub.status.idle": "2022-08-25T09:19:36.997522Z",
     "shell.execute_reply": "2022-08-25T09:19:36.996829Z"
    },
    "papermill": {
     "duration": 0.036528,
     "end_time": "2022-08-25T09:19:36.999779",
     "exception": false,
     "start_time": "2022-08-25T09:19:36.963251",
     "status": "completed"
    },
    "tags": []
   },
   "outputs": [
    {
     "data": {
      "text/plain": [
       "Index(['Item_Weight', 'Item_Fat_Content', 'Item_Visibility', 'Item_MRP',\n",
       "       'Outlet_Size', 'Outlet_Location_Type', 'Outlet_Type', 'Age', 'Breads',\n",
       "       'Breakfast', 'Canned', 'Dairy', 'Frozen Foods', 'Fruits and Vegetables',\n",
       "       'Hard Drinks', 'Health and Hygiene', 'Household', 'Meat', 'Others',\n",
       "       'Seafood', 'Snack Foods', 'Soft Drinks', 'Starchy Foods'],\n",
       "      dtype='object')"
      ]
     },
     "execution_count": 57,
     "metadata": {},
     "output_type": "execute_result"
    }
   ],
   "source": [
    "df_all.columns"
   ]
  },
  {
   "cell_type": "code",
   "execution_count": 58,
   "id": "83da9b18",
   "metadata": {
    "execution": {
     "iopub.execute_input": "2022-08-25T09:19:37.055492Z",
     "iopub.status.busy": "2022-08-25T09:19:37.055080Z",
     "iopub.status.idle": "2022-08-25T09:19:37.061748Z",
     "shell.execute_reply": "2022-08-25T09:19:37.060816Z"
    },
    "papermill": {
     "duration": 0.037091,
     "end_time": "2022-08-25T09:19:37.064034",
     "exception": false,
     "start_time": "2022-08-25T09:19:37.026943",
     "status": "completed"
    },
    "tags": []
   },
   "outputs": [],
   "source": [
    "df_all['MRP_MMS']=df.MRP_MMS"
   ]
  },
  {
   "cell_type": "code",
   "execution_count": 59,
   "id": "150d10e6",
   "metadata": {
    "execution": {
     "iopub.execute_input": "2022-08-25T09:19:37.119911Z",
     "iopub.status.busy": "2022-08-25T09:19:37.119151Z",
     "iopub.status.idle": "2022-08-25T09:19:37.126677Z",
     "shell.execute_reply": "2022-08-25T09:19:37.125951Z"
    },
    "papermill": {
     "duration": 0.037766,
     "end_time": "2022-08-25T09:19:37.128917",
     "exception": false,
     "start_time": "2022-08-25T09:19:37.091151",
     "status": "completed"
    },
    "tags": []
   },
   "outputs": [],
   "source": [
    "df_all.drop(['Item_MRP'],axis=1,inplace=True)"
   ]
  },
  {
   "cell_type": "code",
   "execution_count": 60,
   "id": "cbddd798",
   "metadata": {
    "execution": {
     "iopub.execute_input": "2022-08-25T09:19:37.183905Z",
     "iopub.status.busy": "2022-08-25T09:19:37.183496Z",
     "iopub.status.idle": "2022-08-25T09:19:37.210826Z",
     "shell.execute_reply": "2022-08-25T09:19:37.209689Z"
    },
    "papermill": {
     "duration": 0.057834,
     "end_time": "2022-08-25T09:19:37.213278",
     "exception": false,
     "start_time": "2022-08-25T09:19:37.155444",
     "status": "completed"
    },
    "tags": []
   },
   "outputs": [
    {
     "data": {
      "text/html": [
       "<div>\n",
       "<style scoped>\n",
       "    .dataframe tbody tr th:only-of-type {\n",
       "        vertical-align: middle;\n",
       "    }\n",
       "\n",
       "    .dataframe tbody tr th {\n",
       "        vertical-align: top;\n",
       "    }\n",
       "\n",
       "    .dataframe thead th {\n",
       "        text-align: right;\n",
       "    }\n",
       "</style>\n",
       "<table border=\"1\" class=\"dataframe\">\n",
       "  <thead>\n",
       "    <tr style=\"text-align: right;\">\n",
       "      <th></th>\n",
       "      <th>Item_Weight</th>\n",
       "      <th>Item_Fat_Content</th>\n",
       "      <th>Item_Visibility</th>\n",
       "      <th>Outlet_Size</th>\n",
       "      <th>Outlet_Location_Type</th>\n",
       "      <th>Outlet_Type</th>\n",
       "      <th>Age</th>\n",
       "      <th>Breads</th>\n",
       "      <th>Breakfast</th>\n",
       "      <th>Canned</th>\n",
       "      <th>Dairy</th>\n",
       "      <th>Frozen Foods</th>\n",
       "      <th>Fruits and Vegetables</th>\n",
       "      <th>Hard Drinks</th>\n",
       "      <th>Health and Hygiene</th>\n",
       "      <th>Household</th>\n",
       "      <th>Meat</th>\n",
       "      <th>Others</th>\n",
       "      <th>Seafood</th>\n",
       "      <th>Snack Foods</th>\n",
       "      <th>Soft Drinks</th>\n",
       "      <th>Starchy Foods</th>\n",
       "      <th>MRP_MMS</th>\n",
       "    </tr>\n",
       "  </thead>\n",
       "  <tbody>\n",
       "    <tr>\n",
       "      <th>0</th>\n",
       "      <td>9.30</td>\n",
       "      <td>1.0</td>\n",
       "      <td>0.016047</td>\n",
       "      <td>1.0</td>\n",
       "      <td>0.0</td>\n",
       "      <td>1.0</td>\n",
       "      <td>23</td>\n",
       "      <td>0</td>\n",
       "      <td>0</td>\n",
       "      <td>0</td>\n",
       "      <td>1</td>\n",
       "      <td>0</td>\n",
       "      <td>0</td>\n",
       "      <td>0</td>\n",
       "      <td>0</td>\n",
       "      <td>0</td>\n",
       "      <td>0</td>\n",
       "      <td>0</td>\n",
       "      <td>0</td>\n",
       "      <td>0</td>\n",
       "      <td>0</td>\n",
       "      <td>0</td>\n",
       "      <td>0.927507</td>\n",
       "    </tr>\n",
       "    <tr>\n",
       "      <th>1</th>\n",
       "      <td>5.92</td>\n",
       "      <td>2.0</td>\n",
       "      <td>0.019278</td>\n",
       "      <td>1.0</td>\n",
       "      <td>2.0</td>\n",
       "      <td>2.0</td>\n",
       "      <td>13</td>\n",
       "      <td>0</td>\n",
       "      <td>0</td>\n",
       "      <td>0</td>\n",
       "      <td>0</td>\n",
       "      <td>0</td>\n",
       "      <td>0</td>\n",
       "      <td>0</td>\n",
       "      <td>0</td>\n",
       "      <td>0</td>\n",
       "      <td>0</td>\n",
       "      <td>0</td>\n",
       "      <td>0</td>\n",
       "      <td>0</td>\n",
       "      <td>1</td>\n",
       "      <td>0</td>\n",
       "      <td>0.072068</td>\n",
       "    </tr>\n",
       "    <tr>\n",
       "      <th>2</th>\n",
       "      <td>17.50</td>\n",
       "      <td>1.0</td>\n",
       "      <td>0.016760</td>\n",
       "      <td>1.0</td>\n",
       "      <td>0.0</td>\n",
       "      <td>1.0</td>\n",
       "      <td>23</td>\n",
       "      <td>0</td>\n",
       "      <td>0</td>\n",
       "      <td>0</td>\n",
       "      <td>0</td>\n",
       "      <td>0</td>\n",
       "      <td>0</td>\n",
       "      <td>0</td>\n",
       "      <td>0</td>\n",
       "      <td>0</td>\n",
       "      <td>1</td>\n",
       "      <td>0</td>\n",
       "      <td>0</td>\n",
       "      <td>0</td>\n",
       "      <td>0</td>\n",
       "      <td>0</td>\n",
       "      <td>0.468288</td>\n",
       "    </tr>\n",
       "    <tr>\n",
       "      <th>3</th>\n",
       "      <td>19.20</td>\n",
       "      <td>2.0</td>\n",
       "      <td>0.000000</td>\n",
       "      <td>1.0</td>\n",
       "      <td>2.0</td>\n",
       "      <td>0.0</td>\n",
       "      <td>24</td>\n",
       "      <td>0</td>\n",
       "      <td>0</td>\n",
       "      <td>0</td>\n",
       "      <td>0</td>\n",
       "      <td>0</td>\n",
       "      <td>1</td>\n",
       "      <td>0</td>\n",
       "      <td>0</td>\n",
       "      <td>0</td>\n",
       "      <td>0</td>\n",
       "      <td>0</td>\n",
       "      <td>0</td>\n",
       "      <td>0</td>\n",
       "      <td>0</td>\n",
       "      <td>0</td>\n",
       "      <td>0.640093</td>\n",
       "    </tr>\n",
       "    <tr>\n",
       "      <th>4</th>\n",
       "      <td>8.93</td>\n",
       "      <td>1.0</td>\n",
       "      <td>0.000000</td>\n",
       "      <td>0.0</td>\n",
       "      <td>2.0</td>\n",
       "      <td>1.0</td>\n",
       "      <td>35</td>\n",
       "      <td>0</td>\n",
       "      <td>0</td>\n",
       "      <td>0</td>\n",
       "      <td>0</td>\n",
       "      <td>0</td>\n",
       "      <td>0</td>\n",
       "      <td>0</td>\n",
       "      <td>0</td>\n",
       "      <td>1</td>\n",
       "      <td>0</td>\n",
       "      <td>0</td>\n",
       "      <td>0</td>\n",
       "      <td>0</td>\n",
       "      <td>0</td>\n",
       "      <td>0</td>\n",
       "      <td>0.095805</td>\n",
       "    </tr>\n",
       "    <tr>\n",
       "      <th>...</th>\n",
       "      <td>...</td>\n",
       "      <td>...</td>\n",
       "      <td>...</td>\n",
       "      <td>...</td>\n",
       "      <td>...</td>\n",
       "      <td>...</td>\n",
       "      <td>...</td>\n",
       "      <td>...</td>\n",
       "      <td>...</td>\n",
       "      <td>...</td>\n",
       "      <td>...</td>\n",
       "      <td>...</td>\n",
       "      <td>...</td>\n",
       "      <td>...</td>\n",
       "      <td>...</td>\n",
       "      <td>...</td>\n",
       "      <td>...</td>\n",
       "      <td>...</td>\n",
       "      <td>...</td>\n",
       "      <td>...</td>\n",
       "      <td>...</td>\n",
       "      <td>...</td>\n",
       "      <td>...</td>\n",
       "    </tr>\n",
       "    <tr>\n",
       "      <th>5676</th>\n",
       "      <td>10.50</td>\n",
       "      <td>2.0</td>\n",
       "      <td>0.013496</td>\n",
       "      <td>2.0</td>\n",
       "      <td>0.0</td>\n",
       "      <td>1.0</td>\n",
       "      <td>25</td>\n",
       "      <td>0</td>\n",
       "      <td>0</td>\n",
       "      <td>0</td>\n",
       "      <td>0</td>\n",
       "      <td>0</td>\n",
       "      <td>0</td>\n",
       "      <td>0</td>\n",
       "      <td>0</td>\n",
       "      <td>0</td>\n",
       "      <td>0</td>\n",
       "      <td>0</td>\n",
       "      <td>0</td>\n",
       "      <td>1</td>\n",
       "      <td>0</td>\n",
       "      <td>0</td>\n",
       "      <td>0.467004</td>\n",
       "    </tr>\n",
       "    <tr>\n",
       "      <th>5677</th>\n",
       "      <td>7.60</td>\n",
       "      <td>2.0</td>\n",
       "      <td>0.142991</td>\n",
       "      <td>1.0</td>\n",
       "      <td>2.0</td>\n",
       "      <td>2.0</td>\n",
       "      <td>13</td>\n",
       "      <td>0</td>\n",
       "      <td>0</td>\n",
       "      <td>0</td>\n",
       "      <td>0</td>\n",
       "      <td>0</td>\n",
       "      <td>0</td>\n",
       "      <td>0</td>\n",
       "      <td>0</td>\n",
       "      <td>0</td>\n",
       "      <td>0</td>\n",
       "      <td>0</td>\n",
       "      <td>0</td>\n",
       "      <td>0</td>\n",
       "      <td>0</td>\n",
       "      <td>1</td>\n",
       "      <td>0.585126</td>\n",
       "    </tr>\n",
       "    <tr>\n",
       "      <th>5678</th>\n",
       "      <td>10.00</td>\n",
       "      <td>1.0</td>\n",
       "      <td>0.073529</td>\n",
       "      <td>1.0</td>\n",
       "      <td>1.0</td>\n",
       "      <td>1.0</td>\n",
       "      <td>20</td>\n",
       "      <td>0</td>\n",
       "      <td>0</td>\n",
       "      <td>0</td>\n",
       "      <td>0</td>\n",
       "      <td>0</td>\n",
       "      <td>0</td>\n",
       "      <td>0</td>\n",
       "      <td>1</td>\n",
       "      <td>0</td>\n",
       "      <td>0</td>\n",
       "      <td>0</td>\n",
       "      <td>0</td>\n",
       "      <td>0</td>\n",
       "      <td>0</td>\n",
       "      <td>0</td>\n",
       "      <td>0.371199</td>\n",
       "    </tr>\n",
       "    <tr>\n",
       "      <th>5679</th>\n",
       "      <td>15.30</td>\n",
       "      <td>2.0</td>\n",
       "      <td>0.000000</td>\n",
       "      <td>1.0</td>\n",
       "      <td>1.0</td>\n",
       "      <td>1.0</td>\n",
       "      <td>15</td>\n",
       "      <td>0</td>\n",
       "      <td>0</td>\n",
       "      <td>1</td>\n",
       "      <td>0</td>\n",
       "      <td>0</td>\n",
       "      <td>0</td>\n",
       "      <td>0</td>\n",
       "      <td>0</td>\n",
       "      <td>0</td>\n",
       "      <td>0</td>\n",
       "      <td>0</td>\n",
       "      <td>0</td>\n",
       "      <td>0</td>\n",
       "      <td>0</td>\n",
       "      <td>0</td>\n",
       "      <td>0.778154</td>\n",
       "    </tr>\n",
       "    <tr>\n",
       "      <th>5680</th>\n",
       "      <td>9.50</td>\n",
       "      <td>2.0</td>\n",
       "      <td>0.104720</td>\n",
       "      <td>1.0</td>\n",
       "      <td>1.0</td>\n",
       "      <td>1.0</td>\n",
       "      <td>20</td>\n",
       "      <td>0</td>\n",
       "      <td>0</td>\n",
       "      <td>1</td>\n",
       "      <td>0</td>\n",
       "      <td>0</td>\n",
       "      <td>0</td>\n",
       "      <td>0</td>\n",
       "      <td>0</td>\n",
       "      <td>0</td>\n",
       "      <td>0</td>\n",
       "      <td>0</td>\n",
       "      <td>0</td>\n",
       "      <td>0</td>\n",
       "      <td>0</td>\n",
       "      <td>0</td>\n",
       "      <td>0.205884</td>\n",
       "    </tr>\n",
       "  </tbody>\n",
       "</table>\n",
       "<p>14204 rows × 23 columns</p>\n",
       "</div>"
      ],
      "text/plain": [
       "      Item_Weight  Item_Fat_Content  Item_Visibility  Outlet_Size  \\\n",
       "0            9.30               1.0         0.016047          1.0   \n",
       "1            5.92               2.0         0.019278          1.0   \n",
       "2           17.50               1.0         0.016760          1.0   \n",
       "3           19.20               2.0         0.000000          1.0   \n",
       "4            8.93               1.0         0.000000          0.0   \n",
       "...           ...               ...              ...          ...   \n",
       "5676        10.50               2.0         0.013496          2.0   \n",
       "5677         7.60               2.0         0.142991          1.0   \n",
       "5678        10.00               1.0         0.073529          1.0   \n",
       "5679        15.30               2.0         0.000000          1.0   \n",
       "5680         9.50               2.0         0.104720          1.0   \n",
       "\n",
       "      Outlet_Location_Type  Outlet_Type  Age  Breads  Breakfast  Canned  \\\n",
       "0                      0.0          1.0   23       0          0       0   \n",
       "1                      2.0          2.0   13       0          0       0   \n",
       "2                      0.0          1.0   23       0          0       0   \n",
       "3                      2.0          0.0   24       0          0       0   \n",
       "4                      2.0          1.0   35       0          0       0   \n",
       "...                    ...          ...  ...     ...        ...     ...   \n",
       "5676                   0.0          1.0   25       0          0       0   \n",
       "5677                   2.0          2.0   13       0          0       0   \n",
       "5678                   1.0          1.0   20       0          0       0   \n",
       "5679                   1.0          1.0   15       0          0       1   \n",
       "5680                   1.0          1.0   20       0          0       1   \n",
       "\n",
       "      Dairy  Frozen Foods  Fruits and Vegetables  Hard Drinks  \\\n",
       "0         1             0                      0            0   \n",
       "1         0             0                      0            0   \n",
       "2         0             0                      0            0   \n",
       "3         0             0                      1            0   \n",
       "4         0             0                      0            0   \n",
       "...     ...           ...                    ...          ...   \n",
       "5676      0             0                      0            0   \n",
       "5677      0             0                      0            0   \n",
       "5678      0             0                      0            0   \n",
       "5679      0             0                      0            0   \n",
       "5680      0             0                      0            0   \n",
       "\n",
       "      Health and Hygiene  Household  Meat  Others  Seafood  Snack Foods  \\\n",
       "0                      0          0     0       0        0            0   \n",
       "1                      0          0     0       0        0            0   \n",
       "2                      0          0     1       0        0            0   \n",
       "3                      0          0     0       0        0            0   \n",
       "4                      0          1     0       0        0            0   \n",
       "...                  ...        ...   ...     ...      ...          ...   \n",
       "5676                   0          0     0       0        0            1   \n",
       "5677                   0          0     0       0        0            0   \n",
       "5678                   1          0     0       0        0            0   \n",
       "5679                   0          0     0       0        0            0   \n",
       "5680                   0          0     0       0        0            0   \n",
       "\n",
       "      Soft Drinks  Starchy Foods   MRP_MMS  \n",
       "0               0              0  0.927507  \n",
       "1               1              0  0.072068  \n",
       "2               0              0  0.468288  \n",
       "3               0              0  0.640093  \n",
       "4               0              0  0.095805  \n",
       "...           ...            ...       ...  \n",
       "5676            0              0  0.467004  \n",
       "5677            0              1  0.585126  \n",
       "5678            0              0  0.371199  \n",
       "5679            0              0  0.778154  \n",
       "5680            0              0  0.205884  \n",
       "\n",
       "[14204 rows x 23 columns]"
      ]
     },
     "execution_count": 60,
     "metadata": {},
     "output_type": "execute_result"
    }
   ],
   "source": [
    "df_all"
   ]
  },
  {
   "cell_type": "code",
   "execution_count": 61,
   "id": "01f8581a",
   "metadata": {
    "execution": {
     "iopub.execute_input": "2022-08-25T09:19:37.270448Z",
     "iopub.status.busy": "2022-08-25T09:19:37.269702Z",
     "iopub.status.idle": "2022-08-25T09:19:37.465295Z",
     "shell.execute_reply": "2022-08-25T09:19:37.463910Z"
    },
    "papermill": {
     "duration": 0.227294,
     "end_time": "2022-08-25T09:19:37.467754",
     "exception": false,
     "start_time": "2022-08-25T09:19:37.240460",
     "status": "completed"
    },
    "tags": []
   },
   "outputs": [
    {
     "data": {
      "text/plain": [
       "<AxesSubplot:>"
      ]
     },
     "execution_count": 61,
     "metadata": {},
     "output_type": "execute_result"
    },
    {
     "data": {
      "image/png": "[encoded data removed]",
      "text/plain": [
       "<Figure size 432x288 with 1 Axes>"
      ]
     },
     "metadata": {},
     "output_type": "display_data"
    }
   ],
   "source": [
    "df.Item_Weight.hist()"
   ]
  },
  {
   "cell_type": "code",
   "execution_count": 62,
   "id": "6b1c9e8e",
   "metadata": {
    "execution": {
     "iopub.execute_input": "2022-08-25T09:19:37.524336Z",
     "iopub.status.busy": "2022-08-25T09:19:37.523961Z",
     "iopub.status.idle": "2022-08-25T09:19:37.533472Z",
     "shell.execute_reply": "2022-08-25T09:19:37.532702Z"
    },
    "papermill": {
     "duration": 0.040449,
     "end_time": "2022-08-25T09:19:37.535680",
     "exception": false,
     "start_time": "2022-08-25T09:19:37.495231",
     "status": "completed"
    },
    "tags": []
   },
   "outputs": [],
   "source": [
    "mms_scaler=MinMaxScaler()\n",
    "df_all['Item_Weight_MMS']=mms_scaler.fit_transform(df_all[['Item_Weight']])"
   ]
  },
  {
   "cell_type": "code",
   "execution_count": 63,
   "id": "5e05a099",
   "metadata": {
    "execution": {
     "iopub.execute_input": "2022-08-25T09:19:37.592162Z",
     "iopub.status.busy": "2022-08-25T09:19:37.591757Z",
     "iopub.status.idle": "2022-08-25T09:19:37.839933Z",
     "shell.execute_reply": "2022-08-25T09:19:37.838806Z"
    },
    "papermill": {
     "duration": 0.279263,
     "end_time": "2022-08-25T09:19:37.842509",
     "exception": false,
     "start_time": "2022-08-25T09:19:37.563246",
     "status": "completed"
    },
    "tags": []
   },
   "outputs": [
    {
     "data": {
      "text/plain": [
       "<AxesSubplot:>"
      ]
     },
     "execution_count": 63,
     "metadata": {},
     "output_type": "execute_result"
    },
    {
     "data": {
      "image/png": "[encoded data removed]",
      "text/plain": [
       "<Figure size 432x288 with 1 Axes>"
      ]
     },
     "metadata": {},
     "output_type": "display_data"
    }
   ],
   "source": [
    "df_all.Item_Weight_MMS.hist()"
   ]
  },
  {
   "cell_type": "code",
   "execution_count": 64,
   "id": "c7923da4",
   "metadata": {
    "execution": {
     "iopub.execute_input": "2022-08-25T09:19:37.899709Z",
     "iopub.status.busy": "2022-08-25T09:19:37.899285Z",
     "iopub.status.idle": "2022-08-25T09:19:37.906933Z",
     "shell.execute_reply": "2022-08-25T09:19:37.905943Z"
    },
    "papermill": {
     "duration": 0.039083,
     "end_time": "2022-08-25T09:19:37.909141",
     "exception": false,
     "start_time": "2022-08-25T09:19:37.870058",
     "status": "completed"
    },
    "tags": []
   },
   "outputs": [],
   "source": [
    "df_all.drop(['Item_Weight'],axis=1,inplace=True)"
   ]
  },
  {
   "cell_type": "code",
   "execution_count": 65,
   "id": "a0dec852",
   "metadata": {
    "execution": {
     "iopub.execute_input": "2022-08-25T09:19:37.966510Z",
     "iopub.status.busy": "2022-08-25T09:19:37.965806Z",
     "iopub.status.idle": "2022-08-25T09:19:37.993123Z",
     "shell.execute_reply": "2022-08-25T09:19:37.991732Z"
    },
    "papermill": {
     "duration": 0.058829,
     "end_time": "2022-08-25T09:19:37.995618",
     "exception": false,
     "start_time": "2022-08-25T09:19:37.936789",
     "status": "completed"
    },
    "tags": []
   },
   "outputs": [
    {
     "data": {
      "text/html": [
       "<div>\n",
       "<style scoped>\n",
       "    .dataframe tbody tr th:only-of-type {\n",
       "        vertical-align: middle;\n",
       "    }\n",
       "\n",
       "    .dataframe tbody tr th {\n",
       "        vertical-align: top;\n",
       "    }\n",
       "\n",
       "    .dataframe thead th {\n",
       "        text-align: right;\n",
       "    }\n",
       "</style>\n",
       "<table border=\"1\" class=\"dataframe\">\n",
       "  <thead>\n",
       "    <tr style=\"text-align: right;\">\n",
       "      <th></th>\n",
       "      <th>Item_Fat_Content</th>\n",
       "      <th>Item_Visibility</th>\n",
       "      <th>Outlet_Size</th>\n",
       "      <th>Outlet_Location_Type</th>\n",
       "      <th>Outlet_Type</th>\n",
       "      <th>Age</th>\n",
       "      <th>Breads</th>\n",
       "      <th>Breakfast</th>\n",
       "      <th>Canned</th>\n",
       "      <th>Dairy</th>\n",
       "      <th>Frozen Foods</th>\n",
       "      <th>Fruits and Vegetables</th>\n",
       "      <th>Hard Drinks</th>\n",
       "      <th>Health and Hygiene</th>\n",
       "      <th>Household</th>\n",
       "      <th>Meat</th>\n",
       "      <th>Others</th>\n",
       "      <th>Seafood</th>\n",
       "      <th>Snack Foods</th>\n",
       "      <th>Soft Drinks</th>\n",
       "      <th>Starchy Foods</th>\n",
       "      <th>MRP_MMS</th>\n",
       "      <th>Item_Weight_MMS</th>\n",
       "    </tr>\n",
       "  </thead>\n",
       "  <tbody>\n",
       "    <tr>\n",
       "      <th>0</th>\n",
       "      <td>1.0</td>\n",
       "      <td>0.016047</td>\n",
       "      <td>1.0</td>\n",
       "      <td>0.0</td>\n",
       "      <td>1.0</td>\n",
       "      <td>23</td>\n",
       "      <td>0</td>\n",
       "      <td>0</td>\n",
       "      <td>0</td>\n",
       "      <td>1</td>\n",
       "      <td>0</td>\n",
       "      <td>0</td>\n",
       "      <td>0</td>\n",
       "      <td>0</td>\n",
       "      <td>0</td>\n",
       "      <td>0</td>\n",
       "      <td>0</td>\n",
       "      <td>0</td>\n",
       "      <td>0</td>\n",
       "      <td>0</td>\n",
       "      <td>0</td>\n",
       "      <td>0.927507</td>\n",
       "      <td>0.282525</td>\n",
       "    </tr>\n",
       "    <tr>\n",
       "      <th>1</th>\n",
       "      <td>2.0</td>\n",
       "      <td>0.019278</td>\n",
       "      <td>1.0</td>\n",
       "      <td>2.0</td>\n",
       "      <td>2.0</td>\n",
       "      <td>13</td>\n",
       "      <td>0</td>\n",
       "      <td>0</td>\n",
       "      <td>0</td>\n",
       "      <td>0</td>\n",
       "      <td>0</td>\n",
       "      <td>0</td>\n",
       "      <td>0</td>\n",
       "      <td>0</td>\n",
       "      <td>0</td>\n",
       "      <td>0</td>\n",
       "      <td>0</td>\n",
       "      <td>0</td>\n",
       "      <td>0</td>\n",
       "      <td>1</td>\n",
       "      <td>0</td>\n",
       "      <td>0.072068</td>\n",
       "      <td>0.081274</td>\n",
       "    </tr>\n",
       "    <tr>\n",
       "      <th>2</th>\n",
       "      <td>1.0</td>\n",
       "      <td>0.016760</td>\n",
       "      <td>1.0</td>\n",
       "      <td>0.0</td>\n",
       "      <td>1.0</td>\n",
       "      <td>23</td>\n",
       "      <td>0</td>\n",
       "      <td>0</td>\n",
       "      <td>0</td>\n",
       "      <td>0</td>\n",
       "      <td>0</td>\n",
       "      <td>0</td>\n",
       "      <td>0</td>\n",
       "      <td>0</td>\n",
       "      <td>0</td>\n",
       "      <td>1</td>\n",
       "      <td>0</td>\n",
       "      <td>0</td>\n",
       "      <td>0</td>\n",
       "      <td>0</td>\n",
       "      <td>0</td>\n",
       "      <td>0.468288</td>\n",
       "      <td>0.770765</td>\n",
       "    </tr>\n",
       "    <tr>\n",
       "      <th>3</th>\n",
       "      <td>2.0</td>\n",
       "      <td>0.000000</td>\n",
       "      <td>1.0</td>\n",
       "      <td>2.0</td>\n",
       "      <td>0.0</td>\n",
       "      <td>24</td>\n",
       "      <td>0</td>\n",
       "      <td>0</td>\n",
       "      <td>0</td>\n",
       "      <td>0</td>\n",
       "      <td>0</td>\n",
       "      <td>1</td>\n",
       "      <td>0</td>\n",
       "      <td>0</td>\n",
       "      <td>0</td>\n",
       "      <td>0</td>\n",
       "      <td>0</td>\n",
       "      <td>0</td>\n",
       "      <td>0</td>\n",
       "      <td>0</td>\n",
       "      <td>0</td>\n",
       "      <td>0.640093</td>\n",
       "      <td>0.871986</td>\n",
       "    </tr>\n",
       "    <tr>\n",
       "      <th>4</th>\n",
       "      <td>1.0</td>\n",
       "      <td>0.000000</td>\n",
       "      <td>0.0</td>\n",
       "      <td>2.0</td>\n",
       "      <td>1.0</td>\n",
       "      <td>35</td>\n",
       "      <td>0</td>\n",
       "      <td>0</td>\n",
       "      <td>0</td>\n",
       "      <td>0</td>\n",
       "      <td>0</td>\n",
       "      <td>0</td>\n",
       "      <td>0</td>\n",
       "      <td>0</td>\n",
       "      <td>1</td>\n",
       "      <td>0</td>\n",
       "      <td>0</td>\n",
       "      <td>0</td>\n",
       "      <td>0</td>\n",
       "      <td>0</td>\n",
       "      <td>0</td>\n",
       "      <td>0.095805</td>\n",
       "      <td>0.260494</td>\n",
       "    </tr>\n",
       "    <tr>\n",
       "      <th>...</th>\n",
       "      <td>...</td>\n",
       "      <td>...</td>\n",
       "      <td>...</td>\n",
       "      <td>...</td>\n",
       "      <td>...</td>\n",
       "      <td>...</td>\n",
       "      <td>...</td>\n",
       "      <td>...</td>\n",
       "      <td>...</td>\n",
       "      <td>...</td>\n",
       "      <td>...</td>\n",
       "      <td>...</td>\n",
       "      <td>...</td>\n",
       "      <td>...</td>\n",
       "      <td>...</td>\n",
       "      <td>...</td>\n",
       "      <td>...</td>\n",
       "      <td>...</td>\n",
       "      <td>...</td>\n",
       "      <td>...</td>\n",
       "      <td>...</td>\n",
       "      <td>...</td>\n",
       "      <td>...</td>\n",
       "    </tr>\n",
       "    <tr>\n",
       "      <th>5676</th>\n",
       "      <td>2.0</td>\n",
       "      <td>0.013496</td>\n",
       "      <td>2.0</td>\n",
       "      <td>0.0</td>\n",
       "      <td>1.0</td>\n",
       "      <td>25</td>\n",
       "      <td>0</td>\n",
       "      <td>0</td>\n",
       "      <td>0</td>\n",
       "      <td>0</td>\n",
       "      <td>0</td>\n",
       "      <td>0</td>\n",
       "      <td>0</td>\n",
       "      <td>0</td>\n",
       "      <td>0</td>\n",
       "      <td>0</td>\n",
       "      <td>0</td>\n",
       "      <td>0</td>\n",
       "      <td>1</td>\n",
       "      <td>0</td>\n",
       "      <td>0</td>\n",
       "      <td>0.467004</td>\n",
       "      <td>0.353974</td>\n",
       "    </tr>\n",
       "    <tr>\n",
       "      <th>5677</th>\n",
       "      <td>2.0</td>\n",
       "      <td>0.142991</td>\n",
       "      <td>1.0</td>\n",
       "      <td>2.0</td>\n",
       "      <td>2.0</td>\n",
       "      <td>13</td>\n",
       "      <td>0</td>\n",
       "      <td>0</td>\n",
       "      <td>0</td>\n",
       "      <td>0</td>\n",
       "      <td>0</td>\n",
       "      <td>0</td>\n",
       "      <td>0</td>\n",
       "      <td>0</td>\n",
       "      <td>0</td>\n",
       "      <td>0</td>\n",
       "      <td>0</td>\n",
       "      <td>0</td>\n",
       "      <td>0</td>\n",
       "      <td>0</td>\n",
       "      <td>1</td>\n",
       "      <td>0.585126</td>\n",
       "      <td>0.181304</td>\n",
       "    </tr>\n",
       "    <tr>\n",
       "      <th>5678</th>\n",
       "      <td>1.0</td>\n",
       "      <td>0.073529</td>\n",
       "      <td>1.0</td>\n",
       "      <td>1.0</td>\n",
       "      <td>1.0</td>\n",
       "      <td>20</td>\n",
       "      <td>0</td>\n",
       "      <td>0</td>\n",
       "      <td>0</td>\n",
       "      <td>0</td>\n",
       "      <td>0</td>\n",
       "      <td>0</td>\n",
       "      <td>0</td>\n",
       "      <td>1</td>\n",
       "      <td>0</td>\n",
       "      <td>0</td>\n",
       "      <td>0</td>\n",
       "      <td>0</td>\n",
       "      <td>0</td>\n",
       "      <td>0</td>\n",
       "      <td>0</td>\n",
       "      <td>0.371199</td>\n",
       "      <td>0.324204</td>\n",
       "    </tr>\n",
       "    <tr>\n",
       "      <th>5679</th>\n",
       "      <td>2.0</td>\n",
       "      <td>0.000000</td>\n",
       "      <td>1.0</td>\n",
       "      <td>1.0</td>\n",
       "      <td>1.0</td>\n",
       "      <td>15</td>\n",
       "      <td>0</td>\n",
       "      <td>0</td>\n",
       "      <td>1</td>\n",
       "      <td>0</td>\n",
       "      <td>0</td>\n",
       "      <td>0</td>\n",
       "      <td>0</td>\n",
       "      <td>0</td>\n",
       "      <td>0</td>\n",
       "      <td>0</td>\n",
       "      <td>0</td>\n",
       "      <td>0</td>\n",
       "      <td>0</td>\n",
       "      <td>0</td>\n",
       "      <td>0</td>\n",
       "      <td>0.778154</td>\n",
       "      <td>0.639774</td>\n",
       "    </tr>\n",
       "    <tr>\n",
       "      <th>5680</th>\n",
       "      <td>2.0</td>\n",
       "      <td>0.104720</td>\n",
       "      <td>1.0</td>\n",
       "      <td>1.0</td>\n",
       "      <td>1.0</td>\n",
       "      <td>20</td>\n",
       "      <td>0</td>\n",
       "      <td>0</td>\n",
       "      <td>1</td>\n",
       "      <td>0</td>\n",
       "      <td>0</td>\n",
       "      <td>0</td>\n",
       "      <td>0</td>\n",
       "      <td>0</td>\n",
       "      <td>0</td>\n",
       "      <td>0</td>\n",
       "      <td>0</td>\n",
       "      <td>0</td>\n",
       "      <td>0</td>\n",
       "      <td>0</td>\n",
       "      <td>0</td>\n",
       "      <td>0.205884</td>\n",
       "      <td>0.294433</td>\n",
       "    </tr>\n",
       "  </tbody>\n",
       "</table>\n",
       "<p>14204 rows × 23 columns</p>\n",
       "</div>"
      ],
      "text/plain": [
       "      Item_Fat_Content  Item_Visibility  Outlet_Size  Outlet_Location_Type  \\\n",
       "0                  1.0         0.016047          1.0                   0.0   \n",
       "1                  2.0         0.019278          1.0                   2.0   \n",
       "2                  1.0         0.016760          1.0                   0.0   \n",
       "3                  2.0         0.000000          1.0                   2.0   \n",
       "4                  1.0         0.000000          0.0                   2.0   \n",
       "...                ...              ...          ...                   ...   \n",
       "5676               2.0         0.013496          2.0                   0.0   \n",
       "5677               2.0         0.142991          1.0                   2.0   \n",
       "5678               1.0         0.073529          1.0                   1.0   \n",
       "5679               2.0         0.000000          1.0                   1.0   \n",
       "5680               2.0         0.104720          1.0                   1.0   \n",
       "\n",
       "      Outlet_Type  Age  Breads  Breakfast  Canned  Dairy  Frozen Foods  \\\n",
       "0             1.0   23       0          0       0      1             0   \n",
       "1             2.0   13       0          0       0      0             0   \n",
       "2             1.0   23       0          0       0      0             0   \n",
       "3             0.0   24       0          0       0      0             0   \n",
       "4             1.0   35       0          0       0      0             0   \n",
       "...           ...  ...     ...        ...     ...    ...           ...   \n",
       "5676          1.0   25       0          0       0      0             0   \n",
       "5677          2.0   13       0          0       0      0             0   \n",
       "5678          1.0   20       0          0       0      0             0   \n",
       "5679          1.0   15       0          0       1      0             0   \n",
       "5680          1.0   20       0          0       1      0             0   \n",
       "\n",
       "      Fruits and Vegetables  Hard Drinks  Health and Hygiene  Household  Meat  \\\n",
       "0                         0            0                   0          0     0   \n",
       "1                         0            0                   0          0     0   \n",
       "2                         0            0                   0          0     1   \n",
       "3                         1            0                   0          0     0   \n",
       "4                         0            0                   0          1     0   \n",
       "...                     ...          ...                 ...        ...   ...   \n",
       "5676                      0            0                   0          0     0   \n",
       "5677                      0            0                   0          0     0   \n",
       "5678                      0            0                   1          0     0   \n",
       "5679                      0            0                   0          0     0   \n",
       "5680                      0            0                   0          0     0   \n",
       "\n",
       "      Others  Seafood  Snack Foods  Soft Drinks  Starchy Foods   MRP_MMS  \\\n",
       "0          0        0            0            0              0  0.927507   \n",
       "1          0        0            0            1              0  0.072068   \n",
       "2          0        0            0            0              0  0.468288   \n",
       "3          0        0            0            0              0  0.640093   \n",
       "4          0        0            0            0              0  0.095805   \n",
       "...      ...      ...          ...          ...            ...       ...   \n",
       "5676       0        0            1            0              0  0.467004   \n",
       "5677       0        0            0            0              1  0.585126   \n",
       "5678       0        0            0            0              0  0.371199   \n",
       "5679       0        0            0            0              0  0.778154   \n",
       "5680       0        0            0            0              0  0.205884   \n",
       "\n",
       "      Item_Weight_MMS  \n",
       "0            0.282525  \n",
       "1            0.081274  \n",
       "2            0.770765  \n",
       "3            0.871986  \n",
       "4            0.260494  \n",
       "...               ...  \n",
       "5676         0.353974  \n",
       "5677         0.181304  \n",
       "5678         0.324204  \n",
       "5679         0.639774  \n",
       "5680         0.294433  \n",
       "\n",
       "[14204 rows x 23 columns]"
      ]
     },
     "execution_count": 65,
     "metadata": {},
     "output_type": "execute_result"
    }
   ],
   "source": [
    "df_all"
   ]
  },
  {
   "cell_type": "code",
   "execution_count": 66,
   "id": "22f9785d",
   "metadata": {
    "execution": {
     "iopub.execute_input": "2022-08-25T09:19:38.053154Z",
     "iopub.status.busy": "2022-08-25T09:19:38.052746Z",
     "iopub.status.idle": "2022-08-25T09:19:38.058399Z",
     "shell.execute_reply": "2022-08-25T09:19:38.057310Z"
    },
    "papermill": {
     "duration": 0.036916,
     "end_time": "2022-08-25T09:19:38.060694",
     "exception": false,
     "start_time": "2022-08-25T09:19:38.023778",
     "status": "completed"
    },
    "tags": []
   },
   "outputs": [],
   "source": [
    "train=df_all.iloc[0:8523,:]"
   ]
  },
  {
   "cell_type": "code",
   "execution_count": 67,
   "id": "c6a40171",
   "metadata": {
    "execution": {
     "iopub.execute_input": "2022-08-25T09:19:38.118004Z",
     "iopub.status.busy": "2022-08-25T09:19:38.117568Z",
     "iopub.status.idle": "2022-08-25T09:19:38.146569Z",
     "shell.execute_reply": "2022-08-25T09:19:38.145546Z"
    },
    "papermill": {
     "duration": 0.060203,
     "end_time": "2022-08-25T09:19:38.148674",
     "exception": false,
     "start_time": "2022-08-25T09:19:38.088471",
     "status": "completed"
    },
    "tags": []
   },
   "outputs": [
    {
     "data": {
      "text/html": [
       "<div>\n",
       "<style scoped>\n",
       "    .dataframe tbody tr th:only-of-type {\n",
       "        vertical-align: middle;\n",
       "    }\n",
       "\n",
       "    .dataframe tbody tr th {\n",
       "        vertical-align: top;\n",
       "    }\n",
       "\n",
       "    .dataframe thead th {\n",
       "        text-align: right;\n",
       "    }\n",
       "</style>\n",
       "<table border=\"1\" class=\"dataframe\">\n",
       "  <thead>\n",
       "    <tr style=\"text-align: right;\">\n",
       "      <th></th>\n",
       "      <th>Item_Fat_Content</th>\n",
       "      <th>Item_Visibility</th>\n",
       "      <th>Outlet_Size</th>\n",
       "      <th>Outlet_Location_Type</th>\n",
       "      <th>Outlet_Type</th>\n",
       "      <th>Age</th>\n",
       "      <th>Breads</th>\n",
       "      <th>Breakfast</th>\n",
       "      <th>Canned</th>\n",
       "      <th>Dairy</th>\n",
       "      <th>Frozen Foods</th>\n",
       "      <th>Fruits and Vegetables</th>\n",
       "      <th>Hard Drinks</th>\n",
       "      <th>Health and Hygiene</th>\n",
       "      <th>Household</th>\n",
       "      <th>Meat</th>\n",
       "      <th>Others</th>\n",
       "      <th>Seafood</th>\n",
       "      <th>Snack Foods</th>\n",
       "      <th>Soft Drinks</th>\n",
       "      <th>Starchy Foods</th>\n",
       "      <th>MRP_MMS</th>\n",
       "      <th>Item_Weight_MMS</th>\n",
       "    </tr>\n",
       "  </thead>\n",
       "  <tbody>\n",
       "    <tr>\n",
       "      <th>0</th>\n",
       "      <td>1.0</td>\n",
       "      <td>0.016047</td>\n",
       "      <td>1.0</td>\n",
       "      <td>0.0</td>\n",
       "      <td>1.0</td>\n",
       "      <td>23</td>\n",
       "      <td>0</td>\n",
       "      <td>0</td>\n",
       "      <td>0</td>\n",
       "      <td>1</td>\n",
       "      <td>0</td>\n",
       "      <td>0</td>\n",
       "      <td>0</td>\n",
       "      <td>0</td>\n",
       "      <td>0</td>\n",
       "      <td>0</td>\n",
       "      <td>0</td>\n",
       "      <td>0</td>\n",
       "      <td>0</td>\n",
       "      <td>0</td>\n",
       "      <td>0</td>\n",
       "      <td>0.927507</td>\n",
       "      <td>0.282525</td>\n",
       "    </tr>\n",
       "    <tr>\n",
       "      <th>1</th>\n",
       "      <td>2.0</td>\n",
       "      <td>0.019278</td>\n",
       "      <td>1.0</td>\n",
       "      <td>2.0</td>\n",
       "      <td>2.0</td>\n",
       "      <td>13</td>\n",
       "      <td>0</td>\n",
       "      <td>0</td>\n",
       "      <td>0</td>\n",
       "      <td>0</td>\n",
       "      <td>0</td>\n",
       "      <td>0</td>\n",
       "      <td>0</td>\n",
       "      <td>0</td>\n",
       "      <td>0</td>\n",
       "      <td>0</td>\n",
       "      <td>0</td>\n",
       "      <td>0</td>\n",
       "      <td>0</td>\n",
       "      <td>1</td>\n",
       "      <td>0</td>\n",
       "      <td>0.072068</td>\n",
       "      <td>0.081274</td>\n",
       "    </tr>\n",
       "    <tr>\n",
       "      <th>2</th>\n",
       "      <td>1.0</td>\n",
       "      <td>0.016760</td>\n",
       "      <td>1.0</td>\n",
       "      <td>0.0</td>\n",
       "      <td>1.0</td>\n",
       "      <td>23</td>\n",
       "      <td>0</td>\n",
       "      <td>0</td>\n",
       "      <td>0</td>\n",
       "      <td>0</td>\n",
       "      <td>0</td>\n",
       "      <td>0</td>\n",
       "      <td>0</td>\n",
       "      <td>0</td>\n",
       "      <td>0</td>\n",
       "      <td>1</td>\n",
       "      <td>0</td>\n",
       "      <td>0</td>\n",
       "      <td>0</td>\n",
       "      <td>0</td>\n",
       "      <td>0</td>\n",
       "      <td>0.468288</td>\n",
       "      <td>0.770765</td>\n",
       "    </tr>\n",
       "    <tr>\n",
       "      <th>3</th>\n",
       "      <td>2.0</td>\n",
       "      <td>0.000000</td>\n",
       "      <td>1.0</td>\n",
       "      <td>2.0</td>\n",
       "      <td>0.0</td>\n",
       "      <td>24</td>\n",
       "      <td>0</td>\n",
       "      <td>0</td>\n",
       "      <td>0</td>\n",
       "      <td>0</td>\n",
       "      <td>0</td>\n",
       "      <td>1</td>\n",
       "      <td>0</td>\n",
       "      <td>0</td>\n",
       "      <td>0</td>\n",
       "      <td>0</td>\n",
       "      <td>0</td>\n",
       "      <td>0</td>\n",
       "      <td>0</td>\n",
       "      <td>0</td>\n",
       "      <td>0</td>\n",
       "      <td>0.640093</td>\n",
       "      <td>0.871986</td>\n",
       "    </tr>\n",
       "    <tr>\n",
       "      <th>4</th>\n",
       "      <td>1.0</td>\n",
       "      <td>0.000000</td>\n",
       "      <td>0.0</td>\n",
       "      <td>2.0</td>\n",
       "      <td>1.0</td>\n",
       "      <td>35</td>\n",
       "      <td>0</td>\n",
       "      <td>0</td>\n",
       "      <td>0</td>\n",
       "      <td>0</td>\n",
       "      <td>0</td>\n",
       "      <td>0</td>\n",
       "      <td>0</td>\n",
       "      <td>0</td>\n",
       "      <td>1</td>\n",
       "      <td>0</td>\n",
       "      <td>0</td>\n",
       "      <td>0</td>\n",
       "      <td>0</td>\n",
       "      <td>0</td>\n",
       "      <td>0</td>\n",
       "      <td>0.095805</td>\n",
       "      <td>0.260494</td>\n",
       "    </tr>\n",
       "    <tr>\n",
       "      <th>...</th>\n",
       "      <td>...</td>\n",
       "      <td>...</td>\n",
       "      <td>...</td>\n",
       "      <td>...</td>\n",
       "      <td>...</td>\n",
       "      <td>...</td>\n",
       "      <td>...</td>\n",
       "      <td>...</td>\n",
       "      <td>...</td>\n",
       "      <td>...</td>\n",
       "      <td>...</td>\n",
       "      <td>...</td>\n",
       "      <td>...</td>\n",
       "      <td>...</td>\n",
       "      <td>...</td>\n",
       "      <td>...</td>\n",
       "      <td>...</td>\n",
       "      <td>...</td>\n",
       "      <td>...</td>\n",
       "      <td>...</td>\n",
       "      <td>...</td>\n",
       "      <td>...</td>\n",
       "      <td>...</td>\n",
       "    </tr>\n",
       "    <tr>\n",
       "      <th>8518</th>\n",
       "      <td>1.0</td>\n",
       "      <td>0.056783</td>\n",
       "      <td>0.0</td>\n",
       "      <td>2.0</td>\n",
       "      <td>1.0</td>\n",
       "      <td>35</td>\n",
       "      <td>0</td>\n",
       "      <td>0</td>\n",
       "      <td>0</td>\n",
       "      <td>0</td>\n",
       "      <td>0</td>\n",
       "      <td>0</td>\n",
       "      <td>0</td>\n",
       "      <td>0</td>\n",
       "      <td>0</td>\n",
       "      <td>0</td>\n",
       "      <td>0</td>\n",
       "      <td>0</td>\n",
       "      <td>1</td>\n",
       "      <td>0</td>\n",
       "      <td>0</td>\n",
       "      <td>0.777729</td>\n",
       "      <td>0.137541</td>\n",
       "    </tr>\n",
       "    <tr>\n",
       "      <th>8519</th>\n",
       "      <td>2.0</td>\n",
       "      <td>0.046982</td>\n",
       "      <td>1.0</td>\n",
       "      <td>1.0</td>\n",
       "      <td>1.0</td>\n",
       "      <td>20</td>\n",
       "      <td>0</td>\n",
       "      <td>0</td>\n",
       "      <td>0</td>\n",
       "      <td>0</td>\n",
       "      <td>0</td>\n",
       "      <td>0</td>\n",
       "      <td>0</td>\n",
       "      <td>0</td>\n",
       "      <td>0</td>\n",
       "      <td>0</td>\n",
       "      <td>0</td>\n",
       "      <td>0</td>\n",
       "      <td>0</td>\n",
       "      <td>0</td>\n",
       "      <td>0</td>\n",
       "      <td>0.326263</td>\n",
       "      <td>0.227746</td>\n",
       "    </tr>\n",
       "    <tr>\n",
       "      <th>8520</th>\n",
       "      <td>1.0</td>\n",
       "      <td>0.035186</td>\n",
       "      <td>2.0</td>\n",
       "      <td>1.0</td>\n",
       "      <td>1.0</td>\n",
       "      <td>18</td>\n",
       "      <td>0</td>\n",
       "      <td>0</td>\n",
       "      <td>0</td>\n",
       "      <td>0</td>\n",
       "      <td>0</td>\n",
       "      <td>0</td>\n",
       "      <td>0</td>\n",
       "      <td>1</td>\n",
       "      <td>0</td>\n",
       "      <td>0</td>\n",
       "      <td>0</td>\n",
       "      <td>0</td>\n",
       "      <td>0</td>\n",
       "      <td>0</td>\n",
       "      <td>0</td>\n",
       "      <td>0.228492</td>\n",
       "      <td>0.359929</td>\n",
       "    </tr>\n",
       "    <tr>\n",
       "      <th>8521</th>\n",
       "      <td>2.0</td>\n",
       "      <td>0.145221</td>\n",
       "      <td>1.0</td>\n",
       "      <td>2.0</td>\n",
       "      <td>2.0</td>\n",
       "      <td>13</td>\n",
       "      <td>0</td>\n",
       "      <td>0</td>\n",
       "      <td>0</td>\n",
       "      <td>0</td>\n",
       "      <td>0</td>\n",
       "      <td>0</td>\n",
       "      <td>0</td>\n",
       "      <td>0</td>\n",
       "      <td>0</td>\n",
       "      <td>0</td>\n",
       "      <td>0</td>\n",
       "      <td>0</td>\n",
       "      <td>1</td>\n",
       "      <td>0</td>\n",
       "      <td>0</td>\n",
       "      <td>0.304939</td>\n",
       "      <td>0.158083</td>\n",
       "    </tr>\n",
       "    <tr>\n",
       "      <th>8522</th>\n",
       "      <td>1.0</td>\n",
       "      <td>0.044878</td>\n",
       "      <td>2.0</td>\n",
       "      <td>0.0</td>\n",
       "      <td>1.0</td>\n",
       "      <td>25</td>\n",
       "      <td>0</td>\n",
       "      <td>0</td>\n",
       "      <td>0</td>\n",
       "      <td>0</td>\n",
       "      <td>0</td>\n",
       "      <td>0</td>\n",
       "      <td>0</td>\n",
       "      <td>0</td>\n",
       "      <td>0</td>\n",
       "      <td>0</td>\n",
       "      <td>0</td>\n",
       "      <td>0</td>\n",
       "      <td>0</td>\n",
       "      <td>1</td>\n",
       "      <td>0</td>\n",
       "      <td>0.187510</td>\n",
       "      <td>0.610003</td>\n",
       "    </tr>\n",
       "  </tbody>\n",
       "</table>\n",
       "<p>8523 rows × 23 columns</p>\n",
       "</div>"
      ],
      "text/plain": [
       "      Item_Fat_Content  Item_Visibility  Outlet_Size  Outlet_Location_Type  \\\n",
       "0                  1.0         0.016047          1.0                   0.0   \n",
       "1                  2.0         0.019278          1.0                   2.0   \n",
       "2                  1.0         0.016760          1.0                   0.0   \n",
       "3                  2.0         0.000000          1.0                   2.0   \n",
       "4                  1.0         0.000000          0.0                   2.0   \n",
       "...                ...              ...          ...                   ...   \n",
       "8518               1.0         0.056783          0.0                   2.0   \n",
       "8519               2.0         0.046982          1.0                   1.0   \n",
       "8520               1.0         0.035186          2.0                   1.0   \n",
       "8521               2.0         0.145221          1.0                   2.0   \n",
       "8522               1.0         0.044878          2.0                   0.0   \n",
       "\n",
       "      Outlet_Type  Age  Breads  Breakfast  Canned  Dairy  Frozen Foods  \\\n",
       "0             1.0   23       0          0       0      1             0   \n",
       "1             2.0   13       0          0       0      0             0   \n",
       "2             1.0   23       0          0       0      0             0   \n",
       "3             0.0   24       0          0       0      0             0   \n",
       "4             1.0   35       0          0       0      0             0   \n",
       "...           ...  ...     ...        ...     ...    ...           ...   \n",
       "8518          1.0   35       0          0       0      0             0   \n",
       "8519          1.0   20       0          0       0      0             0   \n",
       "8520          1.0   18       0          0       0      0             0   \n",
       "8521          2.0   13       0          0       0      0             0   \n",
       "8522          1.0   25       0          0       0      0             0   \n",
       "\n",
       "      Fruits and Vegetables  Hard Drinks  Health and Hygiene  Household  Meat  \\\n",
       "0                         0            0                   0          0     0   \n",
       "1                         0            0                   0          0     0   \n",
       "2                         0            0                   0          0     1   \n",
       "3                         1            0                   0          0     0   \n",
       "4                         0            0                   0          1     0   \n",
       "...                     ...          ...                 ...        ...   ...   \n",
       "8518                      0            0                   0          0     0   \n",
       "8519                      0            0                   0          0     0   \n",
       "8520                      0            0                   1          0     0   \n",
       "8521                      0            0                   0          0     0   \n",
       "8522                      0            0                   0          0     0   \n",
       "\n",
       "      Others  Seafood  Snack Foods  Soft Drinks  Starchy Foods   MRP_MMS  \\\n",
       "0          0        0            0            0              0  0.927507   \n",
       "1          0        0            0            1              0  0.072068   \n",
       "2          0        0            0            0              0  0.468288   \n",
       "3          0        0            0            0              0  0.640093   \n",
       "4          0        0            0            0              0  0.095805   \n",
       "...      ...      ...          ...          ...            ...       ...   \n",
       "8518       0        0            1            0              0  0.777729   \n",
       "8519       0        0            0            0              0  0.326263   \n",
       "8520       0        0            0            0              0  0.228492   \n",
       "8521       0        0            1            0              0  0.304939   \n",
       "8522       0        0            0            1              0  0.187510   \n",
       "\n",
       "      Item_Weight_MMS  \n",
       "0            0.282525  \n",
       "1            0.081274  \n",
       "2            0.770765  \n",
       "3            0.871986  \n",
       "4            0.260494  \n",
       "...               ...  \n",
       "8518         0.137541  \n",
       "8519         0.227746  \n",
       "8520         0.359929  \n",
       "8521         0.158083  \n",
       "8522         0.610003  \n",
       "\n",
       "[8523 rows x 23 columns]"
      ]
     },
     "execution_count": 67,
     "metadata": {},
     "output_type": "execute_result"
    }
   ],
   "source": [
    "train"
   ]
  },
  {
   "cell_type": "code",
   "execution_count": 68,
   "id": "6c531eeb",
   "metadata": {
    "execution": {
     "iopub.execute_input": "2022-08-25T09:19:38.207989Z",
     "iopub.status.busy": "2022-08-25T09:19:38.207553Z",
     "iopub.status.idle": "2022-08-25T09:19:38.213129Z",
     "shell.execute_reply": "2022-08-25T09:19:38.211999Z"
    },
    "papermill": {
     "duration": 0.038343,
     "end_time": "2022-08-25T09:19:38.215358",
     "exception": false,
     "start_time": "2022-08-25T09:19:38.177015",
     "status": "completed"
    },
    "tags": []
   },
   "outputs": [],
   "source": [
    "test=df_all.iloc[8523:14204,:]"
   ]
  },
  {
   "cell_type": "code",
   "execution_count": 69,
   "id": "7b78b824",
   "metadata": {
    "execution": {
     "iopub.execute_input": "2022-08-25T09:19:38.275520Z",
     "iopub.status.busy": "2022-08-25T09:19:38.275152Z",
     "iopub.status.idle": "2022-08-25T09:19:38.302407Z",
     "shell.execute_reply": "2022-08-25T09:19:38.301294Z"
    },
    "papermill": {
     "duration": 0.060282,
     "end_time": "2022-08-25T09:19:38.304768",
     "exception": false,
     "start_time": "2022-08-25T09:19:38.244486",
     "status": "completed"
    },
    "tags": []
   },
   "outputs": [
    {
     "data": {
      "text/html": [
       "<div>\n",
       "<style scoped>\n",
       "    .dataframe tbody tr th:only-of-type {\n",
       "        vertical-align: middle;\n",
       "    }\n",
       "\n",
       "    .dataframe tbody tr th {\n",
       "        vertical-align: top;\n",
       "    }\n",
       "\n",
       "    .dataframe thead th {\n",
       "        text-align: right;\n",
       "    }\n",
       "</style>\n",
       "<table border=\"1\" class=\"dataframe\">\n",
       "  <thead>\n",
       "    <tr style=\"text-align: right;\">\n",
       "      <th></th>\n",
       "      <th>Item_Fat_Content</th>\n",
       "      <th>Item_Visibility</th>\n",
       "      <th>Outlet_Size</th>\n",
       "      <th>Outlet_Location_Type</th>\n",
       "      <th>Outlet_Type</th>\n",
       "      <th>Age</th>\n",
       "      <th>Breads</th>\n",
       "      <th>Breakfast</th>\n",
       "      <th>Canned</th>\n",
       "      <th>Dairy</th>\n",
       "      <th>Frozen Foods</th>\n",
       "      <th>Fruits and Vegetables</th>\n",
       "      <th>Hard Drinks</th>\n",
       "      <th>Health and Hygiene</th>\n",
       "      <th>Household</th>\n",
       "      <th>Meat</th>\n",
       "      <th>Others</th>\n",
       "      <th>Seafood</th>\n",
       "      <th>Snack Foods</th>\n",
       "      <th>Soft Drinks</th>\n",
       "      <th>Starchy Foods</th>\n",
       "      <th>MRP_MMS</th>\n",
       "      <th>Item_Weight_MMS</th>\n",
       "    </tr>\n",
       "  </thead>\n",
       "  <tbody>\n",
       "    <tr>\n",
       "      <th>0</th>\n",
       "      <td>1.0</td>\n",
       "      <td>0.007565</td>\n",
       "      <td>1.0</td>\n",
       "      <td>0.0</td>\n",
       "      <td>1.0</td>\n",
       "      <td>23</td>\n",
       "      <td>0</td>\n",
       "      <td>0</td>\n",
       "      <td>0</td>\n",
       "      <td>0</td>\n",
       "      <td>0</td>\n",
       "      <td>0</td>\n",
       "      <td>0</td>\n",
       "      <td>0</td>\n",
       "      <td>0</td>\n",
       "      <td>0</td>\n",
       "      <td>0</td>\n",
       "      <td>0</td>\n",
       "      <td>1</td>\n",
       "      <td>0</td>\n",
       "      <td>0</td>\n",
       "      <td>0.325012</td>\n",
       "      <td>0.964275</td>\n",
       "    </tr>\n",
       "    <tr>\n",
       "      <th>1</th>\n",
       "      <td>4.0</td>\n",
       "      <td>0.038428</td>\n",
       "      <td>1.0</td>\n",
       "      <td>1.0</td>\n",
       "      <td>1.0</td>\n",
       "      <td>15</td>\n",
       "      <td>0</td>\n",
       "      <td>0</td>\n",
       "      <td>0</td>\n",
       "      <td>1</td>\n",
       "      <td>0</td>\n",
       "      <td>0</td>\n",
       "      <td>0</td>\n",
       "      <td>0</td>\n",
       "      <td>0</td>\n",
       "      <td>0</td>\n",
       "      <td>0</td>\n",
       "      <td>0</td>\n",
       "      <td>0</td>\n",
       "      <td>0</td>\n",
       "      <td>0</td>\n",
       "      <td>0.237819</td>\n",
       "      <td>0.222983</td>\n",
       "    </tr>\n",
       "    <tr>\n",
       "      <th>2</th>\n",
       "      <td>1.0</td>\n",
       "      <td>0.099575</td>\n",
       "      <td>1.0</td>\n",
       "      <td>2.0</td>\n",
       "      <td>0.0</td>\n",
       "      <td>24</td>\n",
       "      <td>0</td>\n",
       "      <td>0</td>\n",
       "      <td>0</td>\n",
       "      <td>0</td>\n",
       "      <td>0</td>\n",
       "      <td>0</td>\n",
       "      <td>0</td>\n",
       "      <td>0</td>\n",
       "      <td>0</td>\n",
       "      <td>0</td>\n",
       "      <td>1</td>\n",
       "      <td>0</td>\n",
       "      <td>0</td>\n",
       "      <td>0</td>\n",
       "      <td>0</td>\n",
       "      <td>0.893316</td>\n",
       "      <td>0.598095</td>\n",
       "    </tr>\n",
       "    <tr>\n",
       "      <th>3</th>\n",
       "      <td>1.0</td>\n",
       "      <td>0.015388</td>\n",
       "      <td>1.0</td>\n",
       "      <td>1.0</td>\n",
       "      <td>1.0</td>\n",
       "      <td>15</td>\n",
       "      <td>0</td>\n",
       "      <td>0</td>\n",
       "      <td>0</td>\n",
       "      <td>0</td>\n",
       "      <td>0</td>\n",
       "      <td>0</td>\n",
       "      <td>0</td>\n",
       "      <td>0</td>\n",
       "      <td>0</td>\n",
       "      <td>0</td>\n",
       "      <td>0</td>\n",
       "      <td>0</td>\n",
       "      <td>1</td>\n",
       "      <td>0</td>\n",
       "      <td>0</td>\n",
       "      <td>0.525233</td>\n",
       "      <td>0.164335</td>\n",
       "    </tr>\n",
       "    <tr>\n",
       "      <th>4</th>\n",
       "      <td>2.0</td>\n",
       "      <td>0.118599</td>\n",
       "      <td>1.0</td>\n",
       "      <td>2.0</td>\n",
       "      <td>3.0</td>\n",
       "      <td>37</td>\n",
       "      <td>0</td>\n",
       "      <td>0</td>\n",
       "      <td>0</td>\n",
       "      <td>1</td>\n",
       "      <td>0</td>\n",
       "      <td>0</td>\n",
       "      <td>0</td>\n",
       "      <td>0</td>\n",
       "      <td>0</td>\n",
       "      <td>0</td>\n",
       "      <td>0</td>\n",
       "      <td>0</td>\n",
       "      <td>0</td>\n",
       "      <td>0</td>\n",
       "      <td>0</td>\n",
       "      <td>0.861381</td>\n",
       "      <td>0.490494</td>\n",
       "    </tr>\n",
       "    <tr>\n",
       "      <th>...</th>\n",
       "      <td>...</td>\n",
       "      <td>...</td>\n",
       "      <td>...</td>\n",
       "      <td>...</td>\n",
       "      <td>...</td>\n",
       "      <td>...</td>\n",
       "      <td>...</td>\n",
       "      <td>...</td>\n",
       "      <td>...</td>\n",
       "      <td>...</td>\n",
       "      <td>...</td>\n",
       "      <td>...</td>\n",
       "      <td>...</td>\n",
       "      <td>...</td>\n",
       "      <td>...</td>\n",
       "      <td>...</td>\n",
       "      <td>...</td>\n",
       "      <td>...</td>\n",
       "      <td>...</td>\n",
       "      <td>...</td>\n",
       "      <td>...</td>\n",
       "      <td>...</td>\n",
       "      <td>...</td>\n",
       "    </tr>\n",
       "    <tr>\n",
       "      <th>5676</th>\n",
       "      <td>2.0</td>\n",
       "      <td>0.013496</td>\n",
       "      <td>2.0</td>\n",
       "      <td>0.0</td>\n",
       "      <td>1.0</td>\n",
       "      <td>25</td>\n",
       "      <td>0</td>\n",
       "      <td>0</td>\n",
       "      <td>0</td>\n",
       "      <td>0</td>\n",
       "      <td>0</td>\n",
       "      <td>0</td>\n",
       "      <td>0</td>\n",
       "      <td>0</td>\n",
       "      <td>0</td>\n",
       "      <td>0</td>\n",
       "      <td>0</td>\n",
       "      <td>0</td>\n",
       "      <td>1</td>\n",
       "      <td>0</td>\n",
       "      <td>0</td>\n",
       "      <td>0.467004</td>\n",
       "      <td>0.353974</td>\n",
       "    </tr>\n",
       "    <tr>\n",
       "      <th>5677</th>\n",
       "      <td>2.0</td>\n",
       "      <td>0.142991</td>\n",
       "      <td>1.0</td>\n",
       "      <td>2.0</td>\n",
       "      <td>2.0</td>\n",
       "      <td>13</td>\n",
       "      <td>0</td>\n",
       "      <td>0</td>\n",
       "      <td>0</td>\n",
       "      <td>0</td>\n",
       "      <td>0</td>\n",
       "      <td>0</td>\n",
       "      <td>0</td>\n",
       "      <td>0</td>\n",
       "      <td>0</td>\n",
       "      <td>0</td>\n",
       "      <td>0</td>\n",
       "      <td>0</td>\n",
       "      <td>0</td>\n",
       "      <td>0</td>\n",
       "      <td>1</td>\n",
       "      <td>0.585126</td>\n",
       "      <td>0.181304</td>\n",
       "    </tr>\n",
       "    <tr>\n",
       "      <th>5678</th>\n",
       "      <td>1.0</td>\n",
       "      <td>0.073529</td>\n",
       "      <td>1.0</td>\n",
       "      <td>1.0</td>\n",
       "      <td>1.0</td>\n",
       "      <td>20</td>\n",
       "      <td>0</td>\n",
       "      <td>0</td>\n",
       "      <td>0</td>\n",
       "      <td>0</td>\n",
       "      <td>0</td>\n",
       "      <td>0</td>\n",
       "      <td>0</td>\n",
       "      <td>1</td>\n",
       "      <td>0</td>\n",
       "      <td>0</td>\n",
       "      <td>0</td>\n",
       "      <td>0</td>\n",
       "      <td>0</td>\n",
       "      <td>0</td>\n",
       "      <td>0</td>\n",
       "      <td>0.371199</td>\n",
       "      <td>0.324204</td>\n",
       "    </tr>\n",
       "    <tr>\n",
       "      <th>5679</th>\n",
       "      <td>2.0</td>\n",
       "      <td>0.000000</td>\n",
       "      <td>1.0</td>\n",
       "      <td>1.0</td>\n",
       "      <td>1.0</td>\n",
       "      <td>15</td>\n",
       "      <td>0</td>\n",
       "      <td>0</td>\n",
       "      <td>1</td>\n",
       "      <td>0</td>\n",
       "      <td>0</td>\n",
       "      <td>0</td>\n",
       "      <td>0</td>\n",
       "      <td>0</td>\n",
       "      <td>0</td>\n",
       "      <td>0</td>\n",
       "      <td>0</td>\n",
       "      <td>0</td>\n",
       "      <td>0</td>\n",
       "      <td>0</td>\n",
       "      <td>0</td>\n",
       "      <td>0.778154</td>\n",
       "      <td>0.639774</td>\n",
       "    </tr>\n",
       "    <tr>\n",
       "      <th>5680</th>\n",
       "      <td>2.0</td>\n",
       "      <td>0.104720</td>\n",
       "      <td>1.0</td>\n",
       "      <td>1.0</td>\n",
       "      <td>1.0</td>\n",
       "      <td>20</td>\n",
       "      <td>0</td>\n",
       "      <td>0</td>\n",
       "      <td>1</td>\n",
       "      <td>0</td>\n",
       "      <td>0</td>\n",
       "      <td>0</td>\n",
       "      <td>0</td>\n",
       "      <td>0</td>\n",
       "      <td>0</td>\n",
       "      <td>0</td>\n",
       "      <td>0</td>\n",
       "      <td>0</td>\n",
       "      <td>0</td>\n",
       "      <td>0</td>\n",
       "      <td>0</td>\n",
       "      <td>0.205884</td>\n",
       "      <td>0.294433</td>\n",
       "    </tr>\n",
       "  </tbody>\n",
       "</table>\n",
       "<p>5681 rows × 23 columns</p>\n",
       "</div>"
      ],
      "text/plain": [
       "      Item_Fat_Content  Item_Visibility  Outlet_Size  Outlet_Location_Type  \\\n",
       "0                  1.0         0.007565          1.0                   0.0   \n",
       "1                  4.0         0.038428          1.0                   1.0   \n",
       "2                  1.0         0.099575          1.0                   2.0   \n",
       "3                  1.0         0.015388          1.0                   1.0   \n",
       "4                  2.0         0.118599          1.0                   2.0   \n",
       "...                ...              ...          ...                   ...   \n",
       "5676               2.0         0.013496          2.0                   0.0   \n",
       "5677               2.0         0.142991          1.0                   2.0   \n",
       "5678               1.0         0.073529          1.0                   1.0   \n",
       "5679               2.0         0.000000          1.0                   1.0   \n",
       "5680               2.0         0.104720          1.0                   1.0   \n",
       "\n",
       "      Outlet_Type  Age  Breads  Breakfast  Canned  Dairy  Frozen Foods  \\\n",
       "0             1.0   23       0          0       0      0             0   \n",
       "1             1.0   15       0          0       0      1             0   \n",
       "2             0.0   24       0          0       0      0             0   \n",
       "3             1.0   15       0          0       0      0             0   \n",
       "4             3.0   37       0          0       0      1             0   \n",
       "...           ...  ...     ...        ...     ...    ...           ...   \n",
       "5676          1.0   25       0          0       0      0             0   \n",
       "5677          2.0   13       0          0       0      0             0   \n",
       "5678          1.0   20       0          0       0      0             0   \n",
       "5679          1.0   15       0          0       1      0             0   \n",
       "5680          1.0   20       0          0       1      0             0   \n",
       "\n",
       "      Fruits and Vegetables  Hard Drinks  Health and Hygiene  Household  Meat  \\\n",
       "0                         0            0                   0          0     0   \n",
       "1                         0            0                   0          0     0   \n",
       "2                         0            0                   0          0     0   \n",
       "3                         0            0                   0          0     0   \n",
       "4                         0            0                   0          0     0   \n",
       "...                     ...          ...                 ...        ...   ...   \n",
       "5676                      0            0                   0          0     0   \n",
       "5677                      0            0                   0          0     0   \n",
       "5678                      0            0                   1          0     0   \n",
       "5679                      0            0                   0          0     0   \n",
       "5680                      0            0                   0          0     0   \n",
       "\n",
       "      Others  Seafood  Snack Foods  Soft Drinks  Starchy Foods   MRP_MMS  \\\n",
       "0          0        0            1            0              0  0.325012   \n",
       "1          0        0            0            0              0  0.237819   \n",
       "2          1        0            0            0              0  0.893316   \n",
       "3          0        0            1            0              0  0.525233   \n",
       "4          0        0            0            0              0  0.861381   \n",
       "...      ...      ...          ...          ...            ...       ...   \n",
       "5676       0        0            1            0              0  0.467004   \n",
       "5677       0        0            0            0              1  0.585126   \n",
       "5678       0        0            0            0              0  0.371199   \n",
       "5679       0        0            0            0              0  0.778154   \n",
       "5680       0        0            0            0              0  0.205884   \n",
       "\n",
       "      Item_Weight_MMS  \n",
       "0            0.964275  \n",
       "1            0.222983  \n",
       "2            0.598095  \n",
       "3            0.164335  \n",
       "4            0.490494  \n",
       "...               ...  \n",
       "5676         0.353974  \n",
       "5677         0.181304  \n",
       "5678         0.324204  \n",
       "5679         0.639774  \n",
       "5680         0.294433  \n",
       "\n",
       "[5681 rows x 23 columns]"
      ]
     },
     "execution_count": 69,
     "metadata": {},
     "output_type": "execute_result"
    }
   ],
   "source": [
    "test"
   ]
  },
  {
   "cell_type": "code",
   "execution_count": 70,
   "id": "3cbc9929",
   "metadata": {
    "execution": {
     "iopub.execute_input": "2022-08-25T09:19:38.365562Z",
     "iopub.status.busy": "2022-08-25T09:19:38.365127Z",
     "iopub.status.idle": "2022-08-25T09:19:38.370699Z",
     "shell.execute_reply": "2022-08-25T09:19:38.369222Z"
    },
    "papermill": {
     "duration": 0.038489,
     "end_time": "2022-08-25T09:19:38.373060",
     "exception": false,
     "start_time": "2022-08-25T09:19:38.334571",
     "status": "completed"
    },
    "tags": []
   },
   "outputs": [],
   "source": [
    "y=df_train['Item_Outlet_Sales']"
   ]
  },
  {
   "cell_type": "code",
   "execution_count": 71,
   "id": "5054e72f",
   "metadata": {
    "execution": {
     "iopub.execute_input": "2022-08-25T09:19:38.432574Z",
     "iopub.status.busy": "2022-08-25T09:19:38.432180Z",
     "iopub.status.idle": "2022-08-25T09:19:38.438547Z",
     "shell.execute_reply": "2022-08-25T09:19:38.437579Z"
    },
    "papermill": {
     "duration": 0.03879,
     "end_time": "2022-08-25T09:19:38.440763",
     "exception": false,
     "start_time": "2022-08-25T09:19:38.401973",
     "status": "completed"
    },
    "tags": []
   },
   "outputs": [
    {
     "data": {
      "text/plain": [
       "(8523,)"
      ]
     },
     "execution_count": 71,
     "metadata": {},
     "output_type": "execute_result"
    }
   ],
   "source": [
    "y.shape"
   ]
  },
  {
   "cell_type": "code",
   "execution_count": 72,
   "id": "34c97b33",
   "metadata": {
    "execution": {
     "iopub.execute_input": "2022-08-25T09:19:38.501190Z",
     "iopub.status.busy": "2022-08-25T09:19:38.500790Z",
     "iopub.status.idle": "2022-08-25T09:19:38.650444Z",
     "shell.execute_reply": "2022-08-25T09:19:38.649220Z"
    },
    "papermill": {
     "duration": 0.183028,
     "end_time": "2022-08-25T09:19:38.653250",
     "exception": false,
     "start_time": "2022-08-25T09:19:38.470222",
     "status": "completed"
    },
    "tags": []
   },
   "outputs": [],
   "source": [
    "from sklearn.linear_model import LinearRegression\n",
    "from sklearn.model_selection import train_test_split\n",
    "x_train,x_cv,y_train,y_cv=train_test_split(train,y)\n",
    "\n"
   ]
  },
  {
   "cell_type": "code",
   "execution_count": 73,
   "id": "2cf60cd5",
   "metadata": {
    "execution": {
     "iopub.execute_input": "2022-08-25T09:19:38.713915Z",
     "iopub.status.busy": "2022-08-25T09:19:38.713520Z",
     "iopub.status.idle": "2022-08-25T09:19:38.800691Z",
     "shell.execute_reply": "2022-08-25T09:19:38.799055Z"
    },
    "papermill": {
     "duration": 0.12288,
     "end_time": "2022-08-25T09:19:38.805496",
     "exception": false,
     "start_time": "2022-08-25T09:19:38.682616",
     "status": "completed"
    },
    "tags": []
   },
   "outputs": [
    {
     "name": "stdout",
     "output_type": "stream",
     "text": [
      "rmse: 1190.5532960723615\n"
     ]
    },
    {
     "data": {
      "text/html": [
       "<div>\n",
       "<style scoped>\n",
       "    .dataframe tbody tr th:only-of-type {\n",
       "        vertical-align: middle;\n",
       "    }\n",
       "\n",
       "    .dataframe tbody tr th {\n",
       "        vertical-align: top;\n",
       "    }\n",
       "\n",
       "    .dataframe thead th {\n",
       "        text-align: right;\n",
       "    }\n",
       "</style>\n",
       "<table border=\"1\" class=\"dataframe\">\n",
       "  <thead>\n",
       "    <tr style=\"text-align: right;\">\n",
       "      <th></th>\n",
       "      <th>predicted_sale</th>\n",
       "    </tr>\n",
       "  </thead>\n",
       "  <tbody>\n",
       "    <tr>\n",
       "      <th>0</th>\n",
       "      <td>2084.750996</td>\n",
       "    </tr>\n",
       "    <tr>\n",
       "      <th>1</th>\n",
       "      <td>1442.149186</td>\n",
       "    </tr>\n",
       "    <tr>\n",
       "      <th>2</th>\n",
       "      <td>2010.856484</td>\n",
       "    </tr>\n",
       "    <tr>\n",
       "      <th>3</th>\n",
       "      <td>2421.022655</td>\n",
       "    </tr>\n",
       "    <tr>\n",
       "      <th>4</th>\n",
       "      <td>5042.481685</td>\n",
       "    </tr>\n",
       "    <tr>\n",
       "      <th>...</th>\n",
       "      <td>...</td>\n",
       "    </tr>\n",
       "    <tr>\n",
       "      <th>5676</th>\n",
       "      <td>2319.308786</td>\n",
       "    </tr>\n",
       "    <tr>\n",
       "      <th>5677</th>\n",
       "      <td>3098.550208</td>\n",
       "    </tr>\n",
       "    <tr>\n",
       "      <th>5678</th>\n",
       "      <td>1703.524157</td>\n",
       "    </tr>\n",
       "    <tr>\n",
       "      <th>5679</th>\n",
       "      <td>3453.686315</td>\n",
       "    </tr>\n",
       "    <tr>\n",
       "      <th>5680</th>\n",
       "      <td>1184.604923</td>\n",
       "    </tr>\n",
       "  </tbody>\n",
       "</table>\n",
       "<p>5681 rows × 1 columns</p>\n",
       "</div>"
      ],
      "text/plain": [
       "      predicted_sale\n",
       "0        2084.750996\n",
       "1        1442.149186\n",
       "2        2010.856484\n",
       "3        2421.022655\n",
       "4        5042.481685\n",
       "...              ...\n",
       "5676     2319.308786\n",
       "5677     3098.550208\n",
       "5678     1703.524157\n",
       "5679     3453.686315\n",
       "5680     1184.604923\n",
       "\n",
       "[5681 rows x 1 columns]"
      ]
     },
     "execution_count": 73,
     "metadata": {},
     "output_type": "execute_result"
    }
   ],
   "source": [
    "lreg=LinearRegression()\n",
    "lreg.fit(x_train,y_train)\n",
    "pred=lreg.predict(x_cv)\n",
    "rmse=np.sqrt(np.mean((pred-y_cv)**2))\n",
    "print('rmse:',rmse)\n",
    "pred_test=lreg.predict(test)\n",
    "pd.DataFrame({'predicted_sale':pred_test})"
   ]
  },
  {
   "cell_type": "code",
   "execution_count": 74,
   "id": "dd8bc993",
   "metadata": {
    "execution": {
     "iopub.execute_input": "2022-08-25T09:19:38.922182Z",
     "iopub.status.busy": "2022-08-25T09:19:38.921815Z",
     "iopub.status.idle": "2022-08-25T09:19:38.929594Z",
     "shell.execute_reply": "2022-08-25T09:19:38.928622Z"
    },
    "papermill": {
     "duration": 0.040009,
     "end_time": "2022-08-25T09:19:38.931715",
     "exception": false,
     "start_time": "2022-08-25T09:19:38.891706",
     "status": "completed"
    },
    "tags": []
   },
   "outputs": [
    {
     "data": {
      "text/plain": [
       "0.5163369009966172"
      ]
     },
     "execution_count": 74,
     "metadata": {},
     "output_type": "execute_result"
    }
   ],
   "source": [
    "from sklearn.metrics import r2_score\n",
    "r2_score(y_cv,pred)"
   ]
  },
  {
   "cell_type": "markdown",
   "id": "b963bf57",
   "metadata": {
    "execution": {
     "iopub.execute_input": "2022-08-25T08:10:17.050278Z",
     "iopub.status.busy": "2022-08-25T08:10:17.049813Z",
     "iopub.status.idle": "2022-08-25T08:10:17.057327Z",
     "shell.execute_reply": "2022-08-25T08:10:17.055949Z",
     "shell.execute_reply.started": "2022-08-25T08:10:17.050244Z"
    },
    "papermill": {
     "duration": 0.029639,
     "end_time": "2022-08-25T09:19:38.990862",
     "exception": false,
     "start_time": "2022-08-25T09:19:38.961223",
     "status": "completed"
    },
    "tags": []
   },
   "source": [
    "**If we use train_test split, the model can explain 50% of the variance in the test dataset**"
   ]
  },
  {
   "cell_type": "code",
   "execution_count": 75,
   "id": "8ddef8f7",
   "metadata": {
    "execution": {
     "iopub.execute_input": "2022-08-25T09:19:39.051543Z",
     "iopub.status.busy": "2022-08-25T09:19:39.050837Z",
     "iopub.status.idle": "2022-08-25T09:19:39.057162Z",
     "shell.execute_reply": "2022-08-25T09:19:39.056043Z"
    },
    "papermill": {
     "duration": 0.039742,
     "end_time": "2022-08-25T09:19:39.059799",
     "exception": false,
     "start_time": "2022-08-25T09:19:39.020057",
     "status": "completed"
    },
    "tags": []
   },
   "outputs": [],
   "source": [
    "# calculating coefficients\n",
    "\n",
    "coeff = pd.DataFrame(train.columns)\n",
    "\n",
    "coeff['Coefficient_Estimate'] = pd.Series(lreg.coef_)\n",
    "\n"
   ]
  },
  {
   "cell_type": "code",
   "execution_count": 76,
   "id": "0dbe5cd5",
   "metadata": {
    "execution": {
     "iopub.execute_input": "2022-08-25T09:19:39.121026Z",
     "iopub.status.busy": "2022-08-25T09:19:39.120638Z",
     "iopub.status.idle": "2022-08-25T09:19:39.401518Z",
     "shell.execute_reply": "2022-08-25T09:19:39.400358Z"
    },
    "papermill": {
     "duration": 0.314164,
     "end_time": "2022-08-25T09:19:39.403976",
     "exception": false,
     "start_time": "2022-08-25T09:19:39.089812",
     "status": "completed"
    },
    "tags": []
   },
   "outputs": [
    {
     "data": {
      "text/plain": [
       "<AxesSubplot:title={'center':'Modal Coefficients'}>"
      ]
     },
     "execution_count": 76,
     "metadata": {},
     "output_type": "execute_result"
    },
    {
     "data": {
      "image/png": "[encoded data removed]",
      "text/plain": [
       "<Figure size 432x288 with 1 Axes>"
      ]
     },
     "metadata": {},
     "output_type": "display_data"
    }
   ],
   "source": [
    "coeff.Coefficient_Estimate.plot(kind='bar',title='Modal Coefficients')"
   ]
  },
  {
   "cell_type": "code",
   "execution_count": 77,
   "id": "0898fdf4",
   "metadata": {
    "execution": {
     "iopub.execute_input": "2022-08-25T09:19:39.465258Z",
     "iopub.status.busy": "2022-08-25T09:19:39.464879Z",
     "iopub.status.idle": "2022-08-25T09:19:39.469259Z",
     "shell.execute_reply": "2022-08-25T09:19:39.468126Z"
    },
    "papermill": {
     "duration": 0.037569,
     "end_time": "2022-08-25T09:19:39.471526",
     "exception": false,
     "start_time": "2022-08-25T09:19:39.433957",
     "status": "completed"
    },
    "tags": []
   },
   "outputs": [],
   "source": [
    "# To overcome overfitting we use feature reduction i.e PCA, feature selection and regularization\n",
    "# we have different types of regression techniques which uses regularization to overcome this problem"
   ]
  },
  {
   "cell_type": "code",
   "execution_count": 78,
   "id": "45b92b96",
   "metadata": {
    "execution": {
     "iopub.execute_input": "2022-08-25T09:19:39.532979Z",
     "iopub.status.busy": "2022-08-25T09:19:39.532585Z",
     "iopub.status.idle": "2022-08-25T09:19:39.537553Z",
     "shell.execute_reply": "2022-08-25T09:19:39.536384Z"
    },
    "papermill": {
     "duration": 0.038376,
     "end_time": "2022-08-25T09:19:39.539970",
     "exception": false,
     "start_time": "2022-08-25T09:19:39.501594",
     "status": "completed"
    },
    "tags": []
   },
   "outputs": [],
   "source": [
    "# To implement Regualarization and K-fold "
   ]
  },
  {
   "cell_type": "code",
   "execution_count": 79,
   "id": "888b5f90",
   "metadata": {
    "execution": {
     "iopub.execute_input": "2022-08-25T09:19:39.601442Z",
     "iopub.status.busy": "2022-08-25T09:19:39.601029Z",
     "iopub.status.idle": "2022-08-25T09:19:39.605953Z",
     "shell.execute_reply": "2022-08-25T09:19:39.604862Z"
    },
    "papermill": {
     "duration": 0.038401,
     "end_time": "2022-08-25T09:19:39.608159",
     "exception": false,
     "start_time": "2022-08-25T09:19:39.569758",
     "status": "completed"
    },
    "tags": []
   },
   "outputs": [],
   "source": [
    "# let's implement K-fold cross validation "
   ]
  },
  {
   "cell_type": "code",
   "execution_count": 80,
   "id": "7a2baec0",
   "metadata": {
    "execution": {
     "iopub.execute_input": "2022-08-25T09:19:39.676002Z",
     "iopub.status.busy": "2022-08-25T09:19:39.675583Z",
     "iopub.status.idle": "2022-08-25T09:19:39.757760Z",
     "shell.execute_reply": "2022-08-25T09:19:39.756212Z"
    },
    "papermill": {
     "duration": 0.124205,
     "end_time": "2022-08-25T09:19:39.762108",
     "exception": false,
     "start_time": "2022-08-25T09:19:39.637903",
     "status": "completed"
    },
    "tags": []
   },
   "outputs": [],
   "source": [
    "from sklearn.model_selection import cross_val_score\n",
    "scores=cross_val_score(lreg,x_cv,y_cv,cv=5,scoring='r2')\n",
    "\n"
   ]
  },
  {
   "cell_type": "code",
   "execution_count": 81,
   "id": "5a7cefa7",
   "metadata": {
    "execution": {
     "iopub.execute_input": "2022-08-25T09:19:39.913133Z",
     "iopub.status.busy": "2022-08-25T09:19:39.912278Z",
     "iopub.status.idle": "2022-08-25T09:19:39.919372Z",
     "shell.execute_reply": "2022-08-25T09:19:39.918469Z"
    },
    "papermill": {
     "duration": 0.040763,
     "end_time": "2022-08-25T09:19:39.921591",
     "exception": false,
     "start_time": "2022-08-25T09:19:39.880828",
     "status": "completed"
    },
    "tags": []
   },
   "outputs": [
    {
     "data": {
      "text/plain": [
       "51.41291717800923"
      ]
     },
     "execution_count": 81,
     "metadata": {},
     "output_type": "execute_result"
    }
   ],
   "source": [
    "scores.mean()*100"
   ]
  },
  {
   "cell_type": "markdown",
   "id": "f9486a4c",
   "metadata": {
    "papermill": {
     "duration": 0.029899,
     "end_time": "2022-08-25T09:19:39.981803",
     "exception": false,
     "start_time": "2022-08-25T09:19:39.951904",
     "status": "completed"
    },
    "tags": []
   },
   "source": [
    "**The model explains 49.68% of variance in the test dataset**"
   ]
  },
  {
   "cell_type": "markdown",
   "id": "bb1a29e8",
   "metadata": {
    "papermill": {
     "duration": 0.030056,
     "end_time": "2022-08-25T09:19:40.042100",
     "exception": false,
     "start_time": "2022-08-25T09:19:40.012044",
     "status": "completed"
    },
    "tags": []
   },
   "source": [
    "## Ridge Regression\n",
    "* It shrinks the parameters, therefore it is mostly used to prevent multicollinearity.\n",
    "* It reduces the model complexity by coefficient shrinkage, i.e. it implements L2 regularization"
   ]
  },
  {
   "cell_type": "code",
   "execution_count": 82,
   "id": "eba01482",
   "metadata": {
    "execution": {
     "iopub.execute_input": "2022-08-25T09:19:40.104481Z",
     "iopub.status.busy": "2022-08-25T09:19:40.104036Z",
     "iopub.status.idle": "2022-08-25T09:19:40.153898Z",
     "shell.execute_reply": "2022-08-25T09:19:40.152419Z"
    },
    "papermill": {
     "duration": 0.085673,
     "end_time": "2022-08-25T09:19:40.157968",
     "exception": false,
     "start_time": "2022-08-25T09:19:40.072295",
     "status": "completed"
    },
    "tags": []
   },
   "outputs": [
    {
     "data": {
      "text/plain": [
       "[0.5163513215993591, 0.5163385535655542, 0.516171275465811]"
      ]
     },
     "execution_count": 82,
     "metadata": {},
     "output_type": "execute_result"
    }
   ],
   "source": [
    "from sklearn.linear_model import Ridge\n",
    "RidgeError=[]\n",
    "for i in [0.5,0.05,10]:\n",
    "    ridgeReg=Ridge(alpha=i)\n",
    "    ridgeReg.fit(x_train,y_train)\n",
    "    pred=ridgeReg.predict(x_cv)\n",
    "    RidgeError.append(r2_score(y_cv,pred))\n",
    "RidgeError    \n"
   ]
  },
  {
   "cell_type": "markdown",
   "id": "6659424e",
   "metadata": {
    "papermill": {
     "duration": 0.049913,
     "end_time": "2022-08-25T09:19:40.286999",
     "exception": false,
     "start_time": "2022-08-25T09:19:40.237086",
     "status": "completed"
    },
    "tags": []
   },
   "source": [
    "**It is clear that our model performs best with alpha as 0.5**"
   ]
  },
  {
   "cell_type": "code",
   "execution_count": 83,
   "id": "a3d8a00d",
   "metadata": {
    "execution": {
     "iopub.execute_input": "2022-08-25T09:19:40.348593Z",
     "iopub.status.busy": "2022-08-25T09:19:40.348218Z",
     "iopub.status.idle": "2022-08-25T09:19:40.393916Z",
     "shell.execute_reply": "2022-08-25T09:19:40.391334Z"
    },
    "papermill": {
     "duration": 0.081254,
     "end_time": "2022-08-25T09:19:40.398209",
     "exception": false,
     "start_time": "2022-08-25T09:19:40.316955",
     "status": "completed"
    },
    "tags": []
   },
   "outputs": [
    {
     "data": {
      "text/plain": [
       "0.5163396938545497"
      ]
     },
     "execution_count": 83,
     "metadata": {},
     "output_type": "execute_result"
    }
   ],
   "source": [
    "from sklearn.linear_model import Lasso\n",
    "# normalize=True, has been deprecated\n",
    "\n",
    "lassoReg = Lasso(alpha=0.003)\n",
    "\n",
    "lassoReg.fit(x_train,y_train)\n",
    "\n",
    "pred = lassoReg.predict(x_cv)\n",
    "\n",
    "# calculating mse\n",
    "\n",
    "# mse = np.mean((pred - y_cv)**2)\n",
    "\n",
    "# print('mse: ',mse)\n",
    "\n",
    "# print(lassoReg.score(x_cv,y_cv))\n",
    "r2_score(y_cv,pred)\n",
    "\n"
   ]
  },
  {
   "cell_type": "markdown",
   "id": "4781e64c",
   "metadata": {
    "papermill": {
     "duration": 0.044435,
     "end_time": "2022-08-25T09:19:40.555013",
     "exception": false,
     "start_time": "2022-08-25T09:19:40.510578",
     "status": "completed"
    },
    "tags": []
   },
   "source": [
    "**The model has a descent r2 score at alpha 0.003**\n",
    "* It uses L1 regularization technique\n",
    "* It is generally used when we have more number of features, because it automatically does feature selection."
   ]
  },
  {
   "cell_type": "markdown",
   "id": "2f7edefc",
   "metadata": {
    "papermill": {
     "duration": 0.029687,
     "end_time": "2022-08-25T09:19:40.615264",
     "exception": false,
     "start_time": "2022-08-25T09:19:40.585577",
     "status": "completed"
    },
    "tags": []
   },
   "source": []
  },
  {
   "cell_type": "code",
   "execution_count": 84,
   "id": "909e94b3",
   "metadata": {
    "execution": {
     "iopub.execute_input": "2022-08-25T09:19:40.678734Z",
     "iopub.status.busy": "2022-08-25T09:19:40.677645Z",
     "iopub.status.idle": "2022-08-25T09:19:40.729155Z",
     "shell.execute_reply": "2022-08-25T09:19:40.726495Z"
    },
    "papermill": {
     "duration": 0.087604,
     "end_time": "2022-08-25T09:19:40.733228",
     "exception": false,
     "start_time": "2022-08-25T09:19:40.645624",
     "status": "completed"
    },
    "tags": []
   },
   "outputs": [
    {
     "data": {
      "text/plain": [
       "0.5163396938545497"
      ]
     },
     "execution_count": 84,
     "metadata": {},
     "output_type": "execute_result"
    }
   ],
   "source": [
    "from sklearn.linear_model import ElasticNet\n",
    "\n",
    "ENreg = ElasticNet(alpha=0.001, l1_ratio=0.007)\n",
    "\n",
    "ENreg.fit(x_train,y_train)\n",
    "\n",
    "pred_cv = ENreg.predict(x_cv)\n",
    "\n",
    "#calculating r2_score\n",
    "\n",
    "r2_score(y_cv,pred)\n",
    "\n"
   ]
  },
  {
   "cell_type": "code",
   "execution_count": null,
   "id": "f7ef4276",
   "metadata": {
    "papermill": {
     "duration": 0.029968,
     "end_time": "2022-08-25T09:19:40.869778",
     "exception": false,
     "start_time": "2022-08-25T09:19:40.839810",
     "status": "completed"
    },
    "tags": []
   },
   "outputs": [],
   "source": [
    "\n"
   ]
  }
 ],
 "metadata": {
  "kernelspec": {
   "display_name": "Python 3",
   "language": "python",
   "name": "python3"
  },
  "language_info": {
   "codemirror_mode": {
    "name": "ipython",
    "version": 3
   },
   "file_extension": ".py",
   "mimetype": "text/x-python",
   "name": "python",
   "nbconvert_exporter": "python",
   "pygments_lexer": "ipython3",
   "version": "3.7.12"
  },
  "papermill": {
   "default_parameters": {},
   "duration": 20.725955,
   "end_time": "2022-08-25T09:19:41.722295",
   "environment_variables": {},
   "exception": null,
   "input_path": "__notebook__.ipynb",
   "output_path": "__notebook__.ipynb",
   "parameters": {},
   "start_time": "2022-08-25T09:19:20.996340",
   "version": "2.3.4"
  }
 },
 "nbformat": 4,
 "nbformat_minor": 5
}
