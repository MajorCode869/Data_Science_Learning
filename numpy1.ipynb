{
 "cells": [
  {
   "cell_type": "markdown",
   "id": "64ef300a",
   "metadata": {
    "papermill": {
     "duration": 0.012951,
     "end_time": "2022-11-27T07:51:07.978142",
     "exception": false,
     "start_time": "2022-11-27T07:51:07.965191",
     "status": "completed"
    },
    "tags": []
   },
   "source": [
    "# NumPy (Numerical Python)\n",
    "1. NumPy is the fundamental package for scientific computing in Python.\n",
    "2. It is a Python library that provides a multidimensional array object, various derived objects (such as masked arrays and matrices),\n",
    "3. An assortment of routines for fast operations on arrays, including mathematical, logical, shape manipulation, sorting, selecting, I/O, discrete Fourier transforms, basic linear algebra, basic statistical operations, and many more.\n",
    "4. At the core of the NumPy package, is the ndarray object. This encapsulates n-dimensional arrays of homogeneous data types, with many operations being performed in compiled code for performance. "
   ]
  },
  {
   "attachments": {
    "1.png": {
     "image/png": "[encoded data removed]"
    }
   },
   "cell_type": "markdown",
   "id": "fd5fdc60",
   "metadata": {
    "papermill": {
     "duration": 0.014121,
     "end_time": "2022-11-27T07:51:08.004876",
     "exception": false,
     "start_time": "2022-11-27T07:51:07.990755",
     "status": "completed"
    },
    "tags": []
   },
   "source": [
    "![1.png](attachment:1.png)"
   ]
  },
  {
   "cell_type": "markdown",
   "id": "b2758578",
   "metadata": {
    "papermill": {
     "duration": 0.01071,
     "end_time": "2022-11-27T07:51:08.027063",
     "exception": false,
     "start_time": "2022-11-27T07:51:08.016353",
     "status": "completed"
    },
    "tags": []
   },
   "source": [
    "# NumPy Array vs. Python Sequneces\n",
    "1. NumPy arrays have a fixed size at creation, unlike Python lists (which can grow dynamically)\n",
    "2. NumPy arrays facilitate advanced mathematical and other types of operations on large numbers of data. Typically, such operations are executed more efficiently and with less code than is possible using Python’s built-in sequences."
   ]
  },
  {
   "cell_type": "markdown",
   "id": "1b4b12a3",
   "metadata": {
    "papermill": {
     "duration": 0.010769,
     "end_time": "2022-11-27T07:51:08.048840",
     "exception": false,
     "start_time": "2022-11-27T07:51:08.038071",
     "status": "completed"
    },
    "tags": []
   },
   "source": [
    "# Installing and Importing NumPy\n",
    "1. NumPy can be installed with conda, with pip \n",
    "2. If we use conda, we can install NumPy as : conda install numpy\n",
    "3. If we use pip, we can install NumPy as : pip install numpy\n",
    "4. Once the package has been installed, it need to be imported."
   ]
  },
  {
   "cell_type": "code",
   "execution_count": 1,
   "id": "c4e1c900",
   "metadata": {
    "execution": {
     "iopub.execute_input": "2022-11-27T07:51:08.075537Z",
     "iopub.status.busy": "2022-11-27T07:51:08.074439Z",
     "iopub.status.idle": "2022-11-27T07:51:22.121078Z",
     "shell.execute_reply": "2022-11-27T07:51:22.120004Z"
    },
    "papermill": {
     "duration": 14.063673,
     "end_time": "2022-11-27T07:51:22.124009",
     "exception": false,
     "start_time": "2022-11-27T07:51:08.060336",
     "status": "completed"
    },
    "tags": []
   },
   "outputs": [
    {
     "name": "stdout",
     "output_type": "stream",
     "text": [
      "Requirement already satisfied: numpy in /opt/conda/lib/python3.7/site-packages (1.21.6)\r\n",
      "\u001b[33mWARNING: Running pip as the 'root' user can result in broken permissions and conflicting behaviour with the system package manager. It is recommended to use a virtual environment instead: https://pip.pypa.io/warnings/venv\u001b[0m\u001b[33m\r\n",
      "\u001b[0m"
     ]
    }
   ],
   "source": [
    "!pip install numpy\n",
    "import numpy as np"
   ]
  },
  {
   "cell_type": "markdown",
   "id": "a553501c",
   "metadata": {
    "papermill": {
     "duration": 0.011124,
     "end_time": "2022-11-27T07:51:22.146938",
     "exception": false,
     "start_time": "2022-11-27T07:51:22.135814",
     "status": "completed"
    },
    "tags": []
   },
   "source": [
    "# NumPy Array Basics\n",
    "NumPy’s array class is called ndarray. It is also known by the alias array. The more important attributes of an ndarray object are:\n",
    "1. ndarray.ndim- the number of axes (dimensions) of the array\n",
    "2. ndarray.shape- the dimensions of the array. This is a tuple of integers indicating the size of the array in each dimension.\n",
    "3. ndarray.size- the total number of elements of the array. This is equal to the product of the elements of shape.\n",
    "4. ndarray.dtype- an object describing the type of the elements in the array. NumPy provides types of its own. numpy.int32, numpy.int16, and numpy.float64 are some examples.\n",
    "5. ndarray.itemsize- the size in bytes of each element of the array. For example, an array of elements of type float64 has itemsize 8 (=64/8)\n",
    "6. ndarray.data-the buffer containing the actual elements of the array."
   ]
  },
  {
   "cell_type": "markdown",
   "id": "054e776d",
   "metadata": {
    "papermill": {
     "duration": 0.01172,
     "end_time": "2022-11-27T07:51:22.171292",
     "exception": false,
     "start_time": "2022-11-27T07:51:22.159572",
     "status": "completed"
    },
    "tags": []
   },
   "source": [
    "# Creating Arrays\n",
    "There are 6 general mechanisms for creating arrays:\n",
    "1. Conversion from other Python structures (i.e. lists and tuples)\n",
    "2. Intrinsic NumPy array creation functions (e.g. arange, ones, zeros, etc.)\n",
    "3. Replicating, joining, or mutating existing arrays\n",
    "4. Reading arrays from disk, either from standard or custom formats\n",
    "5. Using Random Sampling\n",
    "6. Use of special library functions (e.g., Pandas, scipy)"
   ]
  },
  {
   "cell_type": "markdown",
   "id": "8b4cdf0b",
   "metadata": {
    "papermill": {
     "duration": 0.011669,
     "end_time": "2022-11-27T07:51:22.194593",
     "exception": false,
     "start_time": "2022-11-27T07:51:22.182924",
     "status": "completed"
    },
    "tags": []
   },
   "source": [
    "# 1. Creating Arrays- From Python Sequneces\n",
    "NumPy arrays can be defined using Python sequences such as lists and tuples. Lists and tuples are defined using [...] and (...), respectively.\n",
    "Lists and tuples can define ndarray creation:\n",
    "1. a list of numbers will create a 1D array,\n",
    "2. a list of lists will create a 2D array,\n",
    "3. further nested lists will create higher-dimensional arrays. In general, any array object is called an ndarray in NumPy."
   ]
  },
  {
   "cell_type": "code",
   "execution_count": 2,
   "id": "6bf609a8",
   "metadata": {
    "execution": {
     "iopub.execute_input": "2022-11-27T07:51:22.219589Z",
     "iopub.status.busy": "2022-11-27T07:51:22.219167Z",
     "iopub.status.idle": "2022-11-27T07:51:22.226028Z",
     "shell.execute_reply": "2022-11-27T07:51:22.224785Z"
    },
    "papermill": {
     "duration": 0.022501,
     "end_time": "2022-11-27T07:51:22.228579",
     "exception": false,
     "start_time": "2022-11-27T07:51:22.206078",
     "status": "completed"
    },
    "tags": []
   },
   "outputs": [],
   "source": [
    "a1D = np.array([1, 2, 3, 4])\n",
    "a2D = np.array([[1, 2], [3, 4]])\n",
    "a3D = np.array([[[1, 2], [3, 4]],\n",
    "                    [[5, 6], [7, 8]]])"
   ]
  },
  {
   "cell_type": "code",
   "execution_count": 3,
   "id": "e50a4e87",
   "metadata": {
    "execution": {
     "iopub.execute_input": "2022-11-27T07:51:22.255254Z",
     "iopub.status.busy": "2022-11-27T07:51:22.254629Z",
     "iopub.status.idle": "2022-11-27T07:51:22.262943Z",
     "shell.execute_reply": "2022-11-27T07:51:22.261965Z"
    },
    "papermill": {
     "duration": 0.024986,
     "end_time": "2022-11-27T07:51:22.265597",
     "exception": false,
     "start_time": "2022-11-27T07:51:22.240611",
     "status": "completed"
    },
    "tags": []
   },
   "outputs": [
    {
     "name": "stdout",
     "output_type": "stream",
     "text": [
      "[[1 2]\n",
      " [3 4]]\n"
     ]
    }
   ],
   "source": [
    "print(a2D)"
   ]
  },
  {
   "cell_type": "code",
   "execution_count": 4,
   "id": "f28b42ec",
   "metadata": {
    "execution": {
     "iopub.execute_input": "2022-11-27T07:51:22.293811Z",
     "iopub.status.busy": "2022-11-27T07:51:22.293184Z",
     "iopub.status.idle": "2022-11-27T07:51:22.302571Z",
     "shell.execute_reply": "2022-11-27T07:51:22.300582Z"
    },
    "papermill": {
     "duration": 0.027123,
     "end_time": "2022-11-27T07:51:22.305835",
     "exception": false,
     "start_time": "2022-11-27T07:51:22.278712",
     "status": "completed"
    },
    "tags": []
   },
   "outputs": [
    {
     "name": "stdout",
     "output_type": "stream",
     "text": [
      "Dimensions- 3\n",
      "Shape- (2, 2, 2)\n",
      "Size- 8\n",
      "Dtype- int64\n",
      "ItemSize- 8\n"
     ]
    }
   ],
   "source": [
    "print('Dimensions-',a3D.ndim)\n",
    "print('Shape-',a3D.shape)\n",
    "print('Size-',a3D.size)\n",
    "print('Dtype-',a3D.dtype)\n",
    "print('ItemSize-',a3D.itemsize)"
   ]
  },
  {
   "cell_type": "markdown",
   "id": "e747509d",
   "metadata": {
    "papermill": {
     "duration": 0.011181,
     "end_time": "2022-11-27T07:51:22.328461",
     "exception": false,
     "start_time": "2022-11-27T07:51:22.317280",
     "status": "completed"
    },
    "tags": []
   },
   "source": [
    "# 2. Creating Arrays- Intrinsic Functions\n",
    "NumPy has over 40 built-in functions for creating arrays as laid out in the Array creation routines. \n",
    "These functions can be split into roughly three categories, based on the dimension of the array they create:\n",
    "1. 1D arrays\n",
    "2. 2D arrays\n",
    "3. ndarrays"
   ]
  },
  {
   "cell_type": "markdown",
   "id": "30a96c67",
   "metadata": {
    "papermill": {
     "duration": 0.011191,
     "end_time": "2022-11-27T07:51:22.351232",
     "exception": false,
     "start_time": "2022-11-27T07:51:22.340041",
     "status": "completed"
    },
    "tags": []
   },
   "source": [
    "# 2.1-1D Array Creation Functions\n",
    "The 1D array creation functions e.g. numpy.linspace and numpy.arange generally need at least two inputs, start and stop.\n"
   ]
  },
  {
   "cell_type": "markdown",
   "id": "72330d5f",
   "metadata": {
    "papermill": {
     "duration": 0.011182,
     "end_time": "2022-11-27T07:51:22.373995",
     "exception": false,
     "start_time": "2022-11-27T07:51:22.362813",
     "status": "completed"
    },
    "tags": []
   },
   "source": [
    "# numpy.arange\n",
    "numpy.arange creates arrays with regularly incrementing values.\n",
    "1. Syntax: numpy.arange([start, ]stop, [step, ], dtype=None, like=None)"
   ]
  },
  {
   "cell_type": "code",
   "execution_count": 5,
   "id": "ae722343",
   "metadata": {
    "execution": {
     "iopub.execute_input": "2022-11-27T07:51:22.401476Z",
     "iopub.status.busy": "2022-11-27T07:51:22.401058Z",
     "iopub.status.idle": "2022-11-27T07:51:22.410222Z",
     "shell.execute_reply": "2022-11-27T07:51:22.408537Z"
    },
    "papermill": {
     "duration": 0.025999,
     "end_time": "2022-11-27T07:51:22.412713",
     "exception": false,
     "start_time": "2022-11-27T07:51:22.386714",
     "status": "completed"
    },
    "tags": []
   },
   "outputs": [
    {
     "name": "stdout",
     "output_type": "stream",
     "text": [
      "(array([0, 1, 2, 3, 4, 5, 6, 7, 8, 9]),) [2. 3. 4. 5. 6. 7. 8. 9.] [2.  2.1 2.2 2.3 2.4 2.5 2.6 2.7 2.8 2.9]\n"
     ]
    }
   ],
   "source": [
    "a=np.arange(10), \n",
    "b=np.arange(2, 10, dtype=float)\n",
    "c=np.arange(2, 3, 0.1)\n",
    "print(a,b,c)"
   ]
  },
  {
   "cell_type": "markdown",
   "id": "a15b1626",
   "metadata": {
    "papermill": {
     "duration": 0.012487,
     "end_time": "2022-11-27T07:51:22.437580",
     "exception": false,
     "start_time": "2022-11-27T07:51:22.425093",
     "status": "completed"
    },
    "tags": []
   },
   "source": [
    "# numpy.linspace \n",
    "It will create arrays with a specified number of elements, and spaced equally between the specified beginning and end values.\n",
    "1. Syntax: numpy.linspace(start, stop, num=50, endpoint=True, retstep=False, dtype= None, axis=0)"
   ]
  },
  {
   "cell_type": "code",
   "execution_count": 6,
   "id": "5ef96838",
   "metadata": {
    "execution": {
     "iopub.execute_input": "2022-11-27T07:51:22.463207Z",
     "iopub.status.busy": "2022-11-27T07:51:22.462771Z",
     "iopub.status.idle": "2022-11-27T07:51:22.475202Z",
     "shell.execute_reply": "2022-11-27T07:51:22.473958Z"
    },
    "papermill": {
     "duration": 0.028536,
     "end_time": "2022-11-27T07:51:22.477849",
     "exception": false,
     "start_time": "2022-11-27T07:51:22.449313",
     "status": "completed"
    },
    "tags": []
   },
   "outputs": [
    {
     "data": {
      "text/plain": [
       "array([1. , 1.6, 2.2, 2.8, 3.4, 4. ])"
      ]
     },
     "execution_count": 6,
     "metadata": {},
     "output_type": "execute_result"
    }
   ],
   "source": [
    "np.linspace(1., 4., 6)"
   ]
  },
  {
   "cell_type": "markdown",
   "id": "8682ae9e",
   "metadata": {
    "papermill": {
     "duration": 0.012118,
     "end_time": "2022-11-27T07:51:22.502819",
     "exception": false,
     "start_time": "2022-11-27T07:51:22.490701",
     "status": "completed"
    },
    "tags": []
   },
   "source": [
    "# 2.2-2D array creation functions\n",
    "The 2D array creation functions e.g. numpy.eye, numpy.diag, and numpy.vander define properties of special matrices represented as 2D arrays."
   ]
  },
  {
   "cell_type": "markdown",
   "id": "ba77b8a4",
   "metadata": {
    "papermill": {
     "duration": 0.011822,
     "end_time": "2022-11-27T07:51:22.527031",
     "exception": false,
     "start_time": "2022-11-27T07:51:22.515209",
     "status": "completed"
    },
    "tags": []
   },
   "source": [
    "# numy.eye\n",
    "np.eye(n, m) defines a 2D identity matrix.\n",
    "1. Syntax: numpy.eye(N, M=None, k=0, dtype=, order=‘C or F', *, like=None)\n",
    " k denotes Index of the diagonal: 0 (the default) refers to the main diagonal, a positive value refers to an upper diagonal, and a negative value to a lower diagonal.\n"
   ]
  },
  {
   "cell_type": "code",
   "execution_count": 7,
   "id": "67efdbb9",
   "metadata": {
    "execution": {
     "iopub.execute_input": "2022-11-27T07:51:22.553460Z",
     "iopub.status.busy": "2022-11-27T07:51:22.553004Z",
     "iopub.status.idle": "2022-11-27T07:51:22.560248Z",
     "shell.execute_reply": "2022-11-27T07:51:22.559116Z"
    },
    "papermill": {
     "duration": 0.024664,
     "end_time": "2022-11-27T07:51:22.563704",
     "exception": false,
     "start_time": "2022-11-27T07:51:22.539040",
     "status": "completed"
    },
    "tags": []
   },
   "outputs": [
    {
     "name": "stdout",
     "output_type": "stream",
     "text": [
      "[[1 0 0]\n",
      " [0 1 0]\n",
      " [0 0 1]]\n",
      "[[0. 1. 0. 0. 0.]\n",
      " [0. 0. 1. 0. 0.]\n",
      " [0. 0. 0. 1. 0.]]\n"
     ]
    },
    {
     "name": "stderr",
     "output_type": "stream",
     "text": [
      "/opt/conda/lib/python3.7/site-packages/ipykernel_launcher.py:1: DeprecationWarning: `np.int` is a deprecated alias for the builtin `int`. To silence this warning, use `int` by itself. Doing this will not modify any behavior and is safe. When replacing `np.int`, you may wish to use e.g. `np.int64` or `np.int32` to specify the precision. If you wish to review your current use, check the release note link for additional information.\n",
      "Deprecated in NumPy 1.20; for more details and guidance: https://numpy.org/devdocs/release/1.20.0-notes.html#deprecations\n",
      "  \"\"\"Entry point for launching an IPython kernel.\n"
     ]
    }
   ],
   "source": [
    "a=np.eye(3,dtype=np.int)\n",
    "b=np.eye(3, 5,k=1)\n",
    "print(a)\n",
    "print(b)"
   ]
  },
  {
   "cell_type": "markdown",
   "id": "d636502f",
   "metadata": {
    "papermill": {
     "duration": 0.011675,
     "end_time": "2022-11-27T07:51:22.588604",
     "exception": false,
     "start_time": "2022-11-27T07:51:22.576929",
     "status": "completed"
    },
    "tags": []
   },
   "source": [
    "# numpy.diag\n",
    "numpy.diag Extract a diagonal or construct a diagonal array.\n",
    "1. Syntax: numpy.diag(v, k=0)\n",
    " If v is a 2-D array, return a copy of its k-th diagonal. If v is a 1-D array, return a 2-D array with v on the k-th diagonal.\n"
   ]
  },
  {
   "cell_type": "code",
   "execution_count": 8,
   "id": "19d7bc4b",
   "metadata": {
    "execution": {
     "iopub.execute_input": "2022-11-27T07:51:22.615672Z",
     "iopub.status.busy": "2022-11-27T07:51:22.614777Z",
     "iopub.status.idle": "2022-11-27T07:51:22.624276Z",
     "shell.execute_reply": "2022-11-27T07:51:22.623300Z"
    },
    "papermill": {
     "duration": 0.026022,
     "end_time": "2022-11-27T07:51:22.627217",
     "exception": false,
     "start_time": "2022-11-27T07:51:22.601195",
     "status": "completed"
    },
    "tags": []
   },
   "outputs": [
    {
     "data": {
      "text/plain": [
       "(array([[1, 0, 0],\n",
       "        [0, 2, 0],\n",
       "        [0, 0, 3]]),)"
      ]
     },
     "execution_count": 8,
     "metadata": {},
     "output_type": "execute_result"
    }
   ],
   "source": [
    "np.diag([1, 2, 3]), "
   ]
  },
  {
   "cell_type": "code",
   "execution_count": 9,
   "id": "dfe49fae",
   "metadata": {
    "execution": {
     "iopub.execute_input": "2022-11-27T07:51:22.656738Z",
     "iopub.status.busy": "2022-11-27T07:51:22.656251Z",
     "iopub.status.idle": "2022-11-27T07:51:22.665375Z",
     "shell.execute_reply": "2022-11-27T07:51:22.664114Z"
    },
    "papermill": {
     "duration": 0.025805,
     "end_time": "2022-11-27T07:51:22.667841",
     "exception": false,
     "start_time": "2022-11-27T07:51:22.642036",
     "status": "completed"
    },
    "tags": []
   },
   "outputs": [
    {
     "data": {
      "text/plain": [
       "array([1, 4])"
      ]
     },
     "execution_count": 9,
     "metadata": {},
     "output_type": "execute_result"
    }
   ],
   "source": [
    "a = np.array([[1, 2], [3, 4]])\n",
    "np.diag(a)\n"
   ]
  },
  {
   "cell_type": "markdown",
   "id": "51a1b71b",
   "metadata": {
    "papermill": {
     "duration": 0.012719,
     "end_time": "2022-11-27T07:51:22.692924",
     "exception": false,
     "start_time": "2022-11-27T07:51:22.680205",
     "status": "completed"
    },
    "tags": []
   },
   "source": [
    "# numpy.vander\n",
    "numpy.vander  constructs a  Vandermonde matrix i.e. the columns of the output matrix are powers of the input vector.\n",
    "Syntax: numpy.vander(x, N=None, increasing =False)\n",
    " Parameters: x: 1-D array, N= Number of columns  (default  square array with N=len(x);  Increasing- Order of the powers of the columns. If True, the powers increase from left to right, if False (the default) they are reversed."
   ]
  },
  {
   "cell_type": "code",
   "execution_count": 10,
   "id": "5631d032",
   "metadata": {
    "execution": {
     "iopub.execute_input": "2022-11-27T07:51:22.720969Z",
     "iopub.status.busy": "2022-11-27T07:51:22.720544Z",
     "iopub.status.idle": "2022-11-27T07:51:22.729955Z",
     "shell.execute_reply": "2022-11-27T07:51:22.728985Z"
    },
    "papermill": {
     "duration": 0.025319,
     "end_time": "2022-11-27T07:51:22.732291",
     "exception": false,
     "start_time": "2022-11-27T07:51:22.706972",
     "status": "completed"
    },
    "tags": []
   },
   "outputs": [
    {
     "data": {
      "text/plain": [
       "array([0. , 0.5, 1. , 1.5, 2. ])"
      ]
     },
     "execution_count": 10,
     "metadata": {},
     "output_type": "execute_result"
    }
   ],
   "source": [
    "np.linspace(0,2,5)"
   ]
  },
  {
   "cell_type": "code",
   "execution_count": 11,
   "id": "dec82af4",
   "metadata": {
    "execution": {
     "iopub.execute_input": "2022-11-27T07:51:22.758604Z",
     "iopub.status.busy": "2022-11-27T07:51:22.758220Z",
     "iopub.status.idle": "2022-11-27T07:51:22.765280Z",
     "shell.execute_reply": "2022-11-27T07:51:22.764419Z"
    },
    "papermill": {
     "duration": 0.023254,
     "end_time": "2022-11-27T07:51:22.767771",
     "exception": false,
     "start_time": "2022-11-27T07:51:22.744517",
     "status": "completed"
    },
    "tags": []
   },
   "outputs": [
    {
     "data": {
      "text/plain": [
       "array([[1. , 0. ],\n",
       "       [1. , 0.5],\n",
       "       [1. , 1. ],\n",
       "       [1. , 1.5],\n",
       "       [1. , 2. ]])"
      ]
     },
     "execution_count": 11,
     "metadata": {},
     "output_type": "execute_result"
    }
   ],
   "source": [
    "np.vander(np.linspace(0, 2, 5), 2,True) \n",
    "# If True, power starts as x^0,x^1...\n",
    "# otherwise its reversed"
   ]
  },
  {
   "cell_type": "code",
   "execution_count": 12,
   "id": "9775d779",
   "metadata": {
    "execution": {
     "iopub.execute_input": "2022-11-27T07:51:22.794792Z",
     "iopub.status.busy": "2022-11-27T07:51:22.794306Z",
     "iopub.status.idle": "2022-11-27T07:51:22.801628Z",
     "shell.execute_reply": "2022-11-27T07:51:22.800654Z"
    },
    "papermill": {
     "duration": 0.02394,
     "end_time": "2022-11-27T07:51:22.804070",
     "exception": false,
     "start_time": "2022-11-27T07:51:22.780130",
     "status": "completed"
    },
    "tags": []
   },
   "outputs": [
    {
     "data": {
      "text/plain": [
       "array([[1, 1],\n",
       "       [2, 1],\n",
       "       [3, 1],\n",
       "       [4, 1]])"
      ]
     },
     "execution_count": 12,
     "metadata": {},
     "output_type": "execute_result"
    }
   ],
   "source": [
    "np.vander([1, 2, 3, 4], 2)"
   ]
  },
  {
   "cell_type": "code",
   "execution_count": 13,
   "id": "38971dc0",
   "metadata": {
    "execution": {
     "iopub.execute_input": "2022-11-27T07:51:22.831636Z",
     "iopub.status.busy": "2022-11-27T07:51:22.831181Z",
     "iopub.status.idle": "2022-11-27T07:51:22.838114Z",
     "shell.execute_reply": "2022-11-27T07:51:22.837072Z"
    },
    "papermill": {
     "duration": 0.023148,
     "end_time": "2022-11-27T07:51:22.840326",
     "exception": false,
     "start_time": "2022-11-27T07:51:22.817178",
     "status": "completed"
    },
    "tags": []
   },
   "outputs": [
    {
     "data": {
      "text/plain": [
       "array([[ 1,  1,  1,  1],\n",
       "       [ 8,  4,  2,  1],\n",
       "       [27,  9,  3,  1],\n",
       "       [64, 16,  4,  1]])"
      ]
     },
     "execution_count": 13,
     "metadata": {},
     "output_type": "execute_result"
    }
   ],
   "source": [
    "np.vander((1, 2, 3, 4), 4)"
   ]
  },
  {
   "cell_type": "markdown",
   "id": "4258357a",
   "metadata": {
    "papermill": {
     "duration": 0.013438,
     "end_time": "2022-11-27T07:51:22.866734",
     "exception": false,
     "start_time": "2022-11-27T07:51:22.853296",
     "status": "completed"
    },
    "tags": []
   },
   "source": [
    "# 2.3-General ndarray creation functions\n",
    "The ndarray creation functions e.g. numpy.ones, numpy.zeros, numpy.identity and numpy.empty define arrays based upon the desired shape.\n"
   ]
  },
  {
   "cell_type": "markdown",
   "id": "ee52429a",
   "metadata": {
    "papermill": {
     "duration": 0.013983,
     "end_time": "2022-11-27T07:51:22.893864",
     "exception": false,
     "start_time": "2022-11-27T07:51:22.879881",
     "status": "completed"
    },
    "tags": []
   },
   "source": [
    "# numpy.ones\n",
    "numpy.ones Return a new array of given shape and type, filled with ones.\n",
    "1. Syntax:numpy.ones(shape, dtype=None, order='C', like=None)\n"
   ]
  },
  {
   "cell_type": "code",
   "execution_count": 14,
   "id": "e4a12452",
   "metadata": {
    "execution": {
     "iopub.execute_input": "2022-11-27T07:51:22.924836Z",
     "iopub.status.busy": "2022-11-27T07:51:22.924025Z",
     "iopub.status.idle": "2022-11-27T07:51:22.932533Z",
     "shell.execute_reply": "2022-11-27T07:51:22.931328Z"
    },
    "papermill": {
     "duration": 0.026043,
     "end_time": "2022-11-27T07:51:22.935160",
     "exception": false,
     "start_time": "2022-11-27T07:51:22.909117",
     "status": "completed"
    },
    "tags": []
   },
   "outputs": [
    {
     "data": {
      "text/plain": [
       "array([[1., 1., 1.],\n",
       "       [1., 1., 1.]])"
      ]
     },
     "execution_count": 14,
     "metadata": {},
     "output_type": "execute_result"
    }
   ],
   "source": [
    "np.ones((2, 3))"
   ]
  },
  {
   "cell_type": "code",
   "execution_count": 15,
   "id": "292e3387",
   "metadata": {
    "execution": {
     "iopub.execute_input": "2022-11-27T07:51:22.963582Z",
     "iopub.status.busy": "2022-11-27T07:51:22.962482Z",
     "iopub.status.idle": "2022-11-27T07:51:22.972427Z",
     "shell.execute_reply": "2022-11-27T07:51:22.970329Z"
    },
    "papermill": {
     "duration": 0.027906,
     "end_time": "2022-11-27T07:51:22.975911",
     "exception": false,
     "start_time": "2022-11-27T07:51:22.948005",
     "status": "completed"
    },
    "tags": []
   },
   "outputs": [
    {
     "name": "stderr",
     "output_type": "stream",
     "text": [
      "/opt/conda/lib/python3.7/site-packages/ipykernel_launcher.py:1: DeprecationWarning: `np.float` is a deprecated alias for the builtin `float`. To silence this warning, use `float` by itself. Doing this will not modify any behavior and is safe. If you specifically wanted the numpy scalar type, use `np.float64` here.\n",
      "Deprecated in NumPy 1.20; for more details and guidance: https://numpy.org/devdocs/release/1.20.0-notes.html#deprecations\n",
      "  \"\"\"Entry point for launching an IPython kernel.\n"
     ]
    },
    {
     "data": {
      "text/plain": [
       "array([[[1., 1.],\n",
       "        [1., 1.],\n",
       "        [1., 1.]],\n",
       "\n",
       "       [[1., 1.],\n",
       "        [1., 1.],\n",
       "        [1., 1.]]])"
      ]
     },
     "execution_count": 15,
     "metadata": {},
     "output_type": "execute_result"
    }
   ],
   "source": [
    "np.ones((2, 3, 2),dtype=np.float)"
   ]
  },
  {
   "cell_type": "markdown",
   "id": "b38420c8",
   "metadata": {
    "papermill": {
     "duration": 0.013172,
     "end_time": "2022-11-27T07:51:23.003032",
     "exception": false,
     "start_time": "2022-11-27T07:51:22.989860",
     "status": "completed"
    },
    "tags": []
   },
   "source": [
    "# numpy.zeros\n",
    "numpy.zeros Return a new array of given shape and type, filled with zeros.\n",
    "1. Syntax:numpy.zeros(shape, dtype=None, order='C', like=None)"
   ]
  },
  {
   "cell_type": "code",
   "execution_count": 16,
   "id": "d386a871",
   "metadata": {
    "execution": {
     "iopub.execute_input": "2022-11-27T07:51:23.032324Z",
     "iopub.status.busy": "2022-11-27T07:51:23.031892Z",
     "iopub.status.idle": "2022-11-27T07:51:23.040961Z",
     "shell.execute_reply": "2022-11-27T07:51:23.038879Z"
    },
    "papermill": {
     "duration": 0.027352,
     "end_time": "2022-11-27T07:51:23.044110",
     "exception": false,
     "start_time": "2022-11-27T07:51:23.016758",
     "status": "completed"
    },
    "tags": []
   },
   "outputs": [
    {
     "data": {
      "text/plain": [
       "array([[0., 0., 0.],\n",
       "       [0., 0., 0.]])"
      ]
     },
     "execution_count": 16,
     "metadata": {},
     "output_type": "execute_result"
    }
   ],
   "source": [
    "np.zeros((2, 3))"
   ]
  },
  {
   "cell_type": "code",
   "execution_count": 17,
   "id": "3bb0c6fd",
   "metadata": {
    "execution": {
     "iopub.execute_input": "2022-11-27T07:51:23.074034Z",
     "iopub.status.busy": "2022-11-27T07:51:23.073582Z",
     "iopub.status.idle": "2022-11-27T07:51:23.083671Z",
     "shell.execute_reply": "2022-11-27T07:51:23.081771Z"
    },
    "papermill": {
     "duration": 0.030871,
     "end_time": "2022-11-27T07:51:23.089974",
     "exception": false,
     "start_time": "2022-11-27T07:51:23.059103",
     "status": "completed"
    },
    "tags": []
   },
   "outputs": [
    {
     "name": "stderr",
     "output_type": "stream",
     "text": [
      "/opt/conda/lib/python3.7/site-packages/ipykernel_launcher.py:1: DeprecationWarning: `np.float` is a deprecated alias for the builtin `float`. To silence this warning, use `float` by itself. Doing this will not modify any behavior and is safe. If you specifically wanted the numpy scalar type, use `np.float64` here.\n",
      "Deprecated in NumPy 1.20; for more details and guidance: https://numpy.org/devdocs/release/1.20.0-notes.html#deprecations\n",
      "  \"\"\"Entry point for launching an IPython kernel.\n"
     ]
    },
    {
     "data": {
      "text/plain": [
       "array([[[0., 0.],\n",
       "        [0., 0.],\n",
       "        [0., 0.]],\n",
       "\n",
       "       [[0., 0.],\n",
       "        [0., 0.],\n",
       "        [0., 0.]]])"
      ]
     },
     "execution_count": 17,
     "metadata": {},
     "output_type": "execute_result"
    }
   ],
   "source": [
    "np.zeros((2, 3, 2),dtype=np.float)"
   ]
  },
  {
   "cell_type": "markdown",
   "id": "60e3f758",
   "metadata": {
    "papermill": {
     "duration": 0.013998,
     "end_time": "2022-11-27T07:51:23.119285",
     "exception": false,
     "start_time": "2022-11-27T07:51:23.105287",
     "status": "completed"
    },
    "tags": []
   },
   "source": [
    "# numpy.identity\n",
    "numpy.identity Return the identity array\n",
    "1. Syntax: numpy.identity(n, dtype=None, like=None)"
   ]
  },
  {
   "cell_type": "code",
   "execution_count": 18,
   "id": "35b52d6f",
   "metadata": {
    "execution": {
     "iopub.execute_input": "2022-11-27T07:51:23.148984Z",
     "iopub.status.busy": "2022-11-27T07:51:23.148434Z",
     "iopub.status.idle": "2022-11-27T07:51:23.157136Z",
     "shell.execute_reply": "2022-11-27T07:51:23.155739Z"
    },
    "papermill": {
     "duration": 0.026405,
     "end_time": "2022-11-27T07:51:23.159912",
     "exception": false,
     "start_time": "2022-11-27T07:51:23.133507",
     "status": "completed"
    },
    "tags": []
   },
   "outputs": [
    {
     "data": {
      "text/plain": [
       "array([[1., 0., 0.],\n",
       "       [0., 1., 0.],\n",
       "       [0., 0., 1.]])"
      ]
     },
     "execution_count": 18,
     "metadata": {},
     "output_type": "execute_result"
    }
   ],
   "source": [
    "np.identity(3)"
   ]
  },
  {
   "cell_type": "markdown",
   "id": "dd24d3e1",
   "metadata": {
    "papermill": {
     "duration": 0.013968,
     "end_time": "2022-11-27T07:51:23.187335",
     "exception": false,
     "start_time": "2022-11-27T07:51:23.173367",
     "status": "completed"
    },
    "tags": []
   },
   "source": [
    "# numpy.empty\n",
    "numpy.empty return a new array of given shape and type, without initializing entries.\n",
    "1. Syntax: numpy.empty(shape, dtype=float, order='C', *, like=None)"
   ]
  },
  {
   "cell_type": "code",
   "execution_count": 19,
   "id": "635ff8e9",
   "metadata": {
    "execution": {
     "iopub.execute_input": "2022-11-27T07:51:23.218858Z",
     "iopub.status.busy": "2022-11-27T07:51:23.218101Z",
     "iopub.status.idle": "2022-11-27T07:51:23.225963Z",
     "shell.execute_reply": "2022-11-27T07:51:23.224850Z"
    },
    "papermill": {
     "duration": 0.026051,
     "end_time": "2022-11-27T07:51:23.228330",
     "exception": false,
     "start_time": "2022-11-27T07:51:23.202279",
     "status": "completed"
    },
    "tags": []
   },
   "outputs": [
    {
     "data": {
      "text/plain": [
       "array([[0. , 0.5, 1. , 1.5, 2. ]])"
      ]
     },
     "execution_count": 19,
     "metadata": {},
     "output_type": "execute_result"
    }
   ],
   "source": [
    "np.empty((1,5))"
   ]
  },
  {
   "cell_type": "markdown",
   "id": "aab61517",
   "metadata": {
    "papermill": {
     "duration": 0.015002,
     "end_time": "2022-11-27T07:51:23.256457",
     "exception": false,
     "start_time": "2022-11-27T07:51:23.241455",
     "status": "completed"
    },
    "tags": []
   },
   "source": [
    "# 3. Creating Arrays- Replicating, joining, or mutating existing arrays\n",
    "New arrays can be created from existing arrays using routines like numpy.concatenate, numpy.block, numpy.vstack, numpy.hstack"
   ]
  },
  {
   "cell_type": "markdown",
   "id": "bdf5782e",
   "metadata": {
    "papermill": {
     "duration": 0.015557,
     "end_time": "2022-11-27T07:51:23.286927",
     "exception": false,
     "start_time": "2022-11-27T07:51:23.271370",
     "status": "completed"
    },
    "tags": []
   },
   "source": [
    "# numpy.concatenate\n",
    "Join a sequence of arrays along an existing axis.\n",
    "1. Syntax: numpy.concatenate((a1, a2, …), axis=0, dtype=None, casting=\"same_kind\")\n"
   ]
  },
  {
   "cell_type": "code",
   "execution_count": 20,
   "id": "95dcef8e",
   "metadata": {
    "execution": {
     "iopub.execute_input": "2022-11-27T07:51:23.317339Z",
     "iopub.status.busy": "2022-11-27T07:51:23.316705Z",
     "iopub.status.idle": "2022-11-27T07:51:23.324982Z",
     "shell.execute_reply": "2022-11-27T07:51:23.323775Z"
    },
    "papermill": {
     "duration": 0.025544,
     "end_time": "2022-11-27T07:51:23.327435",
     "exception": false,
     "start_time": "2022-11-27T07:51:23.301891",
     "status": "completed"
    },
    "tags": []
   },
   "outputs": [
    {
     "data": {
      "text/plain": [
       "array([[1., 1., 0., 0.],\n",
       "       [1., 1., 0., 0.]])"
      ]
     },
     "execution_count": 20,
     "metadata": {},
     "output_type": "execute_result"
    }
   ],
   "source": [
    "A = np.ones((2, 2))\n",
    "B=np.zeros((2,2))\n",
    "np.concatenate((A,B),axis=1)"
   ]
  },
  {
   "cell_type": "markdown",
   "id": "5fbae6f4",
   "metadata": {
    "papermill": {
     "duration": 0.013787,
     "end_time": "2022-11-27T07:51:23.354431",
     "exception": false,
     "start_time": "2022-11-27T07:51:23.340644",
     "status": "completed"
    },
    "tags": []
   },
   "source": [
    "# numpy.block\n",
    "Assemble an nd-array from nested lists of blocks.\n",
    "1. Syntax:numpy.block(arrays)"
   ]
  },
  {
   "cell_type": "code",
   "execution_count": 21,
   "id": "8422dff2",
   "metadata": {
    "execution": {
     "iopub.execute_input": "2022-11-27T07:51:23.384967Z",
     "iopub.status.busy": "2022-11-27T07:51:23.384288Z",
     "iopub.status.idle": "2022-11-27T07:51:23.392472Z",
     "shell.execute_reply": "2022-11-27T07:51:23.390751Z"
    },
    "papermill": {
     "duration": 0.027395,
     "end_time": "2022-11-27T07:51:23.396142",
     "exception": false,
     "start_time": "2022-11-27T07:51:23.368747",
     "status": "completed"
    },
    "tags": []
   },
   "outputs": [
    {
     "data": {
      "text/plain": [
       "array([[1., 1., 0., 0.],\n",
       "       [1., 1., 0., 0.]])"
      ]
     },
     "execution_count": 21,
     "metadata": {},
     "output_type": "execute_result"
    }
   ],
   "source": [
    "np.block([A,B])"
   ]
  },
  {
   "cell_type": "markdown",
   "id": "741a2e65",
   "metadata": {
    "papermill": {
     "duration": 0.013187,
     "end_time": "2022-11-27T07:51:23.422940",
     "exception": false,
     "start_time": "2022-11-27T07:51:23.409753",
     "status": "completed"
    },
    "tags": []
   },
   "source": [
    "# numpy.vstack\n",
    "Stack arrays in sequence vertically\n",
    "1. Syntax: numpy.vstack((arrays))\n"
   ]
  },
  {
   "cell_type": "code",
   "execution_count": 22,
   "id": "4a18cf30",
   "metadata": {
    "execution": {
     "iopub.execute_input": "2022-11-27T07:51:23.452498Z",
     "iopub.status.busy": "2022-11-27T07:51:23.451854Z",
     "iopub.status.idle": "2022-11-27T07:51:23.460163Z",
     "shell.execute_reply": "2022-11-27T07:51:23.458987Z"
    },
    "papermill": {
     "duration": 0.025744,
     "end_time": "2022-11-27T07:51:23.462584",
     "exception": false,
     "start_time": "2022-11-27T07:51:23.436840",
     "status": "completed"
    },
    "tags": []
   },
   "outputs": [
    {
     "data": {
      "text/plain": [
       "array([[1., 1.],\n",
       "       [1., 1.],\n",
       "       [0., 0.],\n",
       "       [0., 0.]])"
      ]
     },
     "execution_count": 22,
     "metadata": {},
     "output_type": "execute_result"
    }
   ],
   "source": [
    "np.vstack((A,B))\n"
   ]
  },
  {
   "cell_type": "markdown",
   "id": "c8032d75",
   "metadata": {
    "papermill": {
     "duration": 0.013318,
     "end_time": "2022-11-27T07:51:23.489713",
     "exception": false,
     "start_time": "2022-11-27T07:51:23.476395",
     "status": "completed"
    },
    "tags": []
   },
   "source": [
    "# numpy.hstack\n",
    "Stack arrays in sequence horizontally\n",
    "1. Syntax: numpy.hstack((arrays))"
   ]
  },
  {
   "cell_type": "code",
   "execution_count": 23,
   "id": "02323272",
   "metadata": {
    "execution": {
     "iopub.execute_input": "2022-11-27T07:51:23.520379Z",
     "iopub.status.busy": "2022-11-27T07:51:23.519831Z",
     "iopub.status.idle": "2022-11-27T07:51:23.528628Z",
     "shell.execute_reply": "2022-11-27T07:51:23.527294Z"
    },
    "papermill": {
     "duration": 0.027211,
     "end_time": "2022-11-27T07:51:23.531031",
     "exception": false,
     "start_time": "2022-11-27T07:51:23.503820",
     "status": "completed"
    },
    "tags": []
   },
   "outputs": [
    {
     "data": {
      "text/plain": [
       "array([[1., 1., 0., 0.],\n",
       "       [1., 1., 0., 0.]])"
      ]
     },
     "execution_count": 23,
     "metadata": {},
     "output_type": "execute_result"
    }
   ],
   "source": [
    "np.hstack((A,B))\n"
   ]
  },
  {
   "cell_type": "markdown",
   "id": "37794e8e",
   "metadata": {
    "papermill": {
     "duration": 0.014005,
     "end_time": "2022-11-27T07:51:23.559303",
     "exception": false,
     "start_time": "2022-11-27T07:51:23.545298",
     "status": "completed"
    },
    "tags": []
   },
   "source": [
    "# 4. Creating Arrays from Disk\n",
    "1. Delimited files such as comma separated value (csv) and tab separated value (tsv) files are used for programs like Excel and LabView. \n",
    "2. NumPy has two standard routines for importing a file with delimited data numpy.loadtxt and numpy.genfromtxt"
   ]
  },
  {
   "cell_type": "markdown",
   "id": "125bc3de",
   "metadata": {
    "papermill": {
     "duration": 0.013268,
     "end_time": "2022-11-27T07:51:23.586897",
     "exception": false,
     "start_time": "2022-11-27T07:51:23.573629",
     "status": "completed"
    },
    "tags": []
   },
   "source": [
    "# numpy.loadtxt \n",
    "1. numpy.loadtxt  Load data from a text file. Each row in the text file must have the same number of values.\n",
    "1. Syntax: numpy.loadtxt(fname, dtype=, delimiter=None,skiprows=0, usecols=None, unpack=False, ndmin=0, encoding='bytes', max_rows=None, *, like=None)"
   ]
  },
  {
   "cell_type": "code",
   "execution_count": 24,
   "id": "b34a116f",
   "metadata": {
    "execution": {
     "iopub.execute_input": "2022-11-27T07:51:23.617802Z",
     "iopub.status.busy": "2022-11-27T07:51:23.617374Z",
     "iopub.status.idle": "2022-11-27T07:51:23.622666Z",
     "shell.execute_reply": "2022-11-27T07:51:23.621249Z"
    },
    "papermill": {
     "duration": 0.0231,
     "end_time": "2022-11-27T07:51:23.625121",
     "exception": false,
     "start_time": "2022-11-27T07:51:23.602021",
     "status": "completed"
    },
    "tags": []
   },
   "outputs": [],
   "source": [
    "# a=np.loadtxt('C:/Machine Learning/ML_Datasets/exam.txt',delimiter=',',dtype='str')"
   ]
  },
  {
   "cell_type": "code",
   "execution_count": 25,
   "id": "b35effaa",
   "metadata": {
    "execution": {
     "iopub.execute_input": "2022-11-27T07:51:23.657113Z",
     "iopub.status.busy": "2022-11-27T07:51:23.656415Z",
     "iopub.status.idle": "2022-11-27T07:51:23.661134Z",
     "shell.execute_reply": "2022-11-27T07:51:23.660183Z"
    },
    "papermill": {
     "duration": 0.02453,
     "end_time": "2022-11-27T07:51:23.663544",
     "exception": false,
     "start_time": "2022-11-27T07:51:23.639014",
     "status": "completed"
    },
    "tags": []
   },
   "outputs": [],
   "source": [
    "# a"
   ]
  },
  {
   "cell_type": "markdown",
   "id": "17ed5a90",
   "metadata": {
    "papermill": {
     "duration": 0.014315,
     "end_time": "2022-11-27T07:51:23.691905",
     "exception": false,
     "start_time": "2022-11-27T07:51:23.677590",
     "status": "completed"
    },
    "tags": []
   },
   "source": [
    "# numpy.genfromtxt\n",
    "1. When there are missing values in the file, then numpy.genfromtxt is used.\n",
    "2. Syntax: numpy.genfromtxt (fname, dtype=, comments='#', delimiter=None, skip_header=0, skip_footer=0, missing_values=None, filling_values=None, usecols=None, names=None, usemask=False, loose=True, max_rows=None, encoding='bytes’)"
   ]
  },
  {
   "cell_type": "code",
   "execution_count": 26,
   "id": "7f7e608c",
   "metadata": {
    "execution": {
     "iopub.execute_input": "2022-11-27T07:51:23.722591Z",
     "iopub.status.busy": "2022-11-27T07:51:23.721978Z",
     "iopub.status.idle": "2022-11-27T07:51:23.726934Z",
     "shell.execute_reply": "2022-11-27T07:51:23.725968Z"
    },
    "papermill": {
     "duration": 0.022726,
     "end_time": "2022-11-27T07:51:23.729312",
     "exception": false,
     "start_time": "2022-11-27T07:51:23.706586",
     "status": "completed"
    },
    "tags": []
   },
   "outputs": [],
   "source": [
    "# a=np.genfromtxt('C:/Machine Learning/ML_Datasets/exam.txt',delimiter=',',filling_values=99)\n"
   ]
  },
  {
   "cell_type": "code",
   "execution_count": 27,
   "id": "f973a216",
   "metadata": {
    "execution": {
     "iopub.execute_input": "2022-11-27T07:51:23.760444Z",
     "iopub.status.busy": "2022-11-27T07:51:23.759804Z",
     "iopub.status.idle": "2022-11-27T07:51:23.764869Z",
     "shell.execute_reply": "2022-11-27T07:51:23.763652Z"
    },
    "papermill": {
     "duration": 0.024378,
     "end_time": "2022-11-27T07:51:23.767440",
     "exception": false,
     "start_time": "2022-11-27T07:51:23.743062",
     "status": "completed"
    },
    "tags": []
   },
   "outputs": [],
   "source": [
    "# a"
   ]
  },
  {
   "cell_type": "markdown",
   "id": "d22c7fb3",
   "metadata": {
    "papermill": {
     "duration": 0.014598,
     "end_time": "2022-11-27T07:51:23.796179",
     "exception": false,
     "start_time": "2022-11-27T07:51:23.781581",
     "status": "completed"
    },
    "tags": []
   },
   "source": [
    "# 5. Creating Arrays- Using Random Sampling \n",
    "numpy.random.rand   Create an array of the given shape and populate it with random samples from a uniform distribution over [0, 1)\n",
    " 1. Syntax: random.rand(d0, d1, ..., dn)\n",
    " where d0, d1, …, dnint, optional"
   ]
  },
  {
   "cell_type": "code",
   "execution_count": 28,
   "id": "d418dc40",
   "metadata": {
    "execution": {
     "iopub.execute_input": "2022-11-27T07:51:23.827345Z",
     "iopub.status.busy": "2022-11-27T07:51:23.826908Z",
     "iopub.status.idle": "2022-11-27T07:51:23.834126Z",
     "shell.execute_reply": "2022-11-27T07:51:23.832945Z"
    },
    "papermill": {
     "duration": 0.026373,
     "end_time": "2022-11-27T07:51:23.837869",
     "exception": false,
     "start_time": "2022-11-27T07:51:23.811496",
     "status": "completed"
    },
    "tags": []
   },
   "outputs": [
    {
     "data": {
      "text/plain": [
       "array([[0.05262717, 0.87793515, 0.59400149],\n",
       "       [0.49655936, 0.84804667, 0.88013541]])"
      ]
     },
     "execution_count": 28,
     "metadata": {},
     "output_type": "execute_result"
    }
   ],
   "source": [
    "np.random.rand(2,3)"
   ]
  },
  {
   "cell_type": "markdown",
   "id": "bb72f07d",
   "metadata": {
    "papermill": {
     "duration": 0.014585,
     "end_time": "2022-11-27T07:51:23.866610",
     "exception": false,
     "start_time": "2022-11-27T07:51:23.852025",
     "status": "completed"
    },
    "tags": []
   },
   "source": [
    "# Misc Random Functions\n",
    "Besides random.rand numpy provodes functions like random.randn, random.randint, random.randintegers, etc."
   ]
  }
 ],
 "metadata": {
  "kernelspec": {
   "display_name": "Python 3",
   "language": "python",
   "name": "python3"
  },
  "language_info": {
   "codemirror_mode": {
    "name": "ipython",
    "version": 3
   },
   "file_extension": ".py",
   "mimetype": "text/x-python",
   "name": "python",
   "nbconvert_exporter": "python",
   "pygments_lexer": "ipython3",
   "version": "3.7.12"
  },
  "papermill": {
   "default_parameters": {},
   "duration": 26.405885,
   "end_time": "2022-11-27T07:51:24.706574",
   "environment_variables": {},
   "exception": null,
   "input_path": "__notebook__.ipynb",
   "output_path": "__notebook__.ipynb",
   "parameters": {},
   "start_time": "2022-11-27T07:50:58.300689",
   "version": "2.3.4"
  }
 },
 "nbformat": 4,
 "nbformat_minor": 5
}
