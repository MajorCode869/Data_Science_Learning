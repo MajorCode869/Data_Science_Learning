{
 "cells": [
  {
   "cell_type": "code",
   "execution_count": 1,
   "id": "f1f28b7a",
   "metadata": {
    "_cell_guid": "b1076dfc-b9ad-4769-8c92-a6c4dae69d19",
    "_uuid": "8f2839f25d086af736a60e9eeb907d3b93b6e0e5",
    "execution": {
     "iopub.execute_input": "2023-01-16T11:39:22.932721Z",
     "iopub.status.busy": "2023-01-16T11:39:22.932190Z",
     "iopub.status.idle": "2023-01-16T11:39:22.947706Z",
     "shell.execute_reply": "2023-01-16T11:39:22.946033Z"
    },
    "papermill": {
     "duration": 0.036558,
     "end_time": "2023-01-16T11:39:22.950508",
     "exception": false,
     "start_time": "2023-01-16T11:39:22.913950",
     "status": "completed"
    },
    "tags": []
   },
   "outputs": [
    {
     "name": "stdout",
     "output_type": "stream",
     "text": [
      "/kaggle/input/playground-series-s3e2/sample_submission.csv\n",
      "/kaggle/input/playground-series-s3e2/train.csv\n",
      "/kaggle/input/playground-series-s3e2/test.csv\n"
     ]
    }
   ],
   "source": [
    "# This Python 3 environment comes with many helpful analytics libraries installed\n",
    "# It is defined by the kaggle/python Docker image: https://github.com/kaggle/docker-python\n",
    "# For example, here's several helpful packages to load\n",
    "\n",
    "import numpy as np # linear algebra\n",
    "import pandas as pd # data processing, CSV file I/O (e.g. pd.read_csv)\n",
    "\n",
    "# Input data files are available in the read-only \"../input/\" directory\n",
    "# For example, running this (by clicking run or pressing Shift+Enter) will list all files under the input directory\n",
    "\n",
    "import os\n",
    "for dirname, _, filenames in os.walk('/kaggle/input'):\n",
    "    for filename in filenames:\n",
    "        print(os.path.join(dirname, filename))\n",
    "\n",
    "# You can write up to 20GB to the current directory (/kaggle/working/) that gets preserved as output when you create a version using \"Save & Run All\" \n",
    "# You can also write temporary files to /kaggle/temp/, but they won't be saved outside of the current session"
   ]
  },
  {
   "cell_type": "code",
   "execution_count": 2,
   "id": "9a3fb82f",
   "metadata": {
    "execution": {
     "iopub.execute_input": "2023-01-16T11:39:22.972028Z",
     "iopub.status.busy": "2023-01-16T11:39:22.971496Z",
     "iopub.status.idle": "2023-01-16T11:39:23.103709Z",
     "shell.execute_reply": "2023-01-16T11:39:23.102313Z"
    },
    "papermill": {
     "duration": 0.146804,
     "end_time": "2023-01-16T11:39:23.106521",
     "exception": false,
     "start_time": "2023-01-16T11:39:22.959717",
     "status": "completed"
    },
    "tags": []
   },
   "outputs": [],
   "source": [
    "df_train=pd.read_csv('/kaggle/input/playground-series-s3e2/train.csv')\n",
    "df_test=pd.read_csv('/kaggle/input/playground-series-s3e2/test.csv')"
   ]
  },
  {
   "cell_type": "code",
   "execution_count": 3,
   "id": "8234010f",
   "metadata": {
    "execution": {
     "iopub.execute_input": "2023-01-16T11:39:23.126584Z",
     "iopub.status.busy": "2023-01-16T11:39:23.126086Z",
     "iopub.status.idle": "2023-01-16T11:39:23.169632Z",
     "shell.execute_reply": "2023-01-16T11:39:23.168232Z"
    },
    "papermill": {
     "duration": 0.057098,
     "end_time": "2023-01-16T11:39:23.172710",
     "exception": false,
     "start_time": "2023-01-16T11:39:23.115612",
     "status": "completed"
    },
    "tags": []
   },
   "outputs": [
    {
     "data": {
      "text/html": [
       "<div>\n",
       "<style scoped>\n",
       "    .dataframe tbody tr th:only-of-type {\n",
       "        vertical-align: middle;\n",
       "    }\n",
       "\n",
       "    .dataframe tbody tr th {\n",
       "        vertical-align: top;\n",
       "    }\n",
       "\n",
       "    .dataframe thead th {\n",
       "        text-align: right;\n",
       "    }\n",
       "</style>\n",
       "<table border=\"1\" class=\"dataframe\">\n",
       "  <thead>\n",
       "    <tr style=\"text-align: right;\">\n",
       "      <th></th>\n",
       "      <th>id</th>\n",
       "      <th>gender</th>\n",
       "      <th>age</th>\n",
       "      <th>hypertension</th>\n",
       "      <th>heart_disease</th>\n",
       "      <th>ever_married</th>\n",
       "      <th>work_type</th>\n",
       "      <th>Residence_type</th>\n",
       "      <th>avg_glucose_level</th>\n",
       "      <th>bmi</th>\n",
       "      <th>smoking_status</th>\n",
       "      <th>stroke</th>\n",
       "    </tr>\n",
       "  </thead>\n",
       "  <tbody>\n",
       "    <tr>\n",
       "      <th>0</th>\n",
       "      <td>0</td>\n",
       "      <td>Male</td>\n",
       "      <td>28.0</td>\n",
       "      <td>0</td>\n",
       "      <td>0</td>\n",
       "      <td>Yes</td>\n",
       "      <td>Private</td>\n",
       "      <td>Urban</td>\n",
       "      <td>79.53</td>\n",
       "      <td>31.1</td>\n",
       "      <td>never smoked</td>\n",
       "      <td>0</td>\n",
       "    </tr>\n",
       "    <tr>\n",
       "      <th>1</th>\n",
       "      <td>1</td>\n",
       "      <td>Male</td>\n",
       "      <td>33.0</td>\n",
       "      <td>0</td>\n",
       "      <td>0</td>\n",
       "      <td>Yes</td>\n",
       "      <td>Private</td>\n",
       "      <td>Rural</td>\n",
       "      <td>78.44</td>\n",
       "      <td>23.9</td>\n",
       "      <td>formerly smoked</td>\n",
       "      <td>0</td>\n",
       "    </tr>\n",
       "    <tr>\n",
       "      <th>2</th>\n",
       "      <td>2</td>\n",
       "      <td>Female</td>\n",
       "      <td>42.0</td>\n",
       "      <td>0</td>\n",
       "      <td>0</td>\n",
       "      <td>Yes</td>\n",
       "      <td>Private</td>\n",
       "      <td>Rural</td>\n",
       "      <td>103.00</td>\n",
       "      <td>40.3</td>\n",
       "      <td>Unknown</td>\n",
       "      <td>0</td>\n",
       "    </tr>\n",
       "    <tr>\n",
       "      <th>3</th>\n",
       "      <td>3</td>\n",
       "      <td>Male</td>\n",
       "      <td>56.0</td>\n",
       "      <td>0</td>\n",
       "      <td>0</td>\n",
       "      <td>Yes</td>\n",
       "      <td>Private</td>\n",
       "      <td>Urban</td>\n",
       "      <td>64.87</td>\n",
       "      <td>28.8</td>\n",
       "      <td>never smoked</td>\n",
       "      <td>0</td>\n",
       "    </tr>\n",
       "    <tr>\n",
       "      <th>4</th>\n",
       "      <td>4</td>\n",
       "      <td>Female</td>\n",
       "      <td>24.0</td>\n",
       "      <td>0</td>\n",
       "      <td>0</td>\n",
       "      <td>No</td>\n",
       "      <td>Private</td>\n",
       "      <td>Rural</td>\n",
       "      <td>73.36</td>\n",
       "      <td>28.8</td>\n",
       "      <td>never smoked</td>\n",
       "      <td>0</td>\n",
       "    </tr>\n",
       "    <tr>\n",
       "      <th>...</th>\n",
       "      <td>...</td>\n",
       "      <td>...</td>\n",
       "      <td>...</td>\n",
       "      <td>...</td>\n",
       "      <td>...</td>\n",
       "      <td>...</td>\n",
       "      <td>...</td>\n",
       "      <td>...</td>\n",
       "      <td>...</td>\n",
       "      <td>...</td>\n",
       "      <td>...</td>\n",
       "      <td>...</td>\n",
       "    </tr>\n",
       "    <tr>\n",
       "      <th>15299</th>\n",
       "      <td>15299</td>\n",
       "      <td>Female</td>\n",
       "      <td>22.0</td>\n",
       "      <td>0</td>\n",
       "      <td>0</td>\n",
       "      <td>No</td>\n",
       "      <td>Govt_job</td>\n",
       "      <td>Urban</td>\n",
       "      <td>72.63</td>\n",
       "      <td>19.5</td>\n",
       "      <td>never smoked</td>\n",
       "      <td>0</td>\n",
       "    </tr>\n",
       "    <tr>\n",
       "      <th>15300</th>\n",
       "      <td>15300</td>\n",
       "      <td>Female</td>\n",
       "      <td>46.0</td>\n",
       "      <td>1</td>\n",
       "      <td>0</td>\n",
       "      <td>Yes</td>\n",
       "      <td>Private</td>\n",
       "      <td>Urban</td>\n",
       "      <td>101.19</td>\n",
       "      <td>32.1</td>\n",
       "      <td>never smoked</td>\n",
       "      <td>0</td>\n",
       "    </tr>\n",
       "    <tr>\n",
       "      <th>15301</th>\n",
       "      <td>15301</td>\n",
       "      <td>Female</td>\n",
       "      <td>75.0</td>\n",
       "      <td>0</td>\n",
       "      <td>0</td>\n",
       "      <td>Yes</td>\n",
       "      <td>Self-employed</td>\n",
       "      <td>Urban</td>\n",
       "      <td>87.69</td>\n",
       "      <td>26.2</td>\n",
       "      <td>never smoked</td>\n",
       "      <td>0</td>\n",
       "    </tr>\n",
       "    <tr>\n",
       "      <th>15302</th>\n",
       "      <td>15302</td>\n",
       "      <td>Male</td>\n",
       "      <td>46.0</td>\n",
       "      <td>0</td>\n",
       "      <td>0</td>\n",
       "      <td>Yes</td>\n",
       "      <td>Private</td>\n",
       "      <td>Rural</td>\n",
       "      <td>101.13</td>\n",
       "      <td>22.5</td>\n",
       "      <td>Unknown</td>\n",
       "      <td>0</td>\n",
       "    </tr>\n",
       "    <tr>\n",
       "      <th>15303</th>\n",
       "      <td>15303</td>\n",
       "      <td>Female</td>\n",
       "      <td>14.0</td>\n",
       "      <td>0</td>\n",
       "      <td>0</td>\n",
       "      <td>No</td>\n",
       "      <td>Private</td>\n",
       "      <td>Rural</td>\n",
       "      <td>85.12</td>\n",
       "      <td>24.7</td>\n",
       "      <td>never smoked</td>\n",
       "      <td>0</td>\n",
       "    </tr>\n",
       "  </tbody>\n",
       "</table>\n",
       "<p>15304 rows × 12 columns</p>\n",
       "</div>"
      ],
      "text/plain": [
       "          id  gender   age  hypertension  heart_disease ever_married  \\\n",
       "0          0    Male  28.0             0              0          Yes   \n",
       "1          1    Male  33.0             0              0          Yes   \n",
       "2          2  Female  42.0             0              0          Yes   \n",
       "3          3    Male  56.0             0              0          Yes   \n",
       "4          4  Female  24.0             0              0           No   \n",
       "...      ...     ...   ...           ...            ...          ...   \n",
       "15299  15299  Female  22.0             0              0           No   \n",
       "15300  15300  Female  46.0             1              0          Yes   \n",
       "15301  15301  Female  75.0             0              0          Yes   \n",
       "15302  15302    Male  46.0             0              0          Yes   \n",
       "15303  15303  Female  14.0             0              0           No   \n",
       "\n",
       "           work_type Residence_type  avg_glucose_level   bmi   smoking_status  \\\n",
       "0            Private          Urban              79.53  31.1     never smoked   \n",
       "1            Private          Rural              78.44  23.9  formerly smoked   \n",
       "2            Private          Rural             103.00  40.3          Unknown   \n",
       "3            Private          Urban              64.87  28.8     never smoked   \n",
       "4            Private          Rural              73.36  28.8     never smoked   \n",
       "...              ...            ...                ...   ...              ...   \n",
       "15299       Govt_job          Urban              72.63  19.5     never smoked   \n",
       "15300        Private          Urban             101.19  32.1     never smoked   \n",
       "15301  Self-employed          Urban              87.69  26.2     never smoked   \n",
       "15302        Private          Rural             101.13  22.5          Unknown   \n",
       "15303        Private          Rural              85.12  24.7     never smoked   \n",
       "\n",
       "       stroke  \n",
       "0           0  \n",
       "1           0  \n",
       "2           0  \n",
       "3           0  \n",
       "4           0  \n",
       "...       ...  \n",
       "15299       0  \n",
       "15300       0  \n",
       "15301       0  \n",
       "15302       0  \n",
       "15303       0  \n",
       "\n",
       "[15304 rows x 12 columns]"
      ]
     },
     "execution_count": 3,
     "metadata": {},
     "output_type": "execute_result"
    }
   ],
   "source": [
    "df_train"
   ]
  },
  {
   "cell_type": "code",
   "execution_count": 4,
   "id": "1846ef72",
   "metadata": {
    "execution": {
     "iopub.execute_input": "2023-01-16T11:39:23.194455Z",
     "iopub.status.busy": "2023-01-16T11:39:23.194003Z",
     "iopub.status.idle": "2023-01-16T11:39:23.229148Z",
     "shell.execute_reply": "2023-01-16T11:39:23.226896Z"
    },
    "papermill": {
     "duration": 0.05004,
     "end_time": "2023-01-16T11:39:23.232651",
     "exception": false,
     "start_time": "2023-01-16T11:39:23.182611",
     "status": "completed"
    },
    "tags": []
   },
   "outputs": [
    {
     "name": "stdout",
     "output_type": "stream",
     "text": [
      "<class 'pandas.core.frame.DataFrame'>\n",
      "RangeIndex: 15304 entries, 0 to 15303\n",
      "Data columns (total 12 columns):\n",
      " #   Column             Non-Null Count  Dtype  \n",
      "---  ------             --------------  -----  \n",
      " 0   id                 15304 non-null  int64  \n",
      " 1   gender             15304 non-null  object \n",
      " 2   age                15304 non-null  float64\n",
      " 3   hypertension       15304 non-null  int64  \n",
      " 4   heart_disease      15304 non-null  int64  \n",
      " 5   ever_married       15304 non-null  object \n",
      " 6   work_type          15304 non-null  object \n",
      " 7   Residence_type     15304 non-null  object \n",
      " 8   avg_glucose_level  15304 non-null  float64\n",
      " 9   bmi                15304 non-null  float64\n",
      " 10  smoking_status     15304 non-null  object \n",
      " 11  stroke             15304 non-null  int64  \n",
      "dtypes: float64(3), int64(4), object(5)\n",
      "memory usage: 1.4+ MB\n"
     ]
    }
   ],
   "source": [
    "df_train.info()"
   ]
  },
  {
   "cell_type": "code",
   "execution_count": 5,
   "id": "44053b08",
   "metadata": {
    "execution": {
     "iopub.execute_input": "2023-01-16T11:39:23.257614Z",
     "iopub.status.busy": "2023-01-16T11:39:23.257212Z",
     "iopub.status.idle": "2023-01-16T11:39:23.272816Z",
     "shell.execute_reply": "2023-01-16T11:39:23.271384Z"
    },
    "papermill": {
     "duration": 0.029572,
     "end_time": "2023-01-16T11:39:23.275675",
     "exception": false,
     "start_time": "2023-01-16T11:39:23.246103",
     "status": "completed"
    },
    "tags": []
   },
   "outputs": [
    {
     "data": {
      "text/plain": [
       "id                   0\n",
       "gender               0\n",
       "age                  0\n",
       "hypertension         0\n",
       "heart_disease        0\n",
       "ever_married         0\n",
       "work_type            0\n",
       "Residence_type       0\n",
       "avg_glucose_level    0\n",
       "bmi                  0\n",
       "smoking_status       0\n",
       "stroke               0\n",
       "dtype: int64"
      ]
     },
     "execution_count": 5,
     "metadata": {},
     "output_type": "execute_result"
    }
   ],
   "source": [
    "df_train.isnull().sum()"
   ]
  },
  {
   "cell_type": "code",
   "execution_count": 6,
   "id": "c6600de1",
   "metadata": {
    "execution": {
     "iopub.execute_input": "2023-01-16T11:39:23.298306Z",
     "iopub.status.busy": "2023-01-16T11:39:23.297137Z",
     "iopub.status.idle": "2023-01-16T11:39:23.324069Z",
     "shell.execute_reply": "2023-01-16T11:39:23.322682Z"
    },
    "papermill": {
     "duration": 0.041423,
     "end_time": "2023-01-16T11:39:23.326806",
     "exception": false,
     "start_time": "2023-01-16T11:39:23.285383",
     "status": "completed"
    },
    "tags": []
   },
   "outputs": [
    {
     "data": {
      "text/html": [
       "<div>\n",
       "<style scoped>\n",
       "    .dataframe tbody tr th:only-of-type {\n",
       "        vertical-align: middle;\n",
       "    }\n",
       "\n",
       "    .dataframe tbody tr th {\n",
       "        vertical-align: top;\n",
       "    }\n",
       "\n",
       "    .dataframe thead th {\n",
       "        text-align: right;\n",
       "    }\n",
       "</style>\n",
       "<table border=\"1\" class=\"dataframe\">\n",
       "  <thead>\n",
       "    <tr style=\"text-align: right;\">\n",
       "      <th></th>\n",
       "      <th>id</th>\n",
       "      <th>gender</th>\n",
       "      <th>age</th>\n",
       "      <th>hypertension</th>\n",
       "      <th>heart_disease</th>\n",
       "      <th>ever_married</th>\n",
       "      <th>work_type</th>\n",
       "      <th>Residence_type</th>\n",
       "      <th>avg_glucose_level</th>\n",
       "      <th>bmi</th>\n",
       "      <th>smoking_status</th>\n",
       "    </tr>\n",
       "  </thead>\n",
       "  <tbody>\n",
       "    <tr>\n",
       "      <th>0</th>\n",
       "      <td>15304</td>\n",
       "      <td>Female</td>\n",
       "      <td>57.0</td>\n",
       "      <td>0</td>\n",
       "      <td>0</td>\n",
       "      <td>Yes</td>\n",
       "      <td>Private</td>\n",
       "      <td>Rural</td>\n",
       "      <td>82.54</td>\n",
       "      <td>33.4</td>\n",
       "      <td>Unknown</td>\n",
       "    </tr>\n",
       "    <tr>\n",
       "      <th>1</th>\n",
       "      <td>15305</td>\n",
       "      <td>Male</td>\n",
       "      <td>70.0</td>\n",
       "      <td>1</td>\n",
       "      <td>0</td>\n",
       "      <td>Yes</td>\n",
       "      <td>Private</td>\n",
       "      <td>Urban</td>\n",
       "      <td>72.06</td>\n",
       "      <td>28.5</td>\n",
       "      <td>Unknown</td>\n",
       "    </tr>\n",
       "    <tr>\n",
       "      <th>2</th>\n",
       "      <td>15306</td>\n",
       "      <td>Female</td>\n",
       "      <td>5.0</td>\n",
       "      <td>0</td>\n",
       "      <td>0</td>\n",
       "      <td>No</td>\n",
       "      <td>children</td>\n",
       "      <td>Urban</td>\n",
       "      <td>103.72</td>\n",
       "      <td>19.5</td>\n",
       "      <td>Unknown</td>\n",
       "    </tr>\n",
       "    <tr>\n",
       "      <th>3</th>\n",
       "      <td>15307</td>\n",
       "      <td>Female</td>\n",
       "      <td>56.0</td>\n",
       "      <td>0</td>\n",
       "      <td>0</td>\n",
       "      <td>Yes</td>\n",
       "      <td>Govt_job</td>\n",
       "      <td>Urban</td>\n",
       "      <td>69.24</td>\n",
       "      <td>41.4</td>\n",
       "      <td>smokes</td>\n",
       "    </tr>\n",
       "    <tr>\n",
       "      <th>4</th>\n",
       "      <td>15308</td>\n",
       "      <td>Male</td>\n",
       "      <td>32.0</td>\n",
       "      <td>0</td>\n",
       "      <td>0</td>\n",
       "      <td>Yes</td>\n",
       "      <td>Private</td>\n",
       "      <td>Rural</td>\n",
       "      <td>111.15</td>\n",
       "      <td>30.1</td>\n",
       "      <td>smokes</td>\n",
       "    </tr>\n",
       "    <tr>\n",
       "      <th>...</th>\n",
       "      <td>...</td>\n",
       "      <td>...</td>\n",
       "      <td>...</td>\n",
       "      <td>...</td>\n",
       "      <td>...</td>\n",
       "      <td>...</td>\n",
       "      <td>...</td>\n",
       "      <td>...</td>\n",
       "      <td>...</td>\n",
       "      <td>...</td>\n",
       "      <td>...</td>\n",
       "    </tr>\n",
       "    <tr>\n",
       "      <th>10199</th>\n",
       "      <td>25503</td>\n",
       "      <td>Female</td>\n",
       "      <td>27.0</td>\n",
       "      <td>0</td>\n",
       "      <td>0</td>\n",
       "      <td>No</td>\n",
       "      <td>Private</td>\n",
       "      <td>Urban</td>\n",
       "      <td>75.77</td>\n",
       "      <td>17.6</td>\n",
       "      <td>never smoked</td>\n",
       "    </tr>\n",
       "    <tr>\n",
       "      <th>10200</th>\n",
       "      <td>25504</td>\n",
       "      <td>Male</td>\n",
       "      <td>49.0</td>\n",
       "      <td>0</td>\n",
       "      <td>0</td>\n",
       "      <td>Yes</td>\n",
       "      <td>Private</td>\n",
       "      <td>Urban</td>\n",
       "      <td>102.91</td>\n",
       "      <td>26.7</td>\n",
       "      <td>Unknown</td>\n",
       "    </tr>\n",
       "    <tr>\n",
       "      <th>10201</th>\n",
       "      <td>25505</td>\n",
       "      <td>Female</td>\n",
       "      <td>3.0</td>\n",
       "      <td>0</td>\n",
       "      <td>0</td>\n",
       "      <td>No</td>\n",
       "      <td>children</td>\n",
       "      <td>Rural</td>\n",
       "      <td>104.04</td>\n",
       "      <td>18.3</td>\n",
       "      <td>Unknown</td>\n",
       "    </tr>\n",
       "    <tr>\n",
       "      <th>10202</th>\n",
       "      <td>25506</td>\n",
       "      <td>Male</td>\n",
       "      <td>31.0</td>\n",
       "      <td>0</td>\n",
       "      <td>0</td>\n",
       "      <td>Yes</td>\n",
       "      <td>Private</td>\n",
       "      <td>Urban</td>\n",
       "      <td>82.41</td>\n",
       "      <td>28.7</td>\n",
       "      <td>never smoked</td>\n",
       "    </tr>\n",
       "    <tr>\n",
       "      <th>10203</th>\n",
       "      <td>25507</td>\n",
       "      <td>Female</td>\n",
       "      <td>2.0</td>\n",
       "      <td>0</td>\n",
       "      <td>0</td>\n",
       "      <td>No</td>\n",
       "      <td>children</td>\n",
       "      <td>Urban</td>\n",
       "      <td>85.12</td>\n",
       "      <td>14.8</td>\n",
       "      <td>Unknown</td>\n",
       "    </tr>\n",
       "  </tbody>\n",
       "</table>\n",
       "<p>10204 rows × 11 columns</p>\n",
       "</div>"
      ],
      "text/plain": [
       "          id  gender   age  hypertension  heart_disease ever_married  \\\n",
       "0      15304  Female  57.0             0              0          Yes   \n",
       "1      15305    Male  70.0             1              0          Yes   \n",
       "2      15306  Female   5.0             0              0           No   \n",
       "3      15307  Female  56.0             0              0          Yes   \n",
       "4      15308    Male  32.0             0              0          Yes   \n",
       "...      ...     ...   ...           ...            ...          ...   \n",
       "10199  25503  Female  27.0             0              0           No   \n",
       "10200  25504    Male  49.0             0              0          Yes   \n",
       "10201  25505  Female   3.0             0              0           No   \n",
       "10202  25506    Male  31.0             0              0          Yes   \n",
       "10203  25507  Female   2.0             0              0           No   \n",
       "\n",
       "      work_type Residence_type  avg_glucose_level   bmi smoking_status  \n",
       "0       Private          Rural              82.54  33.4        Unknown  \n",
       "1       Private          Urban              72.06  28.5        Unknown  \n",
       "2      children          Urban             103.72  19.5        Unknown  \n",
       "3      Govt_job          Urban              69.24  41.4         smokes  \n",
       "4       Private          Rural             111.15  30.1         smokes  \n",
       "...         ...            ...                ...   ...            ...  \n",
       "10199   Private          Urban              75.77  17.6   never smoked  \n",
       "10200   Private          Urban             102.91  26.7        Unknown  \n",
       "10201  children          Rural             104.04  18.3        Unknown  \n",
       "10202   Private          Urban              82.41  28.7   never smoked  \n",
       "10203  children          Urban              85.12  14.8        Unknown  \n",
       "\n",
       "[10204 rows x 11 columns]"
      ]
     },
     "execution_count": 6,
     "metadata": {},
     "output_type": "execute_result"
    }
   ],
   "source": [
    "df_test"
   ]
  },
  {
   "cell_type": "code",
   "execution_count": 7,
   "id": "7c51f8de",
   "metadata": {
    "execution": {
     "iopub.execute_input": "2023-01-16T11:39:23.354410Z",
     "iopub.status.busy": "2023-01-16T11:39:23.353699Z",
     "iopub.status.idle": "2023-01-16T11:39:23.371141Z",
     "shell.execute_reply": "2023-01-16T11:39:23.369296Z"
    },
    "papermill": {
     "duration": 0.033971,
     "end_time": "2023-01-16T11:39:23.374941",
     "exception": false,
     "start_time": "2023-01-16T11:39:23.340970",
     "status": "completed"
    },
    "tags": []
   },
   "outputs": [
    {
     "data": {
      "text/plain": [
       "id                   0\n",
       "gender               0\n",
       "age                  0\n",
       "hypertension         0\n",
       "heart_disease        0\n",
       "ever_married         0\n",
       "work_type            0\n",
       "Residence_type       0\n",
       "avg_glucose_level    0\n",
       "bmi                  0\n",
       "smoking_status       0\n",
       "dtype: int64"
      ]
     },
     "execution_count": 7,
     "metadata": {},
     "output_type": "execute_result"
    }
   ],
   "source": [
    "df_test.isnull().sum()"
   ]
  },
  {
   "cell_type": "code",
   "execution_count": 8,
   "id": "b6a72dca",
   "metadata": {
    "execution": {
     "iopub.execute_input": "2023-01-16T11:39:23.406467Z",
     "iopub.status.busy": "2023-01-16T11:39:23.405996Z",
     "iopub.status.idle": "2023-01-16T11:39:23.417411Z",
     "shell.execute_reply": "2023-01-16T11:39:23.415752Z"
    },
    "papermill": {
     "duration": 0.032155,
     "end_time": "2023-01-16T11:39:23.420963",
     "exception": false,
     "start_time": "2023-01-16T11:39:23.388808",
     "status": "completed"
    },
    "tags": []
   },
   "outputs": [],
   "source": [
    "target=df_train[['stroke']]\n",
    "df_train=df_train.drop(['stroke'],axis=1)"
   ]
  },
  {
   "cell_type": "code",
   "execution_count": 9,
   "id": "69934445",
   "metadata": {
    "execution": {
     "iopub.execute_input": "2023-01-16T11:39:23.449288Z",
     "iopub.status.busy": "2023-01-16T11:39:23.448490Z",
     "iopub.status.idle": "2023-01-16T11:39:23.464476Z",
     "shell.execute_reply": "2023-01-16T11:39:23.463164Z"
    },
    "papermill": {
     "duration": 0.031218,
     "end_time": "2023-01-16T11:39:23.467179",
     "exception": false,
     "start_time": "2023-01-16T11:39:23.435961",
     "status": "completed"
    },
    "tags": []
   },
   "outputs": [],
   "source": [
    "df=pd.concat([df_train,df_test],axis=0)"
   ]
  },
  {
   "cell_type": "code",
   "execution_count": 10,
   "id": "25d09257",
   "metadata": {
    "execution": {
     "iopub.execute_input": "2023-01-16T11:39:23.488671Z",
     "iopub.status.busy": "2023-01-16T11:39:23.488302Z",
     "iopub.status.idle": "2023-01-16T11:39:23.522713Z",
     "shell.execute_reply": "2023-01-16T11:39:23.521284Z"
    },
    "papermill": {
     "duration": 0.04937,
     "end_time": "2023-01-16T11:39:23.526448",
     "exception": false,
     "start_time": "2023-01-16T11:39:23.477078",
     "status": "completed"
    },
    "tags": []
   },
   "outputs": [
    {
     "name": "stdout",
     "output_type": "stream",
     "text": [
      "<class 'pandas.core.frame.DataFrame'>\n",
      "Int64Index: 25508 entries, 0 to 10203\n",
      "Data columns (total 11 columns):\n",
      " #   Column             Non-Null Count  Dtype  \n",
      "---  ------             --------------  -----  \n",
      " 0   id                 25508 non-null  int64  \n",
      " 1   gender             25508 non-null  object \n",
      " 2   age                25508 non-null  float64\n",
      " 3   hypertension       25508 non-null  int64  \n",
      " 4   heart_disease      25508 non-null  int64  \n",
      " 5   ever_married       25508 non-null  object \n",
      " 6   work_type          25508 non-null  object \n",
      " 7   Residence_type     25508 non-null  object \n",
      " 8   avg_glucose_level  25508 non-null  float64\n",
      " 9   bmi                25508 non-null  float64\n",
      " 10  smoking_status     25508 non-null  object \n",
      "dtypes: float64(3), int64(3), object(5)\n",
      "memory usage: 2.3+ MB\n"
     ]
    },
    {
     "data": {
      "text/html": [
       "<div>\n",
       "<style scoped>\n",
       "    .dataframe tbody tr th:only-of-type {\n",
       "        vertical-align: middle;\n",
       "    }\n",
       "\n",
       "    .dataframe tbody tr th {\n",
       "        vertical-align: top;\n",
       "    }\n",
       "\n",
       "    .dataframe thead th {\n",
       "        text-align: right;\n",
       "    }\n",
       "</style>\n",
       "<table border=\"1\" class=\"dataframe\">\n",
       "  <thead>\n",
       "    <tr style=\"text-align: right;\">\n",
       "      <th></th>\n",
       "      <th>id</th>\n",
       "      <th>gender</th>\n",
       "      <th>age</th>\n",
       "      <th>hypertension</th>\n",
       "      <th>heart_disease</th>\n",
       "      <th>ever_married</th>\n",
       "      <th>work_type</th>\n",
       "      <th>Residence_type</th>\n",
       "      <th>avg_glucose_level</th>\n",
       "      <th>bmi</th>\n",
       "      <th>smoking_status</th>\n",
       "    </tr>\n",
       "  </thead>\n",
       "  <tbody>\n",
       "    <tr>\n",
       "      <th>0</th>\n",
       "      <td>0</td>\n",
       "      <td>Male</td>\n",
       "      <td>28.0</td>\n",
       "      <td>0</td>\n",
       "      <td>0</td>\n",
       "      <td>Yes</td>\n",
       "      <td>Private</td>\n",
       "      <td>Urban</td>\n",
       "      <td>79.53</td>\n",
       "      <td>31.1</td>\n",
       "      <td>never smoked</td>\n",
       "    </tr>\n",
       "    <tr>\n",
       "      <th>1</th>\n",
       "      <td>1</td>\n",
       "      <td>Male</td>\n",
       "      <td>33.0</td>\n",
       "      <td>0</td>\n",
       "      <td>0</td>\n",
       "      <td>Yes</td>\n",
       "      <td>Private</td>\n",
       "      <td>Rural</td>\n",
       "      <td>78.44</td>\n",
       "      <td>23.9</td>\n",
       "      <td>formerly smoked</td>\n",
       "    </tr>\n",
       "    <tr>\n",
       "      <th>2</th>\n",
       "      <td>2</td>\n",
       "      <td>Female</td>\n",
       "      <td>42.0</td>\n",
       "      <td>0</td>\n",
       "      <td>0</td>\n",
       "      <td>Yes</td>\n",
       "      <td>Private</td>\n",
       "      <td>Rural</td>\n",
       "      <td>103.00</td>\n",
       "      <td>40.3</td>\n",
       "      <td>Unknown</td>\n",
       "    </tr>\n",
       "    <tr>\n",
       "      <th>3</th>\n",
       "      <td>3</td>\n",
       "      <td>Male</td>\n",
       "      <td>56.0</td>\n",
       "      <td>0</td>\n",
       "      <td>0</td>\n",
       "      <td>Yes</td>\n",
       "      <td>Private</td>\n",
       "      <td>Urban</td>\n",
       "      <td>64.87</td>\n",
       "      <td>28.8</td>\n",
       "      <td>never smoked</td>\n",
       "    </tr>\n",
       "    <tr>\n",
       "      <th>4</th>\n",
       "      <td>4</td>\n",
       "      <td>Female</td>\n",
       "      <td>24.0</td>\n",
       "      <td>0</td>\n",
       "      <td>0</td>\n",
       "      <td>No</td>\n",
       "      <td>Private</td>\n",
       "      <td>Rural</td>\n",
       "      <td>73.36</td>\n",
       "      <td>28.8</td>\n",
       "      <td>never smoked</td>\n",
       "    </tr>\n",
       "  </tbody>\n",
       "</table>\n",
       "</div>"
      ],
      "text/plain": [
       "   id  gender   age  hypertension  heart_disease ever_married work_type  \\\n",
       "0   0    Male  28.0             0              0          Yes   Private   \n",
       "1   1    Male  33.0             0              0          Yes   Private   \n",
       "2   2  Female  42.0             0              0          Yes   Private   \n",
       "3   3    Male  56.0             0              0          Yes   Private   \n",
       "4   4  Female  24.0             0              0           No   Private   \n",
       "\n",
       "  Residence_type  avg_glucose_level   bmi   smoking_status  \n",
       "0          Urban              79.53  31.1     never smoked  \n",
       "1          Rural              78.44  23.9  formerly smoked  \n",
       "2          Rural             103.00  40.3          Unknown  \n",
       "3          Urban              64.87  28.8     never smoked  \n",
       "4          Rural              73.36  28.8     never smoked  "
      ]
     },
     "execution_count": 10,
     "metadata": {},
     "output_type": "execute_result"
    }
   ],
   "source": [
    "df.info()\n",
    "df.head()"
   ]
  },
  {
   "cell_type": "code",
   "execution_count": 11,
   "id": "939b93ce",
   "metadata": {
    "execution": {
     "iopub.execute_input": "2023-01-16T11:39:23.550495Z",
     "iopub.status.busy": "2023-01-16T11:39:23.550028Z",
     "iopub.status.idle": "2023-01-16T11:39:23.568928Z",
     "shell.execute_reply": "2023-01-16T11:39:23.567760Z"
    },
    "papermill": {
     "duration": 0.035087,
     "end_time": "2023-01-16T11:39:23.572723",
     "exception": false,
     "start_time": "2023-01-16T11:39:23.537636",
     "status": "completed"
    },
    "tags": []
   },
   "outputs": [
    {
     "name": "stdout",
     "output_type": "stream",
     "text": [
      "[0 1]\n",
      "[0 1]\n",
      "['Private' 'Self-employed' 'Govt_job' 'children' 'Never_worked']\n",
      "['Urban' 'Rural']\n",
      "['never smoked' 'formerly smoked' 'Unknown' 'smokes']\n",
      "['Yes' 'No']\n"
     ]
    }
   ],
   "source": [
    "print(df.hypertension.unique())\n",
    "print(df.heart_disease.unique())\n",
    "print(df.work_type.unique())\n",
    "print(df.Residence_type.unique())\n",
    "print(df.smoking_status.unique())\n",
    "print(df.ever_married.unique())\n",
    "# no natural order thus one-hot encoding the columns\n",
    "# 5 columns needed to be OHE"
   ]
  },
  {
   "cell_type": "code",
   "execution_count": 12,
   "id": "c25c153d",
   "metadata": {
    "execution": {
     "iopub.execute_input": "2023-01-16T11:39:23.597560Z",
     "iopub.status.busy": "2023-01-16T11:39:23.597071Z",
     "iopub.status.idle": "2023-01-16T11:39:23.617894Z",
     "shell.execute_reply": "2023-01-16T11:39:23.616412Z"
    },
    "papermill": {
     "duration": 0.036776,
     "end_time": "2023-01-16T11:39:23.621082",
     "exception": false,
     "start_time": "2023-01-16T11:39:23.584306",
     "status": "completed"
    },
    "tags": []
   },
   "outputs": [],
   "source": [
    "# df_hyper=df[['hypertension']]\n",
    "# df_heart=df[['heart_disease']]\n",
    "df_work=df[['work_type']]\n",
    "df_Residence=df[['Residence_type']]\n",
    "df_smoking=df[['smoking_status']]\n",
    "df_married=df[['ever_married']]\n",
    "df_gender=df[['gender']]"
   ]
  },
  {
   "cell_type": "code",
   "execution_count": 13,
   "id": "5159e9ae",
   "metadata": {
    "execution": {
     "iopub.execute_input": "2023-01-16T11:39:23.645714Z",
     "iopub.status.busy": "2023-01-16T11:39:23.645243Z",
     "iopub.status.idle": "2023-01-16T11:39:23.690148Z",
     "shell.execute_reply": "2023-01-16T11:39:23.688648Z"
    },
    "papermill": {
     "duration": 0.061301,
     "end_time": "2023-01-16T11:39:23.693288",
     "exception": false,
     "start_time": "2023-01-16T11:39:23.631987",
     "status": "completed"
    },
    "tags": []
   },
   "outputs": [
    {
     "data": {
      "text/html": [
       "<div>\n",
       "<style scoped>\n",
       "    .dataframe tbody tr th:only-of-type {\n",
       "        vertical-align: middle;\n",
       "    }\n",
       "\n",
       "    .dataframe tbody tr th {\n",
       "        vertical-align: top;\n",
       "    }\n",
       "\n",
       "    .dataframe thead th {\n",
       "        text-align: right;\n",
       "    }\n",
       "</style>\n",
       "<table border=\"1\" class=\"dataframe\">\n",
       "  <thead>\n",
       "    <tr style=\"text-align: right;\">\n",
       "      <th></th>\n",
       "      <th>id</th>\n",
       "      <th>age</th>\n",
       "      <th>hypertension</th>\n",
       "      <th>heart_disease</th>\n",
       "      <th>avg_glucose_level</th>\n",
       "      <th>bmi</th>\n",
       "    </tr>\n",
       "  </thead>\n",
       "  <tbody>\n",
       "    <tr>\n",
       "      <th>count</th>\n",
       "      <td>25508.000000</td>\n",
       "      <td>25508.000000</td>\n",
       "      <td>25508.000000</td>\n",
       "      <td>25508.000000</td>\n",
       "      <td>25508.000000</td>\n",
       "      <td>25508.000000</td>\n",
       "    </tr>\n",
       "    <tr>\n",
       "      <th>mean</th>\n",
       "      <td>12753.500000</td>\n",
       "      <td>41.618926</td>\n",
       "      <td>0.050416</td>\n",
       "      <td>0.022699</td>\n",
       "      <td>89.103023</td>\n",
       "      <td>28.164577</td>\n",
       "    </tr>\n",
       "    <tr>\n",
       "      <th>std</th>\n",
       "      <td>7363.669669</td>\n",
       "      <td>21.307663</td>\n",
       "      <td>0.218805</td>\n",
       "      <td>0.148944</td>\n",
       "      <td>25.651929</td>\n",
       "      <td>6.727105</td>\n",
       "    </tr>\n",
       "    <tr>\n",
       "      <th>min</th>\n",
       "      <td>0.000000</td>\n",
       "      <td>0.080000</td>\n",
       "      <td>0.000000</td>\n",
       "      <td>0.000000</td>\n",
       "      <td>55.120000</td>\n",
       "      <td>10.300000</td>\n",
       "    </tr>\n",
       "    <tr>\n",
       "      <th>25%</th>\n",
       "      <td>6376.750000</td>\n",
       "      <td>26.000000</td>\n",
       "      <td>0.000000</td>\n",
       "      <td>0.000000</td>\n",
       "      <td>74.980000</td>\n",
       "      <td>23.500000</td>\n",
       "    </tr>\n",
       "    <tr>\n",
       "      <th>50%</th>\n",
       "      <td>12753.500000</td>\n",
       "      <td>43.000000</td>\n",
       "      <td>0.000000</td>\n",
       "      <td>0.000000</td>\n",
       "      <td>85.120000</td>\n",
       "      <td>27.700000</td>\n",
       "    </tr>\n",
       "    <tr>\n",
       "      <th>75%</th>\n",
       "      <td>19130.250000</td>\n",
       "      <td>57.000000</td>\n",
       "      <td>0.000000</td>\n",
       "      <td>0.000000</td>\n",
       "      <td>96.850000</td>\n",
       "      <td>32.000000</td>\n",
       "    </tr>\n",
       "    <tr>\n",
       "      <th>max</th>\n",
       "      <td>25507.000000</td>\n",
       "      <td>82.000000</td>\n",
       "      <td>1.000000</td>\n",
       "      <td>1.000000</td>\n",
       "      <td>267.600000</td>\n",
       "      <td>97.600000</td>\n",
       "    </tr>\n",
       "  </tbody>\n",
       "</table>\n",
       "</div>"
      ],
      "text/plain": [
       "                 id           age  hypertension  heart_disease  \\\n",
       "count  25508.000000  25508.000000  25508.000000   25508.000000   \n",
       "mean   12753.500000     41.618926      0.050416       0.022699   \n",
       "std     7363.669669     21.307663      0.218805       0.148944   \n",
       "min        0.000000      0.080000      0.000000       0.000000   \n",
       "25%     6376.750000     26.000000      0.000000       0.000000   \n",
       "50%    12753.500000     43.000000      0.000000       0.000000   \n",
       "75%    19130.250000     57.000000      0.000000       0.000000   \n",
       "max    25507.000000     82.000000      1.000000       1.000000   \n",
       "\n",
       "       avg_glucose_level           bmi  \n",
       "count       25508.000000  25508.000000  \n",
       "mean           89.103023     28.164577  \n",
       "std            25.651929      6.727105  \n",
       "min            55.120000     10.300000  \n",
       "25%            74.980000     23.500000  \n",
       "50%            85.120000     27.700000  \n",
       "75%            96.850000     32.000000  \n",
       "max           267.600000     97.600000  "
      ]
     },
     "execution_count": 13,
     "metadata": {},
     "output_type": "execute_result"
    }
   ],
   "source": [
    "df.describe()"
   ]
  },
  {
   "cell_type": "code",
   "execution_count": 14,
   "id": "7fa0b9d5",
   "metadata": {
    "execution": {
     "iopub.execute_input": "2023-01-16T11:39:23.717548Z",
     "iopub.status.busy": "2023-01-16T11:39:23.717096Z",
     "iopub.status.idle": "2023-01-16T11:39:23.738589Z",
     "shell.execute_reply": "2023-01-16T11:39:23.736948Z"
    },
    "papermill": {
     "duration": 0.036963,
     "end_time": "2023-01-16T11:39:23.741480",
     "exception": false,
     "start_time": "2023-01-16T11:39:23.704517",
     "status": "completed"
    },
    "tags": []
   },
   "outputs": [
    {
     "data": {
      "text/plain": [
       "id                   0\n",
       "gender               0\n",
       "age                  0\n",
       "hypertension         0\n",
       "heart_disease        0\n",
       "ever_married         0\n",
       "work_type            0\n",
       "Residence_type       0\n",
       "avg_glucose_level    0\n",
       "bmi                  0\n",
       "smoking_status       0\n",
       "dtype: int64"
      ]
     },
     "execution_count": 14,
     "metadata": {},
     "output_type": "execute_result"
    }
   ],
   "source": [
    "df.isnull().sum()"
   ]
  },
  {
   "cell_type": "code",
   "execution_count": 15,
   "id": "ed753763",
   "metadata": {
    "execution": {
     "iopub.execute_input": "2023-01-16T11:39:23.767584Z",
     "iopub.status.busy": "2023-01-16T11:39:23.767091Z",
     "iopub.status.idle": "2023-01-16T11:39:25.014158Z",
     "shell.execute_reply": "2023-01-16T11:39:25.012413Z"
    },
    "papermill": {
     "duration": 1.264021,
     "end_time": "2023-01-16T11:39:25.017549",
     "exception": false,
     "start_time": "2023-01-16T11:39:23.753528",
     "status": "completed"
    },
    "tags": []
   },
   "outputs": [],
   "source": [
    "from sklearn.preprocessing import OneHotEncoder\n"
   ]
  },
  {
   "cell_type": "code",
   "execution_count": 16,
   "id": "b3d8e16e",
   "metadata": {
    "execution": {
     "iopub.execute_input": "2023-01-16T11:39:25.042943Z",
     "iopub.status.busy": "2023-01-16T11:39:25.042201Z",
     "iopub.status.idle": "2023-01-16T11:39:25.055637Z",
     "shell.execute_reply": "2023-01-16T11:39:25.054701Z"
    },
    "papermill": {
     "duration": 0.02879,
     "end_time": "2023-01-16T11:39:25.057903",
     "exception": false,
     "start_time": "2023-01-16T11:39:25.029113",
     "status": "completed"
    },
    "tags": []
   },
   "outputs": [
    {
     "data": {
      "text/html": [
       "<div>\n",
       "<style scoped>\n",
       "    .dataframe tbody tr th:only-of-type {\n",
       "        vertical-align: middle;\n",
       "    }\n",
       "\n",
       "    .dataframe tbody tr th {\n",
       "        vertical-align: top;\n",
       "    }\n",
       "\n",
       "    .dataframe thead th {\n",
       "        text-align: right;\n",
       "    }\n",
       "</style>\n",
       "<table border=\"1\" class=\"dataframe\">\n",
       "  <thead>\n",
       "    <tr style=\"text-align: right;\">\n",
       "      <th></th>\n",
       "      <th>work_type</th>\n",
       "    </tr>\n",
       "  </thead>\n",
       "  <tbody>\n",
       "    <tr>\n",
       "      <th>0</th>\n",
       "      <td>Private</td>\n",
       "    </tr>\n",
       "    <tr>\n",
       "      <th>1</th>\n",
       "      <td>Private</td>\n",
       "    </tr>\n",
       "    <tr>\n",
       "      <th>2</th>\n",
       "      <td>Private</td>\n",
       "    </tr>\n",
       "    <tr>\n",
       "      <th>3</th>\n",
       "      <td>Private</td>\n",
       "    </tr>\n",
       "    <tr>\n",
       "      <th>4</th>\n",
       "      <td>Private</td>\n",
       "    </tr>\n",
       "    <tr>\n",
       "      <th>...</th>\n",
       "      <td>...</td>\n",
       "    </tr>\n",
       "    <tr>\n",
       "      <th>10199</th>\n",
       "      <td>Private</td>\n",
       "    </tr>\n",
       "    <tr>\n",
       "      <th>10200</th>\n",
       "      <td>Private</td>\n",
       "    </tr>\n",
       "    <tr>\n",
       "      <th>10201</th>\n",
       "      <td>children</td>\n",
       "    </tr>\n",
       "    <tr>\n",
       "      <th>10202</th>\n",
       "      <td>Private</td>\n",
       "    </tr>\n",
       "    <tr>\n",
       "      <th>10203</th>\n",
       "      <td>children</td>\n",
       "    </tr>\n",
       "  </tbody>\n",
       "</table>\n",
       "<p>25508 rows × 1 columns</p>\n",
       "</div>"
      ],
      "text/plain": [
       "      work_type\n",
       "0       Private\n",
       "1       Private\n",
       "2       Private\n",
       "3       Private\n",
       "4       Private\n",
       "...         ...\n",
       "10199   Private\n",
       "10200   Private\n",
       "10201  children\n",
       "10202   Private\n",
       "10203  children\n",
       "\n",
       "[25508 rows x 1 columns]"
      ]
     },
     "execution_count": 16,
     "metadata": {},
     "output_type": "execute_result"
    }
   ],
   "source": [
    "df_work"
   ]
  },
  {
   "cell_type": "code",
   "execution_count": 17,
   "id": "bed0b66f",
   "metadata": {
    "execution": {
     "iopub.execute_input": "2023-01-16T11:39:25.083586Z",
     "iopub.status.busy": "2023-01-16T11:39:25.083152Z",
     "iopub.status.idle": "2023-01-16T11:39:25.103905Z",
     "shell.execute_reply": "2023-01-16T11:39:25.102368Z"
    },
    "papermill": {
     "duration": 0.036857,
     "end_time": "2023-01-16T11:39:25.106529",
     "exception": false,
     "start_time": "2023-01-16T11:39:25.069672",
     "status": "completed"
    },
    "tags": []
   },
   "outputs": [
    {
     "data": {
      "text/plain": [
       "array(['work_type_Govt_job', 'work_type_Never_worked',\n",
       "       'work_type_Private', 'work_type_Self-employed',\n",
       "       'work_type_children'], dtype=object)"
      ]
     },
     "execution_count": 17,
     "metadata": {},
     "output_type": "execute_result"
    }
   ],
   "source": [
    "encoder1=OneHotEncoder()\n",
    "dumm1=pd.DataFrame(encoder1.fit_transform(df_work).toarray(),columns=encoder1.get_feature_names_out(df_work.columns))\n",
    "encoder1.get_feature_names_out()"
   ]
  },
  {
   "cell_type": "code",
   "execution_count": 18,
   "id": "a612c778",
   "metadata": {
    "execution": {
     "iopub.execute_input": "2023-01-16T11:39:25.132389Z",
     "iopub.status.busy": "2023-01-16T11:39:25.131984Z",
     "iopub.status.idle": "2023-01-16T11:39:25.153402Z",
     "shell.execute_reply": "2023-01-16T11:39:25.151952Z"
    },
    "papermill": {
     "duration": 0.037782,
     "end_time": "2023-01-16T11:39:25.156297",
     "exception": false,
     "start_time": "2023-01-16T11:39:25.118515",
     "status": "completed"
    },
    "tags": []
   },
   "outputs": [
    {
     "data": {
      "text/html": [
       "<div>\n",
       "<style scoped>\n",
       "    .dataframe tbody tr th:only-of-type {\n",
       "        vertical-align: middle;\n",
       "    }\n",
       "\n",
       "    .dataframe tbody tr th {\n",
       "        vertical-align: top;\n",
       "    }\n",
       "\n",
       "    .dataframe thead th {\n",
       "        text-align: right;\n",
       "    }\n",
       "</style>\n",
       "<table border=\"1\" class=\"dataframe\">\n",
       "  <thead>\n",
       "    <tr style=\"text-align: right;\">\n",
       "      <th></th>\n",
       "      <th>work_type_Govt_job</th>\n",
       "      <th>work_type_Never_worked</th>\n",
       "      <th>work_type_Private</th>\n",
       "      <th>work_type_Self-employed</th>\n",
       "      <th>work_type_children</th>\n",
       "    </tr>\n",
       "  </thead>\n",
       "  <tbody>\n",
       "    <tr>\n",
       "      <th>0</th>\n",
       "      <td>0.0</td>\n",
       "      <td>0.0</td>\n",
       "      <td>1.0</td>\n",
       "      <td>0.0</td>\n",
       "      <td>0.0</td>\n",
       "    </tr>\n",
       "    <tr>\n",
       "      <th>1</th>\n",
       "      <td>0.0</td>\n",
       "      <td>0.0</td>\n",
       "      <td>1.0</td>\n",
       "      <td>0.0</td>\n",
       "      <td>0.0</td>\n",
       "    </tr>\n",
       "    <tr>\n",
       "      <th>2</th>\n",
       "      <td>0.0</td>\n",
       "      <td>0.0</td>\n",
       "      <td>1.0</td>\n",
       "      <td>0.0</td>\n",
       "      <td>0.0</td>\n",
       "    </tr>\n",
       "    <tr>\n",
       "      <th>3</th>\n",
       "      <td>0.0</td>\n",
       "      <td>0.0</td>\n",
       "      <td>1.0</td>\n",
       "      <td>0.0</td>\n",
       "      <td>0.0</td>\n",
       "    </tr>\n",
       "    <tr>\n",
       "      <th>4</th>\n",
       "      <td>0.0</td>\n",
       "      <td>0.0</td>\n",
       "      <td>1.0</td>\n",
       "      <td>0.0</td>\n",
       "      <td>0.0</td>\n",
       "    </tr>\n",
       "    <tr>\n",
       "      <th>...</th>\n",
       "      <td>...</td>\n",
       "      <td>...</td>\n",
       "      <td>...</td>\n",
       "      <td>...</td>\n",
       "      <td>...</td>\n",
       "    </tr>\n",
       "    <tr>\n",
       "      <th>25503</th>\n",
       "      <td>0.0</td>\n",
       "      <td>0.0</td>\n",
       "      <td>1.0</td>\n",
       "      <td>0.0</td>\n",
       "      <td>0.0</td>\n",
       "    </tr>\n",
       "    <tr>\n",
       "      <th>25504</th>\n",
       "      <td>0.0</td>\n",
       "      <td>0.0</td>\n",
       "      <td>1.0</td>\n",
       "      <td>0.0</td>\n",
       "      <td>0.0</td>\n",
       "    </tr>\n",
       "    <tr>\n",
       "      <th>25505</th>\n",
       "      <td>0.0</td>\n",
       "      <td>0.0</td>\n",
       "      <td>0.0</td>\n",
       "      <td>0.0</td>\n",
       "      <td>1.0</td>\n",
       "    </tr>\n",
       "    <tr>\n",
       "      <th>25506</th>\n",
       "      <td>0.0</td>\n",
       "      <td>0.0</td>\n",
       "      <td>1.0</td>\n",
       "      <td>0.0</td>\n",
       "      <td>0.0</td>\n",
       "    </tr>\n",
       "    <tr>\n",
       "      <th>25507</th>\n",
       "      <td>0.0</td>\n",
       "      <td>0.0</td>\n",
       "      <td>0.0</td>\n",
       "      <td>0.0</td>\n",
       "      <td>1.0</td>\n",
       "    </tr>\n",
       "  </tbody>\n",
       "</table>\n",
       "<p>25508 rows × 5 columns</p>\n",
       "</div>"
      ],
      "text/plain": [
       "       work_type_Govt_job  work_type_Never_worked  work_type_Private  \\\n",
       "0                     0.0                     0.0                1.0   \n",
       "1                     0.0                     0.0                1.0   \n",
       "2                     0.0                     0.0                1.0   \n",
       "3                     0.0                     0.0                1.0   \n",
       "4                     0.0                     0.0                1.0   \n",
       "...                   ...                     ...                ...   \n",
       "25503                 0.0                     0.0                1.0   \n",
       "25504                 0.0                     0.0                1.0   \n",
       "25505                 0.0                     0.0                0.0   \n",
       "25506                 0.0                     0.0                1.0   \n",
       "25507                 0.0                     0.0                0.0   \n",
       "\n",
       "       work_type_Self-employed  work_type_children  \n",
       "0                          0.0                 0.0  \n",
       "1                          0.0                 0.0  \n",
       "2                          0.0                 0.0  \n",
       "3                          0.0                 0.0  \n",
       "4                          0.0                 0.0  \n",
       "...                        ...                 ...  \n",
       "25503                      0.0                 0.0  \n",
       "25504                      0.0                 0.0  \n",
       "25505                      0.0                 1.0  \n",
       "25506                      0.0                 0.0  \n",
       "25507                      0.0                 1.0  \n",
       "\n",
       "[25508 rows x 5 columns]"
      ]
     },
     "execution_count": 18,
     "metadata": {},
     "output_type": "execute_result"
    }
   ],
   "source": [
    "dumm1"
   ]
  },
  {
   "cell_type": "code",
   "execution_count": 19,
   "id": "a8235c41",
   "metadata": {
    "execution": {
     "iopub.execute_input": "2023-01-16T11:39:25.180795Z",
     "iopub.status.busy": "2023-01-16T11:39:25.180333Z",
     "iopub.status.idle": "2023-01-16T11:39:25.198976Z",
     "shell.execute_reply": "2023-01-16T11:39:25.197736Z"
    },
    "papermill": {
     "duration": 0.034372,
     "end_time": "2023-01-16T11:39:25.201820",
     "exception": false,
     "start_time": "2023-01-16T11:39:25.167448",
     "status": "completed"
    },
    "tags": []
   },
   "outputs": [
    {
     "data": {
      "text/plain": [
       "array(['Residence_type_Rural', 'Residence_type_Urban'], dtype=object)"
      ]
     },
     "execution_count": 19,
     "metadata": {},
     "output_type": "execute_result"
    }
   ],
   "source": [
    "encoder2=OneHotEncoder()\n",
    "dumm2=pd.DataFrame(encoder2.fit_transform(df_Residence).toarray(),columns=encoder2.get_feature_names_out(df_Residence.columns))\n",
    "encoder2.get_feature_names_out()"
   ]
  },
  {
   "cell_type": "code",
   "execution_count": 20,
   "id": "88d283f5",
   "metadata": {
    "execution": {
     "iopub.execute_input": "2023-01-16T11:39:25.228267Z",
     "iopub.status.busy": "2023-01-16T11:39:25.227861Z",
     "iopub.status.idle": "2023-01-16T11:39:25.243242Z",
     "shell.execute_reply": "2023-01-16T11:39:25.241756Z"
    },
    "papermill": {
     "duration": 0.032252,
     "end_time": "2023-01-16T11:39:25.246313",
     "exception": false,
     "start_time": "2023-01-16T11:39:25.214061",
     "status": "completed"
    },
    "tags": []
   },
   "outputs": [
    {
     "data": {
      "text/html": [
       "<div>\n",
       "<style scoped>\n",
       "    .dataframe tbody tr th:only-of-type {\n",
       "        vertical-align: middle;\n",
       "    }\n",
       "\n",
       "    .dataframe tbody tr th {\n",
       "        vertical-align: top;\n",
       "    }\n",
       "\n",
       "    .dataframe thead th {\n",
       "        text-align: right;\n",
       "    }\n",
       "</style>\n",
       "<table border=\"1\" class=\"dataframe\">\n",
       "  <thead>\n",
       "    <tr style=\"text-align: right;\">\n",
       "      <th></th>\n",
       "      <th>Residence_type_Rural</th>\n",
       "      <th>Residence_type_Urban</th>\n",
       "    </tr>\n",
       "  </thead>\n",
       "  <tbody>\n",
       "    <tr>\n",
       "      <th>0</th>\n",
       "      <td>0.0</td>\n",
       "      <td>1.0</td>\n",
       "    </tr>\n",
       "    <tr>\n",
       "      <th>1</th>\n",
       "      <td>1.0</td>\n",
       "      <td>0.0</td>\n",
       "    </tr>\n",
       "    <tr>\n",
       "      <th>2</th>\n",
       "      <td>1.0</td>\n",
       "      <td>0.0</td>\n",
       "    </tr>\n",
       "    <tr>\n",
       "      <th>3</th>\n",
       "      <td>0.0</td>\n",
       "      <td>1.0</td>\n",
       "    </tr>\n",
       "    <tr>\n",
       "      <th>4</th>\n",
       "      <td>1.0</td>\n",
       "      <td>0.0</td>\n",
       "    </tr>\n",
       "    <tr>\n",
       "      <th>...</th>\n",
       "      <td>...</td>\n",
       "      <td>...</td>\n",
       "    </tr>\n",
       "    <tr>\n",
       "      <th>25503</th>\n",
       "      <td>0.0</td>\n",
       "      <td>1.0</td>\n",
       "    </tr>\n",
       "    <tr>\n",
       "      <th>25504</th>\n",
       "      <td>0.0</td>\n",
       "      <td>1.0</td>\n",
       "    </tr>\n",
       "    <tr>\n",
       "      <th>25505</th>\n",
       "      <td>1.0</td>\n",
       "      <td>0.0</td>\n",
       "    </tr>\n",
       "    <tr>\n",
       "      <th>25506</th>\n",
       "      <td>0.0</td>\n",
       "      <td>1.0</td>\n",
       "    </tr>\n",
       "    <tr>\n",
       "      <th>25507</th>\n",
       "      <td>0.0</td>\n",
       "      <td>1.0</td>\n",
       "    </tr>\n",
       "  </tbody>\n",
       "</table>\n",
       "<p>25508 rows × 2 columns</p>\n",
       "</div>"
      ],
      "text/plain": [
       "       Residence_type_Rural  Residence_type_Urban\n",
       "0                       0.0                   1.0\n",
       "1                       1.0                   0.0\n",
       "2                       1.0                   0.0\n",
       "3                       0.0                   1.0\n",
       "4                       1.0                   0.0\n",
       "...                     ...                   ...\n",
       "25503                   0.0                   1.0\n",
       "25504                   0.0                   1.0\n",
       "25505                   1.0                   0.0\n",
       "25506                   0.0                   1.0\n",
       "25507                   0.0                   1.0\n",
       "\n",
       "[25508 rows x 2 columns]"
      ]
     },
     "execution_count": 20,
     "metadata": {},
     "output_type": "execute_result"
    }
   ],
   "source": [
    "dumm2"
   ]
  },
  {
   "cell_type": "code",
   "execution_count": 21,
   "id": "717573fa",
   "metadata": {
    "execution": {
     "iopub.execute_input": "2023-01-16T11:39:25.272632Z",
     "iopub.status.busy": "2023-01-16T11:39:25.272211Z",
     "iopub.status.idle": "2023-01-16T11:39:25.292764Z",
     "shell.execute_reply": "2023-01-16T11:39:25.291623Z"
    },
    "papermill": {
     "duration": 0.036794,
     "end_time": "2023-01-16T11:39:25.295449",
     "exception": false,
     "start_time": "2023-01-16T11:39:25.258655",
     "status": "completed"
    },
    "tags": []
   },
   "outputs": [
    {
     "data": {
      "text/plain": [
       "array(['smoking_status_Unknown', 'smoking_status_formerly smoked',\n",
       "       'smoking_status_never smoked', 'smoking_status_smokes'],\n",
       "      dtype=object)"
      ]
     },
     "execution_count": 21,
     "metadata": {},
     "output_type": "execute_result"
    }
   ],
   "source": [
    "encoder3=OneHotEncoder()\n",
    "dumm3=pd.DataFrame(encoder3.fit_transform(df_smoking).toarray(),columns=encoder3.get_feature_names_out(df_smoking.columns))\n",
    "encoder3.get_feature_names_out()"
   ]
  },
  {
   "cell_type": "code",
   "execution_count": 22,
   "id": "c5d4aadb",
   "metadata": {
    "execution": {
     "iopub.execute_input": "2023-01-16T11:39:25.323975Z",
     "iopub.status.busy": "2023-01-16T11:39:25.323567Z",
     "iopub.status.idle": "2023-01-16T11:39:25.343283Z",
     "shell.execute_reply": "2023-01-16T11:39:25.341681Z"
    },
    "papermill": {
     "duration": 0.0372,
     "end_time": "2023-01-16T11:39:25.346181",
     "exception": false,
     "start_time": "2023-01-16T11:39:25.308981",
     "status": "completed"
    },
    "tags": []
   },
   "outputs": [
    {
     "data": {
      "text/html": [
       "<div>\n",
       "<style scoped>\n",
       "    .dataframe tbody tr th:only-of-type {\n",
       "        vertical-align: middle;\n",
       "    }\n",
       "\n",
       "    .dataframe tbody tr th {\n",
       "        vertical-align: top;\n",
       "    }\n",
       "\n",
       "    .dataframe thead th {\n",
       "        text-align: right;\n",
       "    }\n",
       "</style>\n",
       "<table border=\"1\" class=\"dataframe\">\n",
       "  <thead>\n",
       "    <tr style=\"text-align: right;\">\n",
       "      <th></th>\n",
       "      <th>smoking_status_Unknown</th>\n",
       "      <th>smoking_status_formerly smoked</th>\n",
       "      <th>smoking_status_never smoked</th>\n",
       "      <th>smoking_status_smokes</th>\n",
       "    </tr>\n",
       "  </thead>\n",
       "  <tbody>\n",
       "    <tr>\n",
       "      <th>0</th>\n",
       "      <td>0.0</td>\n",
       "      <td>0.0</td>\n",
       "      <td>1.0</td>\n",
       "      <td>0.0</td>\n",
       "    </tr>\n",
       "    <tr>\n",
       "      <th>1</th>\n",
       "      <td>0.0</td>\n",
       "      <td>1.0</td>\n",
       "      <td>0.0</td>\n",
       "      <td>0.0</td>\n",
       "    </tr>\n",
       "    <tr>\n",
       "      <th>2</th>\n",
       "      <td>1.0</td>\n",
       "      <td>0.0</td>\n",
       "      <td>0.0</td>\n",
       "      <td>0.0</td>\n",
       "    </tr>\n",
       "    <tr>\n",
       "      <th>3</th>\n",
       "      <td>0.0</td>\n",
       "      <td>0.0</td>\n",
       "      <td>1.0</td>\n",
       "      <td>0.0</td>\n",
       "    </tr>\n",
       "    <tr>\n",
       "      <th>4</th>\n",
       "      <td>0.0</td>\n",
       "      <td>0.0</td>\n",
       "      <td>1.0</td>\n",
       "      <td>0.0</td>\n",
       "    </tr>\n",
       "    <tr>\n",
       "      <th>...</th>\n",
       "      <td>...</td>\n",
       "      <td>...</td>\n",
       "      <td>...</td>\n",
       "      <td>...</td>\n",
       "    </tr>\n",
       "    <tr>\n",
       "      <th>25503</th>\n",
       "      <td>0.0</td>\n",
       "      <td>0.0</td>\n",
       "      <td>1.0</td>\n",
       "      <td>0.0</td>\n",
       "    </tr>\n",
       "    <tr>\n",
       "      <th>25504</th>\n",
       "      <td>1.0</td>\n",
       "      <td>0.0</td>\n",
       "      <td>0.0</td>\n",
       "      <td>0.0</td>\n",
       "    </tr>\n",
       "    <tr>\n",
       "      <th>25505</th>\n",
       "      <td>1.0</td>\n",
       "      <td>0.0</td>\n",
       "      <td>0.0</td>\n",
       "      <td>0.0</td>\n",
       "    </tr>\n",
       "    <tr>\n",
       "      <th>25506</th>\n",
       "      <td>0.0</td>\n",
       "      <td>0.0</td>\n",
       "      <td>1.0</td>\n",
       "      <td>0.0</td>\n",
       "    </tr>\n",
       "    <tr>\n",
       "      <th>25507</th>\n",
       "      <td>1.0</td>\n",
       "      <td>0.0</td>\n",
       "      <td>0.0</td>\n",
       "      <td>0.0</td>\n",
       "    </tr>\n",
       "  </tbody>\n",
       "</table>\n",
       "<p>25508 rows × 4 columns</p>\n",
       "</div>"
      ],
      "text/plain": [
       "       smoking_status_Unknown  smoking_status_formerly smoked  \\\n",
       "0                         0.0                             0.0   \n",
       "1                         0.0                             1.0   \n",
       "2                         1.0                             0.0   \n",
       "3                         0.0                             0.0   \n",
       "4                         0.0                             0.0   \n",
       "...                       ...                             ...   \n",
       "25503                     0.0                             0.0   \n",
       "25504                     1.0                             0.0   \n",
       "25505                     1.0                             0.0   \n",
       "25506                     0.0                             0.0   \n",
       "25507                     1.0                             0.0   \n",
       "\n",
       "       smoking_status_never smoked  smoking_status_smokes  \n",
       "0                              1.0                    0.0  \n",
       "1                              0.0                    0.0  \n",
       "2                              0.0                    0.0  \n",
       "3                              1.0                    0.0  \n",
       "4                              1.0                    0.0  \n",
       "...                            ...                    ...  \n",
       "25503                          1.0                    0.0  \n",
       "25504                          0.0                    0.0  \n",
       "25505                          0.0                    0.0  \n",
       "25506                          1.0                    0.0  \n",
       "25507                          0.0                    0.0  \n",
       "\n",
       "[25508 rows x 4 columns]"
      ]
     },
     "execution_count": 22,
     "metadata": {},
     "output_type": "execute_result"
    }
   ],
   "source": [
    "dumm3"
   ]
  },
  {
   "cell_type": "code",
   "execution_count": 23,
   "id": "2e818ca4",
   "metadata": {
    "execution": {
     "iopub.execute_input": "2023-01-16T11:39:25.374772Z",
     "iopub.status.busy": "2023-01-16T11:39:25.373790Z",
     "iopub.status.idle": "2023-01-16T11:39:25.394305Z",
     "shell.execute_reply": "2023-01-16T11:39:25.392415Z"
    },
    "papermill": {
     "duration": 0.038195,
     "end_time": "2023-01-16T11:39:25.397582",
     "exception": false,
     "start_time": "2023-01-16T11:39:25.359387",
     "status": "completed"
    },
    "tags": []
   },
   "outputs": [
    {
     "data": {
      "text/plain": [
       "array(['ever_married_No', 'ever_married_Yes'], dtype=object)"
      ]
     },
     "execution_count": 23,
     "metadata": {},
     "output_type": "execute_result"
    }
   ],
   "source": [
    "encoder4=OneHotEncoder()\n",
    "dumm4=pd.DataFrame(encoder4.fit_transform(df_married).toarray(),columns=encoder4.get_feature_names_out(df_married.columns))\n",
    "encoder4.get_feature_names_out()"
   ]
  },
  {
   "cell_type": "code",
   "execution_count": 24,
   "id": "13dcc47e",
   "metadata": {
    "execution": {
     "iopub.execute_input": "2023-01-16T11:39:25.425426Z",
     "iopub.status.busy": "2023-01-16T11:39:25.424954Z",
     "iopub.status.idle": "2023-01-16T11:39:25.441561Z",
     "shell.execute_reply": "2023-01-16T11:39:25.440121Z"
    },
    "papermill": {
     "duration": 0.034073,
     "end_time": "2023-01-16T11:39:25.444622",
     "exception": false,
     "start_time": "2023-01-16T11:39:25.410549",
     "status": "completed"
    },
    "tags": []
   },
   "outputs": [
    {
     "data": {
      "text/html": [
       "<div>\n",
       "<style scoped>\n",
       "    .dataframe tbody tr th:only-of-type {\n",
       "        vertical-align: middle;\n",
       "    }\n",
       "\n",
       "    .dataframe tbody tr th {\n",
       "        vertical-align: top;\n",
       "    }\n",
       "\n",
       "    .dataframe thead th {\n",
       "        text-align: right;\n",
       "    }\n",
       "</style>\n",
       "<table border=\"1\" class=\"dataframe\">\n",
       "  <thead>\n",
       "    <tr style=\"text-align: right;\">\n",
       "      <th></th>\n",
       "      <th>ever_married_No</th>\n",
       "      <th>ever_married_Yes</th>\n",
       "    </tr>\n",
       "  </thead>\n",
       "  <tbody>\n",
       "    <tr>\n",
       "      <th>0</th>\n",
       "      <td>0.0</td>\n",
       "      <td>1.0</td>\n",
       "    </tr>\n",
       "    <tr>\n",
       "      <th>1</th>\n",
       "      <td>0.0</td>\n",
       "      <td>1.0</td>\n",
       "    </tr>\n",
       "    <tr>\n",
       "      <th>2</th>\n",
       "      <td>0.0</td>\n",
       "      <td>1.0</td>\n",
       "    </tr>\n",
       "    <tr>\n",
       "      <th>3</th>\n",
       "      <td>0.0</td>\n",
       "      <td>1.0</td>\n",
       "    </tr>\n",
       "    <tr>\n",
       "      <th>4</th>\n",
       "      <td>1.0</td>\n",
       "      <td>0.0</td>\n",
       "    </tr>\n",
       "    <tr>\n",
       "      <th>...</th>\n",
       "      <td>...</td>\n",
       "      <td>...</td>\n",
       "    </tr>\n",
       "    <tr>\n",
       "      <th>25503</th>\n",
       "      <td>1.0</td>\n",
       "      <td>0.0</td>\n",
       "    </tr>\n",
       "    <tr>\n",
       "      <th>25504</th>\n",
       "      <td>0.0</td>\n",
       "      <td>1.0</td>\n",
       "    </tr>\n",
       "    <tr>\n",
       "      <th>25505</th>\n",
       "      <td>1.0</td>\n",
       "      <td>0.0</td>\n",
       "    </tr>\n",
       "    <tr>\n",
       "      <th>25506</th>\n",
       "      <td>0.0</td>\n",
       "      <td>1.0</td>\n",
       "    </tr>\n",
       "    <tr>\n",
       "      <th>25507</th>\n",
       "      <td>1.0</td>\n",
       "      <td>0.0</td>\n",
       "    </tr>\n",
       "  </tbody>\n",
       "</table>\n",
       "<p>25508 rows × 2 columns</p>\n",
       "</div>"
      ],
      "text/plain": [
       "       ever_married_No  ever_married_Yes\n",
       "0                  0.0               1.0\n",
       "1                  0.0               1.0\n",
       "2                  0.0               1.0\n",
       "3                  0.0               1.0\n",
       "4                  1.0               0.0\n",
       "...                ...               ...\n",
       "25503              1.0               0.0\n",
       "25504              0.0               1.0\n",
       "25505              1.0               0.0\n",
       "25506              0.0               1.0\n",
       "25507              1.0               0.0\n",
       "\n",
       "[25508 rows x 2 columns]"
      ]
     },
     "execution_count": 24,
     "metadata": {},
     "output_type": "execute_result"
    }
   ],
   "source": [
    "dumm4"
   ]
  },
  {
   "cell_type": "code",
   "execution_count": 25,
   "id": "f906e4fc",
   "metadata": {
    "execution": {
     "iopub.execute_input": "2023-01-16T11:39:25.472768Z",
     "iopub.status.busy": "2023-01-16T11:39:25.472303Z",
     "iopub.status.idle": "2023-01-16T11:39:25.492871Z",
     "shell.execute_reply": "2023-01-16T11:39:25.491557Z"
    },
    "papermill": {
     "duration": 0.037656,
     "end_time": "2023-01-16T11:39:25.495368",
     "exception": false,
     "start_time": "2023-01-16T11:39:25.457712",
     "status": "completed"
    },
    "tags": []
   },
   "outputs": [
    {
     "data": {
      "text/plain": [
       "array(['gender_Female', 'gender_Male', 'gender_Other'], dtype=object)"
      ]
     },
     "execution_count": 25,
     "metadata": {},
     "output_type": "execute_result"
    }
   ],
   "source": [
    "encoder5=OneHotEncoder()\n",
    "dumm5=pd.DataFrame(encoder5.fit_transform(df_gender).toarray(),columns=encoder5.get_feature_names_out(df_gender.columns))\n",
    "encoder5.get_feature_names_out()"
   ]
  },
  {
   "cell_type": "code",
   "execution_count": 26,
   "id": "35022b77",
   "metadata": {
    "execution": {
     "iopub.execute_input": "2023-01-16T11:39:25.524396Z",
     "iopub.status.busy": "2023-01-16T11:39:25.523884Z",
     "iopub.status.idle": "2023-01-16T11:39:25.541384Z",
     "shell.execute_reply": "2023-01-16T11:39:25.540200Z"
    },
    "papermill": {
     "duration": 0.034606,
     "end_time": "2023-01-16T11:39:25.543641",
     "exception": false,
     "start_time": "2023-01-16T11:39:25.509035",
     "status": "completed"
    },
    "tags": []
   },
   "outputs": [
    {
     "data": {
      "text/html": [
       "<div>\n",
       "<style scoped>\n",
       "    .dataframe tbody tr th:only-of-type {\n",
       "        vertical-align: middle;\n",
       "    }\n",
       "\n",
       "    .dataframe tbody tr th {\n",
       "        vertical-align: top;\n",
       "    }\n",
       "\n",
       "    .dataframe thead th {\n",
       "        text-align: right;\n",
       "    }\n",
       "</style>\n",
       "<table border=\"1\" class=\"dataframe\">\n",
       "  <thead>\n",
       "    <tr style=\"text-align: right;\">\n",
       "      <th></th>\n",
       "      <th>gender_Female</th>\n",
       "      <th>gender_Male</th>\n",
       "      <th>gender_Other</th>\n",
       "    </tr>\n",
       "  </thead>\n",
       "  <tbody>\n",
       "    <tr>\n",
       "      <th>0</th>\n",
       "      <td>0.0</td>\n",
       "      <td>1.0</td>\n",
       "      <td>0.0</td>\n",
       "    </tr>\n",
       "    <tr>\n",
       "      <th>1</th>\n",
       "      <td>0.0</td>\n",
       "      <td>1.0</td>\n",
       "      <td>0.0</td>\n",
       "    </tr>\n",
       "    <tr>\n",
       "      <th>2</th>\n",
       "      <td>1.0</td>\n",
       "      <td>0.0</td>\n",
       "      <td>0.0</td>\n",
       "    </tr>\n",
       "    <tr>\n",
       "      <th>3</th>\n",
       "      <td>0.0</td>\n",
       "      <td>1.0</td>\n",
       "      <td>0.0</td>\n",
       "    </tr>\n",
       "    <tr>\n",
       "      <th>4</th>\n",
       "      <td>1.0</td>\n",
       "      <td>0.0</td>\n",
       "      <td>0.0</td>\n",
       "    </tr>\n",
       "    <tr>\n",
       "      <th>...</th>\n",
       "      <td>...</td>\n",
       "      <td>...</td>\n",
       "      <td>...</td>\n",
       "    </tr>\n",
       "    <tr>\n",
       "      <th>25503</th>\n",
       "      <td>1.0</td>\n",
       "      <td>0.0</td>\n",
       "      <td>0.0</td>\n",
       "    </tr>\n",
       "    <tr>\n",
       "      <th>25504</th>\n",
       "      <td>0.0</td>\n",
       "      <td>1.0</td>\n",
       "      <td>0.0</td>\n",
       "    </tr>\n",
       "    <tr>\n",
       "      <th>25505</th>\n",
       "      <td>1.0</td>\n",
       "      <td>0.0</td>\n",
       "      <td>0.0</td>\n",
       "    </tr>\n",
       "    <tr>\n",
       "      <th>25506</th>\n",
       "      <td>0.0</td>\n",
       "      <td>1.0</td>\n",
       "      <td>0.0</td>\n",
       "    </tr>\n",
       "    <tr>\n",
       "      <th>25507</th>\n",
       "      <td>1.0</td>\n",
       "      <td>0.0</td>\n",
       "      <td>0.0</td>\n",
       "    </tr>\n",
       "  </tbody>\n",
       "</table>\n",
       "<p>25508 rows × 3 columns</p>\n",
       "</div>"
      ],
      "text/plain": [
       "       gender_Female  gender_Male  gender_Other\n",
       "0                0.0          1.0           0.0\n",
       "1                0.0          1.0           0.0\n",
       "2                1.0          0.0           0.0\n",
       "3                0.0          1.0           0.0\n",
       "4                1.0          0.0           0.0\n",
       "...              ...          ...           ...\n",
       "25503            1.0          0.0           0.0\n",
       "25504            0.0          1.0           0.0\n",
       "25505            1.0          0.0           0.0\n",
       "25506            0.0          1.0           0.0\n",
       "25507            1.0          0.0           0.0\n",
       "\n",
       "[25508 rows x 3 columns]"
      ]
     },
     "execution_count": 26,
     "metadata": {},
     "output_type": "execute_result"
    }
   ],
   "source": [
    "dumm5"
   ]
  },
  {
   "cell_type": "code",
   "execution_count": 27,
   "id": "3ea9d6a1",
   "metadata": {
    "execution": {
     "iopub.execute_input": "2023-01-16T11:39:25.572281Z",
     "iopub.status.busy": "2023-01-16T11:39:25.571868Z",
     "iopub.status.idle": "2023-01-16T11:39:25.580218Z",
     "shell.execute_reply": "2023-01-16T11:39:25.579043Z"
    },
    "papermill": {
     "duration": 0.025781,
     "end_time": "2023-01-16T11:39:25.582605",
     "exception": false,
     "start_time": "2023-01-16T11:39:25.556824",
     "status": "completed"
    },
    "tags": []
   },
   "outputs": [],
   "source": [
    "df_age=df[['age']]\n",
    "df_glucose=df[['avg_glucose_level']]\n",
    "df_bmi=df[['bmi']]"
   ]
  },
  {
   "cell_type": "code",
   "execution_count": 28,
   "id": "8380c24b",
   "metadata": {
    "execution": {
     "iopub.execute_input": "2023-01-16T11:39:25.611741Z",
     "iopub.status.busy": "2023-01-16T11:39:25.610872Z",
     "iopub.status.idle": "2023-01-16T11:39:25.616540Z",
     "shell.execute_reply": "2023-01-16T11:39:25.615247Z"
    },
    "papermill": {
     "duration": 0.023535,
     "end_time": "2023-01-16T11:39:25.619047",
     "exception": false,
     "start_time": "2023-01-16T11:39:25.595512",
     "status": "completed"
    },
    "tags": []
   },
   "outputs": [],
   "source": [
    "from sklearn.preprocessing import RobustScaler\n"
   ]
  },
  {
   "cell_type": "code",
   "execution_count": 29,
   "id": "3f086077",
   "metadata": {
    "execution": {
     "iopub.execute_input": "2023-01-16T11:39:25.646488Z",
     "iopub.status.busy": "2023-01-16T11:39:25.646090Z",
     "iopub.status.idle": "2023-01-16T11:39:25.652084Z",
     "shell.execute_reply": "2023-01-16T11:39:25.650706Z"
    },
    "papermill": {
     "duration": 0.022633,
     "end_time": "2023-01-16T11:39:25.654459",
     "exception": false,
     "start_time": "2023-01-16T11:39:25.631826",
     "status": "completed"
    },
    "tags": []
   },
   "outputs": [],
   "source": [
    "scaler1=RobustScaler()\n",
    "scaler2=RobustScaler()\n",
    "scaler3=RobustScaler()\n"
   ]
  },
  {
   "cell_type": "code",
   "execution_count": 30,
   "id": "ec54f877",
   "metadata": {
    "execution": {
     "iopub.execute_input": "2023-01-16T11:39:25.682038Z",
     "iopub.status.busy": "2023-01-16T11:39:25.681634Z",
     "iopub.status.idle": "2023-01-16T11:39:25.692820Z",
     "shell.execute_reply": "2023-01-16T11:39:25.691527Z"
    },
    "papermill": {
     "duration": 0.028947,
     "end_time": "2023-01-16T11:39:25.696182",
     "exception": false,
     "start_time": "2023-01-16T11:39:25.667235",
     "status": "completed"
    },
    "tags": []
   },
   "outputs": [],
   "source": [
    "dumm6=pd.DataFrame(scaler1.fit_transform(df_age),columns=scaler1.get_feature_names_out(df_age.columns))"
   ]
  },
  {
   "cell_type": "code",
   "execution_count": 31,
   "id": "ebcd2a1a",
   "metadata": {
    "execution": {
     "iopub.execute_input": "2023-01-16T11:39:25.723573Z",
     "iopub.status.busy": "2023-01-16T11:39:25.723174Z",
     "iopub.status.idle": "2023-01-16T11:39:25.736576Z",
     "shell.execute_reply": "2023-01-16T11:39:25.735488Z"
    },
    "papermill": {
     "duration": 0.030075,
     "end_time": "2023-01-16T11:39:25.739031",
     "exception": false,
     "start_time": "2023-01-16T11:39:25.708956",
     "status": "completed"
    },
    "tags": []
   },
   "outputs": [
    {
     "data": {
      "text/html": [
       "<div>\n",
       "<style scoped>\n",
       "    .dataframe tbody tr th:only-of-type {\n",
       "        vertical-align: middle;\n",
       "    }\n",
       "\n",
       "    .dataframe tbody tr th {\n",
       "        vertical-align: top;\n",
       "    }\n",
       "\n",
       "    .dataframe thead th {\n",
       "        text-align: right;\n",
       "    }\n",
       "</style>\n",
       "<table border=\"1\" class=\"dataframe\">\n",
       "  <thead>\n",
       "    <tr style=\"text-align: right;\">\n",
       "      <th></th>\n",
       "      <th>age</th>\n",
       "    </tr>\n",
       "  </thead>\n",
       "  <tbody>\n",
       "    <tr>\n",
       "      <th>0</th>\n",
       "      <td>-0.483871</td>\n",
       "    </tr>\n",
       "    <tr>\n",
       "      <th>1</th>\n",
       "      <td>-0.322581</td>\n",
       "    </tr>\n",
       "    <tr>\n",
       "      <th>2</th>\n",
       "      <td>-0.032258</td>\n",
       "    </tr>\n",
       "    <tr>\n",
       "      <th>3</th>\n",
       "      <td>0.419355</td>\n",
       "    </tr>\n",
       "    <tr>\n",
       "      <th>4</th>\n",
       "      <td>-0.612903</td>\n",
       "    </tr>\n",
       "    <tr>\n",
       "      <th>...</th>\n",
       "      <td>...</td>\n",
       "    </tr>\n",
       "    <tr>\n",
       "      <th>25503</th>\n",
       "      <td>-0.516129</td>\n",
       "    </tr>\n",
       "    <tr>\n",
       "      <th>25504</th>\n",
       "      <td>0.193548</td>\n",
       "    </tr>\n",
       "    <tr>\n",
       "      <th>25505</th>\n",
       "      <td>-1.290323</td>\n",
       "    </tr>\n",
       "    <tr>\n",
       "      <th>25506</th>\n",
       "      <td>-0.387097</td>\n",
       "    </tr>\n",
       "    <tr>\n",
       "      <th>25507</th>\n",
       "      <td>-1.322581</td>\n",
       "    </tr>\n",
       "  </tbody>\n",
       "</table>\n",
       "<p>25508 rows × 1 columns</p>\n",
       "</div>"
      ],
      "text/plain": [
       "            age\n",
       "0     -0.483871\n",
       "1     -0.322581\n",
       "2     -0.032258\n",
       "3      0.419355\n",
       "4     -0.612903\n",
       "...         ...\n",
       "25503 -0.516129\n",
       "25504  0.193548\n",
       "25505 -1.290323\n",
       "25506 -0.387097\n",
       "25507 -1.322581\n",
       "\n",
       "[25508 rows x 1 columns]"
      ]
     },
     "execution_count": 31,
     "metadata": {},
     "output_type": "execute_result"
    }
   ],
   "source": [
    "dumm6"
   ]
  },
  {
   "cell_type": "code",
   "execution_count": 32,
   "id": "e0e1df5d",
   "metadata": {
    "execution": {
     "iopub.execute_input": "2023-01-16T11:39:25.768195Z",
     "iopub.status.busy": "2023-01-16T11:39:25.767774Z",
     "iopub.status.idle": "2023-01-16T11:39:25.778448Z",
     "shell.execute_reply": "2023-01-16T11:39:25.777241Z"
    },
    "papermill": {
     "duration": 0.028235,
     "end_time": "2023-01-16T11:39:25.781213",
     "exception": false,
     "start_time": "2023-01-16T11:39:25.752978",
     "status": "completed"
    },
    "tags": []
   },
   "outputs": [],
   "source": [
    "dumm7=pd.DataFrame(scaler2.fit_transform(df_glucose),columns=scaler2.get_feature_names_out(df_glucose.columns))"
   ]
  },
  {
   "cell_type": "markdown",
   "id": "97689524",
   "metadata": {
    "papermill": {
     "duration": 0.01214,
     "end_time": "2023-01-16T11:39:25.806086",
     "exception": false,
     "start_time": "2023-01-16T11:39:25.793946",
     "status": "completed"
    },
    "tags": []
   },
   "source": []
  },
  {
   "cell_type": "code",
   "execution_count": 33,
   "id": "6dcce13a",
   "metadata": {
    "execution": {
     "iopub.execute_input": "2023-01-16T11:39:25.833818Z",
     "iopub.status.busy": "2023-01-16T11:39:25.832433Z",
     "iopub.status.idle": "2023-01-16T11:39:25.847445Z",
     "shell.execute_reply": "2023-01-16T11:39:25.846101Z"
    },
    "papermill": {
     "duration": 0.032484,
     "end_time": "2023-01-16T11:39:25.851093",
     "exception": false,
     "start_time": "2023-01-16T11:39:25.818609",
     "status": "completed"
    },
    "tags": []
   },
   "outputs": [
    {
     "data": {
      "text/html": [
       "<div>\n",
       "<style scoped>\n",
       "    .dataframe tbody tr th:only-of-type {\n",
       "        vertical-align: middle;\n",
       "    }\n",
       "\n",
       "    .dataframe tbody tr th {\n",
       "        vertical-align: top;\n",
       "    }\n",
       "\n",
       "    .dataframe thead th {\n",
       "        text-align: right;\n",
       "    }\n",
       "</style>\n",
       "<table border=\"1\" class=\"dataframe\">\n",
       "  <thead>\n",
       "    <tr style=\"text-align: right;\">\n",
       "      <th></th>\n",
       "      <th>avg_glucose_level</th>\n",
       "    </tr>\n",
       "  </thead>\n",
       "  <tbody>\n",
       "    <tr>\n",
       "      <th>0</th>\n",
       "      <td>-0.255601</td>\n",
       "    </tr>\n",
       "    <tr>\n",
       "      <th>1</th>\n",
       "      <td>-0.305441</td>\n",
       "    </tr>\n",
       "    <tr>\n",
       "      <th>2</th>\n",
       "      <td>0.817558</td>\n",
       "    </tr>\n",
       "    <tr>\n",
       "      <th>3</th>\n",
       "      <td>-0.925926</td>\n",
       "    </tr>\n",
       "    <tr>\n",
       "      <th>4</th>\n",
       "      <td>-0.537723</td>\n",
       "    </tr>\n",
       "    <tr>\n",
       "      <th>...</th>\n",
       "      <td>...</td>\n",
       "    </tr>\n",
       "    <tr>\n",
       "      <th>25503</th>\n",
       "      <td>-0.427526</td>\n",
       "    </tr>\n",
       "    <tr>\n",
       "      <th>25504</th>\n",
       "      <td>0.813443</td>\n",
       "    </tr>\n",
       "    <tr>\n",
       "      <th>25505</th>\n",
       "      <td>0.865112</td>\n",
       "    </tr>\n",
       "    <tr>\n",
       "      <th>25506</th>\n",
       "      <td>-0.123914</td>\n",
       "    </tr>\n",
       "    <tr>\n",
       "      <th>25507</th>\n",
       "      <td>0.000000</td>\n",
       "    </tr>\n",
       "  </tbody>\n",
       "</table>\n",
       "<p>25508 rows × 1 columns</p>\n",
       "</div>"
      ],
      "text/plain": [
       "       avg_glucose_level\n",
       "0              -0.255601\n",
       "1              -0.305441\n",
       "2               0.817558\n",
       "3              -0.925926\n",
       "4              -0.537723\n",
       "...                  ...\n",
       "25503          -0.427526\n",
       "25504           0.813443\n",
       "25505           0.865112\n",
       "25506          -0.123914\n",
       "25507           0.000000\n",
       "\n",
       "[25508 rows x 1 columns]"
      ]
     },
     "execution_count": 33,
     "metadata": {},
     "output_type": "execute_result"
    }
   ],
   "source": [
    "dumm7"
   ]
  },
  {
   "cell_type": "code",
   "execution_count": 34,
   "id": "7c197b19",
   "metadata": {
    "execution": {
     "iopub.execute_input": "2023-01-16T11:39:25.880717Z",
     "iopub.status.busy": "2023-01-16T11:39:25.879689Z",
     "iopub.status.idle": "2023-01-16T11:39:25.891115Z",
     "shell.execute_reply": "2023-01-16T11:39:25.890100Z"
    },
    "papermill": {
     "duration": 0.029256,
     "end_time": "2023-01-16T11:39:25.893938",
     "exception": false,
     "start_time": "2023-01-16T11:39:25.864682",
     "status": "completed"
    },
    "tags": []
   },
   "outputs": [],
   "source": [
    "dumm8=pd.DataFrame(scaler3.fit_transform(df_bmi),columns=scaler3.get_feature_names_out(df_bmi.columns))"
   ]
  },
  {
   "cell_type": "code",
   "execution_count": 35,
   "id": "ab0c81e5",
   "metadata": {
    "execution": {
     "iopub.execute_input": "2023-01-16T11:39:25.924857Z",
     "iopub.status.busy": "2023-01-16T11:39:25.923588Z",
     "iopub.status.idle": "2023-01-16T11:39:25.936926Z",
     "shell.execute_reply": "2023-01-16T11:39:25.935771Z"
    },
    "papermill": {
     "duration": 0.031462,
     "end_time": "2023-01-16T11:39:25.939130",
     "exception": false,
     "start_time": "2023-01-16T11:39:25.907668",
     "status": "completed"
    },
    "tags": []
   },
   "outputs": [
    {
     "data": {
      "text/html": [
       "<div>\n",
       "<style scoped>\n",
       "    .dataframe tbody tr th:only-of-type {\n",
       "        vertical-align: middle;\n",
       "    }\n",
       "\n",
       "    .dataframe tbody tr th {\n",
       "        vertical-align: top;\n",
       "    }\n",
       "\n",
       "    .dataframe thead th {\n",
       "        text-align: right;\n",
       "    }\n",
       "</style>\n",
       "<table border=\"1\" class=\"dataframe\">\n",
       "  <thead>\n",
       "    <tr style=\"text-align: right;\">\n",
       "      <th></th>\n",
       "      <th>bmi</th>\n",
       "    </tr>\n",
       "  </thead>\n",
       "  <tbody>\n",
       "    <tr>\n",
       "      <th>0</th>\n",
       "      <td>0.400000</td>\n",
       "    </tr>\n",
       "    <tr>\n",
       "      <th>1</th>\n",
       "      <td>-0.447059</td>\n",
       "    </tr>\n",
       "    <tr>\n",
       "      <th>2</th>\n",
       "      <td>1.482353</td>\n",
       "    </tr>\n",
       "    <tr>\n",
       "      <th>3</th>\n",
       "      <td>0.129412</td>\n",
       "    </tr>\n",
       "    <tr>\n",
       "      <th>4</th>\n",
       "      <td>0.129412</td>\n",
       "    </tr>\n",
       "    <tr>\n",
       "      <th>...</th>\n",
       "      <td>...</td>\n",
       "    </tr>\n",
       "    <tr>\n",
       "      <th>25503</th>\n",
       "      <td>-1.188235</td>\n",
       "    </tr>\n",
       "    <tr>\n",
       "      <th>25504</th>\n",
       "      <td>-0.117647</td>\n",
       "    </tr>\n",
       "    <tr>\n",
       "      <th>25505</th>\n",
       "      <td>-1.105882</td>\n",
       "    </tr>\n",
       "    <tr>\n",
       "      <th>25506</th>\n",
       "      <td>0.117647</td>\n",
       "    </tr>\n",
       "    <tr>\n",
       "      <th>25507</th>\n",
       "      <td>-1.517647</td>\n",
       "    </tr>\n",
       "  </tbody>\n",
       "</table>\n",
       "<p>25508 rows × 1 columns</p>\n",
       "</div>"
      ],
      "text/plain": [
       "            bmi\n",
       "0      0.400000\n",
       "1     -0.447059\n",
       "2      1.482353\n",
       "3      0.129412\n",
       "4      0.129412\n",
       "...         ...\n",
       "25503 -1.188235\n",
       "25504 -0.117647\n",
       "25505 -1.105882\n",
       "25506  0.117647\n",
       "25507 -1.517647\n",
       "\n",
       "[25508 rows x 1 columns]"
      ]
     },
     "execution_count": 35,
     "metadata": {},
     "output_type": "execute_result"
    }
   ],
   "source": [
    "dumm8"
   ]
  },
  {
   "cell_type": "code",
   "execution_count": null,
   "id": "5f0615f4",
   "metadata": {
    "papermill": {
     "duration": 0.012834,
     "end_time": "2023-01-16T11:39:25.965025",
     "exception": false,
     "start_time": "2023-01-16T11:39:25.952191",
     "status": "completed"
    },
    "tags": []
   },
   "outputs": [],
   "source": []
  }
 ],
 "metadata": {
  "kernelspec": {
   "display_name": "Python 3",
   "language": "python",
   "name": "python3"
  },
  "language_info": {
   "codemirror_mode": {
    "name": "ipython",
    "version": 3
   },
   "file_extension": ".py",
   "mimetype": "text/x-python",
   "name": "python",
   "nbconvert_exporter": "python",
   "pygments_lexer": "ipython3",
   "version": "3.7.12"
  },
  "papermill": {
   "default_parameters": {},
   "duration": 14.14444,
   "end_time": "2023-01-16T11:39:27.003769",
   "environment_variables": {},
   "exception": null,
   "input_path": "__notebook__.ipynb",
   "output_path": "__notebook__.ipynb",
   "parameters": {},
   "start_time": "2023-01-16T11:39:12.859329",
   "version": "2.3.4"
  }
 },
 "nbformat": 4,
 "nbformat_minor": 5
}
